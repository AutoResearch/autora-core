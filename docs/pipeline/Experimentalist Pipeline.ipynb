{
 "cells": [
  {
   "cell_type": "markdown",
   "metadata": {},
   "source": [
    "# Datatypes and the Experimentalist Pipeline"
   ]
  },
  {
   "cell_type": "markdown",
   "metadata": {},
   "source": [
    "The experimentalist pipeline is a tool for running **sequences of functions** (callables) on some data.\n",
    "\n",
    "If you have $n$ functions $f_i$\n",
    "$$\n",
    "f_0(x), f_1(x), ... f_n(x)\\, ,\n",
    "$$\n",
    "\n",
    "the pipeline of those functions $P_{f_i}$, is defined as\n",
    "$$\n",
    "P_{f_i}(x) = f_n(f_{n-1}(...(f_1(f_0(x)))))$\\, .\n",
    "$$\n",
    "\n",
    "Key principles:\n",
    "1. The *pipeline passes the data unchanged* between the $f_i$. It is agnostic to the data which the\n",
    "functions require or return.\n",
    "2. The $f_i$ can *mutate the data*.\n",
    "3. The $f_i$ must be *compatible with one another*. It is on the user to ensure this is true.\n",
    "\n",
    "By being agnostic about the data, the pipeline is extremely simple and flexible. To allow a new kind of data, it is\n",
    "only required to define the datatype (perhaps as a\n",
    "[python `dataclass`](https://docs.python.org/3/library/dataclasses.html)) and then start writing $f_i$ which use that\n",
    "dataclass as an input and output type.\n",
    "\n",
    "Whilst it is possible to write $f_i$ which change the type of the data which pass through and still work as a\n",
    "pipeline, it is recommended to return the same type, so $\\mathrm{type}(x) = \\mathrm{type}(f_i(x))$.\n",
    "\n",
    "In this tutorial, we'll demonstrate some pipelines which use simple and more complex datatypes, and some pipelines\n",
    "which have type-mutating $f_i$."
   ]
  },
  {
   "cell_type": "markdown",
   "metadata": {},
   "source": []
  }
 ],
 "metadata": {
  "kernelspec": {
   "display_name": "Python 3",
   "language": "python",
   "name": "python3"
  },
  "language_info": {
   "codemirror_mode": {
    "name": "ipython",
    "version": 2
   },
   "file_extension": ".py",
   "mimetype": "text/x-python",
   "name": "python",
   "nbconvert_exporter": "python",
   "pygments_lexer": "ipython2"
  }
 },
 "nbformat": 4,
 "nbformat_minor": 0
}
