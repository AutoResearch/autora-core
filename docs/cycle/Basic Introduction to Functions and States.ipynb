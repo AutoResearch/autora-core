{
 "cells": [
  {
   "cell_type": "markdown",
   "metadata": {},
   "source": [
    "# Basic Introduction to Functions and States"
   ]
  },
  {
   "cell_type": "markdown",
   "metadata": {},
   "source": [
    "Using the functions and objects in `autora.state`, we can build flexible pipelines and cycles which operate on state\n",
    "objects.\n",
    "\n",
    "## Theoretical Overview\n",
    "\n",
    "The fundamental idea is this:\n",
    "- We define a \"state\" object $S$ which can be modified with a \"delta\" (a new result) $\\Delta S$.\n",
    "- A new state at some point $i+1$ is $$S_{i+1} = S_i + \\Delta S_{i+1}$$\n",
    "- The cycle state after $n$ steps is thus $$S_n = S_{0} +  \\sum^{n}_{i=1} \\Delta S_{i}$$\n",
    "\n",
    "To represent $S$ and $\\Delta S$ in code, you can use `autora.state.State` and `autora.state.Delta`\n",
    "respectively. To operate on these, we define functions.\n",
    "\n",
    "- Each operation in an AER cycle (theorist, experimentalist, experiment_runner, etc.) is implemented as a\n",
    "function with $n$ arguments $s_j$ which are members of $S$ and $m$ others $a_k$ which are not.\n",
    "  $$ f(s_0, ..., s_n, a_0, ..., a_m) \\rightarrow \\Delta S_{i+1}$$\n",
    "- There is a wrapper function $w$ (`autora.state.wrap_to_use_state`) which changes the signature of $f$ to\n",
    "require $S$ and aggregates the resulting $\\Delta S_{i+1}$\n",
    "  $$w\\left[f(s_0, ..., s_n, a_0, ..., a_m) \\rightarrow \\Delta\n",
    "S_{i+1}\\right] \\rightarrow \\left[ f^\\prime(S_i, a_0, ..., a_m) \\rightarrow S_{i} + \\Delta\n",
    "S_{i+1} = S_{i+1}\\right]$$\n",
    "\n",
    "- Assuming that the other arguments $a_k$ are provided by partial evaluation of the $f^\\prime$, the full AER cycle can\n",
    "then be represented as:\n",
    "  $$S_n = f_n^\\prime(...f_2^\\prime(f_1^\\prime(S_0)))$$\n",
    "\n",
    "There are additional helper functions to wrap common experimentalists, experiment runners and theorists so that we\n",
    "can define a full AER cycle using python notation as shown in the following example."
   ]
  },
  {
   "cell_type": "markdown",
   "metadata": {},
   "source": [
    "## Example\n",
    "\n",
    "First initialize the State. In this case, we use the pre-defined `StandardState` which implements the standard AER\n",
    "naming convention.\n",
    "There are two variables `x` with a range [-10, 10] and `y` with an unspecified range."
   ]
  },
  {
   "cell_type": "code",
   "execution_count": null,
   "metadata": {},
   "outputs": [],
   "source": [
    "from autora.state import StandardState\n",
    "from autora.variable import VariableCollection, Variable\n",
    "\n",
    "s_0 = StandardState(\n",
    "    variables=VariableCollection(\n",
    "        independent_variables=[Variable(\"x\", value_range=(-10, 10))],\n",
    "        dependent_variables=[Variable(\"y\")]\n",
    "    )\n",
    ")"
   ]
  },
  {
   "cell_type": "markdown",
   "metadata": {},
   "source": [
    "Specify the experimentalist. Use a standard function `random_pool`.\n",
    "This gets 5 independent random samples (by default, configurable using an argument)\n",
    "from the value_range of the independent variables, and returns them in a DataFrame.\n",
    "To make this work as a function on the State objects, we wrap it in the `on_state` function."
   ]
  },
  {
   "cell_type": "code",
   "execution_count": null,
   "metadata": {},
   "outputs": [],
   "source": [
    "from autora.experimentalist.random_ import random_pool\n",
    "from autora.state import on_state\n",
    "\n",
    "experimentalist = on_state(function=random_pool, output=[\"conditions\"])\n",
    "s_1 = experimentalist(s_0, random_state=42)\n",
    "s_1"
   ]
  },
  {
   "cell_type": "markdown",
   "metadata": {},
   "source": [
    "Specify the experiment runner. This calculates a linear function, adds noise, assigns the value to the `y` column\n",
    " in a new DataFrame."
   ]
  },
  {
   "cell_type": "code",
   "execution_count": null,
   "metadata": {},
   "outputs": [],
   "source": [
    "from autora.state import on_state\n",
    "import numpy as np\n",
    "import pandas as pd\n",
    "\n",
    "\n",
    "@on_state(output=[\"experiment_data\"])\n",
    "def experiment_runner(conditions: pd.DataFrame, c=[2, 4], random_state = None):\n",
    "    rng = np.random.default_rng(random_state)\n",
    "    x = conditions[\"x\"]\n",
    "    noise = rng.normal(0, 1, len(x))\n",
    "    y = c[0] + (c[1] * x) + noise\n",
    "    observations = conditions.assign(y = y)\n",
    "    return observations\n",
    "\n",
    "# Which does the following:\n",
    "experiment_runner(s_1, random_state=43)"
   ]
  },
  {
   "cell_type": "markdown",
   "metadata": {},
   "source": [
    "A completely analogous definition, using the separate `@inputs_from_state` and `@outputs_to_delta(...)` decorators\n",
    "rather than the combined `@on_state(...)` decorator would be:"
   ]
  },
  {
   "cell_type": "code",
   "execution_count": null,
   "metadata": {},
   "outputs": [],
   "source": [
    "from autora.state import inputs_from_state, outputs_to_delta\n",
    "\n",
    "\n",
    "@inputs_from_state\n",
    "@outputs_to_delta(\"experiment_data\")\n",
    "def experiment_runner_alt_1(conditions: pd.DataFrame, c=[2, 4], random_state=None):\n",
    "    x = conditions[\"x\"]\n",
    "    rng = np.random.default_rng(random_state)\n",
    "    noise = rng.normal(0, 1, len(x))\n",
    "    y = c[0] + (c[1] * x) + noise\n",
    "    xy = conditions.assign(y = y)\n",
    "    return xy\n",
    "\n",
    "# Which does the following:\n",
    "experiment_runner_alt_1(s_1, random_state=42)"
   ]
  },
  {
   "cell_type": "markdown",
   "metadata": {},
   "source": [
    "Or alternatively:"
   ]
  },
  {
   "cell_type": "code",
   "execution_count": null,
   "metadata": {},
   "outputs": [],
   "source": [
    "def experiment_runner_alt_2_core(conditions: pd.DataFrame, c=[2, 4], random_state=None):\n",
    "    x = conditions[\"x\"]\n",
    "    rng = np.random.default_rng(random_state)\n",
    "    noise = rng.normal(0, 1, len(x))\n",
    "    y = c[0] + (c[1] * x) + noise\n",
    "    xy = conditions.assign(y = y)\n",
    "    return xy\n",
    "\n",
    "experiment_runner_alt_2 = on_state(experiment_runner_alt_2_core, output=[\"experiment_data\"])\n",
    "experiment_runner_alt_2(s_1)"
   ]
  },
  {
   "cell_type": "markdown",
   "metadata": {},
   "source": [
    "Specify a theorist, using a standard LinearRegression from scikit-learn."
   ]
  },
  {
   "cell_type": "code",
   "execution_count": null,
   "metadata": {},
   "outputs": [],
   "source": [
    "from sklearn.linear_model import LinearRegression\n",
    "from autora.state import estimator_on_state\n",
    "\n",
    "theorist = estimator_on_state(LinearRegression(fit_intercept=True))"
   ]
  },
  {
   "cell_type": "markdown",
   "metadata": {},
   "source": [
    "Now we can run the theorist on the output from the experiment_runner,\n",
    "which itself uses the output from the experimentalist."
   ]
  },
  {
   "cell_type": "code",
   "execution_count": null,
   "metadata": {},
   "outputs": [],
   "source": [
    "theorist(experiment_runner(experimentalist(s_0)))"
   ]
  },
  {
   "cell_type": "markdown",
   "metadata": {},
   "source": [
    "If we like, we can run the experimentalist, experiment_runner and theorist ten times."
   ]
  },
  {
   "cell_type": "code",
   "execution_count": null,
   "metadata": {},
   "outputs": [],
   "source": [
    "s_ = s_0\n",
    "for i in range(10):\n",
    "    s_ = experimentalist(s_, random_state=180+i)\n",
    "    s_ = experiment_runner(s_, random_state=2*180+i)\n",
    "    s_ = theorist(s_)"
   ]
  },
  {
   "cell_type": "markdown",
   "metadata": {},
   "source": [
    "The experiment_data has 50 entries (10 cycles and 5 samples per cycle):"
   ]
  },
  {
   "cell_type": "code",
   "execution_count": null,
   "metadata": {},
   "outputs": [],
   "source": [
    "s_.experiment_data"
   ]
  },
  {
   "cell_type": "markdown",
   "metadata": {},
   "source": [
    "The fitted coefficients are close to the original intercept = 2, gradient = 4"
   ]
  },
  {
   "cell_type": "code",
   "execution_count": null,
   "metadata": {},
   "outputs": [],
   "source": [
    "print(s_.model.intercept_, s_.model.coef_)\n"
   ]
  },
  {
   "cell_type": "code",
   "execution_count": null,
   "metadata": {},
   "outputs": [],
   "source": []
  }
 ],
 "metadata": {
  "kernelspec": {
   "display_name": "Python 3 (ipykernel)",
   "language": "python",
   "name": "python3"
  },
  "language_info": {
   "codemirror_mode": {
    "name": "ipython",
    "version": 3
   },
   "file_extension": ".py",
   "mimetype": "text/x-python",
   "name": "python",
   "nbconvert_exporter": "python",
   "pygments_lexer": "ipython3"
  }
 },
 "nbformat": 4,
 "nbformat_minor": 1
}
