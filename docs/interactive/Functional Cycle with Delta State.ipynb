{
 "cells": [
  {
   "cell_type": "markdown",
   "metadata": {},
   "source": [
    "# Workflows using Wrappers and Delta States"
   ]
  },
  {
   "cell_type": "markdown",
   "metadata": {},
   "source": [
    "Using the functions in `autora.workflow`, we can build decorators for theorists or experimentalists which\n",
    " will keep them compatible with future developments in the architecture and naming of `State` objects.\n"
   ]
  },
  {
   "cell_type": "code",
   "execution_count": null,
   "metadata": {},
   "outputs": [],
   "source": [
    "from collections import ChainMap\n",
    "import dataclasses\n",
    "from typing import Optional\n",
    "\n",
    "import numpy as np\n",
    "from matplotlib import pyplot as plt\n",
    "import pandas as pd\n",
    "from sklearn.base import BaseEstimator\n",
    "from sklearn.linear_model import LinearRegression\n",
    "from sklearn.pipeline import make_pipeline\n",
    "from sklearn.preprocessing import PolynomialFeatures\n",
    "\n",
    "from autora.variable import VariableCollection, Variable"
   ]
  },
  {
   "cell_type": "markdown",
   "metadata": {},
   "source": []
  },
  {
   "cell_type": "markdown",
   "metadata": {},
   "source": [
    "For this example, we'll use a polynomial of degree 3 as our \"ground truth\" function. We're also using pandas\n",
    "DataFrames and Series as our data interchange format."
   ]
  },
  {
   "cell_type": "code",
   "execution_count": null,
   "metadata": {},
   "outputs": [],
   "source": [
    "coefs = [432, -144, -3, 1] # from https://www.maa.org/sites/default/files/0025570x28304.di021116.02p0130a.pdf\n",
    "def ground_truth(x: pd.Series) -> pd.Series:\n",
    "    y = pd.Series(coefs[0] + coefs[1] * x + coefs[2] * x**2 + coefs[3] * x**3, name=\"y\")\n",
    "    return y\n",
    "\n",
    "rng = np.random.default_rng(1)\n",
    "def noisy_observation(x: pd.Series) -> pd.Series:\n",
    "    y = ground_truth(x) + rng.normal(0, 1000, len(x))\n",
    "    return y"
   ]
  },
  {
   "cell_type": "markdown",
   "metadata": {},
   "source": [
    "We define a two part AER pipeline consisting of an experiment runner and a theorist (we use the seed conditions\n",
    "always).\n",
    "\n",
    "The key part here is that both experiment runner and theorist are functions which:\n",
    "- operate on the `State`, and\n",
    "- return a modified object of the **same type** `State.\n",
    "\n",
    "We define the state as a simple dataclass with fields representing the variables,\n",
    "parameters, experimental data, (possibly) conditions, and (possibly) a model.\n",
    "\n",
    "This state has no \"history\"; it represents a snapshot of the data at one time. Other exemplar state objects are\n",
    "available in the subpackage `autora.workflow.state` and include some with in-built histories."
   ]
  },
  {
   "cell_type": "code",
   "execution_count": null,
   "metadata": {},
   "outputs": [
    {
     "data": {
      "text/plain": [
       "CustomState(variables=VariableCollection(independent_variables=[Variable(name='x', value_range=None, allowed_values=None, units='', type=<ValueType.REAL: 'real'>, variable_label='', rescale=1, is_covariate=False)], dependent_variables=[Variable(name='y', value_range=None, allowed_values=None, units='', type=<ValueType.REAL: 'real'>, variable_label='', rescale=1, is_covariate=False)], covariates=[]), params={}, experimental_data=Empty DataFrame\n",
       "Columns: [x, y]\n",
       "Index: [], conditions=0     -15.0\n",
       "1     -14.7\n",
       "2     -14.4\n",
       "3     -14.1\n",
       "4     -13.8\n",
       "       ... \n",
       "96     13.8\n",
       "97     14.1\n",
       "98     14.4\n",
       "99     14.7\n",
       "100    15.0\n",
       "Name: x, Length: 101, dtype: float64, model=None)"
      ]
     },
     "execution_count": null,
     "metadata": {},
     "output_type": "execute_result"
    }
   ],
   "source": [
    "@dataclasses.dataclass\n",
    "class CustomState:\n",
    "    variables: VariableCollection\n",
    "    params: dict\n",
    "    experimental_data: pd.DataFrame\n",
    "    conditions: pd.Series = None\n",
    "    model: Optional[BaseEstimator] = None\n",
    "\n",
    "s = CustomState(\n",
    "    variables=VariableCollection(independent_variables=[Variable(\"x\")], dependent_variables=[Variable(\"y\")]),\n",
    "    params={},\n",
    "    conditions=pd.Series(data=np.linspace(-15,15,101), name=\"x\"),\n",
    "    experimental_data = pd.DataFrame(columns=[\"x\",\"y\"]),\n",
    ")\n",
    "s"
   ]
  },
  {
   "cell_type": "markdown",
   "metadata": {},
   "source": [
    "Given this state, we define a two part AER pipeline consisting of an experiment runner and a theorist. We'll just\n",
    "reuse the initial seed `conditions` in this example.\n",
    "\n",
    "First we define and test the experiment runner.\n",
    "\n",
    "The key part here is that both the experiment runner and the theorist are functions which operate on the `State` and\n",
    "reutrn a `GeneralDelta` object."
   ]
  },
  {
   "cell_type": "code",
   "execution_count": null,
   "metadata": {},
   "outputs": [
    {
     "name": "stdout",
     "output_type": "stream",
     "text": [
      "OrderedDict([('conditions', <Parameter \"conditions\">)])\n"
     ]
    }
   ],
   "source": [
    "from autora.workflow.state.delta import GeneralDelta, wrap_to_use_state\n",
    "\n",
    "@wrap_to_use_state\n",
    "def experiment_runner(conditions) -> GeneralDelta:\n",
    "    x = conditions\n",
    "    y = noisy_observation(x)\n",
    "    experimental_data = pd.DataFrame.merge(x, y, left_index=True, right_index=True)\n",
    "    return GeneralDelta(kind=\"extend\", experimental_data=experimental_data)\n",
    "\n",
    "experiment_runner(s)"
   ]
  },
  {
   "cell_type": "markdown",
   "metadata": {},
   "source": [
    "When we run the experiment runner, we can see the updated state object which is returned – it has new experimental data."
   ]
  },
  {
   "cell_type": "code",
   "execution_count": null,
   "metadata": {},
   "outputs": [
    {
     "name": "stdout",
     "output_type": "stream",
     "text": [
      "CustomState(variables=VariableCollection(independent_variables=[Variable(name='x', value_range=None, allowed_values=None, units='', type=<ValueType.REAL: 'real'>, variable_label='', rescale=1, is_covariate=False)], dependent_variables=[Variable(name='y', value_range=None, allowed_values=None, units='', type=<ValueType.REAL: 'real'>, variable_label='', rescale=1, is_covariate=False)], covariates=[]), params={}, experimental_data=        x            y\n",
      "0   -10.0  1434.444796\n",
      "1    -9.8   488.295916\n",
      "2    -9.6  1322.337241\n",
      "3    -9.4  1908.779605\n",
      "4    -9.2  1107.121583\n",
      "..    ...          ...\n",
      "96    9.2  -199.926131\n",
      "97    9.4   192.309452\n",
      "98    9.6 -1407.268729\n",
      "99    9.8  1502.302238\n",
      "100  10.0  1712.073367\n",
      "\n",
      "[101 rows x 2 columns], conditions=0     -15.0\n",
      "1     -14.7\n",
      "2     -14.4\n",
      "3     -14.1\n",
      "4     -13.8\n",
      "       ... \n",
      "96     13.8\n",
      "97     14.1\n",
      "98     14.4\n",
      "99     14.7\n",
      "100    15.0\n",
      "Name: x, Length: 101, dtype: float64, model=None)\n"
     ]
    },
    {
     "data": {
      "text/plain": [
       "CustomState(variables=VariableCollection(independent_variables=[Variable(name='x', value_range=None, allowed_values=None, units='', type=<ValueType.REAL: 'real'>, variable_label='', rescale=1, is_covariate=False)], dependent_variables=[Variable(name='y', value_range=None, allowed_values=None, units='', type=<ValueType.REAL: 'real'>, variable_label='', rescale=1, is_covariate=False)], covariates=[]), params={}, experimental_data=        x            y\n",
       "0   -10.0  1434.444796\n",
       "1    -9.8   488.295916\n",
       "2    -9.6  1322.337241\n",
       "3    -9.4  1908.779605\n",
       "4    -9.2  1107.121583\n",
       "..    ...          ...\n",
       "96    9.2  -199.926131\n",
       "97    9.4   192.309452\n",
       "98    9.6 -1407.268729\n",
       "99    9.8  1502.302238\n",
       "100  10.0  1712.073367\n",
       "\n",
       "[101 rows x 2 columns], conditions=0     -15.0\n",
       "1     -14.7\n",
       "2     -14.4\n",
       "3     -14.1\n",
       "4     -13.8\n",
       "       ... \n",
       "96     13.8\n",
       "97     14.1\n",
       "98     14.4\n",
       "99     14.7\n",
       "100    15.0\n",
       "Name: x, Length: 101, dtype: float64, model=None)"
      ]
     },
     "execution_count": null,
     "metadata": {},
     "output_type": "execute_result"
    }
   ],
   "source": [
    "experiment_runner(s)"
   ]
  },
  {
   "cell_type": "markdown",
   "metadata": {},
   "source": [
    "Now we define a theorist, which does a linear regression on the polynomial of degree 5. We define a regressor and a\n",
    "method to return its feature names and coefficients, and then the theorist to handle it."
   ]
  },
  {
   "cell_type": "code",
   "execution_count": null,
   "metadata": {},
   "outputs": [
    {
     "ename": "NameError",
     "evalue": "name 'State' is not defined",
     "output_type": "error",
     "traceback": [
      "\u001B[0;31m---------------------------------------------------------------------------\u001B[0m",
      "\u001B[0;31mNameError\u001B[0m                                 Traceback (most recent call last)",
      "Cell \u001B[0;32mIn[6], line 9\u001B[0m\n\u001B[1;32m      6\u001B[0m     c \u001B[38;5;241m=\u001B[39m r\u001B[38;5;241m.\u001B[39mnamed_steps[\u001B[38;5;124m'\u001B[39m\u001B[38;5;124mlinearregression\u001B[39m\u001B[38;5;124m'\u001B[39m]\u001B[38;5;241m.\u001B[39mcoef_\n\u001B[1;32m      7\u001B[0m     \u001B[38;5;28;01mreturn\u001B[39;00m pd\u001B[38;5;241m.\u001B[39mDataFrame({\u001B[38;5;124m\"\u001B[39m\u001B[38;5;124mt\u001B[39m\u001B[38;5;124m\"\u001B[39m: t, \u001B[38;5;124m\"\u001B[39m\u001B[38;5;124mcoefficient\u001B[39m\u001B[38;5;124m\"\u001B[39m: c\u001B[38;5;241m.\u001B[39mreshape(t\u001B[38;5;241m.\u001B[39mshape)})\n\u001B[0;32m----> 9\u001B[0m \u001B[38;5;28;01mdef\u001B[39;00m \u001B[38;5;21mtheorist\u001B[39m(state: \u001B[43mState\u001B[49m, params: Optional[\u001B[38;5;28mdict\u001B[39m] \u001B[38;5;241m=\u001B[39m \u001B[38;5;28;01mNone\u001B[39;00m) \u001B[38;5;241m-\u001B[39m\u001B[38;5;241m>\u001B[39m State:\n\u001B[1;32m     10\u001B[0m     \u001B[38;5;28;01mif\u001B[39;00m params \u001B[38;5;129;01mis\u001B[39;00m \u001B[38;5;28;01mNone\u001B[39;00m:\n\u001B[1;32m     11\u001B[0m         params \u001B[38;5;241m=\u001B[39m {}\n",
      "\u001B[0;31mNameError\u001B[0m: name 'State' is not defined"
     ]
    }
   ],
   "source": [
    "# Completely standard scikit-learn pipeline regressor\n",
    "regressor = make_pipeline(PolynomialFeatures(degree=5), LinearRegression())\n",
    "\n",
    "def get_equation(r):\n",
    "    t = r.named_steps['polynomialfeatures'].get_feature_names_out()\n",
    "    c = r.named_steps['linearregression'].coef_\n",
    "    return pd.DataFrame({\"t\": t, \"coefficient\": c.reshape(t.shape)})\n",
    "\n",
    "def theorist(state: State, params: Optional[dict] = None) -> State:\n",
    "    if params is None:\n",
    "        params = {}\n",
    "    params_ = ChainMap(params, state.params)\n",
    "    ivs = [v.name for v in state.variables.independent_variables]\n",
    "    dvs = [v.name for v in state.variables.dependent_variables]\n",
    "    X, y = state.experimental_data[ivs], state.experimental_data[dvs]\n",
    "    model = regressor.fit(X, y, **params_)\n",
    "    new_state = dataclasses.replace(state, model=model)\n",
    "    return new_state"
   ]
  },
  {
   "cell_type": "markdown",
   "metadata": {},
   "source": [
    "Now we run the theorist on the result of the experiment_runner (by chaining the two functions)."
   ]
  },
  {
   "cell_type": "code",
   "execution_count": null,
   "metadata": {},
   "outputs": [],
   "source": [
    "t = theorist(experiment_runner(s))"
   ]
  },
  {
   "cell_type": "markdown",
   "metadata": {},
   "source": [
    "The fitted coefficients are:"
   ]
  },
  {
   "cell_type": "code",
   "execution_count": null,
   "metadata": {},
   "outputs": [],
   "source": [
    "print(get_equation(t.model))"
   ]
  },
  {
   "cell_type": "markdown",
   "metadata": {},
   "source": [
    "Now we can define the simplest pipeline which runs the experiment runner and theorist in sequence and returns the\n",
    "updated state:"
   ]
  },
  {
   "cell_type": "code",
   "execution_count": null,
   "metadata": {},
   "outputs": [],
   "source": [
    "def pipeline(state: State) -> State:\n",
    "    s_ = state\n",
    "    t_ = experiment_runner(s_)\n",
    "    u_ = theorist(t_)\n",
    "    return u_"
   ]
  },
  {
   "cell_type": "markdown",
   "metadata": {},
   "source": [
    "Running this pipeline is the same as running the individual steps – just pass the state object."
   ]
  },
  {
   "cell_type": "code",
   "execution_count": null,
   "metadata": {},
   "outputs": [],
   "source": [
    "rng = np.random.default_rng(1)  # reset the RNG for reproducibility\n",
    "u = pipeline(s)"
   ]
  },
  {
   "cell_type": "markdown",
   "metadata": {},
   "source": [
    "To show what's happening, we'll show the data, best fit model and ground truth:"
   ]
  },
  {
   "cell_type": "code",
   "execution_count": null,
   "metadata": {},
   "outputs": [],
   "source": [
    "def show_best_fit(state):\n",
    "    state.experimental_data.plot.scatter(\"x\", \"y\", s=1, alpha=0.5, c=\"gray\")\n",
    "    plt.plot(state.conditions, state.model.predict(pd.DataFrame(u.conditions)), label=\"best fit\")\n",
    "    plt.plot(state.conditions, ground_truth(u.conditions), label=\"ground truth\")\n",
    "    plt.legend()\n",
    "    print(get_equation(t.model))\n",
    "\n",
    "show_best_fit(u)"
   ]
  },
  {
   "cell_type": "markdown",
   "metadata": {},
   "source": [
    "We can use this pipeline to make a trivial cycle, where we keep on gathering data until we reach 1000 datapoints. Any\n",
    " condition defined on the state object could be used here, though."
   ]
  },
  {
   "cell_type": "code",
   "execution_count": null,
   "metadata": {},
   "outputs": [],
   "source": [
    "v = s\n",
    "while len(v.experimental_data) < 1_000:  # any condition on the state can be used here.\n",
    "    v = pipeline(v)\n",
    "show_best_fit(v)"
   ]
  },
  {
   "cell_type": "markdown",
   "metadata": {},
   "source": [
    "We can redefine the pipeline as a generator, which can be operated on using iteration tools:"
   ]
  },
  {
   "cell_type": "code",
   "execution_count": null,
   "metadata": {},
   "outputs": [],
   "source": [
    "def cycle(state: State) -> State:\n",
    "    s_ = state\n",
    "    while True:\n",
    "        s_ = experiment_runner(s_)\n",
    "        s_ = theorist(s_)\n",
    "        yield s_\n",
    "\n",
    "cycle_generator = cycle(s)\n",
    "\n",
    "for i in range(1000):\n",
    "    t = next(cycle_generator)\n",
    "show_best_fit(t)"
   ]
  },
  {
   "cell_type": "markdown",
   "metadata": {},
   "source": [
    "You can also define a cycle (or a sequence of steps) which yield the intermediate results."
   ]
  },
  {
   "cell_type": "code",
   "execution_count": null,
   "metadata": {},
   "outputs": [],
   "source": [
    "v0 = s\n",
    "def cycle(state: State) -> State:\n",
    "    s_ = state\n",
    "    while True:\n",
    "        print(\"#-- running experiment_runner --#\\n\")\n",
    "        s_ = experiment_runner(s_)\n",
    "        yield s_\n",
    "        print(\"#-- running theorist --#\\n\")\n",
    "        s_ = theorist(s_)\n",
    "        yield s_\n",
    "\n",
    "cycle_generator = cycle(v0)"
   ]
  },
  {
   "cell_type": "markdown",
   "metadata": {},
   "source": [
    "At the outset, we have no model and an emtpy experimental_data dataframe."
   ]
  },
  {
   "cell_type": "code",
   "execution_count": null,
   "metadata": {},
   "outputs": [],
   "source": [
    "print(f\"{v0.model=}, \\n{v0.experimental_data.shape=}\")"
   ]
  },
  {
   "cell_type": "markdown",
   "metadata": {},
   "source": [
    "In the first `next`, we only run the \"experiment_runner\""
   ]
  },
  {
   "cell_type": "code",
   "execution_count": null,
   "metadata": {},
   "outputs": [],
   "source": [
    "v1 = next(cycle_generator)\n",
    "print(f\"{v1.model=}, \\n{v1.experimental_data.shape=}\")"
   ]
  },
  {
   "cell_type": "markdown",
   "metadata": {},
   "source": [
    "In the next step, we run the theorist on that data, but we don't add any new data:"
   ]
  },
  {
   "cell_type": "code",
   "execution_count": null,
   "metadata": {},
   "outputs": [],
   "source": [
    "v2 = next(cycle_generator)\n",
    "print(f\"{v2.model=}, \\n{v2.experimental_data.shape=}\")"
   ]
  },
  {
   "cell_type": "markdown",
   "metadata": {},
   "source": [
    "In the next step, we run the experiment runner again and gather more observations:"
   ]
  },
  {
   "cell_type": "code",
   "execution_count": null,
   "metadata": {},
   "outputs": [],
   "source": [
    "v3 = next(cycle_generator)\n",
    "print(f\"{v3.model=}, \\n{v3.experimental_data.shape=}\")\n"
   ]
  }
 ],
 "metadata": {
  "kernelspec": {
   "display_name": "Python 3",
   "language": "python",
   "name": "python3"
  },
  "language_info": {
   "codemirror_mode": {
    "name": "ipython",
    "version": 2
   },
   "file_extension": ".py",
   "mimetype": "text/x-python",
   "name": "python",
   "nbconvert_exporter": "python",
   "pygments_lexer": "ipython2"
  }
 },
 "nbformat": 4,
 "nbformat_minor": 0
}
