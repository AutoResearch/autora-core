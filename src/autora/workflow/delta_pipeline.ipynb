{
 "cells": [
  {
   "cell_type": "code",
   "execution_count": null,
   "metadata": {},
   "outputs": [],
   "source": [
    "from __future__ import annotations\n",
    "\n",
    "import copy\n",
    "import dataclasses\n",
    "from dataclasses import dataclass\n",
    "from typing import List, TypeVar, Any, Tuple, Optional, Dict, Union\n",
    "import pandas as pd\n",
    "from typing import Generic\n",
    "from typing import Literal\n",
    "\n",
    "from autora.variable import VariableCollection\n",
    "from sklearn.base import BaseEstimator"
   ]
  },
  {
   "cell_type": "markdown",
   "metadata": {},
   "source": [
    "## First attempt – a dataframe wrapper which holds deltas"
   ]
  },
  {
   "cell_type": "code",
   "execution_count": null,
   "metadata": {},
   "outputs": [],
   "source": [
    "class DataFrameWithDeltas:\n",
    "    deltas: List[Tuple[str, pd.DataFrame]]\n",
    "\n",
    "    def __init__(self, initial: pd.DataFrame):\n",
    "        self.deltas = [(\"new\", initial)]\n",
    "\n",
    "    def update(self, delta: pd.DataFrame, kind: Literal[\"new\", \"extend\"]):\n",
    "        self.deltas.append((kind, delta))\n",
    "\n",
    "    @property\n",
    "    def df(self):\n",
    "        v = None\n",
    "        for kind, delta in self.deltas:\n",
    "            if kind == \"new\":\n",
    "                v = delta\n",
    "            elif kind == \"extend\":\n",
    "                assert isinstance(v, pd.DataFrame)\n",
    "                v = pd.concat([v, delta])\n",
    "            else:\n",
    "                raise NotImplementedError(f\"{kind=}\")\n",
    "        return v\n"
   ]
  },
  {
   "cell_type": "code",
   "execution_count": null,
   "metadata": {},
   "outputs": [
    {
     "data": {
      "text/html": [
       "<div>\n",
       "<style scoped>\n",
       "    .dataframe tbody tr th:only-of-type {\n",
       "        vertical-align: middle;\n",
       "    }\n",
       "\n",
       "    .dataframe tbody tr th {\n",
       "        vertical-align: top;\n",
       "    }\n",
       "\n",
       "    .dataframe thead th {\n",
       "        text-align: right;\n",
       "    }\n",
       "</style>\n",
       "<table border=\"1\" class=\"dataframe\">\n",
       "  <thead>\n",
       "    <tr style=\"text-align: right;\">\n",
       "      <th></th>\n",
       "      <th>a</th>\n",
       "      <th>b</th>\n",
       "    </tr>\n",
       "  </thead>\n",
       "  <tbody>\n",
       "    <tr>\n",
       "      <th>0</th>\n",
       "      <td>1</td>\n",
       "      <td>a</td>\n",
       "    </tr>\n",
       "    <tr>\n",
       "      <th>1</th>\n",
       "      <td>2</td>\n",
       "      <td>b</td>\n",
       "    </tr>\n",
       "    <tr>\n",
       "      <th>2</th>\n",
       "      <td>3</td>\n",
       "      <td>c</td>\n",
       "    </tr>\n",
       "  </tbody>\n",
       "</table>\n",
       "</div>"
      ],
      "text/plain": [
       "   a  b\n",
       "0  1  a\n",
       "1  2  b\n",
       "2  3  c"
      ]
     },
     "execution_count": null,
     "metadata": {},
     "output_type": "execute_result"
    }
   ],
   "source": [
    "d = DataFrameWithDeltas(pd.DataFrame({\"a\": [1,2,3], \"b\": list(\"abc\")}))\n",
    "d.df"
   ]
  },
  {
   "cell_type": "code",
   "execution_count": null,
   "metadata": {},
   "outputs": [
    {
     "data": {
      "text/html": [
       "<div>\n",
       "<style scoped>\n",
       "    .dataframe tbody tr th:only-of-type {\n",
       "        vertical-align: middle;\n",
       "    }\n",
       "\n",
       "    .dataframe tbody tr th {\n",
       "        vertical-align: top;\n",
       "    }\n",
       "\n",
       "    .dataframe thead th {\n",
       "        text-align: right;\n",
       "    }\n",
       "</style>\n",
       "<table border=\"1\" class=\"dataframe\">\n",
       "  <thead>\n",
       "    <tr style=\"text-align: right;\">\n",
       "      <th></th>\n",
       "      <th>a</th>\n",
       "      <th>b</th>\n",
       "    </tr>\n",
       "  </thead>\n",
       "  <tbody>\n",
       "    <tr>\n",
       "      <th>0</th>\n",
       "      <td>1</td>\n",
       "      <td>a</td>\n",
       "    </tr>\n",
       "    <tr>\n",
       "      <th>1</th>\n",
       "      <td>2</td>\n",
       "      <td>b</td>\n",
       "    </tr>\n",
       "    <tr>\n",
       "      <th>2</th>\n",
       "      <td>3</td>\n",
       "      <td>c</td>\n",
       "    </tr>\n",
       "    <tr>\n",
       "      <th>0</th>\n",
       "      <td>4</td>\n",
       "      <td>d</td>\n",
       "    </tr>\n",
       "  </tbody>\n",
       "</table>\n",
       "</div>"
      ],
      "text/plain": [
       "   a  b\n",
       "0  1  a\n",
       "1  2  b\n",
       "2  3  c\n",
       "0  4  d"
      ]
     },
     "execution_count": null,
     "metadata": {},
     "output_type": "execute_result"
    }
   ],
   "source": [
    "d.update(pd.DataFrame({\"a\": [4], \"b\": list(\"d\")}), kind=\"extend\")\n",
    "d.df\n"
   ]
  },
  {
   "cell_type": "code",
   "execution_count": null,
   "metadata": {},
   "outputs": [
    {
     "data": {
      "text/html": [
       "<div>\n",
       "<style scoped>\n",
       "    .dataframe tbody tr th:only-of-type {\n",
       "        vertical-align: middle;\n",
       "    }\n",
       "\n",
       "    .dataframe tbody tr th {\n",
       "        vertical-align: top;\n",
       "    }\n",
       "\n",
       "    .dataframe thead th {\n",
       "        text-align: right;\n",
       "    }\n",
       "</style>\n",
       "<table border=\"1\" class=\"dataframe\">\n",
       "  <thead>\n",
       "    <tr style=\"text-align: right;\">\n",
       "      <th></th>\n",
       "      <th>a</th>\n",
       "      <th>b</th>\n",
       "    </tr>\n",
       "  </thead>\n",
       "  <tbody>\n",
       "    <tr>\n",
       "      <th>0</th>\n",
       "      <td>5</td>\n",
       "      <td>e</td>\n",
       "    </tr>\n",
       "  </tbody>\n",
       "</table>\n",
       "</div>"
      ],
      "text/plain": [
       "   a  b\n",
       "0  5  e"
      ]
     },
     "execution_count": null,
     "metadata": {},
     "output_type": "execute_result"
    }
   ],
   "source": [
    "d.update(pd.DataFrame({\"a\": [5], \"b\": list(\"e\")}), kind=\"new\")\n",
    "d.df"
   ]
  },
  {
   "cell_type": "code",
   "execution_count": null,
   "metadata": {},
   "outputs": [
    {
     "data": {
      "text/plain": [
       "[('new',\n",
       "     a  b\n",
       "  0  1  a\n",
       "  1  2  b\n",
       "  2  3  c),\n",
       " ('extend',\n",
       "     a  b\n",
       "  0  4  d),\n",
       " ('new',\n",
       "     a  b\n",
       "  0  5  e)]"
      ]
     },
     "execution_count": null,
     "metadata": {},
     "output_type": "execute_result"
    }
   ],
   "source": [
    "d.deltas"
   ]
  },
  {
   "cell_type": "markdown",
   "metadata": {},
   "source": [
    "## State with Deltas\n",
    "\n",
    "literature_search / seed_data -> {conditions: […], observations: […], experimental_data: [...] model: […], status:\n",
    "“expected”,\n",
    "variables:\n",
    "VariableCollection(…), kind = \"new\", source: \"seed\"}\n",
    "\n",
    "experimentalist -> {conditions: […], status: “proposed”, kind=\"extend\", source: \"experimentalist\"} ## the\n",
    "experiment_runner only wants the \"last\" proposed conditions, so we need to be able to access the \"last proposed\n",
    "experiment\"\n",
    "\n",
    "experiment_runner -> {experimental_data: [...], conditions: view(data), observations: view(data), status:\n",
    "“observed”, kind: \"extend\", source: \"experiment_runner\"}\n",
    "\n",
    "theorist -> {model: TheModel(), (fitted_)data: [...], status: “fitted”, kind: \"extend\", source: \"theorist\"}\n",
    "\n",
    "can \"kind\" just be the \"extension\" function rather than the abstract name.\n",
    "\n",
    "Idea: we store all these results as \"deltas\":\n",
    "all_data = [seed_data, experimentalist_result_1, experiment_runner_result_1, theorist_result_1, ... ]\n",
    "... and then resolve the deltas whenever we need a particular code.\n"
   ]
  },
  {
   "cell_type": "code",
   "execution_count": null,
   "metadata": {},
   "outputs": [],
   "source": [
    "@dataclass(frozen=True)\n",
    "class State:\n",
    "    df: Optional[pd.DataFrame]\n",
    "\n",
    "\n",
    "@dataclass(frozen=True)\n",
    "class StateDelta(State):\n",
    "    kind: Literal[\"extend\", \"replace\"]\n",
    "    def __radd__(self, other: Union[State, StateDelta]):\n",
    "        if self.kind == \"replace\":\n",
    "            updates = dict()\n",
    "            for f in dataclasses.fields(other):\n",
    "                if (value := getattr(self, f.name)) is not None:\n",
    "                    updates[f.name] = value\n",
    "            return dataclasses.replace(other, **updates)\n",
    "        elif self.kind == \"extend\":\n",
    "            updates = dict()\n",
    "            for f in dataclasses.fields(other):\n",
    "                if (value := getattr(self, f.name)) is not None:\n",
    "                    other_value = getattr(other, f.name)\n",
    "                    updates[f.name] = pd.concat((other_value, value), ignore_index=True)\n",
    "            return dataclasses.replace(other, **updates)\n",
    "\n",
    "@dataclass(frozen=True)\n",
    "class StateDeltaAltenative(State):\n",
    "    kind: Literal[\"extend\", \"replace\"]\n",
    "\n",
    "    def __radd__(self, other: Union[State, StateDelta]):\n",
    "        updates = dict()\n",
    "        for f in dataclasses.fields(other):\n",
    "            if (value := getattr(self, f.name)) is not None:\n",
    "                if self.kind == \"replace\":\n",
    "                    updates[f.name] = value\n",
    "                elif self.kind == \"extend\":\n",
    "                    other_value = getattr(other, f.name)\n",
    "                    updates[f.name] = pd.concat((other_value, value), ignore_index=True)\n",
    "        return dataclasses.replace(other, **updates)\n"
   ]
  },
  {
   "cell_type": "code",
   "execution_count": null,
   "metadata": {},
   "outputs": [
    {
     "data": {
      "text/plain": [
       "State(df=   a  b\n",
       "0  1  f\n",
       "1  2  s)"
      ]
     },
     "execution_count": null,
     "metadata": {},
     "output_type": "execute_result"
    }
   ],
   "source": [
    "State(df=pd.DataFrame({\"a\": [1], \"b\": [\"f\"]})) + StateDeltaAltenative(kind=\"extend\", df=pd.DataFrame({\"a\":[2], \"b\":[\"s\"]}))"
   ]
  },
  {
   "cell_type": "code",
   "execution_count": null,
   "metadata": {},
   "outputs": [
    {
     "data": {
      "text/plain": [
       "State(df=   a  b\n",
       "0  2  s)"
      ]
     },
     "execution_count": null,
     "metadata": {},
     "output_type": "execute_result"
    }
   ],
   "source": [
    "State(df=pd.DataFrame({\"a\": [1], \"b\": [\"f\"]})) + StateDeltaAltenative(kind=\"replace\", df=pd.DataFrame({\"a\":[2], \"b\":[\"s\"]}))"
   ]
  },
  {
   "cell_type": "code",
   "execution_count": null,
   "metadata": {},
   "outputs": [
    {
     "data": {
      "text/plain": [
       "State(df=   a\n",
       "0  2\n",
       "1  3\n",
       "2  4)"
      ]
     },
     "execution_count": null,
     "metadata": {},
     "output_type": "execute_result"
    }
   ],
   "source": [
    "State(df=pd.DataFrame({\"a\": [1]})) \\\n",
    "+ StateDeltaAltenative(kind=\"replace\", df=pd.DataFrame({\"a\":[2]})) \\\n",
    "+ StateDeltaAltenative(kind=\"extend\", df=pd.DataFrame({\"a\":[3]})) \\\n",
    "+ StateDeltaAltenative(kind=\"extend\", df=pd.DataFrame({\"a\":[4]}))"
   ]
  },
  {
   "cell_type": "markdown",
   "metadata": {},
   "source": [
    "## Generic State and StateDelta"
   ]
  },
  {
   "cell_type": "code",
   "execution_count": null,
   "metadata": {},
   "outputs": [
    {
     "ename": "TypeError",
     "evalue": "TypeVar(name, constraint, ...): constraints must be types. Got (~S,).",
     "output_type": "error",
     "traceback": [
      "\u001B[0;31m---------------------------------------------------------------------------\u001B[0m",
      "\u001B[0;31mTypeError\u001B[0m                                 Traceback (most recent call last)",
      "Cell \u001B[0;32mIn[39], line 7\u001B[0m\n\u001B[1;32m      3\u001B[0m     deltas: List[StateDelta[State]]\n\u001B[1;32m      5\u001B[0m S \u001B[38;5;241m=\u001B[39m TypeVar(\u001B[38;5;124m\"\u001B[39m\u001B[38;5;124mS\u001B[39m\u001B[38;5;124m\"\u001B[39m)\n\u001B[0;32m----> 7\u001B[0m \u001B[38;5;28;01mclass\u001B[39;00m \u001B[38;5;21;01mStateDelta\u001B[39;00m(S):\n\u001B[1;32m      8\u001B[0m     value: S\n\u001B[1;32m      9\u001B[0m     kind: Literal[\u001B[38;5;124m\"\u001B[39m\u001B[38;5;124mreplace\u001B[39m\u001B[38;5;124m\"\u001B[39m, \u001B[38;5;124m\"\u001B[39m\u001B[38;5;124mextend\u001B[39m\u001B[38;5;124m\"\u001B[39m]\n",
      "File \u001B[0;32m~/.local/share/rtx/installs/python/3.8.17/lib/python3.8/typing.py:598\u001B[0m, in \u001B[0;36mTypeVar.__init__\u001B[0;34m(self, name, bound, covariant, contravariant, *constraints)\u001B[0m\n\u001B[1;32m    596\u001B[0m     \u001B[38;5;28;01mraise\u001B[39;00m \u001B[38;5;167;01mTypeError\u001B[39;00m(\u001B[38;5;124m\"\u001B[39m\u001B[38;5;124mA single constraint is not allowed\u001B[39m\u001B[38;5;124m\"\u001B[39m)\n\u001B[1;32m    597\u001B[0m msg \u001B[38;5;241m=\u001B[39m \u001B[38;5;124m\"\u001B[39m\u001B[38;5;124mTypeVar(name, constraint, ...): constraints must be types.\u001B[39m\u001B[38;5;124m\"\u001B[39m\n\u001B[0;32m--> 598\u001B[0m \u001B[38;5;28mself\u001B[39m\u001B[38;5;241m.\u001B[39m__constraints__ \u001B[38;5;241m=\u001B[39m \u001B[38;5;28;43mtuple\u001B[39;49m\u001B[43m(\u001B[49m\u001B[43m_type_check\u001B[49m\u001B[43m(\u001B[49m\u001B[43mt\u001B[49m\u001B[43m,\u001B[49m\u001B[43m \u001B[49m\u001B[43mmsg\u001B[49m\u001B[43m)\u001B[49m\u001B[43m \u001B[49m\u001B[38;5;28;43;01mfor\u001B[39;49;00m\u001B[43m \u001B[49m\u001B[43mt\u001B[49m\u001B[43m \u001B[49m\u001B[38;5;129;43;01min\u001B[39;49;00m\u001B[43m \u001B[49m\u001B[43mconstraints\u001B[49m\u001B[43m)\u001B[49m\n\u001B[1;32m    599\u001B[0m \u001B[38;5;28;01mif\u001B[39;00m bound:\n\u001B[1;32m    600\u001B[0m     \u001B[38;5;28mself\u001B[39m\u001B[38;5;241m.\u001B[39m__bound__ \u001B[38;5;241m=\u001B[39m _type_check(bound, \u001B[38;5;124m\"\u001B[39m\u001B[38;5;124mBound must be a type.\u001B[39m\u001B[38;5;124m\"\u001B[39m)\n",
      "File \u001B[0;32m~/.local/share/rtx/installs/python/3.8.17/lib/python3.8/typing.py:598\u001B[0m, in \u001B[0;36m<genexpr>\u001B[0;34m(.0)\u001B[0m\n\u001B[1;32m    596\u001B[0m     \u001B[38;5;28;01mraise\u001B[39;00m \u001B[38;5;167;01mTypeError\u001B[39;00m(\u001B[38;5;124m\"\u001B[39m\u001B[38;5;124mA single constraint is not allowed\u001B[39m\u001B[38;5;124m\"\u001B[39m)\n\u001B[1;32m    597\u001B[0m msg \u001B[38;5;241m=\u001B[39m \u001B[38;5;124m\"\u001B[39m\u001B[38;5;124mTypeVar(name, constraint, ...): constraints must be types.\u001B[39m\u001B[38;5;124m\"\u001B[39m\n\u001B[0;32m--> 598\u001B[0m \u001B[38;5;28mself\u001B[39m\u001B[38;5;241m.\u001B[39m__constraints__ \u001B[38;5;241m=\u001B[39m \u001B[38;5;28mtuple\u001B[39m(\u001B[43m_type_check\u001B[49m\u001B[43m(\u001B[49m\u001B[43mt\u001B[49m\u001B[43m,\u001B[49m\u001B[43m \u001B[49m\u001B[43mmsg\u001B[49m\u001B[43m)\u001B[49m \u001B[38;5;28;01mfor\u001B[39;00m t \u001B[38;5;129;01min\u001B[39;00m constraints)\n\u001B[1;32m    599\u001B[0m \u001B[38;5;28;01mif\u001B[39;00m bound:\n\u001B[1;32m    600\u001B[0m     \u001B[38;5;28mself\u001B[39m\u001B[38;5;241m.\u001B[39m__bound__ \u001B[38;5;241m=\u001B[39m _type_check(bound, \u001B[38;5;124m\"\u001B[39m\u001B[38;5;124mBound must be a type.\u001B[39m\u001B[38;5;124m\"\u001B[39m)\n",
      "File \u001B[0;32m~/.local/share/rtx/installs/python/3.8.17/lib/python3.8/typing.py:149\u001B[0m, in \u001B[0;36m_type_check\u001B[0;34m(arg, msg, is_argument)\u001B[0m\n\u001B[1;32m    147\u001B[0m     \u001B[38;5;28;01mreturn\u001B[39;00m arg\n\u001B[1;32m    148\u001B[0m \u001B[38;5;28;01mif\u001B[39;00m \u001B[38;5;129;01mnot\u001B[39;00m \u001B[38;5;28mcallable\u001B[39m(arg):\n\u001B[0;32m--> 149\u001B[0m     \u001B[38;5;28;01mraise\u001B[39;00m \u001B[38;5;167;01mTypeError\u001B[39;00m(\u001B[38;5;124mf\u001B[39m\u001B[38;5;124m\"\u001B[39m\u001B[38;5;132;01m{\u001B[39;00mmsg\u001B[38;5;132;01m}\u001B[39;00m\u001B[38;5;124m Got \u001B[39m\u001B[38;5;132;01m{\u001B[39;00marg\u001B[38;5;132;01m!r:\u001B[39;00m\u001B[38;5;124m.100\u001B[39m\u001B[38;5;132;01m}\u001B[39;00m\u001B[38;5;124m.\u001B[39m\u001B[38;5;124m\"\u001B[39m)\n\u001B[1;32m    150\u001B[0m \u001B[38;5;28;01mreturn\u001B[39;00m arg\n",
      "\u001B[0;31mTypeError\u001B[0m: TypeVar(name, constraint, ...): constraints must be types. Got (~S,)."
     ]
    }
   ],
   "source": [
    "class State:\n",
    "    initial: Any\n",
    "    deltas: List[StateDelta[State]]\n",
    "\n",
    "S = TypeVar(\"S\")\n",
    "\n",
    "class StateDelta(S):\n",
    "    value: S\n",
    "    kind: Literal[\"replace\", \"extend\"]\n"
   ]
  },
  {
   "cell_type": "code",
   "execution_count": null,
   "metadata": {},
   "outputs": [
    {
     "ename": "SyntaxError",
     "evalue": "invalid syntax (2210526089.py, line 9)",
     "output_type": "error",
     "traceback": [
      "\u001B[0;36m  Cell \u001B[0;32mIn[40], line 9\u001B[0;36m\u001B[0m\n\u001B[0;31m    kind: Literal[]\u001B[0m\n\u001B[0m                  ^\u001B[0m\n\u001B[0;31mSyntaxError\u001B[0m\u001B[0;31m:\u001B[0m invalid syntax\n"
     ]
    }
   ],
   "source": [
    "State = TypeVar(\"S\")\n",
    "\n",
    "class StateWithDeltas(Generic[State]):\n",
    "    initial: Any\n",
    "    deltas: List[StateDelta[State]]\n",
    "\n",
    "class StateDelta(Generic[State]):\n",
    "    value: State\n",
    "    kind: Literal[]\n"
   ]
  },
  {
   "cell_type": "code",
   "execution_count": null,
   "metadata": {},
   "outputs": [],
   "source": []
  }
 ],
 "metadata": {
  "kernelspec": {
   "display_name": "Python 3",
   "language": "python",
   "name": "python3"
  },
  "language_info": {
   "codemirror_mode": {
    "name": "ipython",
    "version": 2
   },
   "file_extension": ".py",
   "mimetype": "text/x-python",
   "name": "python",
   "nbconvert_exporter": "python",
   "pygments_lexer": "ipython2"
  }
 },
 "nbformat": 4,
 "nbformat_minor": 0
}
