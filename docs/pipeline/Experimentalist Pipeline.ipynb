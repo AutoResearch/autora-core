{
 "cells": [
  {
   "cell_type": "markdown",
   "metadata": {},
   "source": [
    "# Datatypes and the Experimentalist Pipeline"
   ]
  },
  {
   "cell_type": "markdown",
   "metadata": {},
   "source": [
    "The experimentalist pipeline is a tool for running **sequences of functions** (callables) on some data.\n",
    "\n",
    "If you have $n$ functions $f_i$,\n",
    "\n",
    "$$\n",
    "f_0(x), f_1(x), ... f_n(x)\\, ,\n",
    "$$\n",
    "\n",
    "the pipeline of those functions $P_{f_i}$, is defined as\n",
    "\n",
    "$$\n",
    "P_{f_i}(x) = f_n(f_{n-1}(...(f_0(x))))\\, .\n",
    "$$\n",
    "\n",
    "Key principles:\n",
    "1. The *pipeline passes the data unchanged* between the $f_i$. It is agnostic to the data which the\n",
    "functions require or return.\n",
    "2. The $f_i$ can *mutate the data*.\n",
    "3. The $f_i$ must be *compatible with one another*. It is on the user to ensure this is true.\n",
    "\n",
    "***TODO: what about the parameters? Can we fit those into the definition?***\n",
    "\n",
    "By being agnostic about the data, the pipeline is extremely simple and flexible. To allow a new kind of data, it is\n",
    "only required to define the datatype (perhaps as a\n",
    "[python `dataclass`](https://docs.python.org/3/library/dataclasses.html)) and then start writing $f_i$ which use that\n",
    "dataclass as an input and output type.\n",
    "\n",
    "Whilst it is possible to write $f_i$ which change the type of the data which pass through and still work as a\n",
    "pipeline, it is recommended to return the same type, so $\\mathrm{type}(x) = \\mathrm{type}(f_i(x))$.\n",
    "\n",
    "In this tutorial, we'll demonstrate some pipelines which:\n",
    "- use standard library functions to operate on python built-in types,\n",
    "- use numpy functions to operate on numpy arrays,\n",
    "- use pandas functions to operate on pandas dataframes,\n",
    "- use custom functions to operate on custom dataclasses, and\n",
    "- mutate the type of the data in more complicated ways."
   ]
  },
  {
   "cell_type": "code",
   "execution_count": null,
   "metadata": {},
   "outputs": [
    {
     "name": "stdout",
     "output_type": "stream",
     "text": [
      "Collecting autora\n",
      "  Downloading autora-3.0.1-py3-none-any.whl (3.8 kB)\n",
      "Collecting autora-core (from autora)\n",
      "  Downloading autora_core-3.1.0-py3-none-any.whl (13 kB)\n",
      "Collecting autora-workflow (from autora)\n",
      "  Downloading autora_workflow-0.3.6-py3-none-any.whl (34 kB)\n",
      "Collecting autora-synthetic (from autora)\n",
      "  Downloading autora_synthetic-1.0.2-py3-none-any.whl (11 kB)\n",
      "Requirement already satisfied: numpy in /usr/local/lib/python3.10/dist-packages (from autora-core->autora) (1.22.4)\n",
      "Requirement already satisfied: matplotlib in /usr/local/lib/python3.10/dist-packages (from autora-core->autora) (3.7.1)\n",
      "Requirement already satisfied: pandas in /usr/local/lib/python3.10/dist-packages (from autora-core->autora) (1.5.3)\n",
      "Requirement already satisfied: scikit-learn in /usr/local/lib/python3.10/dist-packages (from autora-core->autora) (1.2.2)\n",
      "Requirement already satisfied: typer[all] in /usr/local/lib/python3.10/dist-packages (from autora-workflow->autora) (0.7.0)\n",
      "Collecting dill (from autora-workflow->autora)\n",
      "  Downloading dill-0.3.6-py3-none-any.whl (110 kB)\n",
      "\u001B[2K     \u001B[90m━━━━━━━━━━━━━━━━━━━━━━━━━━━━━━━━━━━━━━━\u001B[0m \u001B[32m110.5/110.5 kB\u001B[0m \u001B[31m7.7 MB/s\u001B[0m eta \u001B[36m0:00:00\u001B[0m\n",
      "\u001B[?25hRequirement already satisfied: pyyaml in /usr/local/lib/python3.10/dist-packages (from autora-workflow->autora) (6.0)\n",
      "Requirement already satisfied: contourpy>=1.0.1 in /usr/local/lib/python3.10/dist-packages (from matplotlib->autora-core->autora) (1.1.0)\n",
      "Requirement already satisfied: cycler>=0.10 in /usr/local/lib/python3.10/dist-packages (from matplotlib->autora-core->autora) (0.11.0)\n",
      "Requirement already satisfied: fonttools>=4.22.0 in /usr/local/lib/python3.10/dist-packages (from matplotlib->autora-core->autora) (4.40.0)\n",
      "Requirement already satisfied: kiwisolver>=1.0.1 in /usr/local/lib/python3.10/dist-packages (from matplotlib->autora-core->autora) (1.4.4)\n",
      "Requirement already satisfied: packaging>=20.0 in /usr/local/lib/python3.10/dist-packages (from matplotlib->autora-core->autora) (23.1)\n",
      "Requirement already satisfied: pillow>=6.2.0 in /usr/local/lib/python3.10/dist-packages (from matplotlib->autora-core->autora) (8.4.0)\n",
      "Requirement already satisfied: pyparsing>=2.3.1 in /usr/local/lib/python3.10/dist-packages (from matplotlib->autora-core->autora) (3.1.0)\n",
      "Requirement already satisfied: python-dateutil>=2.7 in /usr/local/lib/python3.10/dist-packages (from matplotlib->autora-core->autora) (2.8.2)\n",
      "Requirement already satisfied: pytz>=2020.1 in /usr/local/lib/python3.10/dist-packages (from pandas->autora-core->autora) (2022.7.1)\n",
      "Requirement already satisfied: scipy>=1.3.2 in /usr/local/lib/python3.10/dist-packages (from scikit-learn->autora-core->autora) (1.10.1)\n",
      "Requirement already satisfied: joblib>=1.1.1 in /usr/local/lib/python3.10/dist-packages (from scikit-learn->autora-core->autora) (1.2.0)\n",
      "Requirement already satisfied: threadpoolctl>=2.0.0 in /usr/local/lib/python3.10/dist-packages (from scikit-learn->autora-core->autora) (3.1.0)\n",
      "Requirement already satisfied: click<9.0.0,>=7.1.1 in /usr/local/lib/python3.10/dist-packages (from typer[all]->autora-workflow->autora) (8.1.3)\n",
      "Collecting colorama<0.5.0,>=0.4.3 (from typer[all]->autora-workflow->autora)\n",
      "  Downloading colorama-0.4.6-py2.py3-none-any.whl (25 kB)\n",
      "Collecting shellingham<2.0.0,>=1.3.0 (from typer[all]->autora-workflow->autora)\n",
      "  Downloading shellingham-1.5.0.post1-py2.py3-none-any.whl (9.4 kB)\n",
      "Collecting rich<13.0.0,>=10.11.0 (from typer[all]->autora-workflow->autora)\n",
      "  Downloading rich-12.6.0-py3-none-any.whl (237 kB)\n",
      "\u001B[2K     \u001B[90m━━━━━━━━━━━━━━━━━━━━━━━━━━━━━━━━━━━━━━\u001B[0m \u001B[32m237.5/237.5 kB\u001B[0m \u001B[31m12.5 MB/s\u001B[0m eta \u001B[36m0:00:00\u001B[0m\n",
      "\u001B[?25hRequirement already satisfied: six>=1.5 in /usr/local/lib/python3.10/dist-packages (from python-dateutil>=2.7->matplotlib->autora-core->autora) (1.16.0)\n",
      "Collecting commonmark<0.10.0,>=0.9.0 (from rich<13.0.0,>=10.11.0->typer[all]->autora-workflow->autora)\n",
      "  Downloading commonmark-0.9.1-py2.py3-none-any.whl (51 kB)\n",
      "\u001B[2K     \u001B[90m━━━━━━━━━━━━━━━━━━━━━━━━━━━━━━━━━━━━━━━━\u001B[0m \u001B[32m51.1/51.1 kB\u001B[0m \u001B[31m5.4 MB/s\u001B[0m eta \u001B[36m0:00:00\u001B[0m\n",
      "\u001B[?25hRequirement already satisfied: pygments<3.0.0,>=2.6.0 in /usr/local/lib/python3.10/dist-packages (from rich<13.0.0,>=10.11.0->typer[all]->autora-workflow->autora) (2.14.0)\n",
      "Installing collected packages: commonmark, shellingham, rich, dill, colorama, autora-core, autora-workflow, autora-synthetic, autora\n",
      "  Attempting uninstall: rich\n",
      "    Found existing installation: rich 13.4.2\n",
      "    Uninstalling rich-13.4.2:\n",
      "      Successfully uninstalled rich-13.4.2\n",
      "Successfully installed autora-3.0.1 autora-core-3.1.0 autora-synthetic-1.0.2 autora-workflow-0.3.6 colorama-0.4.6 commonmark-0.9.1 dill-0.3.6 rich-12.6.0 shellingham-1.5.0.post1\n"
     ]
    }
   ],
   "source": [
    "!pip install autora"
   ]
  },
  {
   "cell_type": "code",
   "execution_count": null,
   "metadata": {},
   "outputs": [],
   "source": [
    "from autora.experimentalist.pipeline import make_pipeline"
   ]
  },
  {
   "cell_type": "markdown",
   "metadata": {},
   "source": [
    "## Standard Library Functions and Built-In-Types\n",
    "\n",
    "### Elementary types\n",
    "\n",
    "Define a pipeline which operates on numeric types."
   ]
  },
  {
   "cell_type": "code",
   "execution_count": null,
   "metadata": {},
   "outputs": [
    {
     "data": {
      "text/plain": [
       "2"
      ]
     },
     "execution_count": null,
     "metadata": {},
     "output_type": "execute_result"
    }
   ],
   "source": [
    "functions = [lambda x: x+1]\n",
    "pipeline = make_pipeline(functions)\n",
    "pipeline(1)"
   ]
  },
  {
   "cell_type": "code",
   "execution_count": null,
   "metadata": {},
   "outputs": [
    {
     "data": {
      "text/plain": [
       "3.0"
      ]
     },
     "execution_count": null,
     "metadata": {},
     "output_type": "execute_result"
    }
   ],
   "source": [
    "functions = [lambda x: x+1, lambda x: x*3, lambda x: x/2]\n",
    "pipeline = make_pipeline(functions)\n",
    "pipeline(1)  # 1 -> 2 -> 6 -> 3.0"
   ]
  },
  {
   "cell_type": "code",
   "execution_count": null,
   "metadata": {},
   "outputs": [
    {
     "data": {
      "text/plain": [
       "25.5"
      ]
     },
     "execution_count": null,
     "metadata": {},
     "output_type": "execute_result"
    }
   ],
   "source": [
    "pipeline(16)  # 16 -> 17 -> 51 -> 25.5"
   ]
  },
  {
   "cell_type": "markdown",
   "metadata": {},
   "source": [
    "Define a pipeline which operates on strings."
   ]
  },
  {
   "cell_type": "code",
   "execution_count": null,
   "metadata": {},
   "outputs": [
    {
     "data": {
      "application/vnd.google.colaboratory.intrinsic+json": {
       "type": "string"
      },
      "text/plain": [
       "'***the input string***'"
      ]
     },
     "execution_count": null,
     "metadata": {},
     "output_type": "execute_result"
    }
   ],
   "source": [
    "functions = [\n",
    "    str.title,\n",
    "    lambda s: str.center(s, 22, \"*\"),\n",
    "    str.upper,\n",
    "    str.lower\n",
    "    ]\n",
    "pipeline = make_pipeline(functions)\n",
    "pipeline(\"the input string\")"
   ]
  },
  {
   "cell_type": "markdown",
   "metadata": {},
   "source": [
    "### Collections\n",
    "A pipeline which operates on sequences, like a list of characters:"
   ]
  },
  {
   "cell_type": "code",
   "execution_count": null,
   "metadata": {},
   "outputs": [
    {
     "data": {
      "text/plain": [
       "['#', '%', '@', 'b', 'd', 'e', 'j', 'q', 'r', 'x']"
      ]
     },
     "execution_count": null,
     "metadata": {},
     "output_type": "execute_result"
    }
   ],
   "source": [
    "from random import seed, choices\n",
    "functions = [\n",
    "    lambda l: choices(l, k=10),\n",
    "    sorted\n",
    "  ]\n",
    "pipeline = make_pipeline(functions)\n",
    "seed(1)\n",
    "pipeline(list(\"abcdefghijklmnopqrstuvwxyz!@#$%^&*()\"))"
   ]
  },
  {
   "cell_type": "markdown",
   "metadata": {},
   "source": [
    "... or on a sequence of numbers:"
   ]
  },
  {
   "cell_type": "code",
   "execution_count": null,
   "metadata": {},
   "outputs": [
    {
     "data": {
      "text/plain": [
       "[0.134364,\n",
       " 0.847433,\n",
       " 0.763774,\n",
       " 0.255069,\n",
       " 0.495435,\n",
       " 0.449491,\n",
       " 0.651592,\n",
       " 0.788723,\n",
       " 0.093859,\n",
       " 0.028347]"
      ]
     },
     "execution_count": null,
     "metadata": {},
     "output_type": "execute_result"
    }
   ],
   "source": [
    "functions = [\n",
    "    lambda l: choices(l, k=10),\n",
    "    lambda l: [x / 1_000_000 for x in l]\n",
    "]\n",
    "pipeline = make_pipeline(functions)\n",
    "seed(1)\n",
    "pipeline(range(1_000_000))"
   ]
  },
  {
   "cell_type": "markdown",
   "metadata": {},
   "source": [
    "... or on an infinitely long iterable of numbers:"
   ]
  },
  {
   "cell_type": "code",
   "execution_count": null,
   "metadata": {},
   "outputs": [
    {
     "data": {
      "text/plain": [
       "[504,\n",
       " 1155,\n",
       " 3873,\n",
       " 3919,\n",
       " 4386,\n",
       " 5329,\n",
       " 6194,\n",
       " 6734,\n",
       " 6742,\n",
       " 8071,\n",
       " 9108,\n",
       " 9129,\n",
       " 9654,\n",
       " 9947]"
      ]
     },
     "execution_count": null,
     "metadata": {},
     "output_type": "execute_result"
    }
   ],
   "source": [
    "import random\n",
    "from itertools import count, takewhile\n",
    "def sample_with_probability(x, p=(1/1000)):\n",
    "    \"\"\"Samples from a (potentially unbounded) iterable `x` with a fixed probability `p`.\"\"\"\n",
    "    for x_i in x:\n",
    "        if random.random() < p:\n",
    "            yield x_i\n",
    "\n",
    "\n",
    "functions = [\n",
    "    sample_with_probability,\n",
    "    lambda l: takewhile(lambda x: x < 10_000, l)\n",
    "]\n",
    "\n",
    "pipeline = make_pipeline(functions)\n",
    "seed(1)\n",
    "result = pipeline(count(1))\n",
    "list(result)"
   ]
  },
  {
   "cell_type": "markdown",
   "metadata": {},
   "source": [
    "... or on an unboun iterable of tuples:"
   ]
  },
  {
   "cell_type": "code",
   "execution_count": null,
   "metadata": {},
   "outputs": [
    {
     "data": {
      "text/plain": [
       "[(504, 1003),\n",
       " (1155, 1654),\n",
       " (3873, 4372),\n",
       " (3919, 4418),\n",
       " (4386, 4885),\n",
       " (5329, 5828),\n",
       " (6194, 6693),\n",
       " (6734, 7233),\n",
       " (6742, 7241),\n",
       " (8071, 8570),\n",
       " (9108, 9607),\n",
       " (9129, 9628),\n",
       " (9654, 10153)]"
      ]
     },
     "execution_count": null,
     "metadata": {},
     "output_type": "execute_result"
    }
   ],
   "source": [
    "functions = [\n",
    "    sample_with_probability,  # the same as before\n",
    "    lambda l: takewhile(lambda t: t[0] + t[1] < 20_000, l)\n",
    "]\n",
    "pipeline = make_pipeline(functions)\n",
    "seed(1)\n",
    "result = pipeline(zip(count(1), count(500)))\n",
    "list(result)"
   ]
  },
  {
   "cell_type": "markdown",
   "metadata": {},
   "source": [
    "A pipeline which acts on a dictionary:"
   ]
  },
  {
   "cell_type": "code",
   "execution_count": null,
   "metadata": {},
   "outputs": [
    {
     "data": {
      "text/plain": [
       "{'a': 2, 'b': 0, 'c': 3}"
      ]
     },
     "execution_count": null,
     "metadata": {},
     "output_type": "execute_result"
    }
   ],
   "source": [
    "functions = [\n",
    "    lambda d: dict(d, a=d[\"a\"]+1),\n",
    "    lambda d: dict(d, b=d[\"b\"]-1),\n",
    "    lambda d: dict(d, c=3),\n",
    "]\n",
    "pipeline = make_pipeline(functions)\n",
    "pipeline(dict(a=1, b=1))  # {a: 1, b: 1} -> {a: 2, b: 1} -> {a: 2, b: 0} -> {a: 2, b: 0, c: 3}"
   ]
  },
  {
   "cell_type": "code",
   "execution_count": null,
   "metadata": {},
   "outputs": [],
   "source": [
    "## Numpy"
   ]
  },
  {
   "cell_type": "markdown",
   "metadata": {},
   "source": [
    "## Numpy"
   ]
  },
  {
   "cell_type": "markdown",
   "metadata": {},
   "source": []
  },
  {
   "cell_type": "code",
   "execution_count": null,
   "metadata": {},
   "outputs": [
    {
     "data": {
      "text/plain": [
       "array([[185760, 185761, 185762, 185763],\n",
       "       [516812, 516813, 516814, 516815],\n",
       "       [994952, 994953, 994954, 994955],\n",
       "       [952720, 952721, 952722, 952723],\n",
       "       [457604, 457605, 457606, 457607]])"
      ]
     },
     "execution_count": null,
     "metadata": {},
     "output_type": "execute_result"
    }
   ],
   "source": [
    "rng = np.random.default_rng()\n",
    "functions = [\n",
    "    lambda a: rng.choice(a, axis = 0, size=5)\n",
    "]\n",
    "pipeline = make_pipeline(functions)\n",
    "a_ = np.arange(1_000_000).reshape((-1, 4))\n",
    "pipeline(a_)\n"
   ]
  },
  {
   "cell_type": "code",
   "execution_count": null,
   "metadata": {},
   "outputs": [],
   "source": []
  },
  {
   "cell_type": "markdown",
   "metadata": {},
   "source": [
    "## Dataclasses"
   ]
  },
  {
   "cell_type": "code",
   "execution_count": null,
   "metadata": {},
   "outputs": [
    {
     "data": {
      "text/plain": [
       "ExperimentalData(observations=[488679, 731209, 353808, 16931, 952533, 31153, 764214, 586842, 205913, 199552], conditions=[0, 1, 2, 3, 4, 5, 6, 7, 8, 9, 10, 11, 12, 13, 14, 15, 16, 17, 18, 19])"
      ]
     },
     "execution_count": null,
     "metadata": {},
     "output_type": "execute_result"
    }
   ],
   "source": [
    "from dataclasses import dataclass, replace\n",
    "\n",
    "@dataclass(frozen=True)\n",
    "class ExperimentalData:\n",
    "    \"\"\"Class for keeping track of an item in inventory.\"\"\"\n",
    "    observations: list\n",
    "    conditions: list\n",
    "\n",
    "\n",
    "functions = [\n",
    "    lambda ed: replace(ed, observations=choices(ed.observations, k=10))\n",
    "]\n",
    "\n",
    "pipeline = make_pipeline(functions)\n",
    "pipeline(\n",
    " ExperimentalData(\n",
    "    observations=list(range(1_000_000)),\n",
    "    conditions=list(range(20)))\n",
    ")"
   ]
  },
  {
   "cell_type": "code",
   "execution_count": null,
   "metadata": {},
   "outputs": [],
   "source": []
  }
 ],
 "metadata": {
  "colab": {
   "provenance": []
  },
  "kernelspec": {
   "display_name": "Python 3 (ipykernel)",
   "language": "python",
   "name": "python3"
  },
  "language_info": {
   "codemirror_mode": {
    "name": "ipython",
    "version": 3
   },
   "file_extension": ".py",
   "mimetype": "text/x-python",
   "name": "python",
   "nbconvert_exporter": "python",
   "pygments_lexer": "ipython3"
  }
 },
 "nbformat": 4,
 "nbformat_minor": 0
}
