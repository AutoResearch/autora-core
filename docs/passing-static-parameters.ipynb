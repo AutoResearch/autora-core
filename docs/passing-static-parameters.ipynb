{
 "cells": [
  {
   "cell_type": "markdown",
   "source": [
    "# Passing Static Parameters\n",
    "\n",
    "Aim: pass parameters to the cycle components, when they are needed.\n"
   ],
   "metadata": {
    "collapsed": false
   }
  },
  {
   "cell_type": "code",
   "execution_count": 18,
   "outputs": [],
   "source": [
    "import numpy as np\n",
    "import pandas as pd\n",
    "from autora.experimentalist.pipeline import make_pipeline\n",
    "from autora.variable import VariableCollection, Variable\n",
    "from sklearn.linear_model import LinearRegression\n",
    "\n",
    "from autora_workflow import Cycle"
   ],
   "metadata": {
    "collapsed": false,
    "ExecuteTime": {
     "start_time": "2023-04-21T09:51:23.928301Z",
     "end_time": "2023-04-21T09:51:23.932204Z"
    }
   }
  },
  {
   "cell_type": "markdown",
   "source": [
    "Here we have an experimentalist which takes a parameter:"
   ],
   "metadata": {
    "collapsed": false
   }
  },
  {
   "cell_type": "code",
   "execution_count": 31,
   "outputs": [],
   "source": [
    "uniform_random_rng = np.random.default_rng(180)\n",
    "def uniform_random_sampler(n):\n",
    "    new_conditions = uniform_random_rng.uniform(low=0, high=11, size=n)\n",
    "    conditions_df = pd.DataFrame({\"x\": new_conditions})\n",
    "    return conditions_df\n",
    "example_experimentalist_with_parameters = make_pipeline([uniform_random_sampler])"
   ],
   "metadata": {
    "collapsed": false,
    "ExecuteTime": {
     "start_time": "2023-04-21T09:52:39.502366Z",
     "end_time": "2023-04-21T09:52:39.511167Z"
    }
   }
  },
  {
   "cell_type": "code",
   "execution_count": 47,
   "outputs": [
    {
     "data": {
      "text/plain": "          x\n0  2.285666",
      "text/html": "<div>\n<style scoped>\n    .dataframe tbody tr th:only-of-type {\n        vertical-align: middle;\n    }\n\n    .dataframe tbody tr th {\n        vertical-align: top;\n    }\n\n    .dataframe thead th {\n        text-align: right;\n    }\n</style>\n<table border=\"1\" class=\"dataframe\">\n  <thead>\n    <tr style=\"text-align: right;\">\n      <th></th>\n      <th>x</th>\n    </tr>\n  </thead>\n  <tbody>\n    <tr>\n      <th>0</th>\n      <td>2.285666</td>\n    </tr>\n  </tbody>\n</table>\n</div>"
     },
     "execution_count": 47,
     "metadata": {},
     "output_type": "execute_result"
    }
   ],
   "source": [
    "example_experimentalist_with_parameters(**{\"uniform_random_sampler\": {\"n\": 1}})"
   ],
   "metadata": {
    "collapsed": false,
    "ExecuteTime": {
     "start_time": "2023-04-21T09:56:02.541582Z",
     "end_time": "2023-04-21T09:56:02.547193Z"
    }
   }
  },
  {
   "cell_type": "code",
   "execution_count": 48,
   "outputs": [],
   "source": [
    "def ground_truth(x):\n",
    "    return x + 1\n",
    "metadata = VariableCollection(\n",
    "   independent_variables=[Variable(name=\"x\", allowed_values=range(11))],\n",
    "   dependent_variables=[Variable(name=\"y\", value_range=(-20, 20))],\n",
    "   )\n",
    "example_experimentalist = make_pipeline([metadata.independent_variables[0].allowed_values])\n",
    "\n",
    "def get_example_synthetic_experiment_runner():\n",
    "    rng = np.random.default_rng(seed=180)\n",
    "    def runner(x):\n",
    "        return ground_truth(x) + rng.normal(0, 0.1, x.shape)\n",
    "    def as_dataframe(conditions_df: pd.DataFrame):\n",
    "        observations_df = conditions_df.copy()\n",
    "        observations_df[\"y\"] = runner(conditions_df[\"x\"])\n",
    "        return observations_df\n",
    "    return as_dataframe\n",
    "\n",
    "example_synthetic_experiment_runner = get_example_synthetic_experiment_runner()\n",
    "example_theorist = LinearRegression()"
   ],
   "metadata": {
    "collapsed": false,
    "ExecuteTime": {
     "start_time": "2023-04-21T09:56:02.771887Z",
     "end_time": "2023-04-21T09:56:02.776589Z"
    }
   }
  },
  {
   "cell_type": "markdown",
   "source": [
    "The cycle can handle that using the `params` keyword:"
   ],
   "metadata": {
    "collapsed": false
   }
  },
  {
   "cell_type": "code",
   "execution_count": 49,
   "outputs": [
    {
     "data": {
      "text/plain": "           x\n0   1.955397\n1   5.800231\n2   3.270079\n3  10.583823\n4   9.456660\n5   2.217216\n6   6.567223",
      "text/html": "<div>\n<style scoped>\n    .dataframe tbody tr th:only-of-type {\n        vertical-align: middle;\n    }\n\n    .dataframe tbody tr th {\n        vertical-align: top;\n    }\n\n    .dataframe thead th {\n        text-align: right;\n    }\n</style>\n<table border=\"1\" class=\"dataframe\">\n  <thead>\n    <tr style=\"text-align: right;\">\n      <th></th>\n      <th>x</th>\n    </tr>\n  </thead>\n  <tbody>\n    <tr>\n      <th>0</th>\n      <td>1.955397</td>\n    </tr>\n    <tr>\n      <th>1</th>\n      <td>5.800231</td>\n    </tr>\n    <tr>\n      <th>2</th>\n      <td>3.270079</td>\n    </tr>\n    <tr>\n      <th>3</th>\n      <td>10.583823</td>\n    </tr>\n    <tr>\n      <th>4</th>\n      <td>9.456660</td>\n    </tr>\n    <tr>\n      <th>5</th>\n      <td>2.217216</td>\n    </tr>\n    <tr>\n      <th>6</th>\n      <td>6.567223</td>\n    </tr>\n  </tbody>\n</table>\n</div>"
     },
     "execution_count": 49,
     "metadata": {},
     "output_type": "execute_result"
    }
   ],
   "source": [
    "cycle_with_parameters = Cycle(\n",
    "    metadata=metadata,\n",
    "    theorist=example_theorist,\n",
    "    experimentalist=example_experimentalist_with_parameters,\n",
    "    experiment_runner=example_synthetic_experiment_runner,\n",
    "    params={\"experimentalist\": {\"uniform_random_sampler\": {\"n\": 7}}}\n",
    ")\n",
    "cycle_with_parameters.run()\n",
    "cycle_with_parameters.data.conditions[-1]"
   ],
   "metadata": {
    "collapsed": false,
    "ExecuteTime": {
     "start_time": "2023-04-21T09:56:04.232912Z",
     "end_time": "2023-04-21T09:56:04.248701Z"
    }
   }
  },
  {
   "cell_type": "markdown",
   "source": [
    "For the next cycle, if we wish, we can change the parameter value:"
   ],
   "metadata": {
    "collapsed": false
   }
  },
  {
   "cell_type": "code",
   "execution_count": 50,
   "outputs": [
    {
     "data": {
      "text/plain": "          x\n0  3.568868\n1  4.526779",
      "text/html": "<div>\n<style scoped>\n    .dataframe tbody tr th:only-of-type {\n        vertical-align: middle;\n    }\n\n    .dataframe tbody tr th {\n        vertical-align: top;\n    }\n\n    .dataframe thead th {\n        text-align: right;\n    }\n</style>\n<table border=\"1\" class=\"dataframe\">\n  <thead>\n    <tr style=\"text-align: right;\">\n      <th></th>\n      <th>x</th>\n    </tr>\n  </thead>\n  <tbody>\n    <tr>\n      <th>0</th>\n      <td>3.568868</td>\n    </tr>\n    <tr>\n      <th>1</th>\n      <td>4.526779</td>\n    </tr>\n  </tbody>\n</table>\n</div>"
     },
     "execution_count": 50,
     "metadata": {},
     "output_type": "execute_result"
    }
   ],
   "source": [
    "cycle_with_parameters.params[\"experimentalist\"][\"uniform_random_sampler\"][\"n\"] = 2\n",
    "cycle_with_parameters.run()\n",
    "cycle_with_parameters.data.conditions[-1]\n"
   ],
   "metadata": {
    "collapsed": false,
    "ExecuteTime": {
     "start_time": "2023-04-21T09:56:12.962113Z",
     "end_time": "2023-04-21T09:56:12.974405Z"
    }
   }
  }
 ],
 "metadata": {
  "kernelspec": {
   "display_name": "Python 3",
   "language": "python",
   "name": "python3"
  },
  "language_info": {
   "codemirror_mode": {
    "name": "ipython",
    "version": 2
   },
   "file_extension": ".py",
   "mimetype": "text/x-python",
   "name": "python",
   "nbconvert_exporter": "python",
   "pygments_lexer": "ipython2",
   "version": "2.7.6"
  }
 },
 "nbformat": 4,
 "nbformat_minor": 0
}
