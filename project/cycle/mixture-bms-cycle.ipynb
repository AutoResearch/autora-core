{
 "cells": [
  {
   "cell_type": "markdown",
   "source": [
    "# Cycle\n",
    "This cycle uses mixture experimentalist, BMS theorist, and equation sampler as a source for the ground truth. "
   ],
   "metadata": {
    "collapsed": false
   },
   "id": "b5f4e05f1a809942"
  },
  {
   "cell_type": "code",
   "execution_count": 402,
   "outputs": [],
   "source": [
    "import copy\n",
    "from dataclasses import dataclass, field\n",
    "from typing import List\n",
    "\n",
    "from sklearn.base import BaseEstimator\n",
    "from sklearn.linear_model import LinearRegression\n",
    "from sklearn.preprocessing import PolynomialFeatures\n",
    "from sklearn.pipeline import make_pipeline\n",
    "from sklearn.metrics import mean_absolute_error\n",
    "import numpy as np\n",
    "import math\n",
    "import pandas as pd\n",
    "from autora.variable import VariableCollection, Variable\n",
    "from autora.state.standard import StandardState\n",
    "from autora.state import on_state\n",
    "from autora.state.wrapper import state_fn_from_estimator\n",
    "from autora.theorist.bms import BMSRegressor\n",
    "from equation_tree import sample \n",
    "from equation_tree.tree import instantiate_constants\n",
    "from equation_tree.prior import DEFAULT_PRIOR_FUNCTIONS, DEFAULT_PRIOR_OPERATORS, \\\n",
    "    structure_prior_from_max_depth\n",
    "import pprint\n",
    "from autora.experiment_runner.synthetic.abstract.equation import equation_experiment\n",
    "from autora.experimentalist.mixture import sample as mixture_sample\n",
    "from autora.experimentalist.grid_ import grid_pool\n",
    "from autora.experimentalist.random_ import random_sample, random_pool\n",
    "from autora.state import Delta\n",
    "from autora.experimentalist.falsification import falsification_score_sample\n",
    "from autora.experimentalist.model_disagreement import model_disagreement_score_sample\n",
    "from autora.experimentalist.novelty import novelty_score_sample"
   ],
   "metadata": {
    "collapsed": false,
    "ExecuteTime": {
     "end_time": "2023-08-18T21:21:04.586860Z",
     "start_time": "2023-08-18T21:20:58.879962Z"
    }
   },
   "id": "aae58e596d506fd5"
  },
  {
   "cell_type": "code",
   "execution_count": 403,
   "outputs": [],
   "source": [
    "# SAMPLING\n",
    "N_CONDITIONS = 50000\n",
    "TEMPERATURE = 1.\n",
    "WEIGHTS = {'falsification':[.1, .1], 'novelty':[.5, .5], 'disagreement': [.3, .3]}\n",
    "NUM_SAMPLES = 100\n",
    "POOL_RANGE = 5\n",
    "\n",
    "# EQUATION\n",
    "MAX_TREE_DEPTH = 4\n",
    "MAX_NUM_VARIABLES = 4\n",
    "NUM_POOL_SAMPLES = 10_000\n",
    "CONSTANT_SIZE = 5\n",
    "\n",
    "# SIMULATION\n",
    "EPOCHS = 100\n",
    "CYCLES = 10\n"
   ],
   "metadata": {
    "collapsed": false,
    "ExecuteTime": {
     "end_time": "2023-08-18T21:21:04.601856Z",
     "start_time": "2023-08-18T21:21:04.589269Z"
    }
   },
   "id": "7c265bc12bf17cde"
  },
  {
   "cell_type": "markdown",
   "source": [
    "## Ground truth\n",
    "Sampling the ground truth for this simulation."
   ],
   "metadata": {
    "collapsed": false
   },
   "id": "f3a6feea4a22cbdc"
  },
  {
   "cell_type": "code",
   "execution_count": 404,
   "outputs": [
    {
     "name": "stdout",
     "output_type": "stream",
     "text": [
      "{'[0, 1, 1, 2]': 0.16666666666666666,\n",
      " '[0, 1, 1]': 0.16666666666666666,\n",
      " '[0, 1, 2, 1]': 0.16666666666666666,\n",
      " '[0, 1, 2, 2]': 0.16666666666666666,\n",
      " '[0, 1, 2, 3]': 0.16666666666666666,\n",
      " '[0, 1, 2]': 0.16666666666666666}\n",
      "{'abs': 0.14285714285714285,\n",
      " 'cos': 0.14285714285714285,\n",
      " 'exp': 0.14285714285714285,\n",
      " 'log': 0.14285714285714285,\n",
      " 'sin': 0.14285714285714285,\n",
      " 'sqrt': 0.14285714285714285,\n",
      " 'tan': 0.14285714285714285}\n",
      "{'*': 0.2, '+': 0.2, '-': 0.2, '/': 0.2, '^': 0.2}\n"
     ]
    }
   ],
   "source": [
    "structure_prior = structure_prior_from_max_depth(MAX_TREE_DEPTH)\n",
    "pprint.pprint(structure_prior)\n",
    "pprint.pprint(DEFAULT_PRIOR_FUNCTIONS)\n",
    "pprint.pprint(DEFAULT_PRIOR_OPERATORS)\n",
    "feature_prior = {'constants': .3, 'variables': .7}\n",
    "prior = {'functions': DEFAULT_PRIOR_FUNCTIONS, 'operators': DEFAULT_PRIOR_OPERATORS, 'structures': structure_prior, 'features': feature_prior}"
   ],
   "metadata": {
    "collapsed": false,
    "ExecuteTime": {
     "end_time": "2023-08-18T21:21:51.585749Z",
     "start_time": "2023-08-18T21:21:10.973462Z"
    }
   },
   "id": "80b8e511eb8fdd7"
  },
  {
   "cell_type": "code",
   "execution_count": 405,
   "outputs": [
    {
     "name": "stderr",
     "output_type": "stream",
     "text": [
      "Processing: 100%|██████████| 1/1 [00:00<00:00, 95.15iteration/s]\n"
     ]
    },
    {
     "data": {
      "text/plain": "x_2*sin(x_1)",
      "text/latex": "$\\displaystyle x_{2} \\sin{\\left(x_{1} \\right)}$"
     },
     "execution_count": 405,
     "metadata": {},
     "output_type": "execute_result"
    }
   ],
   "source": [
    "equation_raw = sample(n=1, prior=prior, max_num_variables=MAX_NUM_VARIABLES)\n",
    "equation_raw[0].sympy_expr"
   ],
   "metadata": {
    "collapsed": false,
    "ExecuteTime": {
     "end_time": "2023-08-18T21:21:52.084471Z",
     "start_time": "2023-08-18T21:21:51.579178Z"
    }
   },
   "id": "6c8c756e3751846"
  },
  {
   "cell_type": "code",
   "execution_count": 406,
   "outputs": [
    {
     "data": {
      "text/plain": "x_2*sin(x_1)",
      "text/latex": "$\\displaystyle x_{2} \\sin{\\left(x_{1} \\right)}$"
     },
     "execution_count": 406,
     "metadata": {},
     "output_type": "execute_result"
    }
   ],
   "source": [
    "equation = instantiate_constants(equation_raw[0], lambda: np.random.rand()*CONSTANT_SIZE)\n",
    "equation.sympy_expr\n"
   ],
   "metadata": {
    "collapsed": false,
    "ExecuteTime": {
     "end_time": "2023-08-18T21:21:52.107623Z",
     "start_time": "2023-08-18T21:21:52.092167Z"
    }
   },
   "id": "a3e2a152c68efb47"
  },
  {
   "cell_type": "markdown",
   "source": [
    "Defining the metadata based on the sampled ground truth."
   ],
   "metadata": {
    "collapsed": false
   },
   "id": "864f712c69755491"
  },
  {
   "cell_type": "code",
   "execution_count": 407,
   "outputs": [],
   "source": [
    "independent_variables = []\n",
    "for v in range(equation.n_variables_unique):\n",
    "    independent_variables.append(Variable(equation.variables_unique[v],value_range=(-POOL_RANGE, POOL_RANGE)))\n",
    "\n",
    "variables=VariableCollection(\n",
    "        independent_variables=independent_variables,\n",
    "        dependent_variables=[Variable(\"y\")]\n",
    "    )"
   ],
   "metadata": {
    "collapsed": false,
    "ExecuteTime": {
     "end_time": "2023-08-18T21:21:52.122568Z",
     "start_time": "2023-08-18T21:21:52.104532Z"
    }
   },
   "id": "7665db3926d7533"
  },
  {
   "cell_type": "markdown",
   "source": [
    "Defining experiment runner from the equation and the variable collection"
   ],
   "metadata": {
    "collapsed": false
   },
   "id": "56c012f0ee045e7c"
  },
  {
   "cell_type": "code",
   "execution_count": 408,
   "outputs": [],
   "source": [
    "experiment = equation_experiment(equation.sympy_expr, variables.independent_variables, variables.dependent_variables[0], rename_output_columns=False)"
   ],
   "metadata": {
    "collapsed": false,
    "ExecuteTime": {
     "end_time": "2023-08-18T21:21:52.159996Z",
     "start_time": "2023-08-18T21:21:52.116017Z"
    }
   },
   "id": "69c883bd50d1281"
  },
  {
   "cell_type": "markdown",
   "source": [
    "### Defining the state\n",
    "We can define an initial state for our discovery problem based on the variable specification above. Wrapping experiment runner into the state."
   ],
   "metadata": {
    "collapsed": false
   },
   "id": "8c1633ff8518b07e"
  },
  {
   "cell_type": "code",
   "execution_count": 409,
   "outputs": [],
   "source": [
    "@dataclass(frozen=True)\n",
    "class ExtendedState(StandardState):\n",
    "    models_bms: List[BaseEstimator] = field(\n",
    "        default_factory=list,\n",
    "        metadata={\"delta\": \"extend\"},\n",
    "    )\n",
    "    models_linear: List[BaseEstimator] = field(\n",
    "        default_factory=list,\n",
    "        metadata={\"delta\": \"extend\"},\n",
    "    )\n",
    "    models_polynom: List[BaseEstimator] = field(\n",
    "        default_factory=list,\n",
    "        metadata={\"delta\": \"extend\"},\n",
    "    )\n",
    "    rejections: List[int] = field(\n",
    "        default_factory=list,\n",
    "        metadata={\"delta\": \"extend\"},\n",
    "    )\n",
    "    mad: List[float] = field(\n",
    "        default_factory=list,\n",
    "        metadata={\"delta\": \"extend\"},\n",
    "    )\n",
    "\n",
    "state = ExtendedState(\n",
    "    variables=variables\n",
    ")\n",
    "runner_on_state = on_state(experiment.experiment_runner, output=[\"experiment_data\"])"
   ],
   "metadata": {
    "collapsed": false,
    "ExecuteTime": {
     "end_time": "2023-08-18T21:21:52.160456Z",
     "start_time": "2023-08-18T21:21:52.136520Z"
    }
   },
   "id": "5ffb8b8592774cce"
  },
  {
   "cell_type": "markdown",
   "source": [
    "### Pooler"
   ],
   "metadata": {
    "collapsed": false
   },
   "id": "dad025cec3e1d7c3"
  },
  {
   "cell_type": "code",
   "execution_count": 410,
   "outputs": [],
   "source": [
    "@on_state()\n",
    "def experimentalist_pooler(variables, equation):\n",
    "    conditions_ = pd.DataFrame(columns=[v.name for v in variables.independent_variables])\n",
    "    i = 0\n",
    "    while i < 1_000_000 and len(conditions_.index) < NUM_POOL_SAMPLES:\n",
    "        _sample = random_pool(variables, NUM_POOL_SAMPLES)\n",
    "        evaluation = equation.evaluate(_sample)\n",
    "        bad_indices = np.where(np.isnan(evaluation) | np.isinf(evaluation))[0]\n",
    "        _sample = _sample.drop(bad_indices)\n",
    "        if np.isnan(evaluation).any() or np.isinf(evaluation).any():\n",
    "            i+=len(bad_indices)\n",
    "        conditions_ = pd.concat([conditions_,_sample], ignore_index=True)\n",
    "    if i >= 1_000_000:\n",
    "        return None\n",
    "    conditions_ = conditions_.head(NUM_POOL_SAMPLES)\n",
    "    return Delta(conditions=conditions_, rejections=[i])"
   ],
   "metadata": {
    "collapsed": false
   }
  },
  {
   "cell_type": "markdown",
   "source": [
    "## Mixture experimentalist\n",
    "Defining the mixture experimentalist and wrapping it into the state"
   ],
   "metadata": {
    "collapsed": false
   },
   "id": "b7f3d11dc9b0cf8d"
  },
  {
   "cell_type": "code",
   "execution_count": 411,
   "outputs": [],
   "source": [
    "\"\"\"\n",
    "Mixture Experimentalist Sampler\n",
    "\"\"\"\n",
    "\n",
    "import numpy as np\n",
    "from typing import Optional, Union\n",
    "\n",
    "import pandas as pd\n",
    "\n",
    "\n",
    "def adjust_distribution(p_, temperature):\n",
    "    # temperature cannot be 0\n",
    "    assert temperature != 0, 'Temperature cannot be 0'\n",
    "    p = np.array(p_)\n",
    "    # If the temperature is very low (close to 0), then the sampling will become almost deterministic, picking the event with the highest probability.\n",
    "    # If the temperature is very high, then the sampling will be closer to uniform, with all events having roughly equal probability.\n",
    "\n",
    "    p = p / np.sum(np.abs(p))  # Normalizing the initial distribution\n",
    "\n",
    "    p = np.exp(p / temperature)\n",
    "    final_p = p / np.sum(p)  # Normalizing the final distribution\n",
    "    return final_p\n",
    "\n",
    "\n",
    "def sample(conditions: Union[pd.DataFrame, np.ndarray], temperature: float,\n",
    "                   samplers: list, params: dict,\n",
    "                   num_samples: Optional[int] = None) -> pd.DataFrame:\n",
    "    \"\"\"\n",
    "\n",
    "    Args:\n",
    "        conditions: pool of experimental conditions to evaluate: pd.Dataframe\n",
    "        temperature: how random is selection of conditions (cannot be 0; (0:1) - the choices are more deterministic than the choices made wrt\n",
    "        samplers: tuple containing sampler functions, their names, and weights\n",
    "        for sampler functions that return both positive and negative scores, user can provide a list with two weights: the first one will be applied to positive scores, the second one -- to the negative\n",
    "        params: nested dictionary. keys correspond to the sampler function names (same as provided in samplers),\n",
    "        values correspond to the dictionaries of function arguments (argument name: its value)\n",
    "        num_samples: number of experimental conditions to select\n",
    "\n",
    "    Returns:\n",
    "        Sampled pool of experimental conditions with the scores attached to them\n",
    "    \"\"\"\n",
    "\n",
    "    condition_pool = pd.DataFrame(conditions)\n",
    "\n",
    "    rankings = pd.DataFrame()\n",
    "    mixture_scores = np.zeros(len(condition_pool))\n",
    "    ## getting rankings and weighted scores from each function\n",
    "    for (function, name, weight) in samplers:\n",
    "\n",
    "        sampler_params = params[name]\n",
    "        pd_ranking = function(conditions=condition_pool, **sampler_params)\n",
    "\n",
    "        # except:\n",
    "        #     pd_ranking = function(conditions=condition_pool)\n",
    "        # sorting by index\n",
    "        pd_ranking = pd_ranking.sort_index()\n",
    "        # if only one weight is provided, use it for both negative and positive dimensions\n",
    "        if isinstance(weight, float) or isinstance(weight, int):\n",
    "            pd_ranking[\"score\"] = pd_ranking[\"score\"] * weight\n",
    "        else:\n",
    "            if len(pd_ranking[\"score\"] < 0) > 0 and len(pd_ranking[\"score\"] > 0) > 0:  # there are both positive and negative values\n",
    "                pd_ranking.loc[pd_ranking[\"score\"] > 0][\"score\"] = pd_ranking.loc[pd_ranking[\"score\"] > 0][\"score\"] * weight[0]  # positive dimension gets the first weight\n",
    "                pd_ranking.loc[pd_ranking[\"score\"] < 0][\"score\"] = pd_ranking.loc[pd_ranking[\"score\"] < 0][\"score\"] * weight[1]  # negative dimension gets the second weight\n",
    "            else:\n",
    "                pd_ranking[\"score\"] = pd_ranking[\"score\"] * weight[0]\n",
    "\n",
    "        pd_ranking.rename(columns={\"score\": f\"{name}_score\"}, inplace=True)\n",
    "        # sum_scores are arranged based on the original conditions_ indices\n",
    "        mixture_scores = mixture_scores + pd_ranking[f\"{name}_score\"]\n",
    "\n",
    "        rankings = pd.merge(rankings, pd_ranking, left_index=True, right_index=True, how=\"outer\")\n",
    "\n",
    "    # adjust mixture scores wrt temperature\n",
    "    weighted_mixture_scores_adjusted = adjust_distribution(mixture_scores, temperature)\n",
    "\n",
    "    if num_samples is None:\n",
    "        num_samples = condition_pool.shape[0]\n",
    "\n",
    "    condition_indices = np.random.choice(np.arange(len(condition_pool)), num_samples,\n",
    "                                         p=weighted_mixture_scores_adjusted, replace=False)\n",
    "    conditions_ = condition_pool.iloc[condition_indices]\n",
    "    conditions_[\"score\"] = mixture_scores\n",
    "\n",
    "    return conditions_\n",
    "\n",
    "\n",
    "mixture_sample_test = sample"
   ],
   "metadata": {
    "collapsed": false
   }
  },
  {
   "cell_type": "code",
   "execution_count": 412,
   "outputs": [],
   "source": [
    "def get_best_model(models, X, y):\n",
    "    mads = []\n",
    "    for m in models:\n",
    "        prediction = m.predict(X)\n",
    "        mad = mean_absolute_error(y, prediction)\n",
    "        mads.append(mad)\n",
    "    min_value = min(mads)\n",
    "    min_index = mads.index(min_value)\n",
    "    mads[min_index] = math.inf\n",
    "    min_value_second = min(mads)\n",
    "    min_index_second = mads.index(min_value_second)\n",
    "    return models[min_index], models[min_index_second], min_value\n"
   ],
   "metadata": {
    "collapsed": false
   }
  },
  {
   "cell_type": "code",
   "execution_count": 413,
   "outputs": [],
   "source": [
    "@on_state()\n",
    "def experimentalist_sample(conditions,\n",
    "                           models,\n",
    "                           models_bms,\n",
    "                           models_linear,\n",
    "                           models_polynom,\n",
    "                           experiment_data,\n",
    "                           variables,\n",
    "                           temperature,\n",
    "                           weights,\n",
    "                           num_samples):\n",
    "    if models is None or experiment_data is None:\n",
    "        print('First cycle: Using random sampler')\n",
    "        conditions_ = random_sample(conditions, num_samples)\n",
    "        mad = None\n",
    "    else:\n",
    "        experiment_conditions = experiment_data[[v.name for v in variables.independent_variables]]\n",
    "        experiment_observations = experiment_data[[v.name for v in variables.dependent_variables]]\n",
    "        params_ = {} #copy.deepcopy(params)\n",
    "        params_[\"falsification\"] = {\"reference_conditions\": experiment_conditions, \"reference_observations\": experiment_observations, \"model\": models[-1]}\n",
    "\n",
    "        params_[\"novelty\"] = {\"reference_conditions\": experiment_conditions}\n",
    "        models_to_consider = [models_bms[-1], models_linear[-1], models_polynom[-1]]\n",
    "        best_model, second_best_model, mad = get_best_model(models_to_consider, experiment_conditions, experiment_observations)\n",
    "\n",
    "        params_[\"disagreement\"] = {\"models\": [best_model, second_best_model], \"num_samples\": NUM_POOL_SAMPLES}\n",
    "\n",
    "        samplers = [\n",
    "            [novelty_score_sample, \"novelty\", weights[\"novelty\"]],\n",
    "            [falsification_score_sample, \"falsification\", weights[\"falsification\"]],\n",
    "            [model_disagreement_score_sample, \"disagreement\", weights[\"disagreement\"]]\n",
    "        ]\n",
    "\n",
    "        conditions_ = mixture_sample_test(conditions, temperature, samplers, params_, num_samples)\n",
    "        conditions_ = conditions_.drop(\"score\", axis = 1)\n",
    "    #d = Delta(conditions=conditions)\n",
    "    d = Delta(conditions = conditions_, mads=[mad])\n",
    "    return d"
   ],
   "metadata": {
    "collapsed": false,
    "ExecuteTime": {
     "end_time": "2023-08-18T16:58:02.315542Z",
     "start_time": "2023-08-18T16:58:02.306342Z"
    }
   },
   "id": "2c29d738da9e6e0"
  },
  {
   "cell_type": "markdown",
   "source": [
    "## BMS theorist\n",
    "Defining the BMS theorist and wrapping it into the state"
   ],
   "metadata": {
    "collapsed": false
   },
   "id": "eb2c0c9f94848d26"
  },
  {
   "cell_type": "code",
   "execution_count": 414,
   "outputs": [],
   "source": [
    "@on_state()\n",
    "def bms_theorist(experiment_data: pd.DataFrame, variables: VariableCollection, **kwargs):\n",
    "    ivs = [v.name for v in variables.independent_variables]\n",
    "    dvs = [v.name for v in variables.dependent_variables]\n",
    "    X, y = experiment_data[ivs], experiment_data[dvs]\n",
    "    new_model = BMSRegressor(epochs=EPOCHS).set_params(**kwargs).fit(X, y)\n",
    "    return Delta(models_bms=[new_model])\n",
    "\n",
    "@on_state()\n",
    "def linear_theorist(experiment_data: pd.DataFrame, variables: VariableCollection, **kwargs):\n",
    "    ivs = [v.name for v in variables.independent_variables]\n",
    "    dvs = [v.name for v in variables.dependent_variables]\n",
    "    X, y = experiment_data[ivs], experiment_data[dvs]\n",
    "    new_model = LinearRegression().set_params(**kwargs).fit(X, y)\n",
    "    return Delta(models_linear=[new_model])\n",
    "\n",
    "\n",
    "def PolynomialRegression(degree=3, **kwargs):\n",
    "    return make_pipeline(PolynomialFeatures(degree), LinearRegression(**kwargs))\n",
    "\n",
    "\n",
    "@on_state()\n",
    "def polynomial_theorist(experiment_data: pd.DataFrame, variables: VariableCollection, **kwargs):\n",
    "    ivs = [v.name for v in variables.independent_variables]\n",
    "    dvs = [v.name for v in variables.dependent_variables]\n",
    "    X, y = experiment_data[ivs], experiment_data[dvs]\n",
    "    new_model = PolynomialRegression()\n",
    "    new_model.fit(X, y)\n",
    "    return Delta(models_polynom=[new_model])\n"
   ],
   "metadata": {
    "collapsed": false
   },
   "id": "77ad50b2bc7fe0b2"
  },
  {
   "cell_type": "code",
   "execution_count": 415,
   "outputs": [],
   "source": [
    "@on_state()\n",
    "def best_model(models_bms, models_linear, models_polynom, experiment_data, variables):\n",
    "    ivs = [v.name for v in variables.independent_variables]\n",
    "    dvs = [v.name for v in variables.dependent_variables]\n",
    "    X, y = experiment_data[ivs], experiment_data[dvs]\n",
    "    prediction_bms = models_bms[-1].predict(X)\n",
    "    prediction_linear = models_linear[-1].predict(X)\n",
    "    prediction_polynomial = models_polynom[-1].predict(X)\n",
    "    mad_bms = mean_absolute_error(y, prediction_bms)\n",
    "    mad_linear = mean_absolute_error(y, prediction_linear)\n",
    "    mad_poly = mean_absolute_error(y, prediction_polynomial)\n",
    "    if mad_bms <= mad_linear and mad_bms <= mad_poly:\n",
    "        new_model = models_bms[-1]\n",
    "    elif mad_linear <= mad_bms and mad_linear <= mad_poly:\n",
    "        new_model = models_linear[-1]\n",
    "    elif mad_poly <= mad_linear and mad_poly <= mad_bms:\n",
    "        new_model = models_polynom[-1]\n",
    "\n",
    "    return Delta(model=new_model)\n"
   ],
   "metadata": {
    "collapsed": false
   }
  },
  {
   "cell_type": "code",
   "execution_count": 417,
   "outputs": [],
   "source": [
    "def cycle(s):\n",
    "    s_pool = experimentalist_pooler(s, equation=equation)\n",
    "\n",
    "    s_conditions = experimentalist_sample(s_pool, temperature=TEMPERATURE, weights=WEIGHTS, num_samples=NUM_SAMPLES)\n",
    "    s_run = runner_on_state(s_conditions)\n",
    "    s_theory = bms_theorist(s_run)\n",
    "    s_theory = linear_theorist(s_theory)\n",
    "    s_theory = polynomial_theorist(s_theory)\n",
    "    s_best = best_model(s_theory)\n",
    "    return s_best\n"
   ],
   "metadata": {
    "collapsed": false
   }
  },
  {
   "cell_type": "code",
   "execution_count": 418,
   "outputs": [
    {
     "name": "stderr",
     "output_type": "stream",
     "text": [
      "INFO:autora.theorist.bms.regressor:BMS fitting started\n"
     ]
    },
    {
     "name": "stdout",
     "output_type": "stream",
     "text": [
      "First cycle: Using random sampler\n"
     ]
    },
    {
     "name": "stderr",
     "output_type": "stream",
     "text": [
      "100%|██████████| 100/100 [00:02<00:00, 44.87it/s]\n",
      "INFO:autora.theorist.bms.regressor:BMS fitting finished\n"
     ]
    },
    {
     "name": "stdout",
     "output_type": "stream",
     "text": [
      "ExtendedState(variables=VariableCollection(independent_variables=[Variable(name='x_1', value_range=(-5, 5), allowed_values=None, units='', type=<ValueType.REAL: 'real'>, variable_label='', rescale=1, is_covariate=False), Variable(name='x_2', value_range=(-5, 5), allowed_values=None, units='', type=<ValueType.REAL: 'real'>, variable_label='', rescale=1, is_covariate=False)], dependent_variables=[Variable(name='y', value_range=None, allowed_values=None, units='', type=<ValueType.REAL: 'real'>, variable_label='', rescale=1, is_covariate=False)], covariates=[]), conditions=           x_1       x_2\n",
      "6024 -4.972588  1.246799\n",
      "9431 -3.476911  2.086347\n",
      "1139  3.763949 -3.922504\n",
      "4424  1.875390  3.138668\n",
      "6284  0.000512  2.228118\n",
      "...        ...       ...\n",
      "6380  3.448111  3.694001\n",
      "58   -2.902460 -1.563460\n",
      "3728 -4.140809 -0.737536\n",
      "7444  4.361752  0.668926\n",
      "2094 -1.478860  2.005088\n",
      "\n",
      "[100 rows x 2 columns], experiment_data=           x_1       x_2         y\n",
      "6024 -4.972588  1.246799  1.198879\n",
      "9431 -3.476911  2.086347  0.705598\n",
      "1139  3.763949 -3.922504  2.269384\n",
      "4424  1.875390  3.138668  2.988833\n",
      "6284  0.000512  2.228118  0.001666\n",
      "...        ...       ...       ...\n",
      "6380  3.448111  3.694001 -1.094276\n",
      "58   -2.902460 -1.563460  0.368026\n",
      "3728 -4.140809 -0.737536 -0.611768\n",
      "7444  4.361752  0.668926 -0.638947\n",
      "2094 -1.478860  2.005088 -2.004009\n",
      "\n",
      "[100 rows x 3 columns], models=[Pipeline(steps=[('polynomialfeatures', PolynomialFeatures(degree=3)),\n",
      "                ('linearregression', LinearRegression())])], models_bms=[0.08], models_linear=[LinearRegression()], models_polynom=[Pipeline(steps=[('polynomialfeatures', PolynomialFeatures(degree=3)),\n",
      "                ('linearregression', LinearRegression())])], rejections=[0], mad=[])\n"
     ]
    },
    {
     "name": "stderr",
     "output_type": "stream",
     "text": [
      "INFO:autora.theorist.bms.regressor:BMS fitting started\n",
      "100%|██████████| 100/100 [00:02<00:00, 44.81it/s]\n",
      "INFO:autora.theorist.bms.regressor:BMS fitting finished\n"
     ]
    },
    {
     "name": "stdout",
     "output_type": "stream",
     "text": [
      "ExtendedState(variables=VariableCollection(independent_variables=[Variable(name='x_1', value_range=(-5, 5), allowed_values=None, units='', type=<ValueType.REAL: 'real'>, variable_label='', rescale=1, is_covariate=False), Variable(name='x_2', value_range=(-5, 5), allowed_values=None, units='', type=<ValueType.REAL: 'real'>, variable_label='', rescale=1, is_covariate=False)], dependent_variables=[Variable(name='y', value_range=None, allowed_values=None, units='', type=<ValueType.REAL: 'real'>, variable_label='', rescale=1, is_covariate=False)], covariates=[]), conditions=           x_1       x_2\n",
      "2521 -3.526926  0.867416\n",
      "78    1.940771 -1.529789\n",
      "1451 -4.586940  4.458852\n",
      "6292 -4.872850  1.188156\n",
      "9379  1.287893  2.660605\n",
      "...        ...       ...\n",
      "3322 -0.977152 -0.644851\n",
      "8253  1.471356  0.566655\n",
      "4267 -2.530962  3.447864\n",
      "5930  0.685021 -2.931624\n",
      "8847  0.823629  1.602749\n",
      "\n",
      "[100 rows x 2 columns], experiment_data=          x_1       x_2         y\n",
      "0   -4.972588  1.246799  1.198879\n",
      "1   -3.476911  2.086347  0.705598\n",
      "2    3.763949 -3.922504  2.269384\n",
      "3    1.875390  3.138668  2.988833\n",
      "4    0.000512  2.228118  0.001666\n",
      "..        ...       ...       ...\n",
      "195 -0.977152 -0.644851  0.541023\n",
      "196  1.471356  0.566655  0.574677\n",
      "197 -2.530962  3.447864 -1.988184\n",
      "198  0.685021 -2.931624 -1.860947\n",
      "199  0.823629  1.602749  1.185939\n",
      "\n",
      "[200 rows x 3 columns], models=[Pipeline(steps=[('polynomialfeatures', PolynomialFeatures(degree=3)),\n",
      "                ('linearregression', LinearRegression())]), Pipeline(steps=[('polynomialfeatures', PolynomialFeatures(degree=3)),\n",
      "                ('linearregression', LinearRegression())])], models_bms=[0.08, -0.13], models_linear=[LinearRegression(), LinearRegression()], models_polynom=[Pipeline(steps=[('polynomialfeatures', PolynomialFeatures(degree=3)),\n",
      "                ('linearregression', LinearRegression())]), Pipeline(steps=[('polynomialfeatures', PolynomialFeatures(degree=3)),\n",
      "                ('linearregression', LinearRegression())])], rejections=[0, 0], mad=[])\n"
     ]
    },
    {
     "name": "stderr",
     "output_type": "stream",
     "text": [
      "INFO:autora.theorist.bms.regressor:BMS fitting started\n",
      "100%|██████████| 100/100 [00:02<00:00, 41.44it/s]\n",
      "INFO:autora.theorist.bms.regressor:BMS fitting finished\n"
     ]
    },
    {
     "name": "stdout",
     "output_type": "stream",
     "text": [
      "ExtendedState(variables=VariableCollection(independent_variables=[Variable(name='x_1', value_range=(-5, 5), allowed_values=None, units='', type=<ValueType.REAL: 'real'>, variable_label='', rescale=1, is_covariate=False), Variable(name='x_2', value_range=(-5, 5), allowed_values=None, units='', type=<ValueType.REAL: 'real'>, variable_label='', rescale=1, is_covariate=False)], dependent_variables=[Variable(name='y', value_range=None, allowed_values=None, units='', type=<ValueType.REAL: 'real'>, variable_label='', rescale=1, is_covariate=False)], covariates=[]), conditions=           x_1       x_2\n",
      "2404 -3.278960 -3.518387\n",
      "6843 -1.859844  4.514991\n",
      "4047  0.430599  1.327597\n",
      "7092 -0.547253 -2.526311\n",
      "6802  0.646113  4.997263\n",
      "...        ...       ...\n",
      "2928 -4.267605  2.824307\n",
      "7806 -4.051484  1.667711\n",
      "695   1.701781  1.165968\n",
      "2065 -4.705109  2.584661\n",
      "2285  4.010731 -3.020411\n",
      "\n",
      "[100 rows x 2 columns], experiment_data=          x_1       x_2         y\n",
      "0   -4.972588  1.246799  1.198879\n",
      "1   -3.476911  2.086347  0.705598\n",
      "2    3.763949 -3.922504  2.269384\n",
      "3    1.875390  3.138668  2.988833\n",
      "4    0.000512  2.228118  0.001666\n",
      "..        ...       ...       ...\n",
      "295 -4.267605  2.824307  2.548596\n",
      "296 -4.051484  1.667711  1.318564\n",
      "297  1.701781  1.165968  1.160206\n",
      "298 -4.705109  2.584661  2.582252\n",
      "299  4.010731 -3.020411  2.316076\n",
      "\n",
      "[300 rows x 3 columns], models=[Pipeline(steps=[('polynomialfeatures', PolynomialFeatures(degree=3)),\n",
      "                ('linearregression', LinearRegression())]), Pipeline(steps=[('polynomialfeatures', PolynomialFeatures(degree=3)),\n",
      "                ('linearregression', LinearRegression())]), Pipeline(steps=[('polynomialfeatures', PolynomialFeatures(degree=3)),\n",
      "                ('linearregression', LinearRegression())])], models_bms=[0.08, -0.13, 0.02], models_linear=[LinearRegression(), LinearRegression(), LinearRegression()], models_polynom=[Pipeline(steps=[('polynomialfeatures', PolynomialFeatures(degree=3)),\n",
      "                ('linearregression', LinearRegression())]), Pipeline(steps=[('polynomialfeatures', PolynomialFeatures(degree=3)),\n",
      "                ('linearregression', LinearRegression())]), Pipeline(steps=[('polynomialfeatures', PolynomialFeatures(degree=3)),\n",
      "                ('linearregression', LinearRegression())])], rejections=[0, 0, 0], mad=[])\n"
     ]
    },
    {
     "name": "stderr",
     "output_type": "stream",
     "text": [
      "INFO:autora.theorist.bms.regressor:BMS fitting started\n",
      "100%|██████████| 100/100 [00:02<00:00, 40.86it/s]\n",
      "INFO:autora.theorist.bms.regressor:BMS fitting finished\n"
     ]
    },
    {
     "name": "stdout",
     "output_type": "stream",
     "text": [
      "ExtendedState(variables=VariableCollection(independent_variables=[Variable(name='x_1', value_range=(-5, 5), allowed_values=None, units='', type=<ValueType.REAL: 'real'>, variable_label='', rescale=1, is_covariate=False), Variable(name='x_2', value_range=(-5, 5), allowed_values=None, units='', type=<ValueType.REAL: 'real'>, variable_label='', rescale=1, is_covariate=False)], dependent_variables=[Variable(name='y', value_range=None, allowed_values=None, units='', type=<ValueType.REAL: 'real'>, variable_label='', rescale=1, is_covariate=False)], covariates=[]), conditions=           x_1       x_2\n",
      "1533 -1.120089  2.778907\n",
      "373  -4.637710  3.987552\n",
      "8577 -0.673066 -2.560820\n",
      "1958 -3.424120 -0.990772\n",
      "9375 -4.017809 -1.262675\n",
      "...        ...       ...\n",
      "5890 -2.782835  1.654703\n",
      "2693  2.045892 -4.793129\n",
      "31   -4.999577 -3.101986\n",
      "7813 -2.685108 -1.214866\n",
      "7968  0.825698 -3.015203\n",
      "\n",
      "[100 rows x 2 columns], experiment_data=          x_1       x_2         y\n",
      "0   -4.972588  1.246799  1.198879\n",
      "1   -3.476911  2.086347  0.705598\n",
      "2    3.763949 -3.922504  2.269384\n",
      "3    1.875390  3.138668  2.988833\n",
      "4    0.000512  2.228118  0.001666\n",
      "..        ...       ...       ...\n",
      "395 -2.782835  1.654703 -0.582918\n",
      "396  2.045892 -4.793129 -4.264885\n",
      "397 -4.999577 -3.101986 -2.978626\n",
      "398 -2.685108 -1.214866  0.529285\n",
      "399  0.825698 -3.015203 -2.219293\n",
      "\n",
      "[400 rows x 3 columns], models=[Pipeline(steps=[('polynomialfeatures', PolynomialFeatures(degree=3)),\n",
      "                ('linearregression', LinearRegression())]), Pipeline(steps=[('polynomialfeatures', PolynomialFeatures(degree=3)),\n",
      "                ('linearregression', LinearRegression())]), Pipeline(steps=[('polynomialfeatures', PolynomialFeatures(degree=3)),\n",
      "                ('linearregression', LinearRegression())]), Pipeline(steps=[('polynomialfeatures', PolynomialFeatures(degree=3)),\n",
      "                ('linearregression', LinearRegression())])], models_bms=[0.08, -0.13, 0.02, -0.02], models_linear=[LinearRegression(), LinearRegression(), LinearRegression(), LinearRegression()], models_polynom=[Pipeline(steps=[('polynomialfeatures', PolynomialFeatures(degree=3)),\n",
      "                ('linearregression', LinearRegression())]), Pipeline(steps=[('polynomialfeatures', PolynomialFeatures(degree=3)),\n",
      "                ('linearregression', LinearRegression())]), Pipeline(steps=[('polynomialfeatures', PolynomialFeatures(degree=3)),\n",
      "                ('linearregression', LinearRegression())]), Pipeline(steps=[('polynomialfeatures', PolynomialFeatures(degree=3)),\n",
      "                ('linearregression', LinearRegression())])], rejections=[0, 0, 0, 0], mad=[])\n"
     ]
    },
    {
     "name": "stderr",
     "output_type": "stream",
     "text": [
      "INFO:autora.theorist.bms.regressor:BMS fitting started\n",
      "100%|██████████| 100/100 [00:02<00:00, 42.15it/s]\n",
      "INFO:autora.theorist.bms.regressor:BMS fitting finished\n"
     ]
    },
    {
     "name": "stdout",
     "output_type": "stream",
     "text": [
      "ExtendedState(variables=VariableCollection(independent_variables=[Variable(name='x_1', value_range=(-5, 5), allowed_values=None, units='', type=<ValueType.REAL: 'real'>, variable_label='', rescale=1, is_covariate=False), Variable(name='x_2', value_range=(-5, 5), allowed_values=None, units='', type=<ValueType.REAL: 'real'>, variable_label='', rescale=1, is_covariate=False)], dependent_variables=[Variable(name='y', value_range=None, allowed_values=None, units='', type=<ValueType.REAL: 'real'>, variable_label='', rescale=1, is_covariate=False)], covariates=[]), conditions=           x_1       x_2\n",
      "157   2.114677  2.414143\n",
      "3433 -4.553861  1.126245\n",
      "8918  3.223231  4.849803\n",
      "5255  1.549843 -1.944177\n",
      "4382  0.663279  0.041648\n",
      "...        ...       ...\n",
      "7093 -4.605171 -2.713041\n",
      "9479 -0.144879 -2.746810\n",
      "7466  3.295300 -3.624275\n",
      "1713  3.925974  0.407284\n",
      "2182 -3.879264  3.431895\n",
      "\n",
      "[100 rows x 2 columns], experiment_data=          x_1       x_2         y\n",
      "0   -4.972588  1.246799  1.198879\n",
      "1   -3.476911  2.086347  0.705598\n",
      "2    3.763949 -3.922504  2.269384\n",
      "3    1.875390  3.138668  2.988833\n",
      "4    0.000512  2.228118  0.001666\n",
      "..        ...       ...       ...\n",
      "495 -4.605171 -2.713041 -2.699884\n",
      "496 -0.144879 -2.746810  0.385951\n",
      "497  3.295300 -3.624275  0.548848\n",
      "498  3.925974  0.407284 -0.291281\n",
      "499 -3.879264  3.431895  2.312559\n",
      "\n",
      "[500 rows x 3 columns], models=[Pipeline(steps=[('polynomialfeatures', PolynomialFeatures(degree=3)),\n",
      "                ('linearregression', LinearRegression())]), Pipeline(steps=[('polynomialfeatures', PolynomialFeatures(degree=3)),\n",
      "                ('linearregression', LinearRegression())]), Pipeline(steps=[('polynomialfeatures', PolynomialFeatures(degree=3)),\n",
      "                ('linearregression', LinearRegression())]), Pipeline(steps=[('polynomialfeatures', PolynomialFeatures(degree=3)),\n",
      "                ('linearregression', LinearRegression())]), Pipeline(steps=[('polynomialfeatures', PolynomialFeatures(degree=3)),\n",
      "                ('linearregression', LinearRegression())])], models_bms=[0.08, -0.13, 0.02, -0.02, -0.06], models_linear=[LinearRegression(), LinearRegression(), LinearRegression(), LinearRegression(), LinearRegression()], models_polynom=[Pipeline(steps=[('polynomialfeatures', PolynomialFeatures(degree=3)),\n",
      "                ('linearregression', LinearRegression())]), Pipeline(steps=[('polynomialfeatures', PolynomialFeatures(degree=3)),\n",
      "                ('linearregression', LinearRegression())]), Pipeline(steps=[('polynomialfeatures', PolynomialFeatures(degree=3)),\n",
      "                ('linearregression', LinearRegression())]), Pipeline(steps=[('polynomialfeatures', PolynomialFeatures(degree=3)),\n",
      "                ('linearregression', LinearRegression())]), Pipeline(steps=[('polynomialfeatures', PolynomialFeatures(degree=3)),\n",
      "                ('linearregression', LinearRegression())])], rejections=[0, 0, 0, 0, 0], mad=[])\n"
     ]
    },
    {
     "name": "stderr",
     "output_type": "stream",
     "text": [
      "INFO:autora.theorist.bms.regressor:BMS fitting started\n",
      "100%|██████████| 100/100 [00:02<00:00, 41.70it/s]\n",
      "INFO:autora.theorist.bms.regressor:BMS fitting finished\n"
     ]
    },
    {
     "name": "stdout",
     "output_type": "stream",
     "text": [
      "ExtendedState(variables=VariableCollection(independent_variables=[Variable(name='x_1', value_range=(-5, 5), allowed_values=None, units='', type=<ValueType.REAL: 'real'>, variable_label='', rescale=1, is_covariate=False), Variable(name='x_2', value_range=(-5, 5), allowed_values=None, units='', type=<ValueType.REAL: 'real'>, variable_label='', rescale=1, is_covariate=False)], dependent_variables=[Variable(name='y', value_range=None, allowed_values=None, units='', type=<ValueType.REAL: 'real'>, variable_label='', rescale=1, is_covariate=False)], covariates=[]), conditions=           x_1       x_2\n",
      "802  -3.667642 -3.535421\n",
      "8479 -4.666356 -4.243002\n",
      "7112 -1.130224  2.791542\n",
      "3522  3.495622 -2.241599\n",
      "9001 -2.949734 -1.763489\n",
      "...        ...       ...\n",
      "6104  1.467849 -2.399360\n",
      "2925 -4.664150  1.836307\n",
      "8147  2.457941  2.604310\n",
      "5946 -4.535442 -3.209113\n",
      "7127 -2.320022  2.949855\n",
      "\n",
      "[100 rows x 2 columns], experiment_data=          x_1       x_2         y\n",
      "0   -4.972588  1.246799  1.198879\n",
      "1   -3.476911  2.086347  0.705598\n",
      "2    3.763949 -3.922504  2.269384\n",
      "3    1.875390  3.138668  2.988833\n",
      "4    0.000512  2.228118  0.001666\n",
      "..        ...       ...       ...\n",
      "595  1.467849 -2.399360 -2.386850\n",
      "596 -4.664150  1.836307  1.833446\n",
      "597  2.457941  2.604310  1.649458\n",
      "598 -4.535442 -3.209113 -3.157355\n",
      "599 -2.320022  2.949855 -2.150051\n",
      "\n",
      "[600 rows x 3 columns], models=[Pipeline(steps=[('polynomialfeatures', PolynomialFeatures(degree=3)),\n",
      "                ('linearregression', LinearRegression())]), Pipeline(steps=[('polynomialfeatures', PolynomialFeatures(degree=3)),\n",
      "                ('linearregression', LinearRegression())]), Pipeline(steps=[('polynomialfeatures', PolynomialFeatures(degree=3)),\n",
      "                ('linearregression', LinearRegression())]), Pipeline(steps=[('polynomialfeatures', PolynomialFeatures(degree=3)),\n",
      "                ('linearregression', LinearRegression())]), Pipeline(steps=[('polynomialfeatures', PolynomialFeatures(degree=3)),\n",
      "                ('linearregression', LinearRegression())]), tanh((x_2 / sinh(x_1)))], models_bms=[0.08, -0.13, 0.02, -0.02, -0.06, tanh((x_2 / sinh(x_1)))], models_linear=[LinearRegression(), LinearRegression(), LinearRegression(), LinearRegression(), LinearRegression(), LinearRegression()], models_polynom=[Pipeline(steps=[('polynomialfeatures', PolynomialFeatures(degree=3)),\n",
      "                ('linearregression', LinearRegression())]), Pipeline(steps=[('polynomialfeatures', PolynomialFeatures(degree=3)),\n",
      "                ('linearregression', LinearRegression())]), Pipeline(steps=[('polynomialfeatures', PolynomialFeatures(degree=3)),\n",
      "                ('linearregression', LinearRegression())]), Pipeline(steps=[('polynomialfeatures', PolynomialFeatures(degree=3)),\n",
      "                ('linearregression', LinearRegression())]), Pipeline(steps=[('polynomialfeatures', PolynomialFeatures(degree=3)),\n",
      "                ('linearregression', LinearRegression())]), Pipeline(steps=[('polynomialfeatures', PolynomialFeatures(degree=3)),\n",
      "                ('linearregression', LinearRegression())])], rejections=[0, 0, 0, 0, 0, 0], mad=[])\n"
     ]
    },
    {
     "name": "stderr",
     "output_type": "stream",
     "text": [
      "INFO:autora.theorist.bms.regressor:BMS fitting started\n",
      "100%|██████████| 100/100 [00:02<00:00, 42.92it/s]\n",
      "INFO:autora.theorist.bms.regressor:BMS fitting finished\n"
     ]
    },
    {
     "name": "stdout",
     "output_type": "stream",
     "text": [
      "ExtendedState(variables=VariableCollection(independent_variables=[Variable(name='x_1', value_range=(-5, 5), allowed_values=None, units='', type=<ValueType.REAL: 'real'>, variable_label='', rescale=1, is_covariate=False), Variable(name='x_2', value_range=(-5, 5), allowed_values=None, units='', type=<ValueType.REAL: 'real'>, variable_label='', rescale=1, is_covariate=False)], dependent_variables=[Variable(name='y', value_range=None, allowed_values=None, units='', type=<ValueType.REAL: 'real'>, variable_label='', rescale=1, is_covariate=False)], covariates=[]), conditions=           x_1       x_2\n",
      "7622  4.475036 -1.201707\n",
      "2717 -0.046040 -0.838346\n",
      "4762 -1.788619  1.788093\n",
      "900   0.968853 -2.138498\n",
      "7746  1.534532  0.399176\n",
      "...        ...       ...\n",
      "5103 -2.900829 -0.758359\n",
      "7475 -1.413704 -0.848575\n",
      "2167  1.954391  4.461027\n",
      "6623 -2.397992  0.167554\n",
      "5539 -2.276921  4.928952\n",
      "\n",
      "[100 rows x 2 columns], experiment_data=          x_1       x_2         y\n",
      "0   -4.972588  1.246799  1.198879\n",
      "1   -3.476911  2.086347  0.705598\n",
      "2    3.763949 -3.922504  2.269384\n",
      "3    1.875390  3.138668  2.988833\n",
      "4    0.000512  2.228118  0.001666\n",
      "..        ...       ...       ...\n",
      "695 -2.900829 -0.758359  0.194343\n",
      "696 -1.413704 -0.848575  0.852188\n",
      "697  1.954391  4.461027  4.137662\n",
      "698 -2.397992  0.167554 -0.105160\n",
      "699 -2.276921  4.928952 -3.751988\n",
      "\n",
      "[700 rows x 3 columns], models=[Pipeline(steps=[('polynomialfeatures', PolynomialFeatures(degree=3)),\n",
      "                ('linearregression', LinearRegression())]), Pipeline(steps=[('polynomialfeatures', PolynomialFeatures(degree=3)),\n",
      "                ('linearregression', LinearRegression())]), Pipeline(steps=[('polynomialfeatures', PolynomialFeatures(degree=3)),\n",
      "                ('linearregression', LinearRegression())]), Pipeline(steps=[('polynomialfeatures', PolynomialFeatures(degree=3)),\n",
      "                ('linearregression', LinearRegression())]), Pipeline(steps=[('polynomialfeatures', PolynomialFeatures(degree=3)),\n",
      "                ('linearregression', LinearRegression())]), tanh((x_2 / sinh(x_1))), Pipeline(steps=[('polynomialfeatures', PolynomialFeatures(degree=3)),\n",
      "                ('linearregression', LinearRegression())])], models_bms=[0.08, -0.13, 0.02, -0.02, -0.06, tanh((x_2 / sinh(x_1))), -0.06], models_linear=[LinearRegression(), LinearRegression(), LinearRegression(), LinearRegression(), LinearRegression(), LinearRegression(), LinearRegression()], models_polynom=[Pipeline(steps=[('polynomialfeatures', PolynomialFeatures(degree=3)),\n",
      "                ('linearregression', LinearRegression())]), Pipeline(steps=[('polynomialfeatures', PolynomialFeatures(degree=3)),\n",
      "                ('linearregression', LinearRegression())]), Pipeline(steps=[('polynomialfeatures', PolynomialFeatures(degree=3)),\n",
      "                ('linearregression', LinearRegression())]), Pipeline(steps=[('polynomialfeatures', PolynomialFeatures(degree=3)),\n",
      "                ('linearregression', LinearRegression())]), Pipeline(steps=[('polynomialfeatures', PolynomialFeatures(degree=3)),\n",
      "                ('linearregression', LinearRegression())]), Pipeline(steps=[('polynomialfeatures', PolynomialFeatures(degree=3)),\n",
      "                ('linearregression', LinearRegression())]), Pipeline(steps=[('polynomialfeatures', PolynomialFeatures(degree=3)),\n",
      "                ('linearregression', LinearRegression())])], rejections=[0, 0, 0, 0, 0, 0, 0], mad=[])\n"
     ]
    },
    {
     "name": "stderr",
     "output_type": "stream",
     "text": [
      "INFO:autora.theorist.bms.regressor:BMS fitting started\n",
      "100%|██████████| 100/100 [00:02<00:00, 40.71it/s]\n",
      "INFO:autora.theorist.bms.regressor:BMS fitting finished\n"
     ]
    },
    {
     "name": "stdout",
     "output_type": "stream",
     "text": [
      "ExtendedState(variables=VariableCollection(independent_variables=[Variable(name='x_1', value_range=(-5, 5), allowed_values=None, units='', type=<ValueType.REAL: 'real'>, variable_label='', rescale=1, is_covariate=False), Variable(name='x_2', value_range=(-5, 5), allowed_values=None, units='', type=<ValueType.REAL: 'real'>, variable_label='', rescale=1, is_covariate=False)], dependent_variables=[Variable(name='y', value_range=None, allowed_values=None, units='', type=<ValueType.REAL: 'real'>, variable_label='', rescale=1, is_covariate=False)], covariates=[]), conditions=           x_1       x_2\n",
      "7616  2.279701  3.368215\n",
      "4161 -4.187935 -1.833601\n",
      "167   4.322503 -0.911154\n",
      "4737  2.244603  0.178311\n",
      "6917 -4.520401  4.154067\n",
      "...        ...       ...\n",
      "2850  2.507628 -4.767286\n",
      "8519  1.515521 -1.864143\n",
      "3313 -0.042368 -3.273431\n",
      "3889  1.525949 -4.373424\n",
      "6553  4.170788 -3.831876\n",
      "\n",
      "[100 rows x 2 columns], experiment_data=          x_1       x_2         y\n",
      "0   -4.972588  1.246799  1.198879\n",
      "1   -3.476911  2.086347  0.705598\n",
      "2    3.763949 -3.922504  2.269384\n",
      "3    1.875390  3.138668  2.988833\n",
      "4    0.000512  2.228118  0.001666\n",
      "..        ...       ...       ...\n",
      "795  2.507628 -4.767286 -2.819517\n",
      "796  1.515521 -1.864143 -1.864172\n",
      "797 -0.042368 -3.273431  0.138598\n",
      "798  1.525949 -4.373424 -4.368461\n",
      "799  4.170788 -3.831876  3.291769\n",
      "\n",
      "[800 rows x 3 columns], models=[Pipeline(steps=[('polynomialfeatures', PolynomialFeatures(degree=3)),\n",
      "                ('linearregression', LinearRegression())]), Pipeline(steps=[('polynomialfeatures', PolynomialFeatures(degree=3)),\n",
      "                ('linearregression', LinearRegression())]), Pipeline(steps=[('polynomialfeatures', PolynomialFeatures(degree=3)),\n",
      "                ('linearregression', LinearRegression())]), Pipeline(steps=[('polynomialfeatures', PolynomialFeatures(degree=3)),\n",
      "                ('linearregression', LinearRegression())]), Pipeline(steps=[('polynomialfeatures', PolynomialFeatures(degree=3)),\n",
      "                ('linearregression', LinearRegression())]), tanh((x_2 / sinh(x_1))), Pipeline(steps=[('polynomialfeatures', PolynomialFeatures(degree=3)),\n",
      "                ('linearregression', LinearRegression())]), Pipeline(steps=[('polynomialfeatures', PolynomialFeatures(degree=3)),\n",
      "                ('linearregression', LinearRegression())])], models_bms=[0.08, -0.13, 0.02, -0.02, -0.06, tanh((x_2 / sinh(x_1))), -0.06, -0.06], models_linear=[LinearRegression(), LinearRegression(), LinearRegression(), LinearRegression(), LinearRegression(), LinearRegression(), LinearRegression(), LinearRegression()], models_polynom=[Pipeline(steps=[('polynomialfeatures', PolynomialFeatures(degree=3)),\n",
      "                ('linearregression', LinearRegression())]), Pipeline(steps=[('polynomialfeatures', PolynomialFeatures(degree=3)),\n",
      "                ('linearregression', LinearRegression())]), Pipeline(steps=[('polynomialfeatures', PolynomialFeatures(degree=3)),\n",
      "                ('linearregression', LinearRegression())]), Pipeline(steps=[('polynomialfeatures', PolynomialFeatures(degree=3)),\n",
      "                ('linearregression', LinearRegression())]), Pipeline(steps=[('polynomialfeatures', PolynomialFeatures(degree=3)),\n",
      "                ('linearregression', LinearRegression())]), Pipeline(steps=[('polynomialfeatures', PolynomialFeatures(degree=3)),\n",
      "                ('linearregression', LinearRegression())]), Pipeline(steps=[('polynomialfeatures', PolynomialFeatures(degree=3)),\n",
      "                ('linearregression', LinearRegression())]), Pipeline(steps=[('polynomialfeatures', PolynomialFeatures(degree=3)),\n",
      "                ('linearregression', LinearRegression())])], rejections=[0, 0, 0, 0, 0, 0, 0, 0], mad=[])\n"
     ]
    },
    {
     "name": "stderr",
     "output_type": "stream",
     "text": [
      "INFO:autora.theorist.bms.regressor:BMS fitting started\n",
      "100%|██████████| 100/100 [00:02<00:00, 39.52it/s]\n",
      "INFO:autora.theorist.bms.regressor:BMS fitting finished\n"
     ]
    },
    {
     "name": "stdout",
     "output_type": "stream",
     "text": [
      "ExtendedState(variables=VariableCollection(independent_variables=[Variable(name='x_1', value_range=(-5, 5), allowed_values=None, units='', type=<ValueType.REAL: 'real'>, variable_label='', rescale=1, is_covariate=False), Variable(name='x_2', value_range=(-5, 5), allowed_values=None, units='', type=<ValueType.REAL: 'real'>, variable_label='', rescale=1, is_covariate=False)], dependent_variables=[Variable(name='y', value_range=None, allowed_values=None, units='', type=<ValueType.REAL: 'real'>, variable_label='', rescale=1, is_covariate=False)], covariates=[]), conditions=           x_1       x_2\n",
      "3673  2.422131 -2.519638\n",
      "454   1.905083  4.805466\n",
      "9287 -1.084428 -1.039220\n",
      "9670  4.119285 -4.395728\n",
      "3794 -3.865051 -1.939633\n",
      "...        ...       ...\n",
      "780  -2.235227  4.941947\n",
      "8676 -4.372358  1.532387\n",
      "6525  2.670493  1.766028\n",
      "4207  3.986476 -4.772748\n",
      "2482  4.716485 -2.851212\n",
      "\n",
      "[100 rows x 2 columns], experiment_data=          x_1       x_2         y\n",
      "0   -4.972588  1.246799  1.198879\n",
      "1   -3.476911  2.086347  0.705598\n",
      "2    3.763949 -3.922504  2.269384\n",
      "3    1.875390  3.138668  2.988833\n",
      "4    0.000512  2.228118  0.001666\n",
      "..        ...       ...       ...\n",
      "895 -2.235227  4.941947 -3.899520\n",
      "896 -4.372358  1.532387  1.448936\n",
      "897  2.670493  1.766028  0.798977\n",
      "898  3.986476 -4.772748  3.554405\n",
      "899  4.716485 -2.851212  2.854166\n",
      "\n",
      "[900 rows x 3 columns], models=[Pipeline(steps=[('polynomialfeatures', PolynomialFeatures(degree=3)),\n",
      "                ('linearregression', LinearRegression())]), Pipeline(steps=[('polynomialfeatures', PolynomialFeatures(degree=3)),\n",
      "                ('linearregression', LinearRegression())]), Pipeline(steps=[('polynomialfeatures', PolynomialFeatures(degree=3)),\n",
      "                ('linearregression', LinearRegression())]), Pipeline(steps=[('polynomialfeatures', PolynomialFeatures(degree=3)),\n",
      "                ('linearregression', LinearRegression())]), Pipeline(steps=[('polynomialfeatures', PolynomialFeatures(degree=3)),\n",
      "                ('linearregression', LinearRegression())]), tanh((x_2 / sinh(x_1))), Pipeline(steps=[('polynomialfeatures', PolynomialFeatures(degree=3)),\n",
      "                ('linearregression', LinearRegression())]), Pipeline(steps=[('polynomialfeatures', PolynomialFeatures(degree=3)),\n",
      "                ('linearregression', LinearRegression())]), Pipeline(steps=[('polynomialfeatures', PolynomialFeatures(degree=3)),\n",
      "                ('linearregression', LinearRegression())])], models_bms=[0.08, -0.13, 0.02, -0.02, -0.06, tanh((x_2 / sinh(x_1))), -0.06, -0.06, -0.02], models_linear=[LinearRegression(), LinearRegression(), LinearRegression(), LinearRegression(), LinearRegression(), LinearRegression(), LinearRegression(), LinearRegression(), LinearRegression()], models_polynom=[Pipeline(steps=[('polynomialfeatures', PolynomialFeatures(degree=3)),\n",
      "                ('linearregression', LinearRegression())]), Pipeline(steps=[('polynomialfeatures', PolynomialFeatures(degree=3)),\n",
      "                ('linearregression', LinearRegression())]), Pipeline(steps=[('polynomialfeatures', PolynomialFeatures(degree=3)),\n",
      "                ('linearregression', LinearRegression())]), Pipeline(steps=[('polynomialfeatures', PolynomialFeatures(degree=3)),\n",
      "                ('linearregression', LinearRegression())]), Pipeline(steps=[('polynomialfeatures', PolynomialFeatures(degree=3)),\n",
      "                ('linearregression', LinearRegression())]), Pipeline(steps=[('polynomialfeatures', PolynomialFeatures(degree=3)),\n",
      "                ('linearregression', LinearRegression())]), Pipeline(steps=[('polynomialfeatures', PolynomialFeatures(degree=3)),\n",
      "                ('linearregression', LinearRegression())]), Pipeline(steps=[('polynomialfeatures', PolynomialFeatures(degree=3)),\n",
      "                ('linearregression', LinearRegression())]), Pipeline(steps=[('polynomialfeatures', PolynomialFeatures(degree=3)),\n",
      "                ('linearregression', LinearRegression())])], rejections=[0, 0, 0, 0, 0, 0, 0, 0, 0], mad=[])\n"
     ]
    },
    {
     "name": "stderr",
     "output_type": "stream",
     "text": [
      "INFO:autora.theorist.bms.regressor:BMS fitting started\n",
      "100%|██████████| 100/100 [00:02<00:00, 39.21it/s]\n",
      "INFO:autora.theorist.bms.regressor:BMS fitting finished\n"
     ]
    },
    {
     "name": "stdout",
     "output_type": "stream",
     "text": [
      "ExtendedState(variables=VariableCollection(independent_variables=[Variable(name='x_1', value_range=(-5, 5), allowed_values=None, units='', type=<ValueType.REAL: 'real'>, variable_label='', rescale=1, is_covariate=False), Variable(name='x_2', value_range=(-5, 5), allowed_values=None, units='', type=<ValueType.REAL: 'real'>, variable_label='', rescale=1, is_covariate=False)], dependent_variables=[Variable(name='y', value_range=None, allowed_values=None, units='', type=<ValueType.REAL: 'real'>, variable_label='', rescale=1, is_covariate=False)], covariates=[]), conditions=           x_1       x_2\n",
      "1322  4.947106 -0.163254\n",
      "3420  1.400895  4.745172\n",
      "4880 -1.811978  2.674648\n",
      "2739  0.296847  2.208251\n",
      "2324 -3.290069  4.160282\n",
      "...        ...       ...\n",
      "4858  4.265698  3.521263\n",
      "6376  4.964952 -2.424741\n",
      "2499 -2.258300 -4.568774\n",
      "1814  3.686737 -3.470595\n",
      "2164 -1.573526  1.043834\n",
      "\n",
      "[100 rows x 2 columns], experiment_data=          x_1       x_2         y\n",
      "0   -4.972588  1.246799  1.198879\n",
      "1   -3.476911  2.086347  0.705598\n",
      "2    3.763949 -3.922504  2.269384\n",
      "3    1.875390  3.138668  2.988833\n",
      "4    0.000512  2.228118  0.001666\n",
      "..        ...       ...       ...\n",
      "995  4.265698  3.521263 -3.180667\n",
      "996  4.964952 -2.424741  2.343126\n",
      "997 -2.258300 -4.568774  3.524376\n",
      "998  3.686737 -3.470595  1.805190\n",
      "999 -1.573526  1.043834 -1.044604\n",
      "\n",
      "[1000 rows x 3 columns], models=[Pipeline(steps=[('polynomialfeatures', PolynomialFeatures(degree=3)),\n",
      "                ('linearregression', LinearRegression())]), Pipeline(steps=[('polynomialfeatures', PolynomialFeatures(degree=3)),\n",
      "                ('linearregression', LinearRegression())]), Pipeline(steps=[('polynomialfeatures', PolynomialFeatures(degree=3)),\n",
      "                ('linearregression', LinearRegression())]), Pipeline(steps=[('polynomialfeatures', PolynomialFeatures(degree=3)),\n",
      "                ('linearregression', LinearRegression())]), Pipeline(steps=[('polynomialfeatures', PolynomialFeatures(degree=3)),\n",
      "                ('linearregression', LinearRegression())]), tanh((x_2 / sinh(x_1))), Pipeline(steps=[('polynomialfeatures', PolynomialFeatures(degree=3)),\n",
      "                ('linearregression', LinearRegression())]), Pipeline(steps=[('polynomialfeatures', PolynomialFeatures(degree=3)),\n",
      "                ('linearregression', LinearRegression())]), Pipeline(steps=[('polynomialfeatures', PolynomialFeatures(degree=3)),\n",
      "                ('linearregression', LinearRegression())]), Pipeline(steps=[('polynomialfeatures', PolynomialFeatures(degree=3)),\n",
      "                ('linearregression', LinearRegression())])], models_bms=[0.08, -0.13, 0.02, -0.02, -0.06, tanh((x_2 / sinh(x_1))), -0.06, -0.06, -0.02, -0.02], models_linear=[LinearRegression(), LinearRegression(), LinearRegression(), LinearRegression(), LinearRegression(), LinearRegression(), LinearRegression(), LinearRegression(), LinearRegression(), LinearRegression()], models_polynom=[Pipeline(steps=[('polynomialfeatures', PolynomialFeatures(degree=3)),\n",
      "                ('linearregression', LinearRegression())]), Pipeline(steps=[('polynomialfeatures', PolynomialFeatures(degree=3)),\n",
      "                ('linearregression', LinearRegression())]), Pipeline(steps=[('polynomialfeatures', PolynomialFeatures(degree=3)),\n",
      "                ('linearregression', LinearRegression())]), Pipeline(steps=[('polynomialfeatures', PolynomialFeatures(degree=3)),\n",
      "                ('linearregression', LinearRegression())]), Pipeline(steps=[('polynomialfeatures', PolynomialFeatures(degree=3)),\n",
      "                ('linearregression', LinearRegression())]), Pipeline(steps=[('polynomialfeatures', PolynomialFeatures(degree=3)),\n",
      "                ('linearregression', LinearRegression())]), Pipeline(steps=[('polynomialfeatures', PolynomialFeatures(degree=3)),\n",
      "                ('linearregression', LinearRegression())]), Pipeline(steps=[('polynomialfeatures', PolynomialFeatures(degree=3)),\n",
      "                ('linearregression', LinearRegression())]), Pipeline(steps=[('polynomialfeatures', PolynomialFeatures(degree=3)),\n",
      "                ('linearregression', LinearRegression())]), Pipeline(steps=[('polynomialfeatures', PolynomialFeatures(degree=3)),\n",
      "                ('linearregression', LinearRegression())])], rejections=[0, 0, 0, 0, 0, 0, 0, 0, 0, 0], mad=[])\n"
     ]
    }
   ],
   "source": [
    "state = ExtendedState(variables=variables)\n",
    "for _ in range(CYCLES):\n",
    "    state = cycle(state)\n",
    "    print(state)\n"
   ],
   "metadata": {
    "collapsed": false
   }
  },
  {
   "cell_type": "code",
   "execution_count": null,
   "outputs": [],
   "source": [],
   "metadata": {
    "collapsed": false,
    "pycharm": {
     "is_executing": true
    }
   }
  },
  {
   "cell_type": "code",
   "execution_count": 48,
   "outputs": [],
   "source": [],
   "metadata": {
    "collapsed": false
   }
  }
 ],
 "metadata": {
  "kernelspec": {
   "display_name": "Python 3",
   "language": "python",
   "name": "python3"
  },
  "language_info": {
   "codemirror_mode": {
    "name": "ipython",
    "version": 2
   },
   "file_extension": ".py",
   "mimetype": "text/x-python",
   "name": "python",
   "nbconvert_exporter": "python",
   "pygments_lexer": "ipython2",
   "version": "2.7.6"
  }
 },
 "nbformat": 4,
 "nbformat_minor": 5
}
