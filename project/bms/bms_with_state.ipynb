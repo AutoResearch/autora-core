{
 "cells": [
  {
   "cell_type": "markdown",
   "metadata": {},
   "source": [
    "# BMS with AutoRA State\n",
    "\n",
    "The tutorial illustrates how to use the BMS Regressor with the AutoRA state on some synthetic data."
   ]
  },
  {
   "cell_type": "code",
   "execution_count": null,
   "metadata": {},
   "outputs": [],
   "source": [
    "import numpy as np\n",
    "import pandas as pd\n",
    "from autora.variable import VariableCollection, Variable\n",
    "from autora.state.bundled import StandardState"
   ]
  },
  {
   "cell_type": "markdown",
   "metadata": {},
   "source": [
    "## Create a Variable Collection\n",
    "First, we need to define our experimental space. Here, we consider two input variables, $x_1$, $x_2$, and one output variable, $y$."
   ]
  },
  {
   "cell_type": "code",
   "execution_count": null,
   "metadata": {},
   "outputs": [],
   "source": [
    "variables=VariableCollection(\n",
    "        independent_variables=[Variable(\"x_1\", allowed_values=np.linspace(-10, 10, 10)),\n",
    "                               Variable(\"x_2\", allowed_values=np.linspace(-10, 10, 10))],\n",
    "        dependent_variables=[Variable(\"y\")]\n",
    "    )"
   ]
  },
  {
   "cell_type": "markdown",
   "metadata": {},
   "source": [
    "## Defining the State\n",
    "\n",
    "We can define an initial state for our discovery problem based on the variable specification above.\n"
   ]
  },
  {
   "cell_type": "code",
   "execution_count": null,
   "metadata": {},
   "outputs": [],
   "source": [
    "state = StandardState(\n",
    "    variables=variables\n",
    ")"
   ]
  },
  {
   "cell_type": "markdown",
   "metadata": {},
   "source": [
    "## Defining an Experiment Runner\n",
    "\n",
    " Next, we will define a synthetic experiment runner that takes input variables $x_1$, $x_2$, and produces output the variable $y$. The input the the experiment runner has to be called ``conditions`` so we can later integrate it into the autora cycle. "
   ]
  },
  {
   "cell_type": "code",
   "execution_count": null,
   "metadata": {},
   "outputs": [],
   "source": [
    "def synthetic_experiment_runner(conditions: pd.DataFrame, variables: VariableCollection):\n",
    "    experiment_data = pd.DataFrame(conditions)\n",
    "    y = conditions[variables.independent_variables[0].name]**2 \\\n",
    "        + conditions[variables.independent_variables[1].name]**2\n",
    "    experiment_data[variables.dependent_variables[0].name] = y\n",
    "    return experiment_data"
   ]
  },
  {
   "cell_type": "markdown",
   "metadata": {},
   "source": [
    "Let's try out our experiment runner with a basic dataset."
   ]
  },
  {
   "cell_type": "code",
   "execution_count": null,
   "metadata": {},
   "outputs": [
    {
     "name": "stdout",
     "output_type": "stream",
     "text": [
      "   x_1  x_2   y\n",
      "0    1    1   2\n",
      "1    2    2   8\n",
      "2    3    3  18\n"
     ]
    }
   ],
   "source": [
    "conditions = pd.DataFrame({\"x_1\": [1, 2, 3], \"x_2\": [1, 2, 3]})\n",
    "experiment_data = synthetic_experiment_runner(conditions, variables)\n",
    "print(experiment_data)"
   ]
  },
  {
   "cell_type": "markdown",
   "metadata": {},
   "source": [
    "Finally, we can wrap the experiment runner into a state function."
   ]
  },
  {
   "cell_type": "code",
   "execution_count": null,
   "metadata": {},
   "outputs": [],
   "source": [
    "from autora.state.delta import on_state\n",
    "experiment_runner = on_state(function=synthetic_experiment_runner, output=[\"experiment_data\"])"
   ]
  },
  {
   "cell_type": "markdown",
   "metadata": {},
   "source": [
    "## Defining an Experimentalist\n",
    "\n",
    "Next, we define a grid pool experimentalist and wrap it into a state function. The grid pool experimentalist expects the ``variables`` object as input. By wrapping it into a state function, it will automatically pull the ``variables`` object from the state.\n"
   ]
  },
  {
   "cell_type": "code",
   "execution_count": null,
   "metadata": {},
   "outputs": [],
   "source": [
    "from autora.experimentalist.grid_ import grid_pool\n",
    "\n",
    "experimentalist = on_state(function=grid_pool, output=[\"conditions\"])"
   ]
  },
  {
   "cell_type": "markdown",
   "metadata": {},
   "source": [
    "## Add Some Data to the State\n",
    "\n",
    "We can let the grid experimentalist generate initial conditions and add them to the state."
   ]
  },
  {
   "cell_type": "code",
   "execution_count": null,
   "metadata": {},
   "outputs": [],
   "source": [
    "state = experimentalist(state)"
   ]
  },
  {
   "cell_type": "markdown",
   "metadata": {},
   "source": [
    "We can directly observe the conditions added to the state."
   ]
  },
  {
   "cell_type": "code",
   "execution_count": null,
   "metadata": {},
   "outputs": [
    {
     "data": {
      "text/html": [
       "<div>\n",
       "<style scoped>\n",
       "    .dataframe tbody tr th:only-of-type {\n",
       "        vertical-align: middle;\n",
       "    }\n",
       "\n",
       "    .dataframe tbody tr th {\n",
       "        vertical-align: top;\n",
       "    }\n",
       "\n",
       "    .dataframe thead th {\n",
       "        text-align: right;\n",
       "    }\n",
       "</style>\n",
       "<table border=\"1\" class=\"dataframe\">\n",
       "  <thead>\n",
       "    <tr style=\"text-align: right;\">\n",
       "      <th></th>\n",
       "      <th>x_1</th>\n",
       "      <th>x_2</th>\n",
       "    </tr>\n",
       "  </thead>\n",
       "  <tbody>\n",
       "    <tr>\n",
       "      <th>0</th>\n",
       "      <td>-10.0</td>\n",
       "      <td>-10.000000</td>\n",
       "    </tr>\n",
       "    <tr>\n",
       "      <th>1</th>\n",
       "      <td>-10.0</td>\n",
       "      <td>-7.777778</td>\n",
       "    </tr>\n",
       "    <tr>\n",
       "      <th>2</th>\n",
       "      <td>-10.0</td>\n",
       "      <td>-5.555556</td>\n",
       "    </tr>\n",
       "    <tr>\n",
       "      <th>3</th>\n",
       "      <td>-10.0</td>\n",
       "      <td>-3.333333</td>\n",
       "    </tr>\n",
       "    <tr>\n",
       "      <th>4</th>\n",
       "      <td>-10.0</td>\n",
       "      <td>-1.111111</td>\n",
       "    </tr>\n",
       "    <tr>\n",
       "      <th>...</th>\n",
       "      <td>...</td>\n",
       "      <td>...</td>\n",
       "    </tr>\n",
       "    <tr>\n",
       "      <th>95</th>\n",
       "      <td>10.0</td>\n",
       "      <td>1.111111</td>\n",
       "    </tr>\n",
       "    <tr>\n",
       "      <th>96</th>\n",
       "      <td>10.0</td>\n",
       "      <td>3.333333</td>\n",
       "    </tr>\n",
       "    <tr>\n",
       "      <th>97</th>\n",
       "      <td>10.0</td>\n",
       "      <td>5.555556</td>\n",
       "    </tr>\n",
       "    <tr>\n",
       "      <th>98</th>\n",
       "      <td>10.0</td>\n",
       "      <td>7.777778</td>\n",
       "    </tr>\n",
       "    <tr>\n",
       "      <th>99</th>\n",
       "      <td>10.0</td>\n",
       "      <td>10.000000</td>\n",
       "    </tr>\n",
       "  </tbody>\n",
       "</table>\n",
       "<p>100 rows × 2 columns</p>\n",
       "</div>"
      ],
      "text/plain": [
       "     x_1        x_2\n",
       "0  -10.0 -10.000000\n",
       "1  -10.0  -7.777778\n",
       "2  -10.0  -5.555556\n",
       "3  -10.0  -3.333333\n",
       "4  -10.0  -1.111111\n",
       "..   ...        ...\n",
       "95  10.0   1.111111\n",
       "96  10.0   3.333333\n",
       "97  10.0   5.555556\n",
       "98  10.0   7.777778\n",
       "99  10.0  10.000000\n",
       "\n",
       "[100 rows x 2 columns]"
      ]
     },
     "execution_count": null,
     "metadata": {},
     "output_type": "execute_result"
    }
   ],
   "source": [
    "state.conditions"
   ]
  },
  {
   "cell_type": "markdown",
   "metadata": {},
   "source": [
    "Now that we have some experimental conditions, we can generate experimental observations from the experiment runner."
   ]
  },
  {
   "cell_type": "code",
   "execution_count": null,
   "metadata": {},
   "outputs": [
    {
     "data": {
      "text/html": [
       "<div>\n",
       "<style scoped>\n",
       "    .dataframe tbody tr th:only-of-type {\n",
       "        vertical-align: middle;\n",
       "    }\n",
       "\n",
       "    .dataframe tbody tr th {\n",
       "        vertical-align: top;\n",
       "    }\n",
       "\n",
       "    .dataframe thead th {\n",
       "        text-align: right;\n",
       "    }\n",
       "</style>\n",
       "<table border=\"1\" class=\"dataframe\">\n",
       "  <thead>\n",
       "    <tr style=\"text-align: right;\">\n",
       "      <th></th>\n",
       "      <th>x_1</th>\n",
       "      <th>x_2</th>\n",
       "      <th>y</th>\n",
       "    </tr>\n",
       "  </thead>\n",
       "  <tbody>\n",
       "    <tr>\n",
       "      <th>0</th>\n",
       "      <td>-10.0</td>\n",
       "      <td>-10.000000</td>\n",
       "      <td>200.000000</td>\n",
       "    </tr>\n",
       "    <tr>\n",
       "      <th>1</th>\n",
       "      <td>-10.0</td>\n",
       "      <td>-7.777778</td>\n",
       "      <td>160.493827</td>\n",
       "    </tr>\n",
       "    <tr>\n",
       "      <th>2</th>\n",
       "      <td>-10.0</td>\n",
       "      <td>-5.555556</td>\n",
       "      <td>130.864198</td>\n",
       "    </tr>\n",
       "    <tr>\n",
       "      <th>3</th>\n",
       "      <td>-10.0</td>\n",
       "      <td>-3.333333</td>\n",
       "      <td>111.111111</td>\n",
       "    </tr>\n",
       "    <tr>\n",
       "      <th>4</th>\n",
       "      <td>-10.0</td>\n",
       "      <td>-1.111111</td>\n",
       "      <td>101.234568</td>\n",
       "    </tr>\n",
       "    <tr>\n",
       "      <th>...</th>\n",
       "      <td>...</td>\n",
       "      <td>...</td>\n",
       "      <td>...</td>\n",
       "    </tr>\n",
       "    <tr>\n",
       "      <th>195</th>\n",
       "      <td>10.0</td>\n",
       "      <td>1.111111</td>\n",
       "      <td>101.234568</td>\n",
       "    </tr>\n",
       "    <tr>\n",
       "      <th>196</th>\n",
       "      <td>10.0</td>\n",
       "      <td>3.333333</td>\n",
       "      <td>111.111111</td>\n",
       "    </tr>\n",
       "    <tr>\n",
       "      <th>197</th>\n",
       "      <td>10.0</td>\n",
       "      <td>5.555556</td>\n",
       "      <td>130.864198</td>\n",
       "    </tr>\n",
       "    <tr>\n",
       "      <th>198</th>\n",
       "      <td>10.0</td>\n",
       "      <td>7.777778</td>\n",
       "      <td>160.493827</td>\n",
       "    </tr>\n",
       "    <tr>\n",
       "      <th>199</th>\n",
       "      <td>10.0</td>\n",
       "      <td>10.000000</td>\n",
       "      <td>200.000000</td>\n",
       "    </tr>\n",
       "  </tbody>\n",
       "</table>\n",
       "<p>200 rows × 3 columns</p>\n",
       "</div>"
      ],
      "text/plain": [
       "      x_1        x_2           y\n",
       "0   -10.0 -10.000000  200.000000\n",
       "1   -10.0  -7.777778  160.493827\n",
       "2   -10.0  -5.555556  130.864198\n",
       "3   -10.0  -3.333333  111.111111\n",
       "4   -10.0  -1.111111  101.234568\n",
       "..    ...        ...         ...\n",
       "195  10.0   1.111111  101.234568\n",
       "196  10.0   3.333333  111.111111\n",
       "197  10.0   5.555556  130.864198\n",
       "198  10.0   7.777778  160.493827\n",
       "199  10.0  10.000000  200.000000\n",
       "\n",
       "[200 rows x 3 columns]"
      ]
     },
     "execution_count": null,
     "metadata": {},
     "output_type": "execute_result"
    }
   ],
   "source": [
    "state = experiment_runner(state)\n",
    "state.experiment_data"
   ]
  },
  {
   "cell_type": "markdown",
   "metadata": {},
   "source": [
    "## Define BMS Theorist\n",
    "\n",
    "Next, we can define a BMS theorist and wrap it into a state function."
   ]
  },
  {
   "cell_type": "code",
   "execution_count": null,
   "metadata": {},
   "outputs": [],
   "source": [
    "from autora.state.wrapper import state_fn_from_estimator\n",
    "from autora.theorist.bms import BMSRegressor\n",
    "\n",
    "theorist = state_fn_from_estimator(BMSRegressor(epochs=500))"
   ]
  },
  {
   "cell_type": "markdown",
   "metadata": {},
   "source": [
    "Next, we can apply the BMS theorist to the state. The BMS theorist expects ``conditions`` and ``observations`` as input. Here, we will explicitly provide it with the respective data from the state."
   ]
  },
  {
   "cell_type": "code",
   "execution_count": null,
   "metadata": {},
   "outputs": [
    {
     "ename": "ValueError",
     "evalue": "Invalid parameter 'X' for estimator x. Valid parameters are: ['epochs', 'prior_par', 'ts'].",
     "output_type": "error",
     "traceback": [
      "\u001b[0;31m---------------------------------------------------------------------------\u001b[0m",
      "\u001b[0;31mValueError\u001b[0m                                Traceback (most recent call last)",
      "Cell \u001b[0;32mIn[86], line 1\u001b[0m\n\u001b[0;32m----> 1\u001b[0m state \u001b[38;5;241m=\u001b[39m \u001b[43mtheorist\u001b[49m\u001b[43m(\u001b[49m\u001b[43mstate\u001b[49m\u001b[43m,\u001b[49m\n\u001b[1;32m      2\u001b[0m \u001b[43m                 \u001b[49m\u001b[43mX\u001b[49m\u001b[38;5;241;43m=\u001b[39;49m\u001b[43mstate\u001b[49m\u001b[38;5;241;43m.\u001b[39;49m\u001b[43mexperiment_data\u001b[49m\u001b[43m[\u001b[49m\u001b[43m[\u001b[49m\u001b[38;5;124;43m\"\u001b[39;49m\u001b[38;5;124;43mx_1\u001b[39;49m\u001b[38;5;124;43m\"\u001b[39;49m\u001b[43m,\u001b[49m\u001b[43m \u001b[49m\u001b[38;5;124;43m\"\u001b[39;49m\u001b[38;5;124;43mx_2\u001b[39;49m\u001b[38;5;124;43m\"\u001b[39;49m\u001b[43m]\u001b[49m\u001b[43m]\u001b[49m\u001b[43m,\u001b[49m\n\u001b[1;32m      3\u001b[0m \u001b[43m                 \u001b[49m\u001b[43my\u001b[49m\u001b[38;5;241;43m=\u001b[39;49m\u001b[43mstate\u001b[49m\u001b[38;5;241;43m.\u001b[39;49m\u001b[43mexperiment_data\u001b[49m\u001b[43m[\u001b[49m\u001b[38;5;124;43m\"\u001b[39;49m\u001b[38;5;124;43my\u001b[39;49m\u001b[38;5;124;43m\"\u001b[39;49m\u001b[43m]\u001b[49m\u001b[43m)\u001b[49m\n\u001b[1;32m      4\u001b[0m \u001b[38;5;66;03m# state.experiment_data[[\"x_1\", \"x_2\"]]\u001b[39;00m\n",
      "File \u001b[0;32m~/Documents/recovered files/projects/AdversarialResearch/AutoRA packages/autora-core/src/autora/state/delta.py:992\u001b[0m, in \u001b[0;36mdelta_to_state.<locals>._f\u001b[0;34m(state_, **kwargs)\u001b[0m\n\u001b[1;32m    990\u001b[0m \u001b[38;5;129m@wraps\u001b[39m(f)\n\u001b[1;32m    991\u001b[0m \u001b[38;5;28;01mdef\u001b[39;00m \u001b[38;5;21m_f\u001b[39m(state_: S, \u001b[38;5;241m*\u001b[39m\u001b[38;5;241m*\u001b[39mkwargs) \u001b[38;5;241m-\u001b[39m\u001b[38;5;241m>\u001b[39m S:\n\u001b[0;32m--> 992\u001b[0m     delta \u001b[38;5;241m=\u001b[39m \u001b[43mf\u001b[49m\u001b[43m(\u001b[49m\u001b[43mstate_\u001b[49m\u001b[43m,\u001b[49m\u001b[43m \u001b[49m\u001b[38;5;241;43m*\u001b[39;49m\u001b[38;5;241;43m*\u001b[39;49m\u001b[43mkwargs\u001b[49m\u001b[43m)\u001b[49m\n\u001b[1;32m    993\u001b[0m     \u001b[38;5;28;01massert\u001b[39;00m \u001b[38;5;28misinstance\u001b[39m(delta, Mapping), (\n\u001b[1;32m    994\u001b[0m         \u001b[38;5;124m\"\u001b[39m\u001b[38;5;124mOutput of \u001b[39m\u001b[38;5;132;01m%s\u001b[39;00m\u001b[38;5;124m must be a `Delta`, `UserDict`, \u001b[39m\u001b[38;5;124m\"\u001b[39m \u001b[38;5;124m\"\u001b[39m\u001b[38;5;124mor `dict`.\u001b[39m\u001b[38;5;124m\"\u001b[39m \u001b[38;5;241m%\u001b[39m f\n\u001b[1;32m    995\u001b[0m     )\n\u001b[1;32m    996\u001b[0m     new_state \u001b[38;5;241m=\u001b[39m state_ \u001b[38;5;241m+\u001b[39m delta\n",
      "File \u001b[0;32m~/Documents/recovered files/projects/AdversarialResearch/AutoRA packages/autora-core/src/autora/state/delta.py:727\u001b[0m, in \u001b[0;36minputs_from_state.<locals>._f\u001b[0;34m(state_, **kwargs)\u001b[0m\n\u001b[1;32m    725\u001b[0m     arguments_from_state[\u001b[38;5;124m\"\u001b[39m\u001b[38;5;124mstate\u001b[39m\u001b[38;5;124m\"\u001b[39m] \u001b[38;5;241m=\u001b[39m state_\n\u001b[1;32m    726\u001b[0m arguments \u001b[38;5;241m=\u001b[39m \u001b[38;5;28mdict\u001b[39m(arguments_from_state, \u001b[38;5;241m*\u001b[39m\u001b[38;5;241m*\u001b[39mkwargs)\n\u001b[0;32m--> 727\u001b[0m result \u001b[38;5;241m=\u001b[39m \u001b[43mf\u001b[49m\u001b[43m(\u001b[49m\u001b[38;5;241;43m*\u001b[39;49m\u001b[38;5;241;43m*\u001b[39;49m\u001b[43marguments\u001b[49m\u001b[43m)\u001b[49m\n\u001b[1;32m    728\u001b[0m \u001b[38;5;28;01mreturn\u001b[39;00m result\n",
      "File \u001b[0;32m~/Documents/recovered files/projects/AdversarialResearch/AutoRA packages/autora-core/src/autora/state/wrapper.py:60\u001b[0m, in \u001b[0;36mstate_fn_from_estimator.<locals>.theorist\u001b[0;34m(experiment_data, variables, **kwargs)\u001b[0m\n\u001b[1;32m     58\u001b[0m dvs \u001b[38;5;241m=\u001b[39m [v\u001b[38;5;241m.\u001b[39mname \u001b[38;5;28;01mfor\u001b[39;00m v \u001b[38;5;129;01min\u001b[39;00m variables\u001b[38;5;241m.\u001b[39mdependent_variables]\n\u001b[1;32m     59\u001b[0m X, y \u001b[38;5;241m=\u001b[39m experiment_data[ivs], experiment_data[dvs]\n\u001b[0;32m---> 60\u001b[0m new_model \u001b[38;5;241m=\u001b[39m \u001b[43mestimator\u001b[49m\u001b[38;5;241;43m.\u001b[39;49m\u001b[43mset_params\u001b[49m\u001b[43m(\u001b[49m\u001b[38;5;241;43m*\u001b[39;49m\u001b[38;5;241;43m*\u001b[39;49m\u001b[43mkwargs\u001b[49m\u001b[43m)\u001b[49m\u001b[38;5;241m.\u001b[39mfit(X, y)\n\u001b[1;32m     61\u001b[0m \u001b[38;5;28;01mreturn\u001b[39;00m Delta(model\u001b[38;5;241m=\u001b[39mnew_model)\n",
      "File \u001b[0;32m~/Documents/recovered files/projects/AdversarialResearch/AutoRA packages/autora-core/venv/lib/python3.9/site-packages/sklearn/base.py:229\u001b[0m, in \u001b[0;36mBaseEstimator.set_params\u001b[0;34m(self, **params)\u001b[0m\n\u001b[1;32m    227\u001b[0m \u001b[38;5;28;01mif\u001b[39;00m key \u001b[38;5;129;01mnot\u001b[39;00m \u001b[38;5;129;01min\u001b[39;00m valid_params:\n\u001b[1;32m    228\u001b[0m     local_valid_params \u001b[38;5;241m=\u001b[39m \u001b[38;5;28mself\u001b[39m\u001b[38;5;241m.\u001b[39m_get_param_names()\n\u001b[0;32m--> 229\u001b[0m     \u001b[38;5;28;01mraise\u001b[39;00m \u001b[38;5;167;01mValueError\u001b[39;00m(\n\u001b[1;32m    230\u001b[0m         \u001b[38;5;124mf\u001b[39m\u001b[38;5;124m\"\u001b[39m\u001b[38;5;124mInvalid parameter \u001b[39m\u001b[38;5;132;01m{\u001b[39;00mkey\u001b[38;5;132;01m!r}\u001b[39;00m\u001b[38;5;124m for estimator \u001b[39m\u001b[38;5;132;01m{\u001b[39;00m\u001b[38;5;28mself\u001b[39m\u001b[38;5;132;01m}\u001b[39;00m\u001b[38;5;124m. \u001b[39m\u001b[38;5;124m\"\u001b[39m\n\u001b[1;32m    231\u001b[0m         \u001b[38;5;124mf\u001b[39m\u001b[38;5;124m\"\u001b[39m\u001b[38;5;124mValid parameters are: \u001b[39m\u001b[38;5;132;01m{\u001b[39;00mlocal_valid_params\u001b[38;5;132;01m!r}\u001b[39;00m\u001b[38;5;124m.\u001b[39m\u001b[38;5;124m\"\u001b[39m\n\u001b[1;32m    232\u001b[0m     )\n\u001b[1;32m    234\u001b[0m \u001b[38;5;28;01mif\u001b[39;00m delim:\n\u001b[1;32m    235\u001b[0m     nested_params[key][sub_key] \u001b[38;5;241m=\u001b[39m value\n",
      "\u001b[0;31mValueError\u001b[0m: Invalid parameter 'X' for estimator x. Valid parameters are: ['epochs', 'prior_par', 'ts']."
     ]
    }
   ],
   "source": [
    "state = theorist(state,\n",
    "                 X=state.experiment_data[[\"x_1\", \"x_2\"]],\n",
    "                 y=state.experiment_data[\"y\"])\n",
    "# state.experiment_data[[\"x_1\", \"x_2\"]]"
   ]
  },
  {
   "cell_type": "code",
   "execution_count": null,
   "metadata": {},
   "outputs": [],
   "source": []
  }
 ],
 "metadata": {
  "kernelspec": {
   "display_name": "Python 3",
   "language": "python",
   "name": "python3"
  },
  "language_info": {
   "codemirror_mode": {
    "name": "ipython",
    "version": 2
   },
   "file_extension": ".py",
   "mimetype": "text/x-python",
   "name": "python",
   "nbconvert_exporter": "python",
   "pygments_lexer": "ipython2"
  }
 },
 "nbformat": 4,
 "nbformat_minor": 0
}
