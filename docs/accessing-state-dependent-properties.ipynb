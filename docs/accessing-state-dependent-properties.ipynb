{
 "cells": [
  {
   "cell_type": "markdown",
   "source": [
    "# Accessing \"State-dependent Properties\"\n",
    "\n",
    "Some experimentalists, experiment runners and theorists require access to the values\n",
    "created during the cycle execution, e.g. experimentalists which require access\n",
    "to the current best model or the observed data. These data update each cycle, and\n",
    "so cannot easily be set using simple `params`.\n",
    "\n",
    "For this case, it is possible to use \"state-dependent properties\" in the `params`\n",
    "dictionary. These are the following strings, which will be replaced during execution by\n",
    "their respective current values:\n",
    "\n",
    "- `\"%observations.ivs[-1]%\"`: the last observed independent variables\n",
    "- `\"%observations.dvs[-1]%\"`: the last observed dependent variables\n",
    "- `\"%observations.ivs%\"`: all the observed independent variables,\n",
    "concatenated into a single array\n",
    "- `\"%observations.dvs%\"`: all the observed dependent variables,\n",
    "concatenated into a single array\n",
    "- `\"%models[-1]%\"`: the last fitted theorist\n",
    "- `\"%models%\"`: all the fitted theorists\n",
    "\n",
    "In the following example, we use the `\"observations.ivs\"` cycle property for an\n",
    "experimentalist which excludes those conditions which have\n",
    "already been seen."
   ],
   "metadata": {
    "collapsed": false
   }
  },
  {
   "cell_type": "code",
   "execution_count": 1,
   "outputs": [],
   "source": [
    "import numpy as np\n",
    "from autora.experimentalist.pipeline import make_pipeline\n",
    "from autora.variable import VariableCollection, Variable\n",
    "from sklearn.linear_model import LinearRegression\n",
    "import pandas as pd\n",
    "from functools import partial\n",
    "\n",
    "from autora.workflow import Cycle"
   ],
   "metadata": {
    "collapsed": false,
    "ExecuteTime": {
     "start_time": "2023-04-28T16:00:29.742026Z",
     "end_time": "2023-04-28T16:00:30.440209Z"
    }
   }
  },
  {
   "cell_type": "code",
   "execution_count": 2,
   "outputs": [],
   "source": [
    "def ground_truth(x):\n",
    "    return x + 1\n",
    "variables = VariableCollection(\n",
    "   independent_variables=[Variable(name=\"x\", allowed_values=range(10))],\n",
    "   dependent_variables=[Variable(name=\"y\")],\n",
    "   )\n",
    "random_sampler_rng = np.random.default_rng(seed=180)\n",
    "def custom_random_sampler(conditions, n):\n",
    "    sampled_conditions = random_sampler_rng.choice(conditions, size=n, replace=False)\n",
    "    return sampled_conditions\n",
    "def exclude_conditions(conditions, excluded_conditions):\n",
    "    remaining_conditions = list(set(conditions) - set(excluded_conditions.flatten()))\n",
    "    return remaining_conditions\n",
    "unobserved_data_experimentalist = make_pipeline([\n",
    "    variables.independent_variables[0].allowed_values,\n",
    "    exclude_conditions,\n",
    "    custom_random_sampler,\n",
    "    partial(pd.DataFrame, columns=[\"x\"])\n",
    "    ]\n",
    ")\n",
    "example_theorist = LinearRegression()\n",
    "def get_example_synthetic_experiment_runner():\n",
    "    rng = np.random.default_rng(seed=180)\n",
    "    def runner(x):\n",
    "        return ground_truth(x) + rng.normal(0, 0.1, x.shape)\n",
    "    def dataframe_runner(conditions_df: pd.DataFrame):\n",
    "        observations_df = conditions_df.copy()\n",
    "        observations_df[\"y\"] = runner(conditions_df[\"x\"])\n",
    "        return observations_df\n",
    "    return dataframe_runner\n",
    "\n",
    "example_synthetic_experiment_runner = get_example_synthetic_experiment_runner()\n",
    "\n",
    "cycle_with_state_dep_properties = Cycle(\n",
    "    metadata=variables,\n",
    "    theorist=example_theorist,\n",
    "    experimentalist=unobserved_data_experimentalist,\n",
    "    experiment_runner=example_synthetic_experiment_runner,\n",
    "    params={\n",
    "        \"experimentalist\": {\n",
    "            \"exclude_conditions\": {\"excluded_conditions\": \"%observations.ivs%\"},\n",
    "            \"custom_random_sampler\": {\"n\": 1}\n",
    "        }\n",
    "    }\n",
    ")"
   ],
   "metadata": {
    "collapsed": false,
    "ExecuteTime": {
     "start_time": "2023-04-28T16:00:30.443462Z",
     "end_time": "2023-04-28T16:00:30.444929Z"
    }
   }
  },
  {
   "cell_type": "markdown",
   "source": [
    "Now we can run the cycler to generate conditions and run experiments. The first time round,\n",
    "we have the full set of 10 possible conditions to select from, and we select \"2\" at random:"
   ],
   "metadata": {
    "collapsed": false
   }
  },
  {
   "cell_type": "code",
   "execution_count": 3,
   "outputs": [
    {
     "data": {
      "text/plain": "   x\n0  2",
      "text/html": "<div>\n<style scoped>\n    .dataframe tbody tr th:only-of-type {\n        vertical-align: middle;\n    }\n\n    .dataframe tbody tr th {\n        vertical-align: top;\n    }\n\n    .dataframe thead th {\n        text-align: right;\n    }\n</style>\n<table border=\"1\" class=\"dataframe\">\n  <thead>\n    <tr style=\"text-align: right;\">\n      <th></th>\n      <th>x</th>\n    </tr>\n  </thead>\n  <tbody>\n    <tr>\n      <th>0</th>\n      <td>2</td>\n    </tr>\n  </tbody>\n</table>\n</div>"
     },
     "execution_count": 3,
     "metadata": {},
     "output_type": "execute_result"
    }
   ],
   "source": [
    "cycle_with_state_dep_properties.run().data.conditions[-1]"
   ],
   "metadata": {
    "collapsed": false,
    "ExecuteTime": {
     "start_time": "2023-04-28T16:00:30.451649Z",
     "end_time": "2023-04-28T16:00:30.456532Z"
    }
   }
  },
  {
   "cell_type": "markdown",
   "source": [
    "We can continue to run the cycler, each time we add more to the list of \"excluded\" options:"
   ],
   "metadata": {
    "collapsed": false
   }
  },
  {
   "cell_type": "code",
   "execution_count": 4,
   "outputs": [
    {
     "data": {
      "text/plain": "   x\n0  1",
      "text/html": "<div>\n<style scoped>\n    .dataframe tbody tr th:only-of-type {\n        vertical-align: middle;\n    }\n\n    .dataframe tbody tr th {\n        vertical-align: top;\n    }\n\n    .dataframe thead th {\n        text-align: right;\n    }\n</style>\n<table border=\"1\" class=\"dataframe\">\n  <thead>\n    <tr style=\"text-align: right;\">\n      <th></th>\n      <th>x</th>\n    </tr>\n  </thead>\n  <tbody>\n    <tr>\n      <th>0</th>\n      <td>1</td>\n    </tr>\n  </tbody>\n</table>\n</div>"
     },
     "execution_count": 4,
     "metadata": {},
     "output_type": "execute_result"
    }
   ],
   "source": [
    "cycle_with_state_dep_properties.run(num_cycles=9).data.conditions[-1]"
   ],
   "metadata": {
    "collapsed": false,
    "ExecuteTime": {
     "start_time": "2023-04-28T16:00:30.460205Z",
     "end_time": "2023-04-28T16:00:30.484920Z"
    }
   }
  },
  {
   "cell_type": "markdown",
   "source": [
    "If we try to evaluate it again, the experimentalist fails, as there aren't any more\n",
    "conditions which are available:"
   ],
   "metadata": {
    "collapsed": false
   }
  },
  {
   "cell_type": "code",
   "execution_count": 5,
   "outputs": [
    {
     "ename": "ValueError",
     "evalue": "a cannot be empty unless no samples are taken",
     "output_type": "error",
     "traceback": [
      "\u001B[0;31m---------------------------------------------------------------------------\u001B[0m",
      "\u001B[0;31mValueError\u001B[0m                                Traceback (most recent call last)",
      "Cell \u001B[0;32mIn[5], line 1\u001B[0m\n\u001B[0;32m----> 1\u001B[0m \u001B[43mcycle_with_state_dep_properties\u001B[49m\u001B[38;5;241;43m.\u001B[39;49m\u001B[43mrun\u001B[49m\u001B[43m(\u001B[49m\u001B[43m)\u001B[49m  \u001B[38;5;66;03m# doctest: +ELLIPSIS\u001B[39;00m\n",
      "File \u001B[0;32m~/Developer/autora-workflow/src/autora/workflow/cycle.py:82\u001B[0m, in \u001B[0;36mCycle.run\u001B[0;34m(self, num_cycles)\u001B[0m\n\u001B[1;32m     80\u001B[0m \u001B[38;5;28;01mdef\u001B[39;00m \u001B[38;5;21mrun\u001B[39m(\u001B[38;5;28mself\u001B[39m, num_cycles: \u001B[38;5;28mint\u001B[39m \u001B[38;5;241m=\u001B[39m \u001B[38;5;241m1\u001B[39m):\n\u001B[1;32m     81\u001B[0m \u001B[38;5;250m    \u001B[39m\u001B[38;5;124;03m\"\"\"Execute the next step in the cycle.\"\"\"\u001B[39;00m\n\u001B[0;32m---> 82\u001B[0m     \u001B[38;5;28;43msuper\u001B[39;49m\u001B[43m(\u001B[49m\u001B[43m)\u001B[49m\u001B[38;5;241;43m.\u001B[39;49m\u001B[43mrun\u001B[49m\u001B[43m(\u001B[49m\u001B[43mnum_steps\u001B[49m\u001B[38;5;241;43m=\u001B[39;49m\u001B[43mnum_cycles\u001B[49m\u001B[43m)\u001B[49m\n\u001B[1;32m     83\u001B[0m     \u001B[38;5;28;01mreturn\u001B[39;00m \u001B[38;5;28mself\u001B[39m\n",
      "File \u001B[0;32m~/Developer/autora-workflow/src/autora/workflow/base.py:59\u001B[0m, in \u001B[0;36mBaseController.run\u001B[0;34m(self, num_steps)\u001B[0m\n\u001B[1;32m     57\u001B[0m \u001B[38;5;250m\u001B[39m\u001B[38;5;124;03m\"\"\"Execute the next step in the cycle.\"\"\"\u001B[39;00m\n\u001B[1;32m     58\u001B[0m \u001B[38;5;28;01mfor\u001B[39;00m i \u001B[38;5;129;01min\u001B[39;00m \u001B[38;5;28mrange\u001B[39m(num_steps):\n\u001B[0;32m---> 59\u001B[0m     \u001B[38;5;28mnext\u001B[39m(\u001B[38;5;28mself\u001B[39m)\n\u001B[1;32m     60\u001B[0m \u001B[38;5;28;01mreturn\u001B[39;00m \u001B[38;5;28mself\u001B[39m\n",
      "File \u001B[0;32m~/Developer/autora-workflow/src/autora/workflow/base.py:71\u001B[0m, in \u001B[0;36mBaseController.__next__\u001B[0;34m(self)\u001B[0m\n\u001B[1;32m     68\u001B[0m next_params \u001B[38;5;241m=\u001B[39m \u001B[38;5;28mself\u001B[39m\u001B[38;5;241m.\u001B[39mstate\u001B[38;5;241m.\u001B[39mparams\u001B[38;5;241m.\u001B[39mget(next_function_name, {})\n\u001B[1;32m     70\u001B[0m \u001B[38;5;66;03m# Execute\u001B[39;00m\n\u001B[0;32m---> 71\u001B[0m result \u001B[38;5;241m=\u001B[39m \u001B[43mnext_function\u001B[49m\u001B[43m(\u001B[49m\u001B[38;5;28;43mself\u001B[39;49m\u001B[38;5;241;43m.\u001B[39;49m\u001B[43mstate\u001B[49m\u001B[43m,\u001B[49m\u001B[43m \u001B[49m\u001B[43mparams\u001B[49m\u001B[38;5;241;43m=\u001B[39;49m\u001B[43mnext_params\u001B[49m\u001B[43m)\u001B[49m\n\u001B[1;32m     73\u001B[0m \u001B[38;5;66;03m# Update\u001B[39;00m\n\u001B[1;32m     74\u001B[0m \u001B[38;5;28mself\u001B[39m\u001B[38;5;241m.\u001B[39mstate \u001B[38;5;241m=\u001B[39m result\n",
      "File \u001B[0;32m~/Developer/autora-workflow/src/autora/workflow/executor.py:128\u001B[0m, in \u001B[0;36mfull_cycle_wrapper\u001B[0;34m(state, experimentalist_pipeline, experiment_runner_callable, theorist_estimator, params)\u001B[0m\n\u001B[1;32m    126\u001B[0m \u001B[38;5;250m\u001B[39m\u001B[38;5;124;03m\"\"\"Interface for running the full AER cycle.\"\"\"\u001B[39;00m\n\u001B[1;32m    127\u001B[0m experimentalist_params \u001B[38;5;241m=\u001B[39m params\u001B[38;5;241m.\u001B[39mget(\u001B[38;5;124m\"\u001B[39m\u001B[38;5;124mexperimentalist\u001B[39m\u001B[38;5;124m\"\u001B[39m, {})\n\u001B[0;32m--> 128\u001B[0m experimentalist_result \u001B[38;5;241m=\u001B[39m \u001B[43mexperimentalist_wrapper\u001B[49m\u001B[43m(\u001B[49m\n\u001B[1;32m    129\u001B[0m \u001B[43m    \u001B[49m\u001B[43mstate\u001B[49m\u001B[43m,\u001B[49m\u001B[43m \u001B[49m\u001B[43mexperimentalist_pipeline\u001B[49m\u001B[43m,\u001B[49m\u001B[43m \u001B[49m\u001B[43mexperimentalist_params\u001B[49m\n\u001B[1;32m    130\u001B[0m \u001B[43m\u001B[49m\u001B[43m)\u001B[49m\n\u001B[1;32m    131\u001B[0m experiment_runner_params \u001B[38;5;241m=\u001B[39m params\u001B[38;5;241m.\u001B[39mget(\u001B[38;5;124m\"\u001B[39m\u001B[38;5;124mexperiment_runner\u001B[39m\u001B[38;5;124m\"\u001B[39m, {})\n\u001B[1;32m    132\u001B[0m experiment_runner_result \u001B[38;5;241m=\u001B[39m experiment_runner_wrapper(\n\u001B[1;32m    133\u001B[0m     experimentalist_result, experiment_runner_callable, experiment_runner_params\n\u001B[1;32m    134\u001B[0m )\n",
      "File \u001B[0;32m~/Developer/autora-workflow/src/autora/workflow/executor.py:30\u001B[0m, in \u001B[0;36mexperimentalist_wrapper\u001B[0;34m(state, pipeline, params)\u001B[0m\n\u001B[1;32m     28\u001B[0m \u001B[38;5;250m\u001B[39m\u001B[38;5;124;03m\"\"\"Interface for running the experimentalist pipeline.\"\"\"\u001B[39;00m\n\u001B[1;32m     29\u001B[0m params_ \u001B[38;5;241m=\u001B[39m resolve_state_params(params, state)\n\u001B[0;32m---> 30\u001B[0m new_conditions \u001B[38;5;241m=\u001B[39m \u001B[43mpipeline\u001B[49m\u001B[43m(\u001B[49m\u001B[38;5;241;43m*\u001B[39;49m\u001B[38;5;241;43m*\u001B[39;49m\u001B[43mparams_\u001B[49m\u001B[43m)\u001B[49m\n\u001B[1;32m     32\u001B[0m \u001B[38;5;28;01mif\u001B[39;00m \u001B[38;5;28misinstance\u001B[39m(new_conditions, pd\u001B[38;5;241m.\u001B[39mDataFrame):\n\u001B[1;32m     33\u001B[0m     new_conditions_array \u001B[38;5;241m=\u001B[39m new_conditions\n",
      "File \u001B[0;32m~/Developer/autora-core/src/autora/experimentalist/pipeline.py:171\u001B[0m, in \u001B[0;36mPipeline.__call__\u001B[0;34m(self, ex, **params)\u001B[0m\n\u001B[1;32m    169\u001B[0m     \u001B[38;5;28;01massert\u001B[39;00m \u001B[38;5;28misinstance\u001B[39m(pipe, Pipe)\n\u001B[1;32m    170\u001B[0m     all_params_for_pipe \u001B[38;5;241m=\u001B[39m merged_params\u001B[38;5;241m.\u001B[39mget(name, \u001B[38;5;28mdict\u001B[39m())\n\u001B[0;32m--> 171\u001B[0m     results\u001B[38;5;241m.\u001B[39mappend(\u001B[43mpipe\u001B[49m\u001B[43m(\u001B[49m\u001B[43mresults\u001B[49m\u001B[43m[\u001B[49m\u001B[38;5;241;43m-\u001B[39;49m\u001B[38;5;241;43m1\u001B[39;49m\u001B[43m]\u001B[49m\u001B[43m,\u001B[49m\u001B[43m \u001B[49m\u001B[38;5;241;43m*\u001B[39;49m\u001B[38;5;241;43m*\u001B[39;49m\u001B[43mall_params_for_pipe\u001B[49m\u001B[43m)\u001B[49m)\n\u001B[1;32m    173\u001B[0m \u001B[38;5;28;01mreturn\u001B[39;00m results[\u001B[38;5;241m-\u001B[39m\u001B[38;5;241m1\u001B[39m]\n",
      "Cell \u001B[0;32mIn[2], line 9\u001B[0m, in \u001B[0;36mcustom_random_sampler\u001B[0;34m(conditions, n)\u001B[0m\n\u001B[1;32m      8\u001B[0m \u001B[38;5;28;01mdef\u001B[39;00m \u001B[38;5;21mcustom_random_sampler\u001B[39m(conditions, n):\n\u001B[0;32m----> 9\u001B[0m     sampled_conditions \u001B[38;5;241m=\u001B[39m \u001B[43mrandom_sampler_rng\u001B[49m\u001B[38;5;241;43m.\u001B[39;49m\u001B[43mchoice\u001B[49m\u001B[43m(\u001B[49m\u001B[43mconditions\u001B[49m\u001B[43m,\u001B[49m\u001B[43m \u001B[49m\u001B[43msize\u001B[49m\u001B[38;5;241;43m=\u001B[39;49m\u001B[43mn\u001B[49m\u001B[43m,\u001B[49m\u001B[43m \u001B[49m\u001B[43mreplace\u001B[49m\u001B[38;5;241;43m=\u001B[39;49m\u001B[38;5;28;43;01mFalse\u001B[39;49;00m\u001B[43m)\u001B[49m\n\u001B[1;32m     10\u001B[0m     \u001B[38;5;28;01mreturn\u001B[39;00m sampled_conditions\n",
      "File \u001B[0;32m_generator.pyx:729\u001B[0m, in \u001B[0;36mnumpy.random._generator.Generator.choice\u001B[0;34m()\u001B[0m\n",
      "\u001B[0;31mValueError\u001B[0m: a cannot be empty unless no samples are taken"
     ]
    }
   ],
   "source": [
    "cycle_with_state_dep_properties.run()  # doctest: +ELLIPSIS"
   ],
   "metadata": {
    "collapsed": false
   }
  },
  {
   "cell_type": "code",
   "execution_count": 6,
   "outputs": [
    {
     "data": {
      "text/plain": "   x\n0  2\n1  6\n2  5\n3  7\n4  3\n5  4\n6  9\n7  0\n8  8\n9  1",
      "text/html": "<div>\n<style scoped>\n    .dataframe tbody tr th:only-of-type {\n        vertical-align: middle;\n    }\n\n    .dataframe tbody tr th {\n        vertical-align: top;\n    }\n\n    .dataframe thead th {\n        text-align: right;\n    }\n</style>\n<table border=\"1\" class=\"dataframe\">\n  <thead>\n    <tr style=\"text-align: right;\">\n      <th></th>\n      <th>x</th>\n    </tr>\n  </thead>\n  <tbody>\n    <tr>\n      <th>0</th>\n      <td>2</td>\n    </tr>\n    <tr>\n      <th>1</th>\n      <td>6</td>\n    </tr>\n    <tr>\n      <th>2</th>\n      <td>5</td>\n    </tr>\n    <tr>\n      <th>3</th>\n      <td>7</td>\n    </tr>\n    <tr>\n      <th>4</th>\n      <td>3</td>\n    </tr>\n    <tr>\n      <th>5</th>\n      <td>4</td>\n    </tr>\n    <tr>\n      <th>6</th>\n      <td>9</td>\n    </tr>\n    <tr>\n      <th>7</th>\n      <td>0</td>\n    </tr>\n    <tr>\n      <th>8</th>\n      <td>8</td>\n    </tr>\n    <tr>\n      <th>9</th>\n      <td>1</td>\n    </tr>\n  </tbody>\n</table>\n</div>"
     },
     "execution_count": 6,
     "metadata": {},
     "output_type": "execute_result"
    }
   ],
   "source": [
    "pd.concat(cycle_with_state_dep_properties.data.conditions, ignore_index=True)\n"
   ],
   "metadata": {
    "collapsed": false,
    "ExecuteTime": {
     "start_time": "2023-04-28T16:00:58.149168Z",
     "end_time": "2023-04-28T16:00:58.158434Z"
    }
   }
  }
 ],
 "metadata": {
  "kernelspec": {
   "display_name": "Python 3",
   "language": "python",
   "name": "python3"
  },
  "language_info": {
   "codemirror_mode": {
    "name": "ipython",
    "version": 2
   },
   "file_extension": ".py",
   "mimetype": "text/x-python",
   "name": "python",
   "nbconvert_exporter": "python",
   "pygments_lexer": "ipython2",
   "version": "2.7.6"
  }
 },
 "nbformat": 4,
 "nbformat_minor": 0
}
