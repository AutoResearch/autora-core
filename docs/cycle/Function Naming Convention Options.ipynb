{
 "cells": [
  {
   "cell_type": "markdown",
   "metadata": {},
   "source": [
    "# Function Naming Convention Options\n"
   ]
  },
  {
   "cell_type": "code",
   "execution_count": null,
   "metadata": {},
   "outputs": [],
   "source": [
    "!pip install \"git+https://github.com/autoresearch/autora-core.git@feat/function-naming-options\""
   ]
  },
  {
   "cell_type": "markdown",
   "metadata": {},
   "source": [
    "## Introduction\n",
    "\n",
    "AutoRA is a framework for model discovery, which can propose and run experiments and analyse the resulting data,\n",
    "fully autonomously. This process runs cyclically and we call the complete process the \"cycle\" and the individual\n",
    "steps \"tasks\".\n",
    "\n",
    "Our original object-oriented approach for defining the cycle turned out to be too complicated for people to understand.\n",
    "We've been building a simpler functional interface for it for defining the cycles.\n",
    "\n",
    "But we have a problem – the naming convention for the functions is difficult to agree on. The AER group (which is\n",
    "developing AutoRA and related tools) has asked us to look over the current options and give some feedback.\n",
    "\n",
    "## The functional interface\n",
    "A **state** is a description of all the data and metadata known about a particular phenomenon:\n",
    "\n",
    "- the domain of the variables,\n",
    "- experimental conditions to be investigated,\n",
    "- the experimental data, the newest model, and\n",
    "- any other data the cycle might need.\n",
    "\n",
    "We define a state as follows:"
   ]
  },
  {
   "cell_type": "code",
   "execution_count": null,
   "metadata": {},
   "outputs": [],
   "source": [
    "from autora.state.bundled import StandardState\n",
    "from autora.variable import VariableCollection, Variable\n",
    "\n",
    "s_0 = StandardState(\n",
    "    variables=VariableCollection(\n",
    "        independent_variables=[Variable(\"x\", value_range=(-10, 10))],\n",
    "        dependent_variables=[Variable(\"y\")]\n",
    "    )\n",
    ")"
   ]
  },
  {
   "cell_type": "markdown",
   "metadata": {},
   "source": [
    "`s_0` doesn't have anything other than the metadata we gave it:"
   ]
  },
  {
   "cell_type": "code",
   "execution_count": null,
   "metadata": {},
   "outputs": [
    {
     "data": {
      "text/plain": [
       "StandardState(variables=VariableCollection(independent_variables=[Variable(name='x', value_range=(-10, 10), allowed_values=None, units='', type=<ValueType.REAL: 'real'>, variable_label='', rescale=1, is_covariate=False)], dependent_variables=[Variable(name='y', value_range=None, allowed_values=None, units='', type=<ValueType.REAL: 'real'>, variable_label='', rescale=1, is_covariate=False)], covariates=[]), conditions=None, experiment_data=None, models=[])"
      ]
     },
     "execution_count": null,
     "metadata": {},
     "output_type": "execute_result"
    }
   ],
   "source": [
    "s_0"
   ]
  },
  {
   "cell_type": "markdown",
   "metadata": {},
   "source": [
    "The functional interface sees the tasks as functions $f$ on state $S$ which return a new state.\n",
    "A single task looks like:\n",
    "$$ f(S_{i}) \\rightarrow S_{i+1} ,$$\n",
    "\n",
    "and a pipeline of such operations looks like:\n",
    "$$S_n = f_n^\\prime(...f_2^\\prime(f_1^\\prime(S_0))) .$$\n",
    "\n",
    "One task we define is the experimentalist, which proposes new experimental conditions.\n",
    "One experimentalist is the `random_pool` which takes variables and returns a series of conditions.\n",
    "We define it just like that:"
   ]
  },
  {
   "cell_type": "code",
   "execution_count": null,
   "metadata": {},
   "outputs": [],
   "source": [
    "from typing import Optional\n",
    "import numpy as np\n",
    "import pandas as pd\n",
    "\n",
    "def random_pool(\n",
    "    variables: VariableCollection,\n",
    "    num_samples: int = 5,\n",
    "    random_state: Optional[int] = None,\n",
    ") -> pd.DataFrame:\n",
    "    rng = np.random.default_rng(random_state)\n",
    "\n",
    "    raw_conditions = {}\n",
    "    for iv in variables.independent_variables:\n",
    "        raw_conditions[iv.name] = rng.uniform(*iv.value_range, size=num_samples)\n",
    "\n",
    "    return pd.DataFrame(raw_conditions)"
   ]
  },
  {
   "cell_type": "markdown",
   "metadata": {},
   "source": [
    "And running it on the variables results in a series of conditions sampled uniformly between -10 and +10:"
   ]
  },
  {
   "cell_type": "code",
   "execution_count": null,
   "metadata": {},
   "outputs": [
    {
     "data": {
      "text/html": [
       "<div>\n",
       "<style scoped>\n",
       "    .dataframe tbody tr th:only-of-type {\n",
       "        vertical-align: middle;\n",
       "    }\n",
       "\n",
       "    .dataframe tbody tr th {\n",
       "        vertical-align: top;\n",
       "    }\n",
       "\n",
       "    .dataframe thead th {\n",
       "        text-align: right;\n",
       "    }\n",
       "</style>\n",
       "<table border=\"1\" class=\"dataframe\">\n",
       "  <thead>\n",
       "    <tr style=\"text-align: right;\">\n",
       "      <th></th>\n",
       "      <th>x</th>\n",
       "    </tr>\n",
       "  </thead>\n",
       "  <tbody>\n",
       "    <tr>\n",
       "      <th>0</th>\n",
       "      <td>-2.291109</td>\n",
       "    </tr>\n",
       "    <tr>\n",
       "      <th>1</th>\n",
       "      <td>-6.603135</td>\n",
       "    </tr>\n",
       "    <tr>\n",
       "      <th>2</th>\n",
       "      <td>-8.877414</td>\n",
       "    </tr>\n",
       "    <tr>\n",
       "      <th>3</th>\n",
       "      <td>3.108730</td>\n",
       "    </tr>\n",
       "    <tr>\n",
       "      <th>4</th>\n",
       "      <td>8.169106</td>\n",
       "    </tr>\n",
       "  </tbody>\n",
       "</table>\n",
       "</div>"
      ],
      "text/plain": [
       "          x\n",
       "0 -2.291109\n",
       "1 -6.603135\n",
       "2 -8.877414\n",
       "3  3.108730\n",
       "4  8.169106"
      ]
     },
     "execution_count": null,
     "metadata": {},
     "output_type": "execute_result"
    }
   ],
   "source": [
    "random_pool(s_0.variables)"
   ]
  },
  {
   "cell_type": "markdown",
   "metadata": {},
   "source": [
    "We still need to do some work so that it can run directly on $S$.\n",
    "\n",
    "$S$ is defined such that it can be added to: $$S_{i+1} = S_i + \\Delta S_{i+1}$$\n",
    "\n",
    "The way we package the random_pool function is to make its output into a `Delta`:"
   ]
  },
  {
   "cell_type": "code",
   "execution_count": null,
   "metadata": {},
   "outputs": [],
   "source": [
    "from autora.state.delta import Delta\n",
    "\n",
    "\n",
    "def random_pool_delta(\n",
    "    variables: VariableCollection,\n",
    "    num_samples: int = 5,\n",
    "    random_state: Optional[int] = None,\n",
    "):\n",
    "    \"\"\"\n",
    "    Create a sequence of conditions randomly sampled from independent variables.\n",
    "\n",
    "    Args:\n",
    "        variables: the description of all the variables in the AER experiment.\n",
    "        num_samples: the number of conditions to produce\n",
    "        random_state: the seed value for the random number generator\n",
    "        replace: if True, allow repeated values\n",
    "\n",
    "    Returns: a Result / Delta object with the conditions as a pd.DataFrame in the `conditions` field\n",
    "\n",
    "    \"\"\"\n",
    "    conditions = random_pool(\n",
    "        variables=variables,\n",
    "        num_samples=num_samples,\n",
    "        random_state=random_state,\n",
    "    )\n",
    "    return Delta(conditions=conditions)"
   ]
  },
  {
   "cell_type": "markdown",
   "metadata": {},
   "source": [
    "which can be run on the same inputs but produces a differently packaged output:"
   ]
  },
  {
   "cell_type": "code",
   "execution_count": null,
   "metadata": {},
   "outputs": [
    {
     "data": {
      "text/plain": [
       "{'conditions':           x\n",
       "0 -1.235222\n",
       "1 -6.908781\n",
       "2 -2.617692\n",
       "3 -4.960670\n",
       "4  0.743513}"
      ]
     },
     "execution_count": null,
     "metadata": {},
     "output_type": "execute_result"
    }
   ],
   "source": [
    "random_pool_delta(s_0.variables)"
   ]
  },
  {
   "cell_type": "markdown",
   "metadata": {},
   "source": [
    "Finally, we define a wrapper which combines this with $S$, which uses a utility function offered by AutoRA."
   ]
  },
  {
   "cell_type": "code",
   "execution_count": null,
   "metadata": {},
   "outputs": [],
   "source": [
    "from autora.state.delta import State, wrap_to_use_state\n",
    "\n",
    "\n",
    "def random_pool_state(\n",
    "    s: State,\n",
    "    num_samples: int = 5,\n",
    "    random_state: Optional[int] = None,\n",
    "    **kwargs,\n",
    ") -> State:\n",
    "\n",
    "    return wrap_to_use_state(random_pool_delta)(\n",
    "        s, num_samples=num_samples, random_state=random_state, **kwargs\n",
    "    )"
   ]
  },
  {
   "cell_type": "markdown",
   "metadata": {},
   "source": [
    "Now we can run the function directly on $S$, returning a new state with our conditions included:"
   ]
  },
  {
   "cell_type": "code",
   "execution_count": null,
   "metadata": {},
   "outputs": [
    {
     "data": {
      "text/plain": [
       "StandardState(variables=VariableCollection(independent_variables=[Variable(name='x', value_range=(-10, 10), allowed_values=None, units='', type=<ValueType.REAL: 'real'>, variable_label='', rescale=1, is_covariate=False)], dependent_variables=[Variable(name='y', value_range=None, allowed_values=None, units='', type=<ValueType.REAL: 'real'>, variable_label='', rescale=1, is_covariate=False)], covariates=[]), conditions=          x\n",
       "0  5.510190\n",
       "1 -9.734381\n",
       "2 -9.247260\n",
       "3 -3.880819\n",
       "4 -7.846659, experiment_data=None, models=[])"
      ]
     },
     "execution_count": null,
     "metadata": {},
     "output_type": "execute_result"
    }
   ],
   "source": [
    "random_pool_state(s_0)"
   ]
  },
  {
   "cell_type": "markdown",
   "metadata": {},
   "source": [
    "The question is: what naming convention should these functions have, given that usually the `_state` version will be\n",
    "used and that every contribution will need to follow the same convention? There might be multiple poolers and\n",
    "samplers offered by an AutoRA module."
   ]
  },
  {
   "cell_type": "markdown",
   "metadata": {},
   "source": [
    "## The problem and the options in the simplest case\n",
    "\n",
    "### Option 1: simple function names with conventional suffixes (or prefixes)"
   ]
  },
  {
   "cell_type": "code",
   "execution_count": null,
   "metadata": {},
   "outputs": [
    {
     "data": {
      "text/plain": [
       "StandardState(variables=VariableCollection(independent_variables=[Variable(name='x', value_range=(-10, 10), allowed_values=None, units='', type=<ValueType.REAL: 'real'>, variable_label='', rescale=1, is_covariate=False)], dependent_variables=[Variable(name='y', value_range=None, allowed_values=None, units='', type=<ValueType.REAL: 'real'>, variable_label='', rescale=1, is_covariate=False)], covariates=[]), conditions=          x\n",
       "0  1.802195\n",
       "1 -6.681581\n",
       "2 -5.298816\n",
       "3 -8.727805\n",
       "4  9.767906, experiment_data=None, models=[])"
      ]
     },
     "execution_count": null,
     "metadata": {},
     "output_type": "execute_result"
    }
   ],
   "source": [
    "from autora.experimentalist.random_ import random_pool_state\n",
    "random_pool_state(s_0)"
   ]
  },
  {
   "cell_type": "markdown",
   "metadata": {},
   "source": [
    "... or ..."
   ]
  },
  {
   "cell_type": "code",
   "execution_count": null,
   "metadata": {},
   "outputs": [
    {
     "data": {
      "text/plain": [
       "StandardState(variables=VariableCollection(independent_variables=[Variable(name='x', value_range=(-10, 10), allowed_values=None, units='', type=<ValueType.REAL: 'real'>, variable_label='', rescale=1, is_covariate=False)], dependent_variables=[Variable(name='y', value_range=None, allowed_values=None, units='', type=<ValueType.REAL: 'real'>, variable_label='', rescale=1, is_covariate=False)], covariates=[]), conditions=          x\n",
       "0 -0.084047\n",
       "1  6.874185\n",
       "2 -6.176624\n",
       "3 -5.670282\n",
       "4 -6.865156, experiment_data=None, models=[])"
      ]
     },
     "execution_count": null,
     "metadata": {},
     "output_type": "execute_result"
    }
   ],
   "source": [
    "from autora.experimentalist.random_ import random_pool_s\n",
    "random_pool_s(s_0)"
   ]
  },
  {
   "cell_type": "markdown",
   "metadata": {},
   "source": [
    "### Option 2: one state function per module\n",
    "\n",
    "This option is inspired by the scikit-learn `Regressor().fit(X, y)` syntax, but note that `pooler` in this case is a\n",
    "module rather than a traditional object, and it shouldn't have any internal state which affects the fitting."
   ]
  },
  {
   "cell_type": "code",
   "execution_count": null,
   "metadata": {},
   "outputs": [
    {
     "data": {
      "text/plain": [
       "StandardState(variables=VariableCollection(independent_variables=[Variable(name='x', value_range=(-10, 10), allowed_values=None, units='', type=<ValueType.REAL: 'real'>, variable_label='', rescale=1, is_covariate=False)], dependent_variables=[Variable(name='y', value_range=None, allowed_values=None, units='', type=<ValueType.REAL: 'real'>, variable_label='', rescale=1, is_covariate=False)], covariates=[]), conditions=          x\n",
       "0  1.929206\n",
       "1  5.592331\n",
       "2  6.558775\n",
       "3 -8.900612\n",
       "4  6.128046, experiment_data=None, models=[])"
      ]
     },
     "execution_count": null,
     "metadata": {},
     "output_type": "execute_result"
    }
   ],
   "source": [
    "import autora.experimentalist.random_.pool as pool\n",
    "pool.on_state(s_0)"
   ]
  },
  {
   "cell_type": "markdown",
   "metadata": {},
   "source": [
    "### Option 3: `run` functions"
   ]
  },
  {
   "cell_type": "code",
   "execution_count": null,
   "metadata": {},
   "outputs": [
    {
     "data": {
      "text/plain": [
       "StandardState(variables=VariableCollection(independent_variables=[Variable(name='x', value_range=(-10, 10), allowed_values=None, units='', type=<ValueType.REAL: 'real'>, variable_label='', rescale=1, is_covariate=False)], dependent_variables=[Variable(name='y', value_range=None, allowed_values=None, units='', type=<ValueType.REAL: 'real'>, variable_label='', rescale=1, is_covariate=False)], covariates=[]), conditions=          x\n",
       "0 -0.114128\n",
       "1  2.292411\n",
       "2 -5.499759\n",
       "3  7.032079\n",
       "4 -8.296732, experiment_data=None, models=[])"
      ]
     },
     "execution_count": null,
     "metadata": {},
     "output_type": "execute_result"
    }
   ],
   "source": [
    "pool.run(s_0)"
   ]
  },
  {
   "cell_type": "code",
   "execution_count": null,
   "metadata": {},
   "outputs": [
    {
     "data": {
      "text/plain": [
       "StandardState(variables=VariableCollection(independent_variables=[Variable(name='x', value_range=(-10, 10), allowed_values=None, units='', type=<ValueType.REAL: 'real'>, variable_label='', rescale=1, is_covariate=False)], dependent_variables=[Variable(name='y', value_range=None, allowed_values=None, units='', type=<ValueType.REAL: 'real'>, variable_label='', rescale=1, is_covariate=False)], covariates=[]), conditions=          x\n",
       "0 -5.583620\n",
       "1 -1.866155\n",
       "2 -5.859761\n",
       "3  0.061423\n",
       "4 -1.798987, experiment_data=None, models=[])"
      ]
     },
     "execution_count": null,
     "metadata": {},
     "output_type": "execute_result"
    }
   ],
   "source": [
    "pool.run_on_state(s_0)"
   ]
  },
  {
   "cell_type": "markdown",
   "metadata": {},
   "source": [
    "## More examples: using a grid and sample\n",
    "\n",
    "We can also construct a processing pipeline using multiple functions. In the following example, we have a state which\n",
    " has a grid of allowable variable values:"
   ]
  },
  {
   "cell_type": "code",
   "execution_count": null,
   "metadata": {},
   "outputs": [],
   "source": [
    "s_0 = StandardState(\n",
    "    variables=VariableCollection(independent_variables=[\n",
    "        Variable(name=\"x\", allowed_values=np.linspace(-10, 10, 101)),\n",
    "        Variable(name=\"y\", allowed_values=[3, 4]),\n",
    "        Variable(name=\"z\", allowed_values=np.linspace(20, 30, 11))]\n",
    "    )\n",
    ")"
   ]
  },
  {
   "cell_type": "markdown",
   "metadata": {},
   "source": [
    "In this case, we generate the full list of possible conditions using the `grid` functions:"
   ]
  },
  {
   "cell_type": "code",
   "execution_count": null,
   "metadata": {},
   "outputs": [
    {
     "data": {
      "text/plain": [
       "StandardState(variables=VariableCollection(independent_variables=[Variable(name='x', value_range=None, allowed_values=array([-10. ,  -9.8,  -9.6,  -9.4,  -9.2,  -9. ,  -8.8,  -8.6,  -8.4,\n",
       "        -8.2,  -8. ,  -7.8,  -7.6,  -7.4,  -7.2,  -7. ,  -6.8,  -6.6,\n",
       "        -6.4,  -6.2,  -6. ,  -5.8,  -5.6,  -5.4,  -5.2,  -5. ,  -4.8,\n",
       "        -4.6,  -4.4,  -4.2,  -4. ,  -3.8,  -3.6,  -3.4,  -3.2,  -3. ,\n",
       "        -2.8,  -2.6,  -2.4,  -2.2,  -2. ,  -1.8,  -1.6,  -1.4,  -1.2,\n",
       "        -1. ,  -0.8,  -0.6,  -0.4,  -0.2,   0. ,   0.2,   0.4,   0.6,\n",
       "         0.8,   1. ,   1.2,   1.4,   1.6,   1.8,   2. ,   2.2,   2.4,\n",
       "         2.6,   2.8,   3. ,   3.2,   3.4,   3.6,   3.8,   4. ,   4.2,\n",
       "         4.4,   4.6,   4.8,   5. ,   5.2,   5.4,   5.6,   5.8,   6. ,\n",
       "         6.2,   6.4,   6.6,   6.8,   7. ,   7.2,   7.4,   7.6,   7.8,\n",
       "         8. ,   8.2,   8.4,   8.6,   8.8,   9. ,   9.2,   9.4,   9.6,\n",
       "         9.8,  10. ]), units='', type=<ValueType.REAL: 'real'>, variable_label='', rescale=1, is_covariate=False), Variable(name='y', value_range=None, allowed_values=[3, 4], units='', type=<ValueType.REAL: 'real'>, variable_label='', rescale=1, is_covariate=False), Variable(name='z', value_range=None, allowed_values=array([20., 21., 22., 23., 24., 25., 26., 27., 28., 29., 30.]), units='', type=<ValueType.REAL: 'real'>, variable_label='', rescale=1, is_covariate=False)], dependent_variables=[], covariates=[]), conditions=         x  y     z\n",
       "0    -10.0  3  20.0\n",
       "1    -10.0  3  21.0\n",
       "2    -10.0  3  22.0\n",
       "3    -10.0  3  23.0\n",
       "4    -10.0  3  24.0\n",
       "...    ... ..   ...\n",
       "2217  10.0  4  26.0\n",
       "2218  10.0  4  27.0\n",
       "2219  10.0  4  28.0\n",
       "2220  10.0  4  29.0\n",
       "2221  10.0  4  30.0\n",
       "\n",
       "[2222 rows x 3 columns], experiment_data=None, models=[])"
      ]
     },
     "execution_count": null,
     "metadata": {},
     "output_type": "execute_result"
    }
   ],
   "source": [
    "from autora.experimentalist.grid_ import grid_pool_state\n",
    "grid_pool_state(s_0)\n"
   ]
  },
  {
   "cell_type": "markdown",
   "metadata": {},
   "source": [
    "We have the same options as before – shorter suffixes:"
   ]
  },
  {
   "cell_type": "code",
   "execution_count": null,
   "metadata": {},
   "outputs": [
    {
     "data": {
      "text/plain": [
       "StandardState(variables=VariableCollection(independent_variables=[Variable(name='x', value_range=None, allowed_values=array([-10. ,  -9.8,  -9.6,  -9.4,  -9.2,  -9. ,  -8.8,  -8.6,  -8.4,\n",
       "        -8.2,  -8. ,  -7.8,  -7.6,  -7.4,  -7.2,  -7. ,  -6.8,  -6.6,\n",
       "        -6.4,  -6.2,  -6. ,  -5.8,  -5.6,  -5.4,  -5.2,  -5. ,  -4.8,\n",
       "        -4.6,  -4.4,  -4.2,  -4. ,  -3.8,  -3.6,  -3.4,  -3.2,  -3. ,\n",
       "        -2.8,  -2.6,  -2.4,  -2.2,  -2. ,  -1.8,  -1.6,  -1.4,  -1.2,\n",
       "        -1. ,  -0.8,  -0.6,  -0.4,  -0.2,   0. ,   0.2,   0.4,   0.6,\n",
       "         0.8,   1. ,   1.2,   1.4,   1.6,   1.8,   2. ,   2.2,   2.4,\n",
       "         2.6,   2.8,   3. ,   3.2,   3.4,   3.6,   3.8,   4. ,   4.2,\n",
       "         4.4,   4.6,   4.8,   5. ,   5.2,   5.4,   5.6,   5.8,   6. ,\n",
       "         6.2,   6.4,   6.6,   6.8,   7. ,   7.2,   7.4,   7.6,   7.8,\n",
       "         8. ,   8.2,   8.4,   8.6,   8.8,   9. ,   9.2,   9.4,   9.6,\n",
       "         9.8,  10. ]), units='', type=<ValueType.REAL: 'real'>, variable_label='', rescale=1, is_covariate=False), Variable(name='y', value_range=None, allowed_values=[3, 4], units='', type=<ValueType.REAL: 'real'>, variable_label='', rescale=1, is_covariate=False), Variable(name='z', value_range=None, allowed_values=array([20., 21., 22., 23., 24., 25., 26., 27., 28., 29., 30.]), units='', type=<ValueType.REAL: 'real'>, variable_label='', rescale=1, is_covariate=False)], dependent_variables=[], covariates=[]), conditions=         x  y     z\n",
       "0    -10.0  3  20.0\n",
       "1    -10.0  3  21.0\n",
       "2    -10.0  3  22.0\n",
       "3    -10.0  3  23.0\n",
       "4    -10.0  3  24.0\n",
       "...    ... ..   ...\n",
       "2217  10.0  4  26.0\n",
       "2218  10.0  4  27.0\n",
       "2219  10.0  4  28.0\n",
       "2220  10.0  4  29.0\n",
       "2221  10.0  4  30.0\n",
       "\n",
       "[2222 rows x 3 columns], experiment_data=None, models=[])"
      ]
     },
     "execution_count": null,
     "metadata": {},
     "output_type": "execute_result"
    }
   ],
   "source": [
    "from autora.experimentalist.grid_ import grid_pool_s\n",
    "grid_pool_s(s_0)"
   ]
  },
  {
   "cell_type": "code",
   "execution_count": null,
   "metadata": {},
   "outputs": [
    {
     "data": {
      "text/plain": [
       "StandardState(variables=VariableCollection(independent_variables=[Variable(name='x', value_range=None, allowed_values=array([-10. ,  -9.8,  -9.6,  -9.4,  -9.2,  -9. ,  -8.8,  -8.6,  -8.4,\n",
       "        -8.2,  -8. ,  -7.8,  -7.6,  -7.4,  -7.2,  -7. ,  -6.8,  -6.6,\n",
       "        -6.4,  -6.2,  -6. ,  -5.8,  -5.6,  -5.4,  -5.2,  -5. ,  -4.8,\n",
       "        -4.6,  -4.4,  -4.2,  -4. ,  -3.8,  -3.6,  -3.4,  -3.2,  -3. ,\n",
       "        -2.8,  -2.6,  -2.4,  -2.2,  -2. ,  -1.8,  -1.6,  -1.4,  -1.2,\n",
       "        -1. ,  -0.8,  -0.6,  -0.4,  -0.2,   0. ,   0.2,   0.4,   0.6,\n",
       "         0.8,   1. ,   1.2,   1.4,   1.6,   1.8,   2. ,   2.2,   2.4,\n",
       "         2.6,   2.8,   3. ,   3.2,   3.4,   3.6,   3.8,   4. ,   4.2,\n",
       "         4.4,   4.6,   4.8,   5. ,   5.2,   5.4,   5.6,   5.8,   6. ,\n",
       "         6.2,   6.4,   6.6,   6.8,   7. ,   7.2,   7.4,   7.6,   7.8,\n",
       "         8. ,   8.2,   8.4,   8.6,   8.8,   9. ,   9.2,   9.4,   9.6,\n",
       "         9.8,  10. ]), units='', type=<ValueType.REAL: 'real'>, variable_label='', rescale=1, is_covariate=False), Variable(name='y', value_range=None, allowed_values=[3, 4], units='', type=<ValueType.REAL: 'real'>, variable_label='', rescale=1, is_covariate=False), Variable(name='z', value_range=None, allowed_values=array([20., 21., 22., 23., 24., 25., 26., 27., 28., 29., 30.]), units='', type=<ValueType.REAL: 'real'>, variable_label='', rescale=1, is_covariate=False)], dependent_variables=[], covariates=[]), conditions=         x  y     z\n",
       "0    -10.0  3  20.0\n",
       "1    -10.0  3  21.0\n",
       "2    -10.0  3  22.0\n",
       "3    -10.0  3  23.0\n",
       "4    -10.0  3  24.0\n",
       "...    ... ..   ...\n",
       "2217  10.0  4  26.0\n",
       "2218  10.0  4  27.0\n",
       "2219  10.0  4  28.0\n",
       "2220  10.0  4  29.0\n",
       "2221  10.0  4  30.0\n",
       "\n",
       "[2222 rows x 3 columns], experiment_data=None, models=[])"
      ]
     },
     "execution_count": null,
     "metadata": {},
     "output_type": "execute_result"
    }
   ],
   "source": [
    "from autora.experimentalist.grid_ import grid_pool_wf\n",
    "grid_pool_wf(s_0)\n"
   ]
  },
  {
   "cell_type": "code",
   "execution_count": null,
   "metadata": {},
   "outputs": [
    {
     "data": {
      "text/plain": [
       "StandardState(variables=VariableCollection(independent_variables=[Variable(name='x', value_range=None, allowed_values=array([-10. ,  -9.8,  -9.6,  -9.4,  -9.2,  -9. ,  -8.8,  -8.6,  -8.4,\n",
       "        -8.2,  -8. ,  -7.8,  -7.6,  -7.4,  -7.2,  -7. ,  -6.8,  -6.6,\n",
       "        -6.4,  -6.2,  -6. ,  -5.8,  -5.6,  -5.4,  -5.2,  -5. ,  -4.8,\n",
       "        -4.6,  -4.4,  -4.2,  -4. ,  -3.8,  -3.6,  -3.4,  -3.2,  -3. ,\n",
       "        -2.8,  -2.6,  -2.4,  -2.2,  -2. ,  -1.8,  -1.6,  -1.4,  -1.2,\n",
       "        -1. ,  -0.8,  -0.6,  -0.4,  -0.2,   0. ,   0.2,   0.4,   0.6,\n",
       "         0.8,   1. ,   1.2,   1.4,   1.6,   1.8,   2. ,   2.2,   2.4,\n",
       "         2.6,   2.8,   3. ,   3.2,   3.4,   3.6,   3.8,   4. ,   4.2,\n",
       "         4.4,   4.6,   4.8,   5. ,   5.2,   5.4,   5.6,   5.8,   6. ,\n",
       "         6.2,   6.4,   6.6,   6.8,   7. ,   7.2,   7.4,   7.6,   7.8,\n",
       "         8. ,   8.2,   8.4,   8.6,   8.8,   9. ,   9.2,   9.4,   9.6,\n",
       "         9.8,  10. ]), units='', type=<ValueType.REAL: 'real'>, variable_label='', rescale=1, is_covariate=False), Variable(name='y', value_range=None, allowed_values=[3, 4], units='', type=<ValueType.REAL: 'real'>, variable_label='', rescale=1, is_covariate=False), Variable(name='z', value_range=None, allowed_values=array([20., 21., 22., 23., 24., 25., 26., 27., 28., 29., 30.]), units='', type=<ValueType.REAL: 'real'>, variable_label='', rescale=1, is_covariate=False)], dependent_variables=[], covariates=[]), conditions=         x  y     z\n",
       "0    -10.0  3  20.0\n",
       "1    -10.0  3  21.0\n",
       "2    -10.0  3  22.0\n",
       "3    -10.0  3  23.0\n",
       "4    -10.0  3  24.0\n",
       "...    ... ..   ...\n",
       "2217  10.0  4  26.0\n",
       "2218  10.0  4  27.0\n",
       "2219  10.0  4  28.0\n",
       "2220  10.0  4  29.0\n",
       "2221  10.0  4  30.0\n",
       "\n",
       "[2222 rows x 3 columns], experiment_data=None, models=[])"
      ]
     },
     "execution_count": null,
     "metadata": {},
     "output_type": "execute_result"
    }
   ],
   "source": [
    "import autora.experimentalist.grid_ as grid\n",
    "grid.on_state(s_0)"
   ]
  },
  {
   "cell_type": "code",
   "execution_count": null,
   "metadata": {},
   "outputs": [
    {
     "data": {
      "text/plain": [
       "StandardState(variables=VariableCollection(independent_variables=[Variable(name='x', value_range=None, allowed_values=array([-10. ,  -9.8,  -9.6,  -9.4,  -9.2,  -9. ,  -8.8,  -8.6,  -8.4,\n",
       "        -8.2,  -8. ,  -7.8,  -7.6,  -7.4,  -7.2,  -7. ,  -6.8,  -6.6,\n",
       "        -6.4,  -6.2,  -6. ,  -5.8,  -5.6,  -5.4,  -5.2,  -5. ,  -4.8,\n",
       "        -4.6,  -4.4,  -4.2,  -4. ,  -3.8,  -3.6,  -3.4,  -3.2,  -3. ,\n",
       "        -2.8,  -2.6,  -2.4,  -2.2,  -2. ,  -1.8,  -1.6,  -1.4,  -1.2,\n",
       "        -1. ,  -0.8,  -0.6,  -0.4,  -0.2,   0. ,   0.2,   0.4,   0.6,\n",
       "         0.8,   1. ,   1.2,   1.4,   1.6,   1.8,   2. ,   2.2,   2.4,\n",
       "         2.6,   2.8,   3. ,   3.2,   3.4,   3.6,   3.8,   4. ,   4.2,\n",
       "         4.4,   4.6,   4.8,   5. ,   5.2,   5.4,   5.6,   5.8,   6. ,\n",
       "         6.2,   6.4,   6.6,   6.8,   7. ,   7.2,   7.4,   7.6,   7.8,\n",
       "         8. ,   8.2,   8.4,   8.6,   8.8,   9. ,   9.2,   9.4,   9.6,\n",
       "         9.8,  10. ]), units='', type=<ValueType.REAL: 'real'>, variable_label='', rescale=1, is_covariate=False), Variable(name='y', value_range=None, allowed_values=[3, 4], units='', type=<ValueType.REAL: 'real'>, variable_label='', rescale=1, is_covariate=False), Variable(name='z', value_range=None, allowed_values=array([20., 21., 22., 23., 24., 25., 26., 27., 28., 29., 30.]), units='', type=<ValueType.REAL: 'real'>, variable_label='', rescale=1, is_covariate=False)], dependent_variables=[], covariates=[]), conditions=         x  y     z\n",
       "0    -10.0  3  20.0\n",
       "1    -10.0  3  21.0\n",
       "2    -10.0  3  22.0\n",
       "3    -10.0  3  23.0\n",
       "4    -10.0  3  24.0\n",
       "...    ... ..   ...\n",
       "2217  10.0  4  26.0\n",
       "2218  10.0  4  27.0\n",
       "2219  10.0  4  28.0\n",
       "2220  10.0  4  29.0\n",
       "2221  10.0  4  30.0\n",
       "\n",
       "[2222 rows x 3 columns], experiment_data=None, models=[])"
      ]
     },
     "execution_count": null,
     "metadata": {},
     "output_type": "execute_result"
    }
   ],
   "source": [
    "grid.run(s_0)"
   ]
  },
  {
   "cell_type": "markdown",
   "metadata": {},
   "source": [
    "However, we can also join this with some random sampling functions:"
   ]
  },
  {
   "cell_type": "code",
   "execution_count": null,
   "metadata": {},
   "outputs": [
    {
     "data": {
      "text/plain": [
       "StandardState(variables=VariableCollection(independent_variables=[Variable(name='x', value_range=None, allowed_values=array([-10. ,  -9.8,  -9.6,  -9.4,  -9.2,  -9. ,  -8.8,  -8.6,  -8.4,\n",
       "        -8.2,  -8. ,  -7.8,  -7.6,  -7.4,  -7.2,  -7. ,  -6.8,  -6.6,\n",
       "        -6.4,  -6.2,  -6. ,  -5.8,  -5.6,  -5.4,  -5.2,  -5. ,  -4.8,\n",
       "        -4.6,  -4.4,  -4.2,  -4. ,  -3.8,  -3.6,  -3.4,  -3.2,  -3. ,\n",
       "        -2.8,  -2.6,  -2.4,  -2.2,  -2. ,  -1.8,  -1.6,  -1.4,  -1.2,\n",
       "        -1. ,  -0.8,  -0.6,  -0.4,  -0.2,   0. ,   0.2,   0.4,   0.6,\n",
       "         0.8,   1. ,   1.2,   1.4,   1.6,   1.8,   2. ,   2.2,   2.4,\n",
       "         2.6,   2.8,   3. ,   3.2,   3.4,   3.6,   3.8,   4. ,   4.2,\n",
       "         4.4,   4.6,   4.8,   5. ,   5.2,   5.4,   5.6,   5.8,   6. ,\n",
       "         6.2,   6.4,   6.6,   6.8,   7. ,   7.2,   7.4,   7.6,   7.8,\n",
       "         8. ,   8.2,   8.4,   8.6,   8.8,   9. ,   9.2,   9.4,   9.6,\n",
       "         9.8,  10. ]), units='', type=<ValueType.REAL: 'real'>, variable_label='', rescale=1, is_covariate=False), Variable(name='y', value_range=None, allowed_values=[3, 4], units='', type=<ValueType.REAL: 'real'>, variable_label='', rescale=1, is_covariate=False), Variable(name='z', value_range=None, allowed_values=array([20., 21., 22., 23., 24., 25., 26., 27., 28., 29., 30.]), units='', type=<ValueType.REAL: 'real'>, variable_label='', rescale=1, is_covariate=False)], dependent_variables=[], covariates=[]), conditions=        x  y     z\n",
       "1659  5.0  3  29.0\n",
       "78   -9.4  4  21.0\n",
       "912  -1.8  3  30.0\n",
       "908  -1.8  3  26.0\n",
       "856  -2.4  4  29.0, experiment_data=None, models=[])"
      ]
     },
     "execution_count": null,
     "metadata": {},
     "output_type": "execute_result"
    }
   ],
   "source": [
    "from autora.experimentalist.random_ import random_sample_state\n",
    "random_sample_state(grid_pool_state(s_0), num_samples=5)\n"
   ]
  },
  {
   "cell_type": "code",
   "execution_count": null,
   "metadata": {},
   "outputs": [],
   "source": []
  }
 ],
 "metadata": {
  "kernelspec": {
   "display_name": "Python 3",
   "language": "python",
   "name": "python3"
  },
  "language_info": {
   "codemirror_mode": {
    "name": "ipython",
    "version": 2
   },
   "file_extension": ".py",
   "mimetype": "text/x-python",
   "name": "python",
   "nbconvert_exporter": "python",
   "pygments_lexer": "ipython2"
  }
 },
 "nbformat": 4,
 "nbformat_minor": 0
}
