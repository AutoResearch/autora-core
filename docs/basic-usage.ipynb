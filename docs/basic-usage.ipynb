{
 "cells": [
  {
   "cell_type": "markdown",
   "source": [
    "# Basic Usage\n",
    "\n",
    "Aim: Use the Controller to recover a simple ground truth theory from noisy data."
   ],
   "metadata": {
    "collapsed": false
   }
  },
  {
   "cell_type": "code",
   "execution_count": 50,
   "outputs": [],
   "source": [
    "import numpy as np\n",
    "from autora.experimentalist.pipeline import make_pipeline\n",
    "from autora.variable import VariableCollection, Variable\n",
    "from sklearn.linear_model import LinearRegression\n",
    "from autora_workflow import Cycle\n",
    "from itertools import takewhile"
   ],
   "metadata": {
    "collapsed": false,
    "ExecuteTime": {
     "start_time": "2023-04-21T09:19:14.479849Z",
     "end_time": "2023-04-21T09:19:14.480010Z"
    }
   }
  },
  {
   "cell_type": "code",
   "execution_count": 51,
   "outputs": [],
   "source": [
    "def ground_truth(x):\n",
    "    return x + 1"
   ],
   "metadata": {
    "collapsed": false,
    "ExecuteTime": {
     "start_time": "2023-04-21T09:19:15.265055Z",
     "end_time": "2023-04-21T09:19:15.265148Z"
    }
   }
  },
  {
   "cell_type": "markdown",
   "source": [
    "The space of allowed x values is the integers between 0 and 10 inclusive, and we record the allowed output values as well."
   ],
   "metadata": {
    "collapsed": false
   }
  },
  {
   "cell_type": "code",
   "execution_count": 52,
   "outputs": [],
   "source": [
    "metadata_0 = VariableCollection(\n",
    "   independent_variables=[Variable(name=\"x1\", allowed_values=range(11))],\n",
    "   dependent_variables=[Variable(name=\"y\", value_range=(-20, 20))],\n",
    "   )"
   ],
   "metadata": {
    "collapsed": false,
    "ExecuteTime": {
     "start_time": "2023-04-21T09:19:17.949726Z",
     "end_time": "2023-04-21T09:19:17.949811Z"
    }
   }
  },
  {
   "cell_type": "markdown",
   "source": [
    "The experimentalist is used to propose experiments.\n",
    "Since the space of values is so restricted, we can just sample them all each time."
   ],
   "metadata": {
    "collapsed": false
   }
  },
  {
   "cell_type": "code",
   "execution_count": 53,
   "outputs": [],
   "source": [
    "example_experimentalist = make_pipeline(\n",
    "    [metadata_0.independent_variables[0].allowed_values])"
   ],
   "metadata": {
    "collapsed": false,
    "ExecuteTime": {
     "start_time": "2023-04-21T09:19:19.053145Z",
     "end_time": "2023-04-21T09:19:19.053240Z"
    }
   }
  },
  {
   "cell_type": "markdown",
   "source": [
    "When we run a synthetic experiment, we get a reproducible noisy result:"
   ],
   "metadata": {
    "collapsed": false
   }
  },
  {
   "cell_type": "code",
   "execution_count": 55,
   "outputs": [
    {
     "data": {
      "text/plain": "array([2.04339546])"
     },
     "execution_count": 55,
     "metadata": {},
     "output_type": "execute_result"
    }
   ],
   "source": [
    "def get_example_synthetic_experiment_runner():\n",
    "    rng = np.random.default_rng(seed=180)\n",
    "    def runner(x):\n",
    "        return ground_truth(x) + rng.normal(0, 0.1, x.shape)\n",
    "    return runner\n",
    "example_synthetic_experiment_runner = get_example_synthetic_experiment_runner()\n",
    "example_synthetic_experiment_runner(np.array([1]))"
   ],
   "metadata": {
    "collapsed": false,
    "ExecuteTime": {
     "start_time": "2023-04-21T09:20:28.606923Z",
     "end_time": "2023-04-21T09:20:28.606989Z"
    }
   }
  },
  {
   "cell_type": "markdown",
   "source": [
    "The theorist \"tries\" to work out the best theory. We use a trivial scikit-learn regressor."
   ],
   "metadata": {
    "collapsed": false
   }
  },
  {
   "cell_type": "code",
   "execution_count": 56,
   "outputs": [],
   "source": [
    "example_theorist = LinearRegression()"
   ],
   "metadata": {
    "collapsed": false,
    "ExecuteTime": {
     "start_time": "2023-04-21T09:20:58.414693Z",
     "end_time": "2023-04-21T09:20:58.414794Z"
    }
   }
  },
  {
   "cell_type": "markdown",
   "source": [
    "    We initialize the Controller with the metadata describing the domain of the theory,\n",
    "    the theorist, experimentalist and experiment runner,\n",
    "    as well as a monitor which will let us know which cycle we're currently on."
   ],
   "metadata": {
    "collapsed": false
   }
  },
  {
   "cell_type": "code",
   "execution_count": 37,
   "outputs": [
    {
     "data": {
      "text/plain": "<autora_workflow.cycle.Cycle at 0x146f1f8b0>"
     },
     "execution_count": 37,
     "metadata": {},
     "output_type": "execute_result"
    }
   ],
   "source": [
    "cycle = Cycle(\n",
    "    metadata=metadata_0,\n",
    "    theorist=example_theorist,\n",
    "    experimentalist=example_experimentalist,\n",
    "    experiment_runner=example_synthetic_experiment_runner,\n",
    "    monitor=lambda state: print(f\"Generated {len(state.theories)} theories\"),\n",
    ")\n",
    "cycle # doctest: +ELLIPSIS"
   ],
   "metadata": {
    "collapsed": false,
    "ExecuteTime": {
     "start_time": "2023-04-21T09:10:31.228319Z",
     "end_time": "2023-04-21T09:10:31.228375Z"
    }
   }
  },
  {
   "cell_type": "markdown",
   "source": [
    "We can run the cycle by calling the run method:"
   ],
   "metadata": {
    "collapsed": false
   }
  },
  {
   "cell_type": "code",
   "execution_count": 57,
   "outputs": [
    {
     "name": "stdout",
     "output_type": "stream",
     "text": [
      "Generated 112 theories\n",
      "Generated 113 theories\n",
      "Generated 114 theories\n"
     ]
    },
    {
     "data": {
      "text/plain": "<autora_workflow.cycle.Cycle at 0x146f1f8b0>"
     },
     "execution_count": 57,
     "metadata": {},
     "output_type": "execute_result"
    }
   ],
   "source": [
    "cycle.run(num_cycles=3)  # doctest: +ELLIPSIS"
   ],
   "metadata": {
    "collapsed": false,
    "ExecuteTime": {
     "start_time": "2023-04-21T09:21:07.826613Z",
     "end_time": "2023-04-21T09:21:07.826811Z"
    }
   }
  },
  {
   "cell_type": "markdown",
   "source": [
    "We can now interrogate the results. The first set of conditions which went into the\n",
    "experiment runner were:"
   ],
   "metadata": {
    "collapsed": false
   }
  },
  {
   "cell_type": "code",
   "execution_count": 58,
   "outputs": [
    {
     "data": {
      "text/plain": "array([ 0,  1,  2,  3,  4,  5,  6,  7,  8,  9, 10])"
     },
     "execution_count": 58,
     "metadata": {},
     "output_type": "execute_result"
    }
   ],
   "source": [
    "cycle.data.conditions[0]"
   ],
   "metadata": {
    "collapsed": false,
    "ExecuteTime": {
     "start_time": "2023-04-21T09:21:10.589446Z",
     "end_time": "2023-04-21T09:21:10.589511Z"
    }
   }
  },
  {
   "cell_type": "markdown",
   "source": [
    "The observations include the conditions and the results:"
   ],
   "metadata": {
    "collapsed": false
   }
  },
  {
   "cell_type": "code",
   "execution_count": 59,
   "outputs": [
    {
     "data": {
      "text/plain": "array([[ 0.        ,  0.92675345],\n       [ 1.        ,  1.89519928],\n       [ 2.        ,  3.08746571],\n       [ 3.        ,  3.93023943],\n       [ 4.        ,  4.95429102],\n       [ 5.        ,  6.04763988],\n       [ 6.        ,  7.20770574],\n       [ 7.        ,  7.85681519],\n       [ 8.        ,  9.05735823],\n       [ 9.        , 10.18713406],\n       [10.        , 10.88517906]])"
     },
     "execution_count": 59,
     "metadata": {},
     "output_type": "execute_result"
    }
   ],
   "source": [
    "cycle.data.observations[0]"
   ],
   "metadata": {
    "collapsed": false,
    "ExecuteTime": {
     "start_time": "2023-04-21T09:21:14.078819Z",
     "end_time": "2023-04-21T09:21:14.078881Z"
    }
   }
  },
  {
   "cell_type": "markdown",
   "source": [
    "In the third cycle (index = 2) the first and last values are different again:"
   ],
   "metadata": {
    "collapsed": false
   }
  },
  {
   "cell_type": "code",
   "execution_count": 60,
   "outputs": [
    {
     "data": {
      "text/plain": "array([[ 0.        ,  1.08559827],\n       [10.        , 11.08179553]])"
     },
     "execution_count": 60,
     "metadata": {},
     "output_type": "execute_result"
    }
   ],
   "source": [
    "cycle.data.observations[2][[0,-1]]"
   ],
   "metadata": {
    "collapsed": false,
    "ExecuteTime": {
     "start_time": "2023-04-21T09:21:14.694989Z",
     "end_time": "2023-04-21T09:21:14.695095Z"
    }
   }
  },
  {
   "cell_type": "markdown",
   "source": [
    "The best fit theory after the first cycle is:"
   ],
   "metadata": {
    "collapsed": false
   }
  },
  {
   "cell_type": "code",
   "execution_count": 61,
   "outputs": [
    {
     "data": {
      "text/plain": "LinearRegression()",
      "text/html": "<style>#sk-container-id-2 {color: black;background-color: white;}#sk-container-id-2 pre{padding: 0;}#sk-container-id-2 div.sk-toggleable {background-color: white;}#sk-container-id-2 label.sk-toggleable__label {cursor: pointer;display: block;width: 100%;margin-bottom: 0;padding: 0.3em;box-sizing: border-box;text-align: center;}#sk-container-id-2 label.sk-toggleable__label-arrow:before {content: \"▸\";float: left;margin-right: 0.25em;color: #696969;}#sk-container-id-2 label.sk-toggleable__label-arrow:hover:before {color: black;}#sk-container-id-2 div.sk-estimator:hover label.sk-toggleable__label-arrow:before {color: black;}#sk-container-id-2 div.sk-toggleable__content {max-height: 0;max-width: 0;overflow: hidden;text-align: left;background-color: #f0f8ff;}#sk-container-id-2 div.sk-toggleable__content pre {margin: 0.2em;color: black;border-radius: 0.25em;background-color: #f0f8ff;}#sk-container-id-2 input.sk-toggleable__control:checked~div.sk-toggleable__content {max-height: 200px;max-width: 100%;overflow: auto;}#sk-container-id-2 input.sk-toggleable__control:checked~label.sk-toggleable__label-arrow:before {content: \"▾\";}#sk-container-id-2 div.sk-estimator input.sk-toggleable__control:checked~label.sk-toggleable__label {background-color: #d4ebff;}#sk-container-id-2 div.sk-label input.sk-toggleable__control:checked~label.sk-toggleable__label {background-color: #d4ebff;}#sk-container-id-2 input.sk-hidden--visually {border: 0;clip: rect(1px 1px 1px 1px);clip: rect(1px, 1px, 1px, 1px);height: 1px;margin: -1px;overflow: hidden;padding: 0;position: absolute;width: 1px;}#sk-container-id-2 div.sk-estimator {font-family: monospace;background-color: #f0f8ff;border: 1px dotted black;border-radius: 0.25em;box-sizing: border-box;margin-bottom: 0.5em;}#sk-container-id-2 div.sk-estimator:hover {background-color: #d4ebff;}#sk-container-id-2 div.sk-parallel-item::after {content: \"\";width: 100%;border-bottom: 1px solid gray;flex-grow: 1;}#sk-container-id-2 div.sk-label:hover label.sk-toggleable__label {background-color: #d4ebff;}#sk-container-id-2 div.sk-serial::before {content: \"\";position: absolute;border-left: 1px solid gray;box-sizing: border-box;top: 0;bottom: 0;left: 50%;z-index: 0;}#sk-container-id-2 div.sk-serial {display: flex;flex-direction: column;align-items: center;background-color: white;padding-right: 0.2em;padding-left: 0.2em;position: relative;}#sk-container-id-2 div.sk-item {position: relative;z-index: 1;}#sk-container-id-2 div.sk-parallel {display: flex;align-items: stretch;justify-content: center;background-color: white;position: relative;}#sk-container-id-2 div.sk-item::before, #sk-container-id-2 div.sk-parallel-item::before {content: \"\";position: absolute;border-left: 1px solid gray;box-sizing: border-box;top: 0;bottom: 0;left: 50%;z-index: -1;}#sk-container-id-2 div.sk-parallel-item {display: flex;flex-direction: column;z-index: 1;position: relative;background-color: white;}#sk-container-id-2 div.sk-parallel-item:first-child::after {align-self: flex-end;width: 50%;}#sk-container-id-2 div.sk-parallel-item:last-child::after {align-self: flex-start;width: 50%;}#sk-container-id-2 div.sk-parallel-item:only-child::after {width: 0;}#sk-container-id-2 div.sk-dashed-wrapped {border: 1px dashed gray;margin: 0 0.4em 0.5em 0.4em;box-sizing: border-box;padding-bottom: 0.4em;background-color: white;}#sk-container-id-2 div.sk-label label {font-family: monospace;font-weight: bold;display: inline-block;line-height: 1.2em;}#sk-container-id-2 div.sk-label-container {text-align: center;}#sk-container-id-2 div.sk-container {/* jupyter's `normalize.less` sets `[hidden] { display: none; }` but bootstrap.min.css set `[hidden] { display: none !important; }` so we also need the `!important` here to be able to override the default hidden behavior on the sphinx rendered scikit-learn.org. See: https://github.com/scikit-learn/scikit-learn/issues/21755 */display: inline-block !important;position: relative;}#sk-container-id-2 div.sk-text-repr-fallback {display: none;}</style><div id=\"sk-container-id-2\" class=\"sk-top-container\"><div class=\"sk-text-repr-fallback\"><pre>LinearRegression()</pre><b>In a Jupyter environment, please rerun this cell to show the HTML representation or trust the notebook. <br />On GitHub, the HTML representation is unable to render, please try loading this page with nbviewer.org.</b></div><div class=\"sk-container\" hidden><div class=\"sk-item\"><div class=\"sk-estimator sk-toggleable\"><input class=\"sk-toggleable__control sk-hidden--visually\" id=\"sk-estimator-id-2\" type=\"checkbox\" checked><label for=\"sk-estimator-id-2\" class=\"sk-toggleable__label sk-toggleable__label-arrow\">LinearRegression</label><div class=\"sk-toggleable__content\"><pre>LinearRegression()</pre></div></div></div></div></div>"
     },
     "execution_count": 61,
     "metadata": {},
     "output_type": "execute_result"
    }
   ],
   "source": [
    "cycle.data.theories[0]"
   ],
   "metadata": {
    "collapsed": false,
    "ExecuteTime": {
     "start_time": "2023-04-21T09:21:15.695186Z",
     "end_time": "2023-04-21T09:21:15.695268Z"
    }
   }
  },
  {
   "cell_type": "code",
   "execution_count": 62,
   "outputs": [
    {
     "data": {
      "text/plain": "'y = 1.0089 x + 0.9589'"
     },
     "execution_count": 62,
     "metadata": {},
     "output_type": "execute_result"
    }
   ],
   "source": [
    "def report_linear_fit(m: LinearRegression,  precision=4):\n",
    "    s = f\"y = {np.round(m.coef_[0].item(), precision)} x \" \\\n",
    "        f\"+ {np.round(m.intercept_.item(), 4)}\"\n",
    "    return s\n",
    "report_linear_fit(cycle.data.theories[0])"
   ],
   "metadata": {
    "collapsed": false,
    "ExecuteTime": {
     "start_time": "2023-04-21T09:21:16.695765Z",
     "end_time": "2023-04-21T09:21:16.695824Z"
    }
   }
  },
  {
   "cell_type": "markdown",
   "source": [
    "The best fit theory after all the cycles, including all the data, is:"
   ],
   "metadata": {
    "collapsed": false
   }
  },
  {
   "cell_type": "code",
   "execution_count": 63,
   "outputs": [
    {
     "data": {
      "text/plain": "'y = 1.0005 x + 0.9986'"
     },
     "execution_count": 63,
     "metadata": {},
     "output_type": "execute_result"
    }
   ],
   "source": [
    "report_linear_fit(cycle.data.theories[-1])"
   ],
   "metadata": {
    "collapsed": false,
    "ExecuteTime": {
     "start_time": "2023-04-21T09:21:17.127206Z",
     "end_time": "2023-04-21T09:21:17.127275Z"
    }
   }
  },
  {
   "cell_type": "markdown",
   "source": [
    "This is close to the ground truth theory of x -> (x + 1)\n",
    "We can also run the cycle with more control over the execution flow:"
   ],
   "metadata": {
    "collapsed": false
   }
  },
  {
   "cell_type": "code",
   "execution_count": 64,
   "outputs": [
    {
     "name": "stdout",
     "output_type": "stream",
     "text": [
      "Generated 115 theories\n"
     ]
    },
    {
     "data": {
      "text/plain": "<autora_workflow.cycle.Cycle at 0x146f1f8b0>"
     },
     "execution_count": 64,
     "metadata": {},
     "output_type": "execute_result"
    }
   ],
   "source": [
    "next(cycle) # doctest: +ELLIPSIS"
   ],
   "metadata": {
    "collapsed": false,
    "ExecuteTime": {
     "start_time": "2023-04-21T09:21:17.580001Z",
     "end_time": "2023-04-21T09:21:17.580065Z"
    }
   }
  },
  {
   "cell_type": "markdown",
   "source": [
    "next(cycle) # doctest: +ELLIPSIS"
   ],
   "metadata": {
    "collapsed": false
   }
  },
  {
   "cell_type": "code",
   "execution_count": 65,
   "outputs": [
    {
     "name": "stdout",
     "output_type": "stream",
     "text": [
      "Generated 116 theories\n"
     ]
    },
    {
     "data": {
      "text/plain": "<autora_workflow.cycle.Cycle at 0x146f1f8b0>"
     },
     "execution_count": 65,
     "metadata": {},
     "output_type": "execute_result"
    }
   ],
   "source": [
    "next(cycle) # doctest: +ELLIPSIS"
   ],
   "metadata": {
    "collapsed": false,
    "ExecuteTime": {
     "start_time": "2023-04-21T09:21:17.932730Z",
     "end_time": "2023-04-21T09:21:17.932797Z"
    }
   }
  },
  {
   "cell_type": "markdown",
   "source": [
    "We can continue to run the cycle as long as we like,\n",
    "with a simple arbitrary stopping condition like the number of theories generated:"
   ],
   "metadata": {
    "collapsed": false
   }
  },
  {
   "cell_type": "code",
   "execution_count": 66,
   "outputs": [
    {
     "name": "stdout",
     "output_type": "stream",
     "text": [
      "Generated 117 theories\n"
     ]
    }
   ],
   "source": [
    "_ = list(takewhile(lambda c: len(c.data.theories) < 9, cycle))"
   ],
   "metadata": {
    "collapsed": false,
    "ExecuteTime": {
     "start_time": "2023-04-21T09:21:18.293758Z",
     "end_time": "2023-04-21T09:21:18.293827Z"
    }
   }
  },
  {
   "cell_type": "markdown",
   "source": [
    "or the precision (here we keep iterating while the difference between the gradients\n",
    "of the second-last and last cycle is larger than 1x10^-3)."
   ],
   "metadata": {
    "collapsed": false
   }
  },
  {
   "cell_type": "code",
   "execution_count": 67,
   "outputs": [
    {
     "name": "stdout",
     "output_type": "stream",
     "text": [
      "Generated 118 theories\n"
     ]
    }
   ],
   "source": [
    "_ = list(\n",
    "        takewhile(\n",
    "            lambda c: np.abs(c.data.theories[-1].coef_.item() -\n",
    "                           c.data.theories[-2].coef_.item()) > 1e-3,\n",
    "            cycle\n",
    "        )\n",
    "    )\n"
   ],
   "metadata": {
    "collapsed": false,
    "ExecuteTime": {
     "start_time": "2023-04-21T09:21:18.740316Z",
     "end_time": "2023-04-21T09:21:18.740384Z"
    }
   }
  },
  {
   "cell_type": "markdown",
   "source": [
    "or continue to run as long as we like:"
   ],
   "metadata": {
    "collapsed": false
   }
  },
  {
   "cell_type": "code",
   "execution_count": 69,
   "outputs": [
    {
     "name": "stdout",
     "output_type": "stream",
     "text": [
      "Generated 219 theories\n",
      "Generated 220 theories\n",
      "Generated 221 theories\n",
      "Generated 222 theories\n",
      "Generated 223 theories\n",
      "Generated 224 theories\n",
      "Generated 225 theories\n",
      "Generated 226 theories\n",
      "Generated 227 theories\n",
      "Generated 228 theories\n",
      "Generated 229 theories\n",
      "Generated 230 theories\n",
      "Generated 231 theories\n",
      "Generated 232 theories\n",
      "Generated 233 theories\n",
      "Generated 234 theories\n",
      "Generated 235 theories\n",
      "Generated 236 theories\n",
      "Generated 237 theories\n",
      "Generated 238 theories\n",
      "Generated 239 theories\n",
      "Generated 240 theories\n",
      "Generated 241 theories\n",
      "Generated 242 theories\n",
      "Generated 243 theories\n",
      "Generated 244 theories\n",
      "Generated 245 theories\n",
      "Generated 246 theories\n",
      "Generated 247 theories\n",
      "Generated 248 theories\n",
      "Generated 249 theories\n",
      "Generated 250 theories\n",
      "Generated 251 theories\n",
      "Generated 252 theories\n",
      "Generated 253 theories\n",
      "Generated 254 theories\n",
      "Generated 255 theories\n",
      "Generated 256 theories\n",
      "Generated 257 theories\n",
      "Generated 258 theories\n",
      "Generated 259 theories\n",
      "Generated 260 theories\n",
      "Generated 261 theories\n",
      "Generated 262 theories\n",
      "Generated 263 theories\n",
      "Generated 264 theories\n",
      "Generated 265 theories\n",
      "Generated 266 theories\n",
      "Generated 267 theories\n",
      "Generated 268 theories\n",
      "Generated 269 theories\n",
      "Generated 270 theories\n",
      "Generated 271 theories\n",
      "Generated 272 theories\n",
      "Generated 273 theories\n",
      "Generated 274 theories\n",
      "Generated 275 theories\n",
      "Generated 276 theories\n",
      "Generated 277 theories\n",
      "Generated 278 theories\n",
      "Generated 279 theories\n",
      "Generated 280 theories\n",
      "Generated 281 theories\n",
      "Generated 282 theories\n",
      "Generated 283 theories\n",
      "Generated 284 theories\n",
      "Generated 285 theories\n",
      "Generated 286 theories\n",
      "Generated 287 theories\n",
      "Generated 288 theories\n",
      "Generated 289 theories\n",
      "Generated 290 theories\n",
      "Generated 291 theories\n",
      "Generated 292 theories\n",
      "Generated 293 theories\n",
      "Generated 294 theories\n",
      "Generated 295 theories\n",
      "Generated 296 theories\n",
      "Generated 297 theories\n",
      "Generated 298 theories\n",
      "Generated 299 theories\n",
      "Generated 300 theories\n",
      "Generated 301 theories\n",
      "Generated 302 theories\n",
      "Generated 303 theories\n",
      "Generated 304 theories\n",
      "Generated 305 theories\n",
      "Generated 306 theories\n",
      "Generated 307 theories\n",
      "Generated 308 theories\n",
      "Generated 309 theories\n",
      "Generated 310 theories\n",
      "Generated 311 theories\n",
      "Generated 312 theories\n",
      "Generated 313 theories\n",
      "Generated 314 theories\n",
      "Generated 315 theories\n",
      "Generated 316 theories\n",
      "Generated 317 theories\n",
      "Generated 318 theories\n"
     ]
    }
   ],
   "source": [
    "_ = cycle.run(num_cycles=100) # doctest: +ELLIPSIS"
   ],
   "metadata": {
    "collapsed": false,
    "ExecuteTime": {
     "start_time": "2023-04-21T09:21:22.737800Z",
     "end_time": "2023-04-21T09:21:22.737897Z"
    }
   }
  },
  {
   "cell_type": "code",
   "execution_count": null,
   "outputs": [],
   "source": [],
   "metadata": {
    "collapsed": false
   }
  }
 ],
 "metadata": {
  "kernelspec": {
   "display_name": "Python 3",
   "language": "python",
   "name": "python3"
  },
  "language_info": {
   "codemirror_mode": {
    "name": "ipython",
    "version": 2
   },
   "file_extension": ".py",
   "mimetype": "text/x-python",
   "name": "python",
   "nbconvert_exporter": "python",
   "pygments_lexer": "ipython2",
   "version": "2.7.6"
  }
 },
 "nbformat": 4,
 "nbformat_minor": 0
}
