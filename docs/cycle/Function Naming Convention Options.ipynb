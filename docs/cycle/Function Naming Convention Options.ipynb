{
 "cells": [
  {
   "cell_type": "markdown",
   "metadata": {},
   "source": [
    "# Function Naming Convention Options\n"
   ]
  },
  {
   "cell_type": "code",
   "execution_count": null,
   "metadata": {},
   "outputs": [],
   "source": []
  },
  {
   "cell_type": "markdown",
   "metadata": {},
   "source": [
    "## Introduction\n",
    "\n",
    "AutoRA is a framework for model discovery, which can propose and run experiments and analyse the resulting data,\n",
    "fully autonomously. This process runs cyclically and we call the complete process the \"cycle\" and the individual\n",
    "steps \"tasks\".\n",
    "\n",
    "Our original object-oriented approach for defining the cycle turned out to be too complicated for people to understand.\n",
    "We've been building a simpler functional interface for it for defining the cycles.\n",
    "\n",
    "But we have a problem – the naming convention for the functions is difficult to agree on. The AER group (which is\n",
    "developing AutoRA and related tools) has asked us to look over the current options and give some feedback.\n",
    "\n",
    "## The functional interface\n",
    "A **state** is a description of all the data and metadata known about a particular phenomenon:\n",
    "\n",
    "- the domain of the variables,\n",
    "- experimental conditions to be investigated,\n",
    "- the experimental data, the newest model, and\n",
    "- any other data the cycle might need.\n",
    "\n",
    "We define a state as follows:"
   ]
  },
  {
   "cell_type": "code",
   "execution_count": null,
   "metadata": {},
   "outputs": [],
   "source": [
    "from autora.state.bundled import StandardState\n",
    "from autora.variable import VariableCollection, Variable\n",
    "\n",
    "s_0 = StandardState(\n",
    "    variables=VariableCollection(\n",
    "        independent_variables=[Variable(\"x\", value_range=(-10, 10))],\n",
    "        dependent_variables=[Variable(\"y\")]\n",
    "    )\n",
    ")"
   ]
  },
  {
   "cell_type": "markdown",
   "metadata": {},
   "source": [
    "`s_0` doesn't have anything other than the metadata we gave it:"
   ]
  },
  {
   "cell_type": "code",
   "execution_count": null,
   "metadata": {},
   "outputs": [
    {
     "data": {
      "text/plain": [
       "StandardState(variables=VariableCollection(independent_variables=[Variable(name='x', value_range=(-10, 10), allowed_values=None, units='', type=<ValueType.REAL: 'real'>, variable_label='', rescale=1, is_covariate=False)], dependent_variables=[Variable(name='y', value_range=None, allowed_values=None, units='', type=<ValueType.REAL: 'real'>, variable_label='', rescale=1, is_covariate=False)], covariates=[]), conditions=None, experiment_data=None, models=[])"
      ]
     },
     "execution_count": null,
     "metadata": {},
     "output_type": "execute_result"
    }
   ],
   "source": [
    "s_0"
   ]
  },
  {
   "cell_type": "markdown",
   "metadata": {},
   "source": [
    "The functional interface sees the tasks as functions $f$ on state $S$ which return a new state.\n",
    "A single task looks like:\n",
    "$$ f(S_{i}) \\rightarrow S_{i+1} ,$$\n",
    "\n",
    "and a pipeline of such operations looks like:\n",
    "$$S_n = f_n^\\prime(...f_2^\\prime(f_1^\\prime(S_0))) .$$\n",
    "\n",
    "One task we define is the experimentalist, which proposes new experimental conditions.\n",
    "One experimentalist is the `random_pool` which takes variables and returns a series of conditions.\n",
    "We define it just like that:"
   ]
  },
  {
   "cell_type": "code",
   "execution_count": null,
   "metadata": {},
   "outputs": [],
   "source": [
    "from typing import Optional\n",
    "import numpy as np\n",
    "import pandas as pd\n",
    "\n",
    "def random_pool(\n",
    "    variables: VariableCollection,\n",
    "    num_samples: int = 5,\n",
    "    random_state: Optional[int] = None,\n",
    ") -> pd.DataFrame:\n",
    "    rng = np.random.default_rng(random_state)\n",
    "\n",
    "    raw_conditions = {}\n",
    "    for iv in variables.independent_variables:\n",
    "        raw_conditions[iv.name] = rng.uniform(*iv.value_range, size=num_samples)\n",
    "\n",
    "    return pd.DataFrame(raw_conditions)"
   ]
  },
  {
   "cell_type": "markdown",
   "metadata": {},
   "source": [
    "And running it on the variables results in a series of conditions sampled uniformly between -10 and +10:"
   ]
  },
  {
   "cell_type": "code",
   "execution_count": null,
   "metadata": {},
   "outputs": [],
   "source": [
    "random_pool(s_0.variables)"
   ]
  },
  {
   "cell_type": "markdown",
   "metadata": {},
   "source": [
    "We still need to do some work so that it can run directly on $S$.\n",
    "\n",
    "$S$ is defined such that it can be added to: $$S_{i+1} = S_i + \\Delta S_{i+1}$$\n",
    "\n",
    "The way we package the random_pool function is to make its output into a `Delta`:"
   ]
  },
  {
   "cell_type": "code",
   "execution_count": null,
   "metadata": {},
   "outputs": [],
   "source": [
    "from autora.state.delta import Delta\n",
    "\n",
    "\n",
    "def random_pool_delta(\n",
    "    variables: VariableCollection,\n",
    "    num_samples: int = 5,\n",
    "    random_state: Optional[int] = None,\n",
    "):\n",
    "    \"\"\"\n",
    "    Create a sequence of conditions randomly sampled from independent variables.\n",
    "\n",
    "    Args:\n",
    "        variables: the description of all the variables in the AER experiment.\n",
    "        num_samples: the number of conditions to produce\n",
    "        random_state: the seed value for the random number generator\n",
    "        replace: if True, allow repeated values\n",
    "\n",
    "    Returns: a Result / Delta object with the conditions as a pd.DataFrame in the `conditions` field\n",
    "\n",
    "    \"\"\"\n",
    "    conditions = random_pool(\n",
    "        variables=variables,\n",
    "        num_samples=num_samples,\n",
    "        random_state=random_state,\n",
    "    )\n",
    "    return Delta(conditions=conditions)"
   ]
  },
  {
   "cell_type": "markdown",
   "metadata": {},
   "source": [
    "which can be run on the same inputs but produces a differently packaged output:"
   ]
  },
  {
   "cell_type": "code",
   "execution_count": null,
   "metadata": {},
   "outputs": [
    {
     "data": {
      "text/plain": [
       "{'conditions':           x\n",
       "0 -6.168705\n",
       "1  1.143822\n",
       "2  4.432569\n",
       "3  9.079492\n",
       "4 -8.734145}"
      ]
     },
     "execution_count": null,
     "metadata": {},
     "output_type": "execute_result"
    }
   ],
   "source": [
    "random_pool_delta(s_0.variables)"
   ]
  },
  {
   "cell_type": "markdown",
   "metadata": {},
   "source": [
    "Finally, we define a wrapper which combines this with $S$, which uses a utility function offered by AutoRA."
   ]
  },
  {
   "cell_type": "code",
   "execution_count": null,
   "metadata": {},
   "outputs": [],
   "source": [
    "from autora.state.delta import State, wrap_to_use_state\n",
    "\n",
    "\n",
    "def random_pool_state(\n",
    "    s: State,\n",
    "    num_samples: int = 5,\n",
    "    random_state: Optional[int] = None,\n",
    "    **kwargs,\n",
    ") -> State:\n",
    "\n",
    "    return wrap_to_use_state(random_pool_delta)(\n",
    "        s, num_samples=num_samples, random_state=random_state, **kwargs\n",
    "    )"
   ]
  },
  {
   "cell_type": "markdown",
   "metadata": {},
   "source": [
    "Now we can run the function directly on $S$, returning a new state with our conditions included:"
   ]
  },
  {
   "cell_type": "code",
   "execution_count": null,
   "metadata": {},
   "outputs": [
    {
     "data": {
      "text/plain": [
       "StandardState(variables=VariableCollection(independent_variables=[Variable(name='x', value_range=(-10, 10), allowed_values=None, units='', type=<ValueType.REAL: 'real'>, variable_label='', rescale=1, is_covariate=False)], dependent_variables=[Variable(name='y', value_range=None, allowed_values=None, units='', type=<ValueType.REAL: 'real'>, variable_label='', rescale=1, is_covariate=False)], covariates=[]), conditions=          x\n",
       "0  0.434308\n",
       "1 -6.668831\n",
       "2 -4.216564\n",
       "3 -1.528779\n",
       "4 -3.591671, experiment_data=None, models=[])"
      ]
     },
     "execution_count": null,
     "metadata": {},
     "output_type": "execute_result"
    }
   ],
   "source": [
    "random_pool_state(s_0)"
   ]
  },
  {
   "cell_type": "markdown",
   "metadata": {},
   "source": [
    "The question is: what naming convention should these functions have, given that usually the `_state` version will be\n",
    "used and that every contribution will need to follow the same convention? There might be multiple poolers and\n",
    "samplers offered by an AutoRA module."
   ]
  },
  {
   "cell_type": "markdown",
   "metadata": {},
   "source": [
    "## Option 1: simple function names with conventional suffixes (or prefixes)"
   ]
  },
  {
   "cell_type": "code",
   "execution_count": null,
   "metadata": {},
   "outputs": [
    {
     "data": {
      "text/plain": [
       "StandardState(variables=VariableCollection(independent_variables=[Variable(name='x', value_range=(-10, 10), allowed_values=None, units='', type=<ValueType.REAL: 'real'>, variable_label='', rescale=1, is_covariate=False)], dependent_variables=[Variable(name='y', value_range=None, allowed_values=None, units='', type=<ValueType.REAL: 'real'>, variable_label='', rescale=1, is_covariate=False)], covariates=[]), conditions=          x\n",
       "0  6.183674\n",
       "1  2.837212\n",
       "2 -3.392042\n",
       "3  1.720430\n",
       "4 -9.221208, experiment_data=None, models=[])"
      ]
     },
     "execution_count": null,
     "metadata": {},
     "output_type": "execute_result"
    }
   ],
   "source": [
    "from autora.experimentalist.random_ import random_pool_state\n",
    "random_pool_state(s_0)"
   ]
  },
  {
   "cell_type": "markdown",
   "metadata": {},
   "source": [
    "... or ..."
   ]
  },
  {
   "cell_type": "code",
   "execution_count": null,
   "metadata": {},
   "outputs": [
    {
     "data": {
      "text/plain": [
       "StandardState(variables=VariableCollection(independent_variables=[Variable(name='x', value_range=(-10, 10), allowed_values=None, units='', type=<ValueType.REAL: 'real'>, variable_label='', rescale=1, is_covariate=False)], dependent_variables=[Variable(name='y', value_range=None, allowed_values=None, units='', type=<ValueType.REAL: 'real'>, variable_label='', rescale=1, is_covariate=False)], covariates=[]), conditions=          x\n",
       "0 -2.414414\n",
       "1  0.188652\n",
       "2 -2.501508\n",
       "3 -0.528629\n",
       "4 -5.542678, experiment_data=None, models=[])"
      ]
     },
     "execution_count": null,
     "metadata": {},
     "output_type": "execute_result"
    }
   ],
   "source": [
    "from autora.experimentalist.random_ import random_pool_s\n",
    "random_pool_s(s_0)"
   ]
  },
  {
   "cell_type": "markdown",
   "metadata": {},
   "source": []
  },
  {
   "cell_type": "markdown",
   "metadata": {},
   "source": [
    "## Option 2: one state function per module\n",
    "\n",
    "This option is inspired by the scikit-learn `Regressor().fit(X, y)` syntax, but note that `pooler` in this case is a\n",
    "module rather than a traditional object, and it shouldn't have any internal state which affects the fitting."
   ]
  },
  {
   "cell_type": "code",
   "execution_count": null,
   "metadata": {},
   "outputs": [
    {
     "data": {
      "text/plain": [
       "StandardState(variables=VariableCollection(independent_variables=[Variable(name='x', value_range=(-10, 10), allowed_values=None, units='', type=<ValueType.REAL: 'real'>, variable_label='', rescale=1, is_covariate=False)], dependent_variables=[Variable(name='y', value_range=None, allowed_values=None, units='', type=<ValueType.REAL: 'real'>, variable_label='', rescale=1, is_covariate=False)], covariates=[]), conditions=          x\n",
       "0  0.445504\n",
       "1  0.106361\n",
       "2  5.592574\n",
       "3  6.849602\n",
       "4  7.662081, experiment_data=None, models=[])"
      ]
     },
     "execution_count": null,
     "metadata": {},
     "output_type": "execute_result"
    }
   ],
   "source": [
    "import autora.experimentalist.random_.pool as pooler\n",
    "pooler.on_state(s_0)"
   ]
  },
  {
   "cell_type": "markdown",
   "metadata": {},
   "source": [
    "## Option 3: `run` functions"
   ]
  },
  {
   "cell_type": "code",
   "execution_count": null,
   "metadata": {},
   "outputs": [
    {
     "data": {
      "text/plain": [
       "StandardState(variables=VariableCollection(independent_variables=[Variable(name='x', value_range=(-10, 10), allowed_values=None, units='', type=<ValueType.REAL: 'real'>, variable_label='', rescale=1, is_covariate=False)], dependent_variables=[Variable(name='y', value_range=None, allowed_values=None, units='', type=<ValueType.REAL: 'real'>, variable_label='', rescale=1, is_covariate=False)], covariates=[]), conditions=          x\n",
       "0  2.373031\n",
       "1  9.041770\n",
       "2 -8.355166\n",
       "3  0.447124\n",
       "4  7.788639, experiment_data=None, models=[])"
      ]
     },
     "execution_count": null,
     "metadata": {},
     "output_type": "execute_result"
    }
   ],
   "source": [
    "pooler.run(s_0)"
   ]
  },
  {
   "cell_type": "code",
   "execution_count": null,
   "metadata": {},
   "outputs": [
    {
     "data": {
      "text/plain": [
       "StandardState(variables=VariableCollection(independent_variables=[Variable(name='x', value_range=(-10, 10), allowed_values=None, units='', type=<ValueType.REAL: 'real'>, variable_label='', rescale=1, is_covariate=False)], dependent_variables=[Variable(name='y', value_range=None, allowed_values=None, units='', type=<ValueType.REAL: 'real'>, variable_label='', rescale=1, is_covariate=False)], covariates=[]), conditions=          x\n",
       "0 -6.426886\n",
       "1  6.937435\n",
       "2  6.747884\n",
       "3  3.964029\n",
       "4 -4.822142, experiment_data=None, models=[])"
      ]
     },
     "execution_count": null,
     "metadata": {},
     "output_type": "execute_result"
    }
   ],
   "source": [
    "pooler.run_on_state(s_0)"
   ]
  },
  {
   "cell_type": "markdown",
   "metadata": {},
   "source": [
    "## Option 4...n: your suggestion?"
   ]
  },
  {
   "cell_type": "code",
   "execution_count": null,
   "metadata": {},
   "outputs": [],
   "source": []
  }
 ],
 "metadata": {
  "kernelspec": {
   "display_name": "Python 3",
   "language": "python",
   "name": "python3"
  },
  "language_info": {
   "codemirror_mode": {
    "name": "ipython",
    "version": 2
   },
   "file_extension": ".py",
   "mimetype": "text/x-python",
   "name": "python",
   "nbconvert_exporter": "python",
   "pygments_lexer": "ipython2"
  }
 },
 "nbformat": 4,
 "nbformat_minor": 0
}
