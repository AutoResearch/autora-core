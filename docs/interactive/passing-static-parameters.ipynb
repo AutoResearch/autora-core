{
 "cells": [
  {
   "cell_type": "markdown",
   "source": [
    "# Passing Static Parameters\n",
    "\n",
    "Aim: pass parameters to the cycle components, when they are needed.\n"
   ],
   "metadata": {
    "collapsed": false
   }
  },
  {
   "cell_type": "code",
   "execution_count": 1,
   "outputs": [],
   "source": [
    "import numpy as np\n",
    "import pandas as pd\n",
    "from autora.experimentalist.pipeline import make_pipeline\n",
    "from autora.variable import VariableCollection, Variable\n",
    "from sklearn.linear_model import LinearRegression\n",
    "\n",
    "from autora.workflow import Cycle"
   ],
   "metadata": {
    "collapsed": false,
    "ExecuteTime": {
     "start_time": "2023-04-28T16:01:26.923273Z",
     "end_time": "2023-04-28T16:01:27.729662Z"
    }
   }
  },
  {
   "cell_type": "markdown",
   "source": [
    "Here we have an experimentalist which takes a parameter:"
   ],
   "metadata": {
    "collapsed": false
   }
  },
  {
   "cell_type": "code",
   "execution_count": 2,
   "outputs": [],
   "source": [
    "uniform_random_rng = np.random.default_rng(180)\n",
    "def uniform_random_sampler(n):\n",
    "    new_conditions = uniform_random_rng.uniform(low=0, high=11, size=n)\n",
    "    conditions_df = pd.DataFrame({\"x\": new_conditions})\n",
    "    return conditions_df\n",
    "example_experimentalist_with_parameters = make_pipeline([uniform_random_sampler])"
   ],
   "metadata": {
    "collapsed": false,
    "ExecuteTime": {
     "start_time": "2023-04-28T16:01:27.731342Z",
     "end_time": "2023-04-28T16:01:27.732723Z"
    }
   }
  },
  {
   "cell_type": "code",
   "execution_count": 3,
   "outputs": [
    {
     "data": {
      "text/plain": "         x\n0  6.33662",
      "text/html": "<div>\n<style scoped>\n    .dataframe tbody tr th:only-of-type {\n        vertical-align: middle;\n    }\n\n    .dataframe tbody tr th {\n        vertical-align: top;\n    }\n\n    .dataframe thead th {\n        text-align: right;\n    }\n</style>\n<table border=\"1\" class=\"dataframe\">\n  <thead>\n    <tr style=\"text-align: right;\">\n      <th></th>\n      <th>x</th>\n    </tr>\n  </thead>\n  <tbody>\n    <tr>\n      <th>0</th>\n      <td>6.33662</td>\n    </tr>\n  </tbody>\n</table>\n</div>"
     },
     "execution_count": 3,
     "metadata": {},
     "output_type": "execute_result"
    }
   ],
   "source": [
    "example_experimentalist_with_parameters(**{\"uniform_random_sampler\": {\"n\": 1}})"
   ],
   "metadata": {
    "collapsed": false,
    "ExecuteTime": {
     "start_time": "2023-04-28T16:01:27.733127Z",
     "end_time": "2023-04-28T16:01:27.739134Z"
    }
   }
  },
  {
   "cell_type": "code",
   "execution_count": 4,
   "outputs": [],
   "source": [
    "def ground_truth(x):\n",
    "    return x + 1\n",
    "metadata = VariableCollection(\n",
    "   independent_variables=[Variable(name=\"x\", allowed_values=range(11))],\n",
    "   dependent_variables=[Variable(name=\"y\", value_range=(-20, 20))],\n",
    "   )\n",
    "example_experimentalist = make_pipeline([metadata.independent_variables[0].allowed_values])\n",
    "\n",
    "def get_example_synthetic_experiment_runner():\n",
    "    rng = np.random.default_rng(seed=180)\n",
    "    def runner(x):\n",
    "        return ground_truth(x) + rng.normal(0, 0.1, x.shape)\n",
    "    def as_dataframe(conditions_df: pd.DataFrame):\n",
    "        observations_df = conditions_df.copy()\n",
    "        observations_df[\"y\"] = runner(conditions_df[\"x\"])\n",
    "        return observations_df\n",
    "    return as_dataframe\n",
    "\n",
    "example_synthetic_experiment_runner = get_example_synthetic_experiment_runner()\n",
    "example_theorist = LinearRegression()"
   ],
   "metadata": {
    "collapsed": false,
    "ExecuteTime": {
     "start_time": "2023-04-28T16:01:27.741715Z",
     "end_time": "2023-04-28T16:01:27.742899Z"
    }
   }
  },
  {
   "cell_type": "markdown",
   "source": [
    "The cycle can handle that using the `params` keyword:"
   ],
   "metadata": {
    "collapsed": false
   }
  },
  {
   "cell_type": "code",
   "execution_count": 5,
   "outputs": [
    {
     "data": {
      "text/plain": "           x\n0   7.349166\n1   6.085965\n2   2.285666\n3   1.955397\n4   5.800231\n5   3.270079\n6  10.583823",
      "text/html": "<div>\n<style scoped>\n    .dataframe tbody tr th:only-of-type {\n        vertical-align: middle;\n    }\n\n    .dataframe tbody tr th {\n        vertical-align: top;\n    }\n\n    .dataframe thead th {\n        text-align: right;\n    }\n</style>\n<table border=\"1\" class=\"dataframe\">\n  <thead>\n    <tr style=\"text-align: right;\">\n      <th></th>\n      <th>x</th>\n    </tr>\n  </thead>\n  <tbody>\n    <tr>\n      <th>0</th>\n      <td>7.349166</td>\n    </tr>\n    <tr>\n      <th>1</th>\n      <td>6.085965</td>\n    </tr>\n    <tr>\n      <th>2</th>\n      <td>2.285666</td>\n    </tr>\n    <tr>\n      <th>3</th>\n      <td>1.955397</td>\n    </tr>\n    <tr>\n      <th>4</th>\n      <td>5.800231</td>\n    </tr>\n    <tr>\n      <th>5</th>\n      <td>3.270079</td>\n    </tr>\n    <tr>\n      <th>6</th>\n      <td>10.583823</td>\n    </tr>\n  </tbody>\n</table>\n</div>"
     },
     "execution_count": 5,
     "metadata": {},
     "output_type": "execute_result"
    }
   ],
   "source": [
    "cycle_with_parameters = Cycle(\n",
    "    metadata=metadata,\n",
    "    theorist=example_theorist,\n",
    "    experimentalist=example_experimentalist_with_parameters,\n",
    "    experiment_runner=example_synthetic_experiment_runner,\n",
    "    params={\"experimentalist\": {\"uniform_random_sampler\": {\"n\": 7}}}\n",
    ")\n",
    "cycle_with_parameters.run()\n",
    "cycle_with_parameters.data.conditions[-1]"
   ],
   "metadata": {
    "collapsed": false,
    "ExecuteTime": {
     "start_time": "2023-04-28T16:01:27.743869Z",
     "end_time": "2023-04-28T16:01:27.764446Z"
    }
   }
  },
  {
   "cell_type": "markdown",
   "source": [
    "For the next cycle, if we wish, we can change the parameter value:"
   ],
   "metadata": {
    "collapsed": false
   }
  },
  {
   "cell_type": "code",
   "execution_count": 6,
   "outputs": [
    {
     "data": {
      "text/plain": "          x\n0  9.456660\n1  2.217216",
      "text/html": "<div>\n<style scoped>\n    .dataframe tbody tr th:only-of-type {\n        vertical-align: middle;\n    }\n\n    .dataframe tbody tr th {\n        vertical-align: top;\n    }\n\n    .dataframe thead th {\n        text-align: right;\n    }\n</style>\n<table border=\"1\" class=\"dataframe\">\n  <thead>\n    <tr style=\"text-align: right;\">\n      <th></th>\n      <th>x</th>\n    </tr>\n  </thead>\n  <tbody>\n    <tr>\n      <th>0</th>\n      <td>9.456660</td>\n    </tr>\n    <tr>\n      <th>1</th>\n      <td>2.217216</td>\n    </tr>\n  </tbody>\n</table>\n</div>"
     },
     "execution_count": 6,
     "metadata": {},
     "output_type": "execute_result"
    }
   ],
   "source": [
    "cycle_with_parameters.params[\"experimentalist\"][\"uniform_random_sampler\"][\"n\"] = 2\n",
    "cycle_with_parameters.run()\n",
    "cycle_with_parameters.data.conditions[-1]\n"
   ],
   "metadata": {
    "collapsed": false,
    "ExecuteTime": {
     "start_time": "2023-04-28T16:01:27.755746Z",
     "end_time": "2023-04-28T16:01:27.772307Z"
    }
   }
  }
 ],
 "metadata": {
  "kernelspec": {
   "display_name": "Python 3",
   "language": "python",
   "name": "python3"
  },
  "language_info": {
   "codemirror_mode": {
    "name": "ipython",
    "version": 2
   },
   "file_extension": ".py",
   "mimetype": "text/x-python",
   "name": "python",
   "nbconvert_exporter": "python",
   "pygments_lexer": "ipython2",
   "version": "2.7.6"
  }
 },
 "nbformat": 4,
 "nbformat_minor": 0
}
