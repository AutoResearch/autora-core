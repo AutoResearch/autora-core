{
 "cells": [
  {
   "cell_type": "markdown",
   "metadata": {},
   "source": [
    "# Basic Introduction to Functions and States"
   ]
  },
  {
   "cell_type": "markdown",
   "metadata": {},
   "source": [
    "Using the functions and objects in `autora.state`, we can build flexible pipelines and cycles which operate on state\n",
    "objects.\n",
    "\n",
    "## Theoretical Overview\n",
    "\n",
    "The fundamental idea is this:\n",
    "- We define a \"state\" object $S$ which can be modified with a \"delta\" (a new result) $\\Delta S$.\n",
    "- A new state at some point $i+1$ is $$S_{i+1} = S_i + \\Delta S_{i+1}$$\n",
    "- The cycle state after $n$ steps is thus $$S_n = S_{0} +  \\sum^{n}_{i=1} \\Delta S_{i}$$\n",
    "\n",
    "To represent $S$ and $\\Delta S$ in code, you can use `autora.state.delta.State` and `autora.state.delta.Delta`\n",
    "respectively. To operate on these, we define functions.\n",
    "\n",
    "- Each operation in an AER cycle (theorist, experimentalist, experiment_runner, etc.) is implemented as a\n",
    "function with $n$ arguments $s_j$ which are members of $S$ and $m$ others $a_k$ which are not.\n",
    "  $$ f(s_0, ..., s_n, a_0, ..., a_m) \\rightarrow \\Delta S_{i+1}$$\n",
    "- There is a wrapper function $h$ (`autora.state.delta.wrap_to_use_state`) which changes the signature of $f$ to\n",
    "require $S$ and aggregates the resulting $\\Delta S_{i+1}$\n",
    "  $$h\\left[f(s_0, ..., s_n, a_0, ..., a_m) \\rightarrow \\Delta\n",
    "S_{i+1}\\right] \\rightarrow \\left[ f^\\prime(S_i, a_0, ..., a_m) \\rightarrow S_{i} + \\Delta\n",
    "S_{i+1} = S_{i+1}\\right]$$\n",
    "\n",
    "- Assuming that the other arguments $a_k$ are provided by partial evaluation of the $f^\\prime$, the full AER cycle can\n",
    "then be represented as:\n",
    "  $$S_n = f_n^\\prime(...f_2^\\prime(f_1^\\prime(S_0)))$$\n",
    "\n",
    "There are additional helper functions to wrap common experimentalists, experiment runners and theorists so that we\n",
    "can define a full AER cycle using python notation as shown in the following example."
   ]
  },
  {
   "cell_type": "markdown",
   "metadata": {},
   "source": [
    "## Example\n",
    "\n",
    "First initialize the State. In this case, we use the pre-defined `StandardState` which implements the standard AER\n",
    "naming convention.\n",
    "There are two variables `x` with a range [-10, 10] and `y` with an unspecified range."
   ]
  },
  {
   "cell_type": "code",
   "execution_count": null,
   "metadata": {},
   "outputs": [],
   "source": [
    "from autora.state.bundled import StandardState\n",
    "from autora.variable import VariableCollection, Variable\n",
    "\n",
    "s_0 = StandardState(\n",
    "    variables=VariableCollection(\n",
    "        independent_variables=[Variable(\"x\", value_range=(-10, 10))],\n",
    "        dependent_variables=[Variable(\"y\")]\n",
    "    )\n",
    ")"
   ]
  },
  {
   "cell_type": "markdown",
   "metadata": {},
   "source": [
    "Specify the experimentalist. Use a standard function `random_pool`.\n",
    "This gets 5 independent random samples (by default, configurable using an argument)\n",
    "from the value_range of the independent variables, and returns them in a DataFrame.\n",
    "To make this work as a function on the State objects, we wrap it in the `to_state_function`."
   ]
  },
  {
   "cell_type": "code",
   "execution_count": null,
   "metadata": {},
   "outputs": [
    {
     "data": {
      "text/plain": [
       "StandardState(variables=VariableCollection(independent_variables=[Variable(name='x', value_range=(-10, 10), allowed_values=None, units='', type=<ValueType.REAL: 'real'>, variable_label='', rescale=1, is_covariate=False)], dependent_variables=[Variable(name='y', value_range=None, allowed_values=None, units='', type=<ValueType.REAL: 'real'>, variable_label='', rescale=1, is_covariate=False)], covariates=[]), conditions=          x\n",
       "0  6.879258\n",
       "1 -1.231564\n",
       "2  0.149769\n",
       "3  0.454804\n",
       "4 -0.603432, experiment_data=None, models=[])"
      ]
     },
     "execution_count": null,
     "metadata": {},
     "output_type": "execute_result"
    }
   ],
   "source": [
    "from autora.experimentalist.random_ import random_pool\n",
    "from autora.state.delta import on_state\n",
    "\n",
    "experimentalist = on_state(function=random_pool, output=[\"conditions\"])\n",
    "s_1 = experimentalist(s_0)\n",
    "s_1"
   ]
  },
  {
   "cell_type": "markdown",
   "metadata": {},
   "source": [
    "Specify the experiment runner. This calculates a linear function, adds noise, assigns the value to the `y` column\n",
    " in a new DataFrame."
   ]
  },
  {
   "cell_type": "code",
   "execution_count": null,
   "metadata": {},
   "outputs": [
    {
     "ename": "AssertionError",
     "evalue": "function `<function experiment_runner at 0x132faa940>` has to return multiple values to match `('e', 'x', 'p', 'e', 'r', 'i', 'm', 'e', 'n', 't', '_', 'd', 'a', 't', 'a')`. Got `          x          y\n0  6.879258  30.075715\n1 -1.231564  -4.606542\n2  0.149769   2.340361\n3  0.454804   4.309657\n4 -0.603432  -0.251267` instead.",
     "output_type": "error",
     "traceback": [
      "\u001b[0;31m---------------------------------------------------------------------------\u001b[0m",
      "\u001b[0;31mAssertionError\u001b[0m                            Traceback (most recent call last)",
      "Cell \u001b[0;32mIn[3], line 16\u001b[0m\n\u001b[1;32m     13\u001b[0m     \u001b[38;5;28;01mreturn\u001b[39;00m observations\n\u001b[1;32m     15\u001b[0m \u001b[38;5;66;03m# Which does the following:\u001b[39;00m\n\u001b[0;32m---> 16\u001b[0m \u001b[43mexperiment_runner\u001b[49m\u001b[43m(\u001b[49m\u001b[43ms_1\u001b[49m\u001b[43m)\u001b[49m\n",
      "File \u001b[0;32m~/Developer/autora-core/src/autora/state/delta.py:613\u001b[0m, in \u001b[0;36minputs_from_state.<locals>._f\u001b[0;34m(state_, **kwargs)\u001b[0m\n\u001b[1;32m    611\u001b[0m arguments_from_state \u001b[38;5;241m=\u001b[39m {k: \u001b[38;5;28mgetattr\u001b[39m(state_, k) \u001b[38;5;28;01mfor\u001b[39;00m k \u001b[38;5;129;01min\u001b[39;00m from_state}\n\u001b[1;32m    612\u001b[0m arguments \u001b[38;5;241m=\u001b[39m \u001b[38;5;28mdict\u001b[39m(arguments_from_state, \u001b[38;5;241m*\u001b[39m\u001b[38;5;241m*\u001b[39mkwargs)\n\u001b[0;32m--> 613\u001b[0m delta \u001b[38;5;241m=\u001b[39m \u001b[43mf\u001b[49m\u001b[43m(\u001b[49m\u001b[38;5;241;43m*\u001b[39;49m\u001b[38;5;241;43m*\u001b[39;49m\u001b[43marguments\u001b[49m\u001b[43m)\u001b[49m\n\u001b[1;32m    614\u001b[0m new_state \u001b[38;5;241m=\u001b[39m state_ \u001b[38;5;241m+\u001b[39m delta\n\u001b[1;32m    615\u001b[0m \u001b[38;5;28;01mreturn\u001b[39;00m new_state\n",
      "File \u001b[0;32m~/Developer/autora-core/src/autora/state/delta.py:706\u001b[0m, in \u001b[0;36moutputs_to_delta.<locals>.decorator.<locals>.inner\u001b[0;34m(*args, **kwargs)\u001b[0m\n\u001b[1;32m    703\u001b[0m \u001b[38;5;129m@wraps\u001b[39m(f)\n\u001b[1;32m    704\u001b[0m \u001b[38;5;28;01mdef\u001b[39;00m \u001b[38;5;21minner\u001b[39m(\u001b[38;5;241m*\u001b[39margs, \u001b[38;5;241m*\u001b[39m\u001b[38;5;241m*\u001b[39mkwargs):\n\u001b[1;32m    705\u001b[0m     result \u001b[38;5;241m=\u001b[39m f(\u001b[38;5;241m*\u001b[39margs, \u001b[38;5;241m*\u001b[39m\u001b[38;5;241m*\u001b[39mkwargs)\n\u001b[0;32m--> 706\u001b[0m     \u001b[38;5;28;01massert\u001b[39;00m \u001b[38;5;28misinstance\u001b[39m(result, \u001b[38;5;28mtuple\u001b[39m), (\n\u001b[1;32m    707\u001b[0m         \u001b[38;5;124m\"\u001b[39m\u001b[38;5;124mfunction `\u001b[39m\u001b[38;5;132;01m%s\u001b[39;00m\u001b[38;5;124m` has to return multiple values \u001b[39m\u001b[38;5;124m\"\u001b[39m\n\u001b[1;32m    708\u001b[0m         \u001b[38;5;124m\"\u001b[39m\u001b[38;5;124mto match `\u001b[39m\u001b[38;5;132;01m%s\u001b[39;00m\u001b[38;5;124m`. Got `\u001b[39m\u001b[38;5;132;01m%s\u001b[39;00m\u001b[38;5;124m` instead.\u001b[39m\u001b[38;5;124m\"\u001b[39m \u001b[38;5;241m%\u001b[39m (f, output, result)\n\u001b[1;32m    709\u001b[0m     )\n\u001b[1;32m    710\u001b[0m     \u001b[38;5;28;01massert\u001b[39;00m \u001b[38;5;28mlen\u001b[39m(output) \u001b[38;5;241m==\u001b[39m \u001b[38;5;28mlen\u001b[39m(result), (\n\u001b[1;32m    711\u001b[0m         \u001b[38;5;124m\"\u001b[39m\u001b[38;5;124mfunction `\u001b[39m\u001b[38;5;132;01m%s\u001b[39;00m\u001b[38;5;124m` has to return \u001b[39m\u001b[38;5;124m\"\u001b[39m\n\u001b[1;32m    712\u001b[0m         \u001b[38;5;124m\"\u001b[39m\u001b[38;5;124mexactly `\u001b[39m\u001b[38;5;132;01m%s\u001b[39;00m\u001b[38;5;124m` values \u001b[39m\u001b[38;5;124m\"\u001b[39m\n\u001b[0;32m   (...)\u001b[0m\n\u001b[1;32m    715\u001b[0m         \u001b[38;5;124m\"\u001b[39m\u001b[38;5;124m\"\u001b[39m \u001b[38;5;241m%\u001b[39m (f, \u001b[38;5;28mlen\u001b[39m(output), output, result)\n\u001b[1;32m    716\u001b[0m     )\n\u001b[1;32m    717\u001b[0m     delta \u001b[38;5;241m=\u001b[39m Delta(\u001b[38;5;241m*\u001b[39m\u001b[38;5;241m*\u001b[39m\u001b[38;5;28mdict\u001b[39m(\u001b[38;5;28mzip\u001b[39m(output, result)))\n",
      "\u001b[0;31mAssertionError\u001b[0m: function `<function experiment_runner at 0x132faa940>` has to return multiple values to match `('e', 'x', 'p', 'e', 'r', 'i', 'm', 'e', 'n', 't', '_', 'd', 'a', 't', 'a')`. Got `          x          y\n0  6.879258  30.075715\n1 -1.231564  -4.606542\n2  0.149769   2.340361\n3  0.454804   4.309657\n4 -0.603432  -0.251267` instead."
     ]
    }
   ],
   "source": [
    "from autora.state.delta import on_state\n",
    "import numpy as np\n",
    "import pandas as pd\n",
    "\n",
    "\n",
    "@on_state(output=\"experiment_data\")\n",
    "def experiment_runner(conditions: pd.DataFrame, c=[2, 4], random_state = None):\n",
    "    rng = np.random.default_rng(random_state)\n",
    "    x = conditions[\"x\"]\n",
    "    noise = rng.normal(0, 1, len(x))\n",
    "    y = c[0] + (c[1] * x) + noise\n",
    "    observations = conditions.assign(y = y)\n",
    "    return observations\n",
    "\n",
    "# Which does the following:\n",
    "experiment_runner(s_1)"
   ]
  },
  {
   "cell_type": "markdown",
   "metadata": {},
   "source": [
    "A completely analogous definition would be:"
   ]
  },
  {
   "cell_type": "code",
   "execution_count": null,
   "metadata": {},
   "outputs": [],
   "source": [
    "from autora.state.delta import outputs_to_delta\n",
    "\n",
    "\n",
    "@inputs_from_state\n",
    "@outputs_to_delta(\"experiment_data\")\n",
    "def experiment_runner_alt_1(conditions: pd.DataFrame, c=[2, 4]):\n",
    "    x = conditions[\"x\"]\n",
    "    noise = rng.normal(0, 1, len(x))\n",
    "    y = c[0] + (c[1] * x) + noise\n",
    "    xy = conditions.assign(y = y)\n",
    "    return xy\n",
    "\n",
    "# Which does the following:\n",
    "experiment_runner_alt_1(s_1)"
   ]
  },
  {
   "cell_type": "markdown",
   "metadata": {},
   "source": [
    "Or alternatively:"
   ]
  },
  {
   "cell_type": "code",
   "execution_count": null,
   "metadata": {},
   "outputs": [],
   "source": [
    "def experiment_runner_alt_2_core(conditions: pd.DataFrame, c=[2, 4]):\n",
    "    x = conditions[\"x\"]\n",
    "    noise = rng.normal(0, 1, len(x))\n",
    "    y = c[0] + (c[1] * x) + noise\n",
    "    xy = conditions.assign(y = y)\n",
    "    return xy\n",
    "\n",
    "experiment_runner_alt_2 = on_state(experiment_runner_alt_2_core, output=[\"experiment_data\"])\n",
    "experiment_runner_alt_2(s_1)"
   ]
  },
  {
   "cell_type": "markdown",
   "metadata": {},
   "source": [
    "Specify a theorist, using a standard LinearRegression from scikit-learn."
   ]
  },
  {
   "cell_type": "code",
   "execution_count": null,
   "metadata": {},
   "outputs": [],
   "source": [
    "from sklearn.linear_model import LinearRegression\n",
    "from autora.state.wrapper import state_fn_from_estimator\n",
    "\n",
    "theorist = state_fn_from_estimator(LinearRegression(fit_intercept=True))"
   ]
  },
  {
   "cell_type": "code",
   "execution_count": null,
   "metadata": {},
   "outputs": [],
   "source": [
    "s_0"
   ]
  },
  {
   "cell_type": "code",
   "execution_count": null,
   "metadata": {},
   "outputs": [],
   "source": [
    "theorist(experiment_runner(experimentalist(s_0)))"
   ]
  },
  {
   "cell_type": "markdown",
   "metadata": {},
   "source": [
    "Define the cycle: run the experimentalist, experiment_runner and theorist ten times."
   ]
  },
  {
   "cell_type": "code",
   "execution_count": null,
   "metadata": {},
   "outputs": [],
   "source": [
    "s_ = s_0\n",
    "for i in range(10):\n",
    "    s_ = experimentalist(s_)\n",
    "    s_ = experiment_runner(s_)\n",
    "    s_ = theorist(s_)"
   ]
  },
  {
   "cell_type": "markdown",
   "metadata": {},
   "source": [
    "The experiment_data has 50 entries (10 cycles and 5 samples per cycle):"
   ]
  },
  {
   "cell_type": "code",
   "execution_count": null,
   "metadata": {},
   "outputs": [],
   "source": [
    "s_.experiment_data"
   ]
  },
  {
   "cell_type": "markdown",
   "metadata": {},
   "source": [
    "The fitted coefficients are close to the original intercept = 2, gradient = 4"
   ]
  },
  {
   "cell_type": "code",
   "execution_count": null,
   "metadata": {},
   "outputs": [],
   "source": [
    "print(s_.model.intercept_, s_.model.coef_)\n"
   ]
  }
 ],
 "metadata": {
  "kernelspec": {
   "display_name": "Python 3 (ipykernel)",
   "language": "python",
   "name": "python3"
  },
  "language_info": {
   "codemirror_mode": {
    "name": "ipython",
    "version": 3
   },
   "file_extension": ".py",
   "mimetype": "text/x-python",
   "name": "python",
   "nbconvert_exporter": "python",
   "pygments_lexer": "ipython3"
  }
 },
 "nbformat": 4,
 "nbformat_minor": 1
}
