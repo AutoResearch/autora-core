{
 "cells": [
  {
   "cell_type": "markdown",
   "metadata": {},
   "source": [
    "# Basic Introduction to Functions and States"
   ]
  },
  {
   "cell_type": "markdown",
   "metadata": {},
   "source": [
    "Using the functions and objects in `autora.state`, we can build flexible pipelines and cycles which operate on state\n",
    "objects.\n",
    "\n",
    "## Theoretical Overview\n",
    "\n",
    "The fundamental idea is this:\n",
    "- We define a \"state\" object $S$ which can be modified with a \"delta\" (a new result) $\\Delta S$.\n",
    "- A new state at some point $i+1$ is $$S_{i+1} = S_i + \\Delta S_{i+1}$$\n",
    "- The cycle state after $n$ steps is thus $$S_n = S_{0} +  \\sum^{n}_{i=1} \\Delta S_{i}$$\n",
    "\n",
    "To represent $S$ and $\\Delta S$ in code, you can use `autora.state.State` and `autora.state.Delta`\n",
    "respectively. To operate on these, we define functions.\n",
    "\n",
    "- Each operation in an AER cycle (theorist, experimentalist, experiment_runner, etc.) is implemented as a\n",
    "function with $n$ arguments $s_j$ which are members of $S$ and $m$ others $a_k$ which are not.\n",
    "  $$ f(s_0, ..., s_n, a_0, ..., a_m) \\rightarrow \\Delta S_{i+1}$$\n",
    "- There is a wrapper function $w$ (`autora.state.wrap_to_use_state`) which changes the signature of $f$ to\n",
    "require $S$ and aggregates the resulting $\\Delta S_{i+1}$\n",
    "  $$w\\left[f(s_0, ..., s_n, a_0, ..., a_m) \\rightarrow \\Delta\n",
    "S_{i+1}\\right] \\rightarrow \\left[ f^\\prime(S_i, a_0, ..., a_m) \\rightarrow S_{i} + \\Delta\n",
    "S_{i+1} = S_{i+1}\\right]$$\n",
    "\n",
    "- Assuming that the other arguments $a_k$ are provided by partial evaluation of the $f^\\prime$, the full AER cycle can\n",
    "then be represented as:\n",
    "  $$S_n = f_n^\\prime(...f_2^\\prime(f_1^\\prime(S_0)))$$\n",
    "\n",
    "There are additional helper functions to wrap common experimentalists, experiment runners and theorists so that we\n",
    "can define a full AER cycle using python notation as shown in the following example."
   ]
  },
  {
   "cell_type": "markdown",
   "metadata": {},
   "source": [
    "## Example\n",
    "\n",
    "First initialize the State. In this case, we use the pre-defined `StandardState` which implements the standard AER\n",
    "naming convention.\n",
    "There are two variables `x` with a range [-10, 10] and `y` with an unspecified range."
   ]
  },
  {
   "cell_type": "code",
   "execution_count": null,
   "metadata": {},
   "outputs": [],
   "source": [
    "from autora.state import StandardState\n",
    "from autora.variable import VariableCollection, Variable\n",
    "\n",
    "s_0 = StandardState(\n",
    "    variables=VariableCollection(\n",
    "        independent_variables=[Variable(\"x\", value_range=(-10, 10))],\n",
    "        dependent_variables=[Variable(\"y\")]\n",
    "    )\n",
    ")"
   ]
  },
  {
   "cell_type": "markdown",
   "metadata": {},
   "source": [
    "Specify the experimentalist. Use a standard function `random_pool`.\n",
    "This gets 5 independent random samples (by default, configurable using an argument)\n",
    "from the value_range of the independent variables, and returns them in a DataFrame.\n",
    "To make this work as a function on the State objects, we wrap it in the `on_state` function."
   ]
  },
  {
   "cell_type": "code",
   "execution_count": null,
   "metadata": {},
   "outputs": [
    {
     "data": {
      "text/plain": [
       "StandardState(variables=VariableCollection(independent_variables=[Variable(name='x', value_range=(-10, 10), allowed_values=None, units='', type=<ValueType.REAL: 'real'>, variable_label='', rescale=1, is_covariate=False)], dependent_variables=[Variable(name='y', value_range=None, allowed_values=None, units='', type=<ValueType.REAL: 'real'>, variable_label='', rescale=1, is_covariate=False)], covariates=[]), conditions=          x\n",
       "0  5.479121\n",
       "1 -1.222431\n",
       "2  7.171958\n",
       "3  3.947361\n",
       "4 -8.116453, experiment_data=None, models=[])"
      ]
     },
     "execution_count": null,
     "metadata": {},
     "output_type": "execute_result"
    }
   ],
   "source": [
    "from autora.experimentalist.random_ import random_pool\n",
    "from autora.state import on_state\n",
    "\n",
    "experimentalist = on_state(function=random_pool, output=[\"conditions\"])\n",
    "s_1 = experimentalist(s_0, random_state=42)\n",
    "s_1"
   ]
  },
  {
   "cell_type": "markdown",
   "metadata": {},
   "source": [
    "Specify the experiment runner. This calculates a linear function, adds noise, assigns the value to the `y` column\n",
    " in a new DataFrame."
   ]
  },
  {
   "cell_type": "code",
   "execution_count": null,
   "metadata": {},
   "outputs": [
    {
     "data": {
      "text/plain": [
       "StandardState(variables=VariableCollection(independent_variables=[Variable(name='x', value_range=(-10, 10), allowed_values=None, units='', type=<ValueType.REAL: 'real'>, variable_label='', rescale=1, is_covariate=False)], dependent_variables=[Variable(name='y', value_range=None, allowed_values=None, units='', type=<ValueType.REAL: 'real'>, variable_label='', rescale=1, is_covariate=False)], covariates=[]), conditions=          x\n",
       "0  5.479121\n",
       "1 -1.222431\n",
       "2  7.171958\n",
       "3  3.947361\n",
       "4 -8.116453, experiment_data=          x          y\n",
       "0  5.479121  24.160713\n",
       "1 -1.222431  -2.211546\n",
       "2  7.171958  30.102304\n",
       "3  3.947361  16.880769\n",
       "4 -8.116453 -32.457650, models=[])"
      ]
     },
     "execution_count": null,
     "metadata": {},
     "output_type": "execute_result"
    }
   ],
   "source": [
    "from autora.state import on_state\n",
    "import numpy as np\n",
    "import pandas as pd\n",
    "\n",
    "\n",
    "@on_state(output=[\"experiment_data\"])\n",
    "def experiment_runner(conditions: pd.DataFrame, c=[2, 4], random_state = None):\n",
    "    rng = np.random.default_rng(random_state)\n",
    "    x = conditions[\"x\"]\n",
    "    noise = rng.normal(0, 1, len(x))\n",
    "    y = c[0] + (c[1] * x) + noise\n",
    "    observations = conditions.assign(y = y)\n",
    "    return observations\n",
    "\n",
    "# Which does the following:\n",
    "experiment_runner(s_1, random_state=43)"
   ]
  },
  {
   "cell_type": "markdown",
   "metadata": {},
   "source": [
    "A completely analogous definition, using the separate `@inputs_from_state` and `@outputs_to_delta(...)` decorators\n",
    "rather than the combined `@on_state(...)` decorator would be:"
   ]
  },
  {
   "cell_type": "code",
   "execution_count": null,
   "metadata": {},
   "outputs": [
    {
     "data": {
      "text/plain": [
       "StandardState(variables=VariableCollection(independent_variables=[Variable(name='x', value_range=(-10, 10), allowed_values=None, units='', type=<ValueType.REAL: 'real'>, variable_label='', rescale=1, is_covariate=False)], dependent_variables=[Variable(name='y', value_range=None, allowed_values=None, units='', type=<ValueType.REAL: 'real'>, variable_label='', rescale=1, is_covariate=False)], covariates=[]), conditions=          x\n",
       "0  5.479121\n",
       "1 -1.222431\n",
       "2  7.171958\n",
       "3  3.947361\n",
       "4 -8.116453, experiment_data=          x          y\n",
       "0  5.479121  24.221201\n",
       "1 -1.222431  -3.929709\n",
       "2  7.171958  31.438285\n",
       "3  3.947361  18.730007\n",
       "4 -8.116453 -32.416847, models=[])"
      ]
     },
     "execution_count": null,
     "metadata": {},
     "output_type": "execute_result"
    }
   ],
   "source": [
    "from autora.state import inputs_from_state, outputs_to_delta\n",
    "\n",
    "\n",
    "@inputs_from_state\n",
    "@outputs_to_delta(\"experiment_data\")\n",
    "def experiment_runner_alt_1(conditions: pd.DataFrame, c=[2, 4], random_state=None):\n",
    "    x = conditions[\"x\"]\n",
    "    rng = np.random.default_rng(random_state)\n",
    "    noise = rng.normal(0, 1, len(x))\n",
    "    y = c[0] + (c[1] * x) + noise\n",
    "    xy = conditions.assign(y = y)\n",
    "    return xy\n",
    "\n",
    "# Which does the following:\n",
    "experiment_runner_alt_1(s_1, random_state=42)"
   ]
  },
  {
   "cell_type": "markdown",
   "metadata": {},
   "source": [
    "Or alternatively:"
   ]
  },
  {
   "cell_type": "code",
   "execution_count": null,
   "metadata": {},
   "outputs": [
    {
     "data": {
      "text/plain": [
       "StandardState(variables=VariableCollection(independent_variables=[Variable(name='x', value_range=(-10, 10), allowed_values=None, units='', type=<ValueType.REAL: 'real'>, variable_label='', rescale=1, is_covariate=False)], dependent_variables=[Variable(name='y', value_range=None, allowed_values=None, units='', type=<ValueType.REAL: 'real'>, variable_label='', rescale=1, is_covariate=False)], covariates=[]), conditions=          x\n",
       "0  5.479121\n",
       "1 -1.222431\n",
       "2  7.171958\n",
       "3  3.947361\n",
       "4 -8.116453, experiment_data=          x          y\n",
       "0  5.479121  24.372288\n",
       "1 -1.222431  -1.583178\n",
       "2  7.171958  30.032529\n",
       "3  3.947361  16.745934\n",
       "4 -8.116453 -31.388814, models=[])"
      ]
     },
     "execution_count": null,
     "metadata": {},
     "output_type": "execute_result"
    }
   ],
   "source": [
    "def experiment_runner_alt_2_core(conditions: pd.DataFrame, c=[2, 4], random_state=None):\n",
    "    x = conditions[\"x\"]\n",
    "    rng = np.random.default_rng(random_state)\n",
    "    noise = rng.normal(0, 1, len(x))\n",
    "    y = c[0] + (c[1] * x) + noise\n",
    "    xy = conditions.assign(y = y)\n",
    "    return xy\n",
    "\n",
    "experiment_runner_alt_2 = on_state(experiment_runner_alt_2_core, output=[\"experiment_data\"])\n",
    "experiment_runner_alt_2(s_1)"
   ]
  },
  {
   "cell_type": "markdown",
   "metadata": {},
   "source": [
    "Specify a theorist, using a standard LinearRegression from scikit-learn."
   ]
  },
  {
   "cell_type": "code",
   "execution_count": null,
   "metadata": {},
   "outputs": [],
   "source": [
    "from sklearn.linear_model import LinearRegression\n",
    "from autora.state import estimator_on_state\n",
    "\n",
    "theorist = estimator_on_state(LinearRegression(fit_intercept=True))"
   ]
  },
  {
   "cell_type": "markdown",
   "metadata": {},
   "source": [
    "Now we can run the theorist on the output from the experiment_runner,\n",
    "which itself uses the output from the experimentalist."
   ]
  },
  {
   "cell_type": "code",
   "execution_count": null,
   "metadata": {},
   "outputs": [
    {
     "data": {
      "text/plain": [
       "StandardState(variables=VariableCollection(independent_variables=[Variable(name='x', value_range=(-10, 10), allowed_values=None, units='', type=<ValueType.REAL: 'real'>, variable_label='', rescale=1, is_covariate=False)], dependent_variables=[Variable(name='y', value_range=None, allowed_values=None, units='', type=<ValueType.REAL: 'real'>, variable_label='', rescale=1, is_covariate=False)], covariates=[]), conditions=          x\n",
       "0  6.159515\n",
       "1 -7.713961\n",
       "2 -0.655764\n",
       "3  9.297426\n",
       "4  2.601009, experiment_data=          x          y\n",
       "0  6.159515  27.502964\n",
       "1 -7.713961 -30.950686\n",
       "2 -0.655764  -1.488309\n",
       "3  9.297426  38.992089\n",
       "4  2.601009  13.351848, models=[LinearRegression()])"
      ]
     },
     "execution_count": null,
     "metadata": {},
     "output_type": "execute_result"
    }
   ],
   "source": [
    "theorist(experiment_runner(experimentalist(s_0)))"
   ]
  },
  {
   "cell_type": "markdown",
   "metadata": {},
   "source": [
    "If we like, we can run the experimentalist, experiment_runner and theorist ten times."
   ]
  },
  {
   "cell_type": "code",
   "execution_count": null,
   "metadata": {},
   "outputs": [],
   "source": [
    "s_ = s_0\n",
    "for i in range(10):\n",
    "    s_ = experimentalist(s_, random_state=180+i)\n",
    "    s_ = experiment_runner(s_, random_state=2*180+i)\n",
    "    s_ = theorist(s_)"
   ]
  },
  {
   "cell_type": "markdown",
   "metadata": {},
   "source": [
    "The experiment_data has 50 entries (10 cycles and 5 samples per cycle):"
   ]
  },
  {
   "cell_type": "code",
   "execution_count": null,
   "metadata": {},
   "outputs": [
    {
     "data": {
      "text/html": [
       "<div>\n",
       "<style scoped>\n",
       "    .dataframe tbody tr th:only-of-type {\n",
       "        vertical-align: middle;\n",
       "    }\n",
       "\n",
       "    .dataframe tbody tr th {\n",
       "        vertical-align: top;\n",
       "    }\n",
       "\n",
       "    .dataframe thead th {\n",
       "        text-align: right;\n",
       "    }\n",
       "</style>\n",
       "<table border=\"1\" class=\"dataframe\">\n",
       "  <thead>\n",
       "    <tr style=\"text-align: right;\">\n",
       "      <th></th>\n",
       "      <th>x</th>\n",
       "      <th>y</th>\n",
       "    </tr>\n",
       "  </thead>\n",
       "  <tbody>\n",
       "    <tr>\n",
       "      <th>0</th>\n",
       "      <td>1.521127</td>\n",
       "      <td>8.997542</td>\n",
       "    </tr>\n",
       "    <tr>\n",
       "      <th>1</th>\n",
       "      <td>3.362120</td>\n",
       "      <td>15.339784</td>\n",
       "    </tr>\n",
       "    <tr>\n",
       "      <th>2</th>\n",
       "      <td>1.065391</td>\n",
       "      <td>5.938495</td>\n",
       "    </tr>\n",
       "    <tr>\n",
       "      <th>3</th>\n",
       "      <td>-5.844244</td>\n",
       "      <td>-21.453802</td>\n",
       "    </tr>\n",
       "    <tr>\n",
       "      <th>4</th>\n",
       "      <td>-6.444732</td>\n",
       "      <td>-24.975886</td>\n",
       "    </tr>\n",
       "    <tr>\n",
       "      <th>5</th>\n",
       "      <td>5.724585</td>\n",
       "      <td>24.929289</td>\n",
       "    </tr>\n",
       "    <tr>\n",
       "      <th>6</th>\n",
       "      <td>1.781805</td>\n",
       "      <td>9.555725</td>\n",
       "    </tr>\n",
       "    <tr>\n",
       "      <th>7</th>\n",
       "      <td>-1.015081</td>\n",
       "      <td>-2.632280</td>\n",
       "    </tr>\n",
       "    <tr>\n",
       "      <th>8</th>\n",
       "      <td>2.044083</td>\n",
       "      <td>12.001204</td>\n",
       "    </tr>\n",
       "    <tr>\n",
       "      <th>9</th>\n",
       "      <td>7.709324</td>\n",
       "      <td>30.806166</td>\n",
       "    </tr>\n",
       "    <tr>\n",
       "      <th>10</th>\n",
       "      <td>-6.680454</td>\n",
       "      <td>-24.846327</td>\n",
       "    </tr>\n",
       "    <tr>\n",
       "      <th>11</th>\n",
       "      <td>-3.630735</td>\n",
       "      <td>-11.346701</td>\n",
       "    </tr>\n",
       "    <tr>\n",
       "      <th>12</th>\n",
       "      <td>-0.498322</td>\n",
       "      <td>1.794183</td>\n",
       "    </tr>\n",
       "    <tr>\n",
       "      <th>13</th>\n",
       "      <td>-4.043702</td>\n",
       "      <td>-15.594289</td>\n",
       "    </tr>\n",
       "    <tr>\n",
       "      <th>14</th>\n",
       "      <td>5.772865</td>\n",
       "      <td>25.094876</td>\n",
       "    </tr>\n",
       "    <tr>\n",
       "      <th>15</th>\n",
       "      <td>9.028931</td>\n",
       "      <td>37.677228</td>\n",
       "    </tr>\n",
       "    <tr>\n",
       "      <th>16</th>\n",
       "      <td>8.052637</td>\n",
       "      <td>34.472556</td>\n",
       "    </tr>\n",
       "    <tr>\n",
       "      <th>17</th>\n",
       "      <td>3.774115</td>\n",
       "      <td>16.791553</td>\n",
       "    </tr>\n",
       "    <tr>\n",
       "      <th>18</th>\n",
       "      <td>-8.405662</td>\n",
       "      <td>-31.734315</td>\n",
       "    </tr>\n",
       "    <tr>\n",
       "      <th>19</th>\n",
       "      <td>5.433506</td>\n",
       "      <td>22.975112</td>\n",
       "    </tr>\n",
       "    <tr>\n",
       "      <th>20</th>\n",
       "      <td>-9.644367</td>\n",
       "      <td>-36.919598</td>\n",
       "    </tr>\n",
       "    <tr>\n",
       "      <th>21</th>\n",
       "      <td>1.673131</td>\n",
       "      <td>7.548614</td>\n",
       "    </tr>\n",
       "    <tr>\n",
       "      <th>22</th>\n",
       "      <td>7.600316</td>\n",
       "      <td>32.294054</td>\n",
       "    </tr>\n",
       "    <tr>\n",
       "      <th>23</th>\n",
       "      <td>4.354666</td>\n",
       "      <td>20.998850</td>\n",
       "    </tr>\n",
       "    <tr>\n",
       "      <th>24</th>\n",
       "      <td>6.047273</td>\n",
       "      <td>26.670616</td>\n",
       "    </tr>\n",
       "    <tr>\n",
       "      <th>25</th>\n",
       "      <td>-5.608438</td>\n",
       "      <td>-20.570161</td>\n",
       "    </tr>\n",
       "    <tr>\n",
       "      <th>26</th>\n",
       "      <td>0.733890</td>\n",
       "      <td>5.029705</td>\n",
       "    </tr>\n",
       "    <tr>\n",
       "      <th>27</th>\n",
       "      <td>-2.781912</td>\n",
       "      <td>-9.190651</td>\n",
       "    </tr>\n",
       "    <tr>\n",
       "      <th>28</th>\n",
       "      <td>-2.308464</td>\n",
       "      <td>-6.179939</td>\n",
       "    </tr>\n",
       "    <tr>\n",
       "      <th>29</th>\n",
       "      <td>-3.547105</td>\n",
       "      <td>-12.875100</td>\n",
       "    </tr>\n",
       "    <tr>\n",
       "      <th>30</th>\n",
       "      <td>0.945089</td>\n",
       "      <td>6.013183</td>\n",
       "    </tr>\n",
       "    <tr>\n",
       "      <th>31</th>\n",
       "      <td>2.694897</td>\n",
       "      <td>14.141356</td>\n",
       "    </tr>\n",
       "    <tr>\n",
       "      <th>32</th>\n",
       "      <td>7.445893</td>\n",
       "      <td>31.312279</td>\n",
       "    </tr>\n",
       "    <tr>\n",
       "      <th>33</th>\n",
       "      <td>4.423105</td>\n",
       "      <td>19.647015</td>\n",
       "    </tr>\n",
       "    <tr>\n",
       "      <th>34</th>\n",
       "      <td>2.200961</td>\n",
       "      <td>11.587911</td>\n",
       "    </tr>\n",
       "    <tr>\n",
       "      <th>35</th>\n",
       "      <td>-4.915881</td>\n",
       "      <td>-17.061782</td>\n",
       "    </tr>\n",
       "    <tr>\n",
       "      <th>36</th>\n",
       "      <td>-2.997968</td>\n",
       "      <td>-10.397403</td>\n",
       "    </tr>\n",
       "    <tr>\n",
       "      <th>37</th>\n",
       "      <td>0.099454</td>\n",
       "      <td>4.949820</td>\n",
       "    </tr>\n",
       "    <tr>\n",
       "      <th>38</th>\n",
       "      <td>-3.924786</td>\n",
       "      <td>-13.532503</td>\n",
       "    </tr>\n",
       "    <tr>\n",
       "      <th>39</th>\n",
       "      <td>7.050950</td>\n",
       "      <td>31.085545</td>\n",
       "    </tr>\n",
       "    <tr>\n",
       "      <th>40</th>\n",
       "      <td>-8.077780</td>\n",
       "      <td>-31.084307</td>\n",
       "    </tr>\n",
       "    <tr>\n",
       "      <th>41</th>\n",
       "      <td>4.391481</td>\n",
       "      <td>17.991533</td>\n",
       "    </tr>\n",
       "    <tr>\n",
       "      <th>42</th>\n",
       "      <td>6.749162</td>\n",
       "      <td>30.242121</td>\n",
       "    </tr>\n",
       "    <tr>\n",
       "      <th>43</th>\n",
       "      <td>2.246804</td>\n",
       "      <td>10.411612</td>\n",
       "    </tr>\n",
       "    <tr>\n",
       "      <th>44</th>\n",
       "      <td>4.477989</td>\n",
       "      <td>19.571584</td>\n",
       "    </tr>\n",
       "    <tr>\n",
       "      <th>45</th>\n",
       "      <td>-0.262734</td>\n",
       "      <td>1.181040</td>\n",
       "    </tr>\n",
       "    <tr>\n",
       "      <th>46</th>\n",
       "      <td>-7.187250</td>\n",
       "      <td>-26.718313</td>\n",
       "    </tr>\n",
       "    <tr>\n",
       "      <th>47</th>\n",
       "      <td>-0.790985</td>\n",
       "      <td>0.058681</td>\n",
       "    </tr>\n",
       "    <tr>\n",
       "      <th>48</th>\n",
       "      <td>6.545334</td>\n",
       "      <td>27.510641</td>\n",
       "    </tr>\n",
       "    <tr>\n",
       "      <th>49</th>\n",
       "      <td>-7.185274</td>\n",
       "      <td>-26.510872</td>\n",
       "    </tr>\n",
       "  </tbody>\n",
       "</table>\n",
       "</div>"
      ],
      "text/plain": [
       "           x          y\n",
       "0   1.521127   8.997542\n",
       "1   3.362120  15.339784\n",
       "2   1.065391   5.938495\n",
       "3  -5.844244 -21.453802\n",
       "4  -6.444732 -24.975886\n",
       "5   5.724585  24.929289\n",
       "6   1.781805   9.555725\n",
       "7  -1.015081  -2.632280\n",
       "8   2.044083  12.001204\n",
       "9   7.709324  30.806166\n",
       "10 -6.680454 -24.846327\n",
       "11 -3.630735 -11.346701\n",
       "12 -0.498322   1.794183\n",
       "13 -4.043702 -15.594289\n",
       "14  5.772865  25.094876\n",
       "15  9.028931  37.677228\n",
       "16  8.052637  34.472556\n",
       "17  3.774115  16.791553\n",
       "18 -8.405662 -31.734315\n",
       "19  5.433506  22.975112\n",
       "20 -9.644367 -36.919598\n",
       "21  1.673131   7.548614\n",
       "22  7.600316  32.294054\n",
       "23  4.354666  20.998850\n",
       "24  6.047273  26.670616\n",
       "25 -5.608438 -20.570161\n",
       "26  0.733890   5.029705\n",
       "27 -2.781912  -9.190651\n",
       "28 -2.308464  -6.179939\n",
       "29 -3.547105 -12.875100\n",
       "30  0.945089   6.013183\n",
       "31  2.694897  14.141356\n",
       "32  7.445893  31.312279\n",
       "33  4.423105  19.647015\n",
       "34  2.200961  11.587911\n",
       "35 -4.915881 -17.061782\n",
       "36 -2.997968 -10.397403\n",
       "37  0.099454   4.949820\n",
       "38 -3.924786 -13.532503\n",
       "39  7.050950  31.085545\n",
       "40 -8.077780 -31.084307\n",
       "41  4.391481  17.991533\n",
       "42  6.749162  30.242121\n",
       "43  2.246804  10.411612\n",
       "44  4.477989  19.571584\n",
       "45 -0.262734   1.181040\n",
       "46 -7.187250 -26.718313\n",
       "47 -0.790985   0.058681\n",
       "48  6.545334  27.510641\n",
       "49 -7.185274 -26.510872"
      ]
     },
     "execution_count": null,
     "metadata": {},
     "output_type": "execute_result"
    }
   ],
   "source": [
    "s_.experiment_data"
   ]
  },
  {
   "cell_type": "markdown",
   "metadata": {},
   "source": [
    "The fitted coefficients are close to the original intercept = 2, gradient = 4"
   ]
  },
  {
   "cell_type": "code",
   "execution_count": null,
   "metadata": {},
   "outputs": [
    {
     "name": "stdout",
     "output_type": "stream",
     "text": [
      "[2.08476524] [[4.00471062]]\n"
     ]
    }
   ],
   "source": [
    "print(s_.model.intercept_, s_.model.coef_)\n"
   ]
  },
  {
   "cell_type": "code",
   "execution_count": null,
   "metadata": {},
   "outputs": [],
   "source": []
  }
 ],
 "metadata": {
  "kernelspec": {
   "display_name": "Python 3 (ipykernel)",
   "language": "python",
   "name": "python3"
  },
  "language_info": {
   "codemirror_mode": {
    "name": "ipython",
    "version": 3
   },
   "file_extension": ".py",
   "mimetype": "text/x-python",
   "name": "python",
   "nbconvert_exporter": "python",
   "pygments_lexer": "ipython3"
  }
 },
 "nbformat": 4,
 "nbformat_minor": 1
}
