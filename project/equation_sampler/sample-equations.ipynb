{
 "cells": [
  {
   "cell_type": "markdown",
   "metadata": {},
   "source": [
    "Install dependencies"
   ]
  },
  {
   "cell_type": "code",
   "execution_count": null,
   "metadata": {},
   "outputs": [
    {
     "name": "stdout",
     "output_type": "stream",
     "text": [
      "Requirement already satisfied: autora in /Users/younesstrittmatter/Documents/GitHub/AutoResearch/autora-core/venv/lib/python3.11/site-packages (3.1.0)\r\n",
      "Requirement already satisfied: autora-core in /Users/younesstrittmatter/Documents/GitHub/AutoResearch/autora-core/src (from autora) (3.3.1.dev56+g7c86fac.d20230817)\r\n",
      "Requirement already satisfied: autora-workflow in /Users/younesstrittmatter/Documents/GitHub/AutoResearch/autora-core/venv/lib/python3.11/site-packages (from autora) (0.4.0)\r\n",
      "Requirement already satisfied: autora-synthetic in /Users/younesstrittmatter/Documents/GitHub/AutoResearch/autora-core/venv/lib/python3.11/site-packages (from autora) (1.0.3)\r\n",
      "Requirement already satisfied: numpy in /Users/younesstrittmatter/Documents/GitHub/AutoResearch/autora-core/venv/lib/python3.11/site-packages (from autora-core->autora) (1.25.2)\r\n",
      "Requirement already satisfied: matplotlib in /Users/younesstrittmatter/Documents/GitHub/AutoResearch/autora-core/venv/lib/python3.11/site-packages (from autora-core->autora) (3.7.2)\r\n",
      "Requirement already satisfied: pandas in /Users/younesstrittmatter/Documents/GitHub/AutoResearch/autora-core/venv/lib/python3.11/site-packages (from autora-core->autora) (2.0.3)\r\n",
      "Requirement already satisfied: scikit-learn in /Users/younesstrittmatter/Documents/GitHub/AutoResearch/autora-core/venv/lib/python3.11/site-packages (from autora-core->autora) (1.3.0)\r\n",
      "Requirement already satisfied: typer[all] in /Users/younesstrittmatter/Documents/GitHub/AutoResearch/autora-core/venv/lib/python3.11/site-packages (from autora-workflow->autora) (0.9.0)\r\n",
      "Requirement already satisfied: dill in /Users/younesstrittmatter/Documents/GitHub/AutoResearch/autora-core/venv/lib/python3.11/site-packages (from autora-workflow->autora) (0.3.7)\r\n",
      "Requirement already satisfied: pyyaml in /Users/younesstrittmatter/Documents/GitHub/AutoResearch/autora-core/venv/lib/python3.11/site-packages (from autora-workflow->autora) (6.0.1)\r\n",
      "Requirement already satisfied: contourpy>=1.0.1 in /Users/younesstrittmatter/Documents/GitHub/AutoResearch/autora-core/venv/lib/python3.11/site-packages (from matplotlib->autora-core->autora) (1.1.0)\r\n",
      "Requirement already satisfied: cycler>=0.10 in /Users/younesstrittmatter/Documents/GitHub/AutoResearch/autora-core/venv/lib/python3.11/site-packages (from matplotlib->autora-core->autora) (0.11.0)\r\n",
      "Requirement already satisfied: fonttools>=4.22.0 in /Users/younesstrittmatter/Documents/GitHub/AutoResearch/autora-core/venv/lib/python3.11/site-packages (from matplotlib->autora-core->autora) (4.42.0)\r\n",
      "Requirement already satisfied: kiwisolver>=1.0.1 in /Users/younesstrittmatter/Documents/GitHub/AutoResearch/autora-core/venv/lib/python3.11/site-packages (from matplotlib->autora-core->autora) (1.4.4)\r\n",
      "Requirement already satisfied: packaging>=20.0 in /Users/younesstrittmatter/Documents/GitHub/AutoResearch/autora-core/venv/lib/python3.11/site-packages (from matplotlib->autora-core->autora) (23.1)\r\n",
      "Requirement already satisfied: pillow>=6.2.0 in /Users/younesstrittmatter/Documents/GitHub/AutoResearch/autora-core/venv/lib/python3.11/site-packages (from matplotlib->autora-core->autora) (10.0.0)\r\n",
      "Requirement already satisfied: pyparsing<3.1,>=2.3.1 in /Users/younesstrittmatter/Documents/GitHub/AutoResearch/autora-core/venv/lib/python3.11/site-packages (from matplotlib->autora-core->autora) (3.0.9)\r\n",
      "Requirement already satisfied: python-dateutil>=2.7 in /Users/younesstrittmatter/Documents/GitHub/AutoResearch/autora-core/venv/lib/python3.11/site-packages (from matplotlib->autora-core->autora) (2.8.2)\r\n",
      "Requirement already satisfied: pytz>=2020.1 in /Users/younesstrittmatter/Documents/GitHub/AutoResearch/autora-core/venv/lib/python3.11/site-packages (from pandas->autora-core->autora) (2023.3)\r\n",
      "Requirement already satisfied: tzdata>=2022.1 in /Users/younesstrittmatter/Documents/GitHub/AutoResearch/autora-core/venv/lib/python3.11/site-packages (from pandas->autora-core->autora) (2023.3)\r\n",
      "Requirement already satisfied: scipy>=1.5.0 in /Users/younesstrittmatter/Documents/GitHub/AutoResearch/autora-core/venv/lib/python3.11/site-packages (from scikit-learn->autora-core->autora) (1.11.1)\r\n",
      "Requirement already satisfied: joblib>=1.1.1 in /Users/younesstrittmatter/Documents/GitHub/AutoResearch/autora-core/venv/lib/python3.11/site-packages (from scikit-learn->autora-core->autora) (1.3.2)\r\n",
      "Requirement already satisfied: threadpoolctl>=2.0.0 in /Users/younesstrittmatter/Documents/GitHub/AutoResearch/autora-core/venv/lib/python3.11/site-packages (from scikit-learn->autora-core->autora) (3.2.0)\r\n",
      "Requirement already satisfied: click<9.0.0,>=7.1.1 in /Users/younesstrittmatter/Documents/GitHub/AutoResearch/autora-core/venv/lib/python3.11/site-packages (from typer[all]->autora-workflow->autora) (8.1.6)\r\n",
      "Requirement already satisfied: typing-extensions>=3.7.4.3 in /Users/younesstrittmatter/Documents/GitHub/AutoResearch/autora-core/venv/lib/python3.11/site-packages (from typer[all]->autora-workflow->autora) (4.7.1)\r\n",
      "Requirement already satisfied: colorama<0.5.0,>=0.4.3 in /Users/younesstrittmatter/Documents/GitHub/AutoResearch/autora-core/venv/lib/python3.11/site-packages (from typer[all]->autora-workflow->autora) (0.4.6)\r\n",
      "Requirement already satisfied: shellingham<2.0.0,>=1.3.0 in /Users/younesstrittmatter/Documents/GitHub/AutoResearch/autora-core/venv/lib/python3.11/site-packages (from typer[all]->autora-workflow->autora) (1.5.3)\r\n",
      "Requirement already satisfied: rich<14.0.0,>=10.11.0 in /Users/younesstrittmatter/Documents/GitHub/AutoResearch/autora-core/venv/lib/python3.11/site-packages (from typer[all]->autora-workflow->autora) (13.5.2)\r\n",
      "Requirement already satisfied: six>=1.5 in /Users/younesstrittmatter/Documents/GitHub/AutoResearch/autora-core/venv/lib/python3.11/site-packages (from python-dateutil>=2.7->matplotlib->autora-core->autora) (1.16.0)\r\n",
      "Requirement already satisfied: markdown-it-py>=2.2.0 in /Users/younesstrittmatter/Documents/GitHub/AutoResearch/autora-core/venv/lib/python3.11/site-packages (from rich<14.0.0,>=10.11.0->typer[all]->autora-workflow->autora) (3.0.0)\r\n",
      "Requirement already satisfied: pygments<3.0.0,>=2.13.0 in /Users/younesstrittmatter/Documents/GitHub/AutoResearch/autora-core/venv/lib/python3.11/site-packages (from rich<14.0.0,>=10.11.0->typer[all]->autora-workflow->autora) (2.16.1)\r\n",
      "Requirement already satisfied: mdurl~=0.1 in /Users/younesstrittmatter/Documents/GitHub/AutoResearch/autora-core/venv/lib/python3.11/site-packages (from markdown-it-py>=2.2.0->rich<14.0.0,>=10.11.0->typer[all]->autora-workflow->autora) (0.1.2)\r\n",
      "Requirement already satisfied: equation-tree in /Users/younesstrittmatter/Documents/GitHub/AutoResearch/autora-core/venv/lib/python3.11/site-packages (0.0.3)\r\n",
      "Collecting equation-tree\r\n",
      "  Obtaining dependency information for equation-tree from https://files.pythonhosted.org/packages/bc/2c/2236986c6f2acc278c1f003349e1824b8ec60f6d340bcae4726ceba0a4bd/equation_tree-0.0.4-py3-none-any.whl.metadata\r\n",
      "  Downloading equation_tree-0.0.4-py3-none-any.whl.metadata (2.1 kB)\r\n",
      "Requirement already satisfied: numpy in /Users/younesstrittmatter/Documents/GitHub/AutoResearch/autora-core/venv/lib/python3.11/site-packages (from equation-tree) (1.25.2)\r\n",
      "Requirement already satisfied: sympy in /Users/younesstrittmatter/Documents/GitHub/AutoResearch/autora-core/venv/lib/python3.11/site-packages (from equation-tree) (1.12)\r\n",
      "Requirement already satisfied: importlib-resources in /Users/younesstrittmatter/Documents/GitHub/AutoResearch/autora-core/venv/lib/python3.11/site-packages (from equation-tree) (6.0.1)\r\n",
      "Requirement already satisfied: tqdm in /Users/younesstrittmatter/Documents/GitHub/AutoResearch/autora-core/venv/lib/python3.11/site-packages (from equation-tree) (4.66.1)\r\n",
      "Requirement already satisfied: mpmath>=0.19 in /Users/younesstrittmatter/Documents/GitHub/AutoResearch/autora-core/venv/lib/python3.11/site-packages (from sympy->equation-tree) (1.3.0)\r\n",
      "Downloading equation_tree-0.0.4-py3-none-any.whl (29 kB)\r\n",
      "Installing collected packages: equation-tree\r\n",
      "  Attempting uninstall: equation-tree\r\n",
      "    Found existing installation: equation-tree 0.0.3\r\n",
      "    Uninstalling equation-tree-0.0.3:\r\n",
      "      Successfully uninstalled equation-tree-0.0.3\r\n",
      "Successfully installed equation-tree-0.0.4\r\n"
     ]
    }
   ],
   "source": [
    "!pip install -U autora\n",
    "!pip install -U equation-tree"
   ]
  },
  {
   "cell_type": "markdown",
   "metadata": {},
   "source": [
    "# Imports"
   ]
  },
  {
   "cell_type": "code",
   "execution_count": null,
   "metadata": {},
   "outputs": [],
   "source": [
    "from equation_tree import sample\n",
    "from equation_tree.prior import DEFAULT_PRIOR_FUNCTIONS, DEFAULT_PRIOR_OPERATORS, \\\n",
    "    structure_prior_from_max_depth\n",
    "import pprint"
   ]
  },
  {
   "cell_type": "markdown",
   "metadata": {},
   "source": [
    "For convenience, we can create a prior from the depth. We could also construct a prior per hand."
   ]
  },
  {
   "cell_type": "code",
   "execution_count": null,
   "metadata": {},
   "outputs": [
    {
     "name": "stdout",
     "output_type": "stream",
     "text": [
      "{'[0, 1, 1, 2, 2]': 0.06666666666666667,\n",
      " '[0, 1, 1, 2, 3]': 0.06666666666666667,\n",
      " '[0, 1, 1, 2]': 0.06666666666666667,\n",
      " '[0, 1, 1]': 0.06666666666666667,\n",
      " '[0, 1, 2, 1, 2]': 0.06666666666666667,\n",
      " '[0, 1, 2, 1]': 0.06666666666666667,\n",
      " '[0, 1, 2, 2, 1]': 0.06666666666666667,\n",
      " '[0, 1, 2, 2, 3]': 0.06666666666666667,\n",
      " '[0, 1, 2, 2]': 0.06666666666666667,\n",
      " '[0, 1, 2, 3, 1]': 0.06666666666666667,\n",
      " '[0, 1, 2, 3, 2]': 0.06666666666666667,\n",
      " '[0, 1, 2, 3, 3]': 0.06666666666666667,\n",
      " '[0, 1, 2, 3, 4]': 0.06666666666666667,\n",
      " '[0, 1, 2, 3]': 0.06666666666666667,\n",
      " '[0, 1, 2]': 0.06666666666666667}\n"
     ]
    }
   ],
   "source": [
    "structure_prior = structure_prior_from_max_depth(5)\n",
    "pprint.pprint(structure_prior)"
   ]
  },
  {
   "cell_type": "markdown",
   "metadata": {},
   "source": [
    "Here, we also use default priors for functions"
   ]
  },
  {
   "cell_type": "code",
   "execution_count": null,
   "metadata": {},
   "outputs": [
    {
     "name": "stdout",
     "output_type": "stream",
     "text": [
      "{'abs': 0.14285714285714285,\n",
      " 'cos': 0.14285714285714285,\n",
      " 'exp': 0.14285714285714285,\n",
      " 'log': 0.14285714285714285,\n",
      " 'sin': 0.14285714285714285,\n",
      " 'sqrt': 0.14285714285714285,\n",
      " 'tan': 0.14285714285714285}\n"
     ]
    }
   ],
   "source": [
    "pprint.pprint(DEFAULT_PRIOR_FUNCTIONS)"
   ]
  },
  {
   "cell_type": "markdown",
   "metadata": {},
   "source": [
    "And default priors for operators"
   ]
  },
  {
   "cell_type": "code",
   "execution_count": null,
   "metadata": {},
   "outputs": [
    {
     "name": "stdout",
     "output_type": "stream",
     "text": [
      "{'*': 0.2, '+': 0.2, '-': 0.2, '/': 0.2, '^': 0.2}\n"
     ]
    }
   ],
   "source": [
    "pprint.pprint(DEFAULT_PRIOR_OPERATORS)"
   ]
  },
  {
   "cell_type": "markdown",
   "metadata": {},
   "source": [
    "We also need a prior for the feautres"
   ]
  },
  {
   "cell_type": "code",
   "execution_count": null,
   "metadata": {},
   "outputs": [],
   "source": [
    "feature_prior = {'constants': .3, 'variables': .7}"
   ]
  },
  {
   "cell_type": "markdown",
   "metadata": {},
   "source": [
    "The full prior is a dictionary with the function, operator, structure and feature priors."
   ]
  },
  {
   "cell_type": "code",
   "execution_count": null,
   "metadata": {},
   "outputs": [
    {
     "name": "stdout",
     "output_type": "stream",
     "text": [
      "{'features': {'constants': 0.3, 'variables': 0.7},\n",
      " 'functions': {'abs': 0.14285714285714285,\n",
      "               'cos': 0.14285714285714285,\n",
      "               'exp': 0.14285714285714285,\n",
      "               'log': 0.14285714285714285,\n",
      "               'sin': 0.14285714285714285,\n",
      "               'sqrt': 0.14285714285714285,\n",
      "               'tan': 0.14285714285714285},\n",
      " 'operators': {'*': 0.2, '+': 0.2, '-': 0.2, '/': 0.2, '^': 0.2},\n",
      " 'structures': {'[0, 1, 1, 2, 2]': 0.06666666666666667,\n",
      "                '[0, 1, 1, 2, 3]': 0.06666666666666667,\n",
      "                '[0, 1, 1, 2]': 0.06666666666666667,\n",
      "                '[0, 1, 1]': 0.06666666666666667,\n",
      "                '[0, 1, 2, 1, 2]': 0.06666666666666667,\n",
      "                '[0, 1, 2, 1]': 0.06666666666666667,\n",
      "                '[0, 1, 2, 2, 1]': 0.06666666666666667,\n",
      "                '[0, 1, 2, 2, 3]': 0.06666666666666667,\n",
      "                '[0, 1, 2, 2]': 0.06666666666666667,\n",
      "                '[0, 1, 2, 3, 1]': 0.06666666666666667,\n",
      "                '[0, 1, 2, 3, 2]': 0.06666666666666667,\n",
      "                '[0, 1, 2, 3, 3]': 0.06666666666666667,\n",
      "                '[0, 1, 2, 3, 4]': 0.06666666666666667,\n",
      "                '[0, 1, 2, 3]': 0.06666666666666667,\n",
      "                '[0, 1, 2]': 0.06666666666666667}}\n"
     ]
    }
   ],
   "source": [
    "prior = {'functions': DEFAULT_PRIOR_FUNCTIONS, 'operators': DEFAULT_PRIOR_OPERATORS, 'structures': structure_prior, 'features': feature_prior}\n",
    "pprint.pprint(prior)"
   ]
  },
  {
   "cell_type": "markdown",
   "metadata": {},
   "source": [
    "We can now sample equations. We need two additional arguments: `n`: How many samples, `max_num_variables`: How many input variables do the equations have maximally."
   ]
  },
  {
   "cell_type": "code",
   "execution_count": null,
   "metadata": {},
   "outputs": [
    {
     "name": "stderr",
     "output_type": "stream",
     "text": [
      "/Users/younesstrittmatter/Documents/GitHub/AutoResearch/autora-core/venv/lib/python3.11/site-packages/equation_tree/util/io.py:27: UserWarning: No hashed prior found. Sample frequencies may diverge from the prior. Consider burning this prior first.\n",
      "  warnings.warn(\n",
      "Processing:  10%|█         | 1/10 [00:00<00:01,  8.64iteration/s]/Users/younesstrittmatter/Documents/GitHub/AutoResearch/autora-core/venv/lib/python3.11/site-packages/equation_tree/tree.py:41: RuntimeWarning: invalid value encountered in log\n",
      "  \"log\": lambda a: np.log(a),\n",
      "/Users/younesstrittmatter/Documents/GitHub/AutoResearch/autora-core/venv/lib/python3.11/site-packages/equation_tree/tree.py:42: RuntimeWarning: invalid value encountered in sqrt\n",
      "  \"sqrt\": lambda a: np.sqrt(a),\n",
      "/Users/younesstrittmatter/Documents/GitHub/AutoResearch/autora-core/venv/lib/python3.11/site-packages/equation_tree/tree.py:32: RuntimeWarning: invalid value encountered in scalar power\n",
      "  \"^\": lambda a, b: a**b,\n",
      "Processing: 100%|██████████| 10/10 [00:00<00:00, 57.64iteration/s]\n"
     ]
    }
   ],
   "source": [
    "equation_sample = sample(n=10, prior=prior, max_num_variables=3)"
   ]
  },
  {
   "cell_type": "markdown",
   "metadata": {},
   "source": [
    "We print the equations"
   ]
  },
  {
   "cell_type": "code",
   "execution_count": null,
   "metadata": {},
   "outputs": [
    {
     "name": "stdout",
     "output_type": "stream",
     "text": [
      "[exp(tan(exp(x_1))),\n",
      " log(sin(x_1 - x_2)),\n",
      " tan(x_1**(c_1/2)),\n",
      " Abs(sqrt(x_1)),\n",
      " cos(Abs(x_1)/x_2),\n",
      " log(x_1)/4,\n",
      " sqrt(x_1) + exp(x_1),\n",
      " cos(c_1 + exp(x_1)),\n",
      " x_1**x_2,\n",
      " sin(Abs(x_1)/x_2)]\n"
     ]
    }
   ],
   "source": [
    "pprint.pprint([e.sympy_expr for e in equation_sample])"
   ]
  },
  {
   "cell_type": "markdown",
   "metadata": {},
   "source": [
    "And we can also get frequencies (including conditionals) from the list of equations"
   ]
  },
  {
   "cell_type": "code",
   "execution_count": null,
   "metadata": {},
   "outputs": [
    {
     "name": "stdout",
     "output_type": "stream",
     "text": [
      "{'depth': {1: 0.1, 2: 0.3, 3: 0.6},\n",
      " 'features': {'constants': 0.16666666666666666,\n",
      "              'variables': 0.8333333333333334},\n",
      " 'function_conditionals': {'abs': {'features': {'constants': 0.0,\n",
      "                                                'variables': 1.0},\n",
      "                                   'functions': {'sqrt': 1.0},\n",
      "                                   'operators': {}},\n",
      "                           'cos': {'features': {'constants': 0, 'variables': 0},\n",
      "                                   'functions': {},\n",
      "                                   'operators': {'+': 0.5, '/': 0.5}},\n",
      "                           'exp': {'features': {'constants': 0.0,\n",
      "                                                'variables': 1.0},\n",
      "                                   'functions': {'tan': 1.0},\n",
      "                                   'operators': {}},\n",
      "                           'log': {'features': {'constants': 0.0,\n",
      "                                                'variables': 1.0},\n",
      "                                   'functions': {'sin': 1.0},\n",
      "                                   'operators': {}},\n",
      "                           'sin': {'features': {'constants': 0, 'variables': 0},\n",
      "                                   'functions': {},\n",
      "                                   'operators': {'-': 0.5, '/': 0.5}},\n",
      "                           'sqrt': {'features': {'constants': 0.0,\n",
      "                                                 'variables': 1.0},\n",
      "                                    'functions': {},\n",
      "                                    'operators': {}},\n",
      "                           'tan': {'features': {'constants': 0, 'variables': 0},\n",
      "                                   'functions': {'exp': 1.0},\n",
      "                                   'operators': {'^': 1.0}}},\n",
      " 'functions': {'abs': 0.16666666666666666,\n",
      "               'cos': 0.1111111111111111,\n",
      "               'exp': 0.2222222222222222,\n",
      "               'log': 0.1111111111111111,\n",
      "               'sin': 0.1111111111111111,\n",
      "               'sqrt': 0.16666666666666666,\n",
      "               'tan': 0.1111111111111111},\n",
      " 'max_depth': {3: 0.2, 4: 0.2, 5: 0.6},\n",
      " 'operator_conditionals': {'+': {'features': {'constants': 1.0,\n",
      "                                              'variables': 0.0},\n",
      "                                 'functions': {'exp': 0.6666666666666666,\n",
      "                                               'sqrt': 0.3333333333333333},\n",
      "                                 'operators': {}},\n",
      "                           '-': {'features': {'constants': 0.0,\n",
      "                                              'variables': 1.0},\n",
      "                                 'functions': {},\n",
      "                                 'operators': {}},\n",
      "                           '/': {'features': {'constants': 0.3333333333333333,\n",
      "                                              'variables': 0.6666666666666666},\n",
      "                                 'functions': {'abs': 0.6666666666666666,\n",
      "                                               'log': 0.3333333333333333},\n",
      "                                 'operators': {}},\n",
      "                           '^': {'features': {'constants': 0.3333333333333333,\n",
      "                                              'variables': 0.6666666666666666},\n",
      "                                 'functions': {'sqrt': 1.0},\n",
      "                                 'operators': {}}},\n",
      " 'operators': {'+': 0.25, '-': 0.125, '/': 0.375, '^': 0.25},\n",
      " 'structures': {'[0, 1, 1]': 0.1,\n",
      "                '[0, 1, 2, 1, 2]': 0.1,\n",
      "                '[0, 1, 2, 1]': 0.1,\n",
      "                '[0, 1, 2, 2, 3]': 0.1,\n",
      "                '[0, 1, 2, 3, 2]': 0.3,\n",
      "                '[0, 1, 2, 3, 3]': 0.1,\n",
      "                '[0, 1, 2, 3]': 0.1,\n",
      "                '[0, 1, 2]': 0.1}}\n"
     ]
    }
   ],
   "source": [
    "from equation_tree.analysis import get_frequencies\n",
    "freq = get_frequencies(equation_sample)\n",
    "pprint.pprint(freq)"
   ]
  },
  {
   "cell_type": "markdown",
   "metadata": {},
   "source": [
    "These frequencies have the same format as the priors, so we can use them to sample new equations"
   ]
  },
  {
   "cell_type": "code",
   "execution_count": null,
   "metadata": {},
   "outputs": [
    {
     "name": "stderr",
     "output_type": "stream",
     "text": [
      "Processing:   0%|          | 0/10 [00:00<?, ?iteration/s]/Users/younesstrittmatter/Documents/GitHub/AutoResearch/autora-core/venv/lib/python3.11/site-packages/equation_tree/util/priors.py:66: UserWarning: Sum of priors {'constants': 0, 'variables': 0} is less then 0. Falling back to default priors.\n",
      "  warnings.warn(\n",
      "Processing: 100%|██████████| 10/10 [00:00<00:00, 128.45iteration/s]\n"
     ]
    }
   ],
   "source": [
    "equation_sample_ = sample(10, freq, 3)"
   ]
  },
  {
   "cell_type": "code",
   "execution_count": null,
   "metadata": {},
   "outputs": [
    {
     "name": "stdout",
     "output_type": "stream",
     "text": [
      "{'depth': {2: 0.3, 3: 0.7},\n",
      " 'features': {'constants': 0.0625, 'variables': 0.9375},\n",
      " 'function_conditionals': {'abs': {'features': {'constants': 0.0,\n",
      "                                                'variables': 1.0},\n",
      "                                   'functions': {'sqrt': 1.0},\n",
      "                                   'operators': {'-': 0.5, '/': 0.5}},\n",
      "                           'exp': {'features': {'constants': 0, 'variables': 0},\n",
      "                                   'functions': {'tan': 1.0},\n",
      "                                   'operators': {'-': 1.0}},\n",
      "                           'log': {'features': {'constants': 0.0,\n",
      "                                                'variables': 1.0},\n",
      "                                   'functions': {},\n",
      "                                   'operators': {'/': 1.0}},\n",
      "                           'sin': {'features': {'constants': 0, 'variables': 0},\n",
      "                                   'functions': {},\n",
      "                                   'operators': {'-': 1.0}},\n",
      "                           'sqrt': {'features': {'constants': 0.0,\n",
      "                                                 'variables': 1.0},\n",
      "                                    'functions': {'abs': 0.3333333333333333,\n",
      "                                                  'log': 0.6666666666666666},\n",
      "                                    'operators': {}},\n",
      "                           'tan': {'features': {'constants': 0.0,\n",
      "                                                'variables': 1.0},\n",
      "                                   'functions': {'exp': 1.0},\n",
      "                                   'operators': {}}},\n",
      " 'functions': {'abs': 0.3333333333333333,\n",
      "               'exp': 0.09523809523809523,\n",
      "               'log': 0.19047619047619047,\n",
      "               'sin': 0.047619047619047616,\n",
      "               'sqrt': 0.23809523809523808,\n",
      "               'tan': 0.09523809523809523},\n",
      " 'max_depth': {3: 0.2, 4: 0.3, 5: 0.5},\n",
      " 'operator_conditionals': {'-': {'features': {'constants': 0.0,\n",
      "                                              'variables': 1.0},\n",
      "                                 'functions': {'abs': 0.3333333333333333,\n",
      "                                               'log': 0.3333333333333333,\n",
      "                                               'sqrt': 0.3333333333333333},\n",
      "                                 'operators': {}},\n",
      "                           '/': {'features': {'constants': 0.5,\n",
      "                                              'variables': 0.5},\n",
      "                                 'functions': {'abs': 1.0},\n",
      "                                 'operators': {}},\n",
      "                           '^': {'features': {'constants': 0.0,\n",
      "                                              'variables': 1.0},\n",
      "                                 'functions': {'sqrt': 1.0},\n",
      "                                 'operators': {}}},\n",
      " 'operators': {'-': 0.5, '/': 0.3333333333333333, '^': 0.16666666666666666},\n",
      " 'structures': {'[0, 1, 2, 1]': 0.1,\n",
      "                '[0, 1, 2, 2, 3]': 0.1,\n",
      "                '[0, 1, 2, 3, 2]': 0.4,\n",
      "                '[0, 1, 2, 3]': 0.2,\n",
      "                '[0, 1, 2]': 0.2}}\n"
     ]
    }
   ],
   "source": [
    "freq_ = get_frequencies(equation_sample_)\n",
    "pprint.pprint(freq_)\n"
   ]
  }
 ],
 "metadata": {
  "kernelspec": {
   "display_name": "Python 3",
   "language": "python",
   "name": "python3"
  },
  "language_info": {
   "codemirror_mode": {
    "name": "ipython",
    "version": 2
   },
   "file_extension": ".py",
   "mimetype": "text/x-python",
   "name": "python",
   "nbconvert_exporter": "python",
   "pygments_lexer": "ipython2"
  }
 },
 "nbformat": 4,
 "nbformat_minor": 0
}
