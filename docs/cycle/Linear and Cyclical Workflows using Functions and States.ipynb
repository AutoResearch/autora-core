{
 "cells": [
  {
   "cell_type": "markdown",
   "metadata": {},
   "source": [
    "# Linear And Cyclical Workflows Using Functions And States"
   ]
  },
  {
   "cell_type": "markdown",
   "metadata": {},
   "source": [
    "Using the functions and objects in `autora`, we can build flexible pipelines and cycles."
   ]
  },
  {
   "cell_type": "markdown",
   "metadata": {},
   "source": [
    "## Experiment Runner And Theorist"
   ]
  },
  {
   "cell_type": "markdown",
   "metadata": {},
   "source": [
    "We define a two part AER pipeline consisting of an experiment runner and a theorist (we use the seed conditions\n",
    "always).\n",
    "\n",
    "The key part here is that both experiment runner and theorist are functions which:\n",
    "- operate on the `State`, and\n",
    "- return a modified object of the **same type** `State`.\n",
    "\n",
    "### Defining The State\n",
    "\n",
    "We use the standard State object bundled with `autora`: `StandardState`\n"
   ]
  },
  {
   "cell_type": "code",
   "execution_count": null,
   "metadata": {},
   "outputs": [],
   "source": [
    "import numpy as np\n",
    "import pandas as pd\n",
    "from autora.variable import VariableCollection, Variable\n",
    "from autora.state.bundled import StandardState\n",
    "\n",
    "s = StandardState(\n",
    "    variables=VariableCollection(independent_variables=[Variable(\"x\", value_range=(-15,15))],\n",
    "                                 dependent_variables=[Variable(\"y\")]),\n",
    "    conditions=pd.DataFrame({\"x\": np.linspace(-15,15,101)}),\n",
    "    experiment_data = pd.DataFrame(columns=[\"x\",\"y\"]),\n",
    ")"
   ]
  },
  {
   "cell_type": "code",
   "execution_count": null,
   "metadata": {},
   "outputs": [
    {
     "data": {
      "text/plain": [
       "StandardState(variables=VariableCollection(independent_variables=[Variable(name='x', value_range=(-15, 15), allowed_values=None, units='', type=<ValueType.REAL: 'real'>, variable_label='', rescale=1, is_covariate=False)], dependent_variables=[Variable(name='y', value_range=None, allowed_values=None, units='', type=<ValueType.REAL: 'real'>, variable_label='', rescale=1, is_covariate=False)], covariates=[]), conditions=        x\n",
       "0   -15.0\n",
       "1   -14.7\n",
       "2   -14.4\n",
       "3   -14.1\n",
       "4   -13.8\n",
       "..    ...\n",
       "96   13.8\n",
       "97   14.1\n",
       "98   14.4\n",
       "99   14.7\n",
       "100  15.0\n",
       "\n",
       "[101 rows x 1 columns], experiment_data=Empty DataFrame\n",
       "Columns: [x, y]\n",
       "Index: [], models=[])"
      ]
     },
     "execution_count": null,
     "metadata": {},
     "output_type": "execute_result"
    }
   ],
   "source": [
    "s"
   ]
  },
  {
   "cell_type": "markdown",
   "metadata": {},
   "source": [
    "Given this state, we define a two part AER pipeline consisting of an experiment runner and a theorist. We'll just\n",
    "reuse the initial seed `conditions` in this example.\n",
    "\n",
    "First we define and test the experiment runner.\n",
    "\n",
    "The key part here is that both the experiment runner and the theorist are functions which operate on the `State`.\n",
    "We use the wrapper function `wrap_to_use_state` that wraps the experiment_runner and makes it operate on the\n",
    "fields of the `State` rather than the `conditions` and `experiment_data` directly."
   ]
  },
  {
   "cell_type": "markdown",
   "metadata": {},
   "source": [
    "### Defining The Experiment Runner\n",
    "\n",
    "For this example, we'll use a polynomial of degree 3 as our \"ground truth\" function. We're also using pandas\n",
    "DataFrames and Series as our data interchange format."
   ]
  },
  {
   "cell_type": "code",
   "execution_count": null,
   "metadata": {},
   "outputs": [],
   "source": [
    "from autora.state.delta import wrap_to_use_state, Delta\n",
    "\n",
    "def ground_truth(x: pd.Series, c=(432, -144, -3, 1)):\n",
    "    return c[0] + c[1] * x + c[2] * x**2 + c[3] * x**3\n",
    "\n",
    "@wrap_to_use_state\n",
    "def experiment_runner(conditions, std=100., random_state=None):\n",
    "    \"\"\"Coefs from https://www.maa.org/sites/default/files/0025570x28304.di021116.02p0130a.pdf\"\"\"\n",
    "    rng = np.random.default_rng(random_state)\n",
    "    x = conditions[\"x\"]\n",
    "    noise = rng.normal(0, std, len(x))\n",
    "    y = (ground_truth(x) + noise)\n",
    "    experiment_data = conditions.assign(y = y)\n",
    "    return Delta(experiment_data=experiment_data)"
   ]
  },
  {
   "cell_type": "markdown",
   "metadata": {},
   "source": [
    "When we run the experiment runner, we can see the updated state object which is returned – it has new experimental data."
   ]
  },
  {
   "cell_type": "code",
   "execution_count": null,
   "metadata": {},
   "outputs": [
    {
     "data": {
      "text/html": [
       "<div>\n",
       "<style scoped>\n",
       "    .dataframe tbody tr th:only-of-type {\n",
       "        vertical-align: middle;\n",
       "    }\n",
       "\n",
       "    .dataframe tbody tr th {\n",
       "        vertical-align: top;\n",
       "    }\n",
       "\n",
       "    .dataframe thead th {\n",
       "        text-align: right;\n",
       "    }\n",
       "</style>\n",
       "<table border=\"1\" class=\"dataframe\">\n",
       "  <thead>\n",
       "    <tr style=\"text-align: right;\">\n",
       "      <th></th>\n",
       "      <th>x</th>\n",
       "      <th>y</th>\n",
       "    </tr>\n",
       "  </thead>\n",
       "  <tbody>\n",
       "    <tr>\n",
       "      <th>0</th>\n",
       "      <td>-15.0</td>\n",
       "      <td>-1457.949701</td>\n",
       "    </tr>\n",
       "    <tr>\n",
       "      <th>1</th>\n",
       "      <td>-14.7</td>\n",
       "      <td>-1275.900522</td>\n",
       "    </tr>\n",
       "    <tr>\n",
       "      <th>2</th>\n",
       "      <td>-14.4</td>\n",
       "      <td>-1101.584447</td>\n",
       "    </tr>\n",
       "    <tr>\n",
       "      <th>3</th>\n",
       "      <td>-14.1</td>\n",
       "      <td>-938.510951</td>\n",
       "    </tr>\n",
       "    <tr>\n",
       "      <th>4</th>\n",
       "      <td>-13.8</td>\n",
       "      <td>-780.229165</td>\n",
       "    </tr>\n",
       "    <tr>\n",
       "      <th>...</th>\n",
       "      <td>...</td>\n",
       "      <td>...</td>\n",
       "    </tr>\n",
       "    <tr>\n",
       "      <th>96</th>\n",
       "      <td>13.8</td>\n",
       "      <td>500.274061</td>\n",
       "    </tr>\n",
       "    <tr>\n",
       "      <th>97</th>\n",
       "      <td>14.1</td>\n",
       "      <td>608.306420</td>\n",
       "    </tr>\n",
       "    <tr>\n",
       "      <th>98</th>\n",
       "      <td>14.4</td>\n",
       "      <td>720.885521</td>\n",
       "    </tr>\n",
       "    <tr>\n",
       "      <th>99</th>\n",
       "      <td>14.7</td>\n",
       "      <td>843.944513</td>\n",
       "    </tr>\n",
       "    <tr>\n",
       "      <th>100</th>\n",
       "      <td>15.0</td>\n",
       "      <td>971.655807</td>\n",
       "    </tr>\n",
       "  </tbody>\n",
       "</table>\n",
       "<p>101 rows × 2 columns</p>\n",
       "</div>"
      ],
      "text/plain": [
       "        x            y\n",
       "0   -15.0 -1457.949701\n",
       "1   -14.7 -1275.900522\n",
       "2   -14.4 -1101.584447\n",
       "3   -14.1  -938.510951\n",
       "4   -13.8  -780.229165\n",
       "..    ...          ...\n",
       "96   13.8   500.274061\n",
       "97   14.1   608.306420\n",
       "98   14.4   720.885521\n",
       "99   14.7   843.944513\n",
       "100  15.0   971.655807\n",
       "\n",
       "[101 rows x 2 columns]"
      ]
     },
     "execution_count": null,
     "metadata": {},
     "output_type": "execute_result"
    }
   ],
   "source": [
    "experiment_runner(s, std=1).experiment_data"
   ]
  },
  {
   "cell_type": "markdown",
   "metadata": {},
   "source": [
    "### Defining The Theorist\n",
    "\n",
    "Now we define a theorist, which does a linear regression on the polynomial of degree 5. We define a regressor and a\n",
    "method to return its feature names and coefficients, and then the theorist to handle it. Here, we use a different wrapper `theorist_from_estimator` that wraps the regressor and returns a function with the same functionality, but operating on `State` fields. In this case, we want to use the `State` field `experiment_data` and extend the `State` field `models`."
   ]
  },
  {
   "cell_type": "code",
   "execution_count": null,
   "metadata": {},
   "outputs": [],
   "source": [
    "from sklearn.linear_model import LinearRegression\n",
    "from autora.state.wrapper import theorist_from_estimator\n",
    "from sklearn.pipeline import make_pipeline as make_theorist_pipeline\n",
    "from sklearn.preprocessing import PolynomialFeatures\n",
    "\n",
    "# Completely standard scikit-learn pipeline regressor\n",
    "regressor = make_theorist_pipeline(PolynomialFeatures(degree=5), LinearRegression())\n",
    "theorist = theorist_from_estimator(regressor)\n",
    "\n",
    "def get_equation(r):\n",
    "    t = r.named_steps['polynomialfeatures'].get_feature_names_out()\n",
    "    c = r.named_steps['linearregression'].coef_\n",
    "    return pd.DataFrame({\"t\": t, \"coefficient\": c.reshape(t.shape)})\n"
   ]
  },
  {
   "cell_type": "markdown",
   "metadata": {},
   "source": [
    "### Directly Chaining State Based Functions\n",
    "\n",
    "Now we run the theorist on the result of the experiment runner (by chaining the two functions)."
   ]
  },
  {
   "cell_type": "code",
   "execution_count": null,
   "metadata": {},
   "outputs": [],
   "source": [
    "t = theorist(experiment_runner(s, random_state=1))"
   ]
  },
  {
   "cell_type": "markdown",
   "metadata": {},
   "source": [
    "The fitted coefficients are:"
   ]
  },
  {
   "cell_type": "code",
   "execution_count": null,
   "metadata": {},
   "outputs": [
    {
     "data": {
      "text/html": [
       "<div>\n",
       "<style scoped>\n",
       "    .dataframe tbody tr th:only-of-type {\n",
       "        vertical-align: middle;\n",
       "    }\n",
       "\n",
       "    .dataframe tbody tr th {\n",
       "        vertical-align: top;\n",
       "    }\n",
       "\n",
       "    .dataframe thead th {\n",
       "        text-align: right;\n",
       "    }\n",
       "</style>\n",
       "<table border=\"1\" class=\"dataframe\">\n",
       "  <thead>\n",
       "    <tr style=\"text-align: right;\">\n",
       "      <th></th>\n",
       "      <th>t</th>\n",
       "      <th>coefficient</th>\n",
       "    </tr>\n",
       "  </thead>\n",
       "  <tbody>\n",
       "    <tr>\n",
       "      <th>0</th>\n",
       "      <td>1</td>\n",
       "      <td>0.000000</td>\n",
       "    </tr>\n",
       "    <tr>\n",
       "      <th>1</th>\n",
       "      <td>x</td>\n",
       "      <td>-145.723526</td>\n",
       "    </tr>\n",
       "    <tr>\n",
       "      <th>2</th>\n",
       "      <td>x^2</td>\n",
       "      <td>-2.909293</td>\n",
       "    </tr>\n",
       "    <tr>\n",
       "      <th>3</th>\n",
       "      <td>x^3</td>\n",
       "      <td>1.048788</td>\n",
       "    </tr>\n",
       "    <tr>\n",
       "      <th>4</th>\n",
       "      <td>x^4</td>\n",
       "      <td>-0.000242</td>\n",
       "    </tr>\n",
       "    <tr>\n",
       "      <th>5</th>\n",
       "      <td>x^5</td>\n",
       "      <td>-0.000252</td>\n",
       "    </tr>\n",
       "  </tbody>\n",
       "</table>\n",
       "</div>"
      ],
      "text/plain": [
       "     t  coefficient\n",
       "0    1     0.000000\n",
       "1    x  -145.723526\n",
       "2  x^2    -2.909293\n",
       "3  x^3     1.048788\n",
       "4  x^4    -0.000242\n",
       "5  x^5    -0.000252"
      ]
     },
     "execution_count": null,
     "metadata": {},
     "output_type": "execute_result"
    }
   ],
   "source": [
    "get_equation(t.model)"
   ]
  },
  {
   "cell_type": "markdown",
   "metadata": {},
   "source": [
    "### Creating A Pipeline With State Based Functions\n",
    "\n",
    "Now we can define the simplest pipeline which runs the experiment runner and theorist in sequence and returns the\n",
    "updated state:"
   ]
  },
  {
   "cell_type": "code",
   "execution_count": null,
   "metadata": {},
   "outputs": [],
   "source": [
    "def pipeline(state: StandardState, random_state=None) -> StandardState:\n",
    "    s_ = state\n",
    "    t_ = experiment_runner(s_, random_state=random_state)\n",
    "    u_ = theorist(t_)\n",
    "    return u_"
   ]
  },
  {
   "cell_type": "markdown",
   "metadata": {},
   "source": [
    "Running this pipeline is the same as running the individual steps – just pass the state object."
   ]
  },
  {
   "cell_type": "code",
   "execution_count": null,
   "metadata": {},
   "outputs": [
    {
     "data": {
      "text/html": [
       "<div>\n",
       "<style scoped>\n",
       "    .dataframe tbody tr th:only-of-type {\n",
       "        vertical-align: middle;\n",
       "    }\n",
       "\n",
       "    .dataframe tbody tr th {\n",
       "        vertical-align: top;\n",
       "    }\n",
       "\n",
       "    .dataframe thead th {\n",
       "        text-align: right;\n",
       "    }\n",
       "</style>\n",
       "<table border=\"1\" class=\"dataframe\">\n",
       "  <thead>\n",
       "    <tr style=\"text-align: right;\">\n",
       "      <th></th>\n",
       "      <th>t</th>\n",
       "      <th>coefficient</th>\n",
       "    </tr>\n",
       "  </thead>\n",
       "  <tbody>\n",
       "    <tr>\n",
       "      <th>0</th>\n",
       "      <td>1</td>\n",
       "      <td>0.000000</td>\n",
       "    </tr>\n",
       "    <tr>\n",
       "      <th>1</th>\n",
       "      <td>x</td>\n",
       "      <td>-145.723526</td>\n",
       "    </tr>\n",
       "    <tr>\n",
       "      <th>2</th>\n",
       "      <td>x^2</td>\n",
       "      <td>-2.909293</td>\n",
       "    </tr>\n",
       "    <tr>\n",
       "      <th>3</th>\n",
       "      <td>x^3</td>\n",
       "      <td>1.048788</td>\n",
       "    </tr>\n",
       "    <tr>\n",
       "      <th>4</th>\n",
       "      <td>x^4</td>\n",
       "      <td>-0.000242</td>\n",
       "    </tr>\n",
       "    <tr>\n",
       "      <th>5</th>\n",
       "      <td>x^5</td>\n",
       "      <td>-0.000252</td>\n",
       "    </tr>\n",
       "  </tbody>\n",
       "</table>\n",
       "</div>"
      ],
      "text/plain": [
       "     t  coefficient\n",
       "0    1     0.000000\n",
       "1    x  -145.723526\n",
       "2  x^2    -2.909293\n",
       "3  x^3     1.048788\n",
       "4  x^4    -0.000242\n",
       "5  x^5    -0.000252"
      ]
     },
     "execution_count": null,
     "metadata": {},
     "output_type": "execute_result"
    }
   ],
   "source": [
    "u = pipeline(s, random_state=1)\n",
    "get_equation(u.model)"
   ]
  },
  {
   "cell_type": "markdown",
   "metadata": {},
   "source": [
    "Since the pipeline function operates on the `State` itself and returns a `State`, we can chain these pipelines in the same fashion as we chain the theorist and experiment runner:"
   ]
  },
  {
   "cell_type": "code",
   "execution_count": null,
   "metadata": {},
   "outputs": [
    {
     "data": {
      "text/html": [
       "<div>\n",
       "<style scoped>\n",
       "    .dataframe tbody tr th:only-of-type {\n",
       "        vertical-align: middle;\n",
       "    }\n",
       "\n",
       "    .dataframe tbody tr th {\n",
       "        vertical-align: top;\n",
       "    }\n",
       "\n",
       "    .dataframe thead th {\n",
       "        text-align: right;\n",
       "    }\n",
       "</style>\n",
       "<table border=\"1\" class=\"dataframe\">\n",
       "  <thead>\n",
       "    <tr style=\"text-align: right;\">\n",
       "      <th></th>\n",
       "      <th>t</th>\n",
       "      <th>coefficient</th>\n",
       "    </tr>\n",
       "  </thead>\n",
       "  <tbody>\n",
       "    <tr>\n",
       "      <th>0</th>\n",
       "      <td>1</td>\n",
       "      <td>0.000000</td>\n",
       "    </tr>\n",
       "    <tr>\n",
       "      <th>1</th>\n",
       "      <td>x</td>\n",
       "      <td>-145.738569</td>\n",
       "    </tr>\n",
       "    <tr>\n",
       "      <th>2</th>\n",
       "      <td>x^2</td>\n",
       "      <td>-2.898667</td>\n",
       "    </tr>\n",
       "    <tr>\n",
       "      <th>3</th>\n",
       "      <td>x^3</td>\n",
       "      <td>1.042038</td>\n",
       "    </tr>\n",
       "    <tr>\n",
       "      <th>4</th>\n",
       "      <td>x^4</td>\n",
       "      <td>-0.000893</td>\n",
       "    </tr>\n",
       "    <tr>\n",
       "      <th>5</th>\n",
       "      <td>x^5</td>\n",
       "      <td>-0.000218</td>\n",
       "    </tr>\n",
       "  </tbody>\n",
       "</table>\n",
       "</div>"
      ],
      "text/plain": [
       "     t  coefficient\n",
       "0    1     0.000000\n",
       "1    x  -145.738569\n",
       "2  x^2    -2.898667\n",
       "3  x^3     1.042038\n",
       "4  x^4    -0.000893\n",
       "5  x^5    -0.000218"
      ]
     },
     "execution_count": null,
     "metadata": {},
     "output_type": "execute_result"
    }
   ],
   "source": [
    "u_ = pipeline(pipeline(s, random_state=1), random_state=2)\n",
    "get_equation(u_.model)"
   ]
  },
  {
   "cell_type": "markdown",
   "metadata": {},
   "source": [
    "To show what's happening, we'll show the data, best fit model and ground truth:"
   ]
  },
  {
   "cell_type": "code",
   "execution_count": null,
   "metadata": {},
   "outputs": [
    {
     "data": {
      "text/html": [
       "<div>\n",
       "<style scoped>\n",
       "    .dataframe tbody tr th:only-of-type {\n",
       "        vertical-align: middle;\n",
       "    }\n",
       "\n",
       "    .dataframe tbody tr th {\n",
       "        vertical-align: top;\n",
       "    }\n",
       "\n",
       "    .dataframe thead th {\n",
       "        text-align: right;\n",
       "    }\n",
       "</style>\n",
       "<table border=\"1\" class=\"dataframe\">\n",
       "  <thead>\n",
       "    <tr style=\"text-align: right;\">\n",
       "      <th></th>\n",
       "      <th>t</th>\n",
       "      <th>coefficient</th>\n",
       "    </tr>\n",
       "  </thead>\n",
       "  <tbody>\n",
       "    <tr>\n",
       "      <th>0</th>\n",
       "      <td>1</td>\n",
       "      <td>0.000000</td>\n",
       "    </tr>\n",
       "    <tr>\n",
       "      <th>1</th>\n",
       "      <td>x</td>\n",
       "      <td>-145.738569</td>\n",
       "    </tr>\n",
       "    <tr>\n",
       "      <th>2</th>\n",
       "      <td>x^2</td>\n",
       "      <td>-2.898667</td>\n",
       "    </tr>\n",
       "    <tr>\n",
       "      <th>3</th>\n",
       "      <td>x^3</td>\n",
       "      <td>1.042038</td>\n",
       "    </tr>\n",
       "    <tr>\n",
       "      <th>4</th>\n",
       "      <td>x^4</td>\n",
       "      <td>-0.000893</td>\n",
       "    </tr>\n",
       "    <tr>\n",
       "      <th>5</th>\n",
       "      <td>x^5</td>\n",
       "      <td>-0.000218</td>\n",
       "    </tr>\n",
       "  </tbody>\n",
       "</table>\n",
       "</div>"
      ],
      "text/plain": [
       "     t  coefficient\n",
       "0    1     0.000000\n",
       "1    x  -145.738569\n",
       "2  x^2    -2.898667\n",
       "3  x^3     1.042038\n",
       "4  x^4    -0.000893\n",
       "5  x^5    -0.000218"
      ]
     },
     "execution_count": null,
     "metadata": {},
     "output_type": "execute_result"
    },
    {
     "data": {
      "image/png": "[encoded data removed]",
      "text/plain": [
       "<Figure size 640x480 with 1 Axes>"
      ]
     },
     "metadata": {},
     "output_type": "display_data"
    }
   ],
   "source": [
    "from matplotlib import pyplot as plt\n",
    "\n",
    "\n",
    "def show_best_fit(state):\n",
    "    state.experiment_data.plot.scatter(\"x\", \"y\", s=1, alpha=0.5, c=\"gray\")\n",
    "\n",
    "    observed_x = state.experiment_data[[\"x\"]].sort_values(by=\"x\")\n",
    "    observed_x = pd.DataFrame({\"x\": np.linspace(observed_x[\"x\"].min(), observed_x[\"x\"].max(), 101)})\n",
    "\n",
    "    plt.plot(observed_x, state.model.predict(observed_x), label=\"best fit\")\n",
    "    \n",
    "    allowed_x = pd.Series(np.linspace(*state.variables.independent_variables[0].value_range, 101), name=\"x\")\n",
    "    plt.plot(allowed_x, ground_truth(allowed_x), label=\"ground truth\")\n",
    "    \n",
    "    plt.legend()\n",
    "\n",
    "def show_coefficients(state):\n",
    "    return get_equation(state.model)\n",
    "\n",
    "show_best_fit(u)\n",
    "show_coefficients(u)"
   ]
  },
  {
   "cell_type": "markdown",
   "metadata": {},
   "source": [
    "We can use this pipeline to make a trivial cycle, where we keep on gathering data until we reach 1000 datapoints. Any\n",
    " condition defined on the state object could be used here, though."
   ]
  },
  {
   "cell_type": "code",
   "execution_count": null,
   "metadata": {},
   "outputs": [
    {
     "data": {
      "image/png": "[encoded data removed]",
      "text/plain": [
       "<Figure size 640x480 with 1 Axes>"
      ]
     },
     "metadata": {},
     "output_type": "display_data"
    }
   ],
   "source": [
    "v = s\n",
    "while len(v.experiment_data) < 1_000:  # any condition on the state can be used here.\n",
    "    v = pipeline(v)\n",
    "show_best_fit(v)"
   ]
  },
  {
   "cell_type": "markdown",
   "metadata": {},
   "source": [
    "### Creating Generators With State Based Functions\n",
    "\n",
    "We can redefine the pipeline as a generator, which can be operated on using iteration tools:"
   ]
  },
  {
   "cell_type": "code",
   "execution_count": null,
   "metadata": {},
   "outputs": [
    {
     "data": {
      "image/png": "[encoded data removed]",
      "text/plain": [
       "<Figure size 640x480 with 1 Axes>"
      ]
     },
     "metadata": {},
     "output_type": "display_data"
    }
   ],
   "source": [
    "def cycle(state: StandardState) -> StandardState:\n",
    "    s_ = state\n",
    "    while True:\n",
    "        s_ = experiment_runner(s_)\n",
    "        s_ = theorist(s_)\n",
    "        yield s_\n",
    "\n",
    "cycle_generator = cycle(s)\n",
    "\n",
    "for i in range(1000):\n",
    "    t = next(cycle_generator)\n",
    "show_best_fit(t)"
   ]
  },
  {
   "cell_type": "markdown",
   "metadata": {},
   "source": [
    "You can also define a cycle (or a sequence of steps) which yield the intermediate results."
   ]
  },
  {
   "cell_type": "code",
   "execution_count": null,
   "metadata": {},
   "outputs": [],
   "source": [
    "v0 = s\n",
    "def cycle(state: StandardState) -> StandardState:\n",
    "    s_ = state\n",
    "    while True:\n",
    "        print(\"#-- running experiment_runner --#\\n\")\n",
    "        s_ = experiment_runner(s_)\n",
    "        yield s_\n",
    "        print(\"#-- running theorist --#\\n\")\n",
    "        s_ = theorist(s_)\n",
    "        yield s_\n",
    "\n",
    "cycle_generator = cycle(v0)"
   ]
  },
  {
   "cell_type": "markdown",
   "metadata": {},
   "source": [
    "At the outset, we have no model and an emtpy `experiment_data` dataframe."
   ]
  },
  {
   "cell_type": "code",
   "execution_count": null,
   "metadata": {},
   "outputs": [
    {
     "name": "stdout",
     "output_type": "stream",
     "text": [
      "v0.model=None, \n",
      "v0.experiment_data=Empty DataFrame\n",
      "Columns: [x, y]\n",
      "Index: []\n"
     ]
    }
   ],
   "source": [
    "print(f\"{v0.model=}, \\n{v0.experiment_data=}\")"
   ]
  },
  {
   "cell_type": "markdown",
   "metadata": {},
   "source": [
    "In the first `next`, we only run the \"experiment_runner\""
   ]
  },
  {
   "cell_type": "code",
   "execution_count": null,
   "metadata": {},
   "outputs": [
    {
     "name": "stdout",
     "output_type": "stream",
     "text": [
      "#-- running experiment_runner --#\n",
      "\n",
      "v1.model=None, \n",
      "v1.experiment_data=        x            y\n",
      "0   -15.0 -1386.402949\n",
      "1   -14.7 -1073.690228\n",
      "2   -14.4 -1072.951606\n",
      "3   -14.1 -1096.806703\n",
      "4   -13.8  -838.977013\n",
      "..    ...          ...\n",
      "96   13.8   384.625949\n",
      "97   14.1   559.333146\n",
      "98   14.4   795.556490\n",
      "99   14.7   920.071641\n",
      "100  15.0   907.742229\n",
      "\n",
      "[101 rows x 2 columns]\n"
     ]
    }
   ],
   "source": [
    "v1 = next(cycle_generator)\n",
    "print(f\"{v1.model=}, \\n{v1.experiment_data=}\")"
   ]
  },
  {
   "cell_type": "markdown",
   "metadata": {},
   "source": [
    "In the next step, we run the theorist on that data, but we don't add any new data:"
   ]
  },
  {
   "cell_type": "code",
   "execution_count": null,
   "metadata": {},
   "outputs": [
    {
     "name": "stdout",
     "output_type": "stream",
     "text": [
      "#-- running theorist --#\n",
      "\n",
      "v2.model=Pipeline(steps=[('polynomialfeatures', PolynomialFeatures(degree=5)),\n",
      "                ('linearregression', LinearRegression())]), \n",
      "v2.experiment_data.shape=(101, 2)\n"
     ]
    }
   ],
   "source": [
    "v2 = next(cycle_generator)\n",
    "print(f\"{v2.model=}, \\n{v2.experiment_data.shape=}\")"
   ]
  },
  {
   "cell_type": "markdown",
   "metadata": {},
   "source": [
    "In the next step, we run the experiment runner again and gather more observations:"
   ]
  },
  {
   "cell_type": "code",
   "execution_count": null,
   "metadata": {},
   "outputs": [
    {
     "name": "stdout",
     "output_type": "stream",
     "text": [
      "#-- running experiment_runner --#\n",
      "\n",
      "v3.model=Pipeline(steps=[('polynomialfeatures', PolynomialFeatures(degree=5)),\n",
      "                ('linearregression', LinearRegression())]), \n",
      "v3.experiment_data.shape=(202, 2)\n"
     ]
    }
   ],
   "source": [
    "v3 = next(cycle_generator)\n",
    "print(f\"{v3.model=}, \\n{v3.experiment_data.shape=}\")\n"
   ]
  }
 ],
 "metadata": {
  "kernelspec": {
   "display_name": "Python 3 (ipykernel)",
   "language": "python",
   "name": "python3"
  },
  "language_info": {
   "codemirror_mode": {
    "name": "ipython",
    "version": 3
   },
   "file_extension": ".py",
   "mimetype": "text/x-python",
   "name": "python",
   "nbconvert_exporter": "python",
   "pygments_lexer": "ipython3"
  }
 },
 "nbformat": 4,
 "nbformat_minor": 1
}
