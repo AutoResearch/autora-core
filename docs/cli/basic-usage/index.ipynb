{
 "cells": [
  {
   "cell_type": "markdown",
   "source": [
    "Initialization:"
   ],
   "metadata": {
    "collapsed": false
   }
  },
  {
   "cell_type": "code",
   "execution_count": 1,
   "metadata": {
    "collapsed": true,
    "ExecuteTime": {
     "end_time": "2023-05-04T19:50:40.953702Z",
     "start_time": "2023-05-04T19:50:40.352581Z"
    }
   },
   "outputs": [],
   "source": [
    "from lib import controller"
   ]
  },
  {
   "cell_type": "markdown",
   "source": [
    "Supported saving / loading methods:"
   ],
   "metadata": {
    "collapsed": false
   }
  },
  {
   "cell_type": "code",
   "execution_count": 2,
   "outputs": [
    {
     "name": "stdout",
     "output_type": "stream",
     "text": [
      "new_conditions=array([[-5.22],\r\n",
      "       [ 1.52],\r\n",
      "       [ 1.42],\r\n",
      "       [ 3.36],\r\n",
      "       [-1.74],\r\n",
      "       [ 1.06],\r\n",
      "       [ 8.74],\r\n",
      "       [-5.86],\r\n",
      "       [-1.16],\r\n",
      "       [-6.46]]) is an ndarray, so variable confusion is a possibility\r\n"
     ]
    }
   ],
   "source": [
    "import dill\n",
    "with open(\"simple-controller.dill\", \"wb\") as file:\n",
    "    dill.dump(controller, file)\n",
    "\n",
    "!python -m autora.workflow simple-controller.dill experimentalist-output.dill experimentalist\n",
    "!python -m autora.workflow experimentalist-output.dill experiment-runner-output.dill experiment_runner\n",
    "!python -m autora.workflow experiment-runner-output.dill theorist-output.dill theorist"
   ],
   "metadata": {
    "collapsed": false,
    "ExecuteTime": {
     "end_time": "2023-05-04T19:50:43.673041Z",
     "start_time": "2023-05-04T19:50:40.943125Z"
    }
   }
  },
  {
   "cell_type": "code",
   "execution_count": 3,
   "outputs": [
    {
     "name": "stdout",
     "output_type": "stream",
     "text": [
      "new_conditions=array([[-5.22],\r\n",
      "       [ 1.52],\r\n",
      "       [ 1.42],\r\n",
      "       [ 3.36],\r\n",
      "       [-1.74],\r\n",
      "       [ 1.06],\r\n",
      "       [ 8.74],\r\n",
      "       [-5.86],\r\n",
      "       [-1.16],\r\n",
      "       [-6.46]]) is an ndarray, so variable confusion is a possibility\r\n",
      "\u001B[31m╭─\u001B[0m\u001B[31m────────────────────\u001B[0m\u001B[31m \u001B[0m\u001B[1;31mTraceback \u001B[0m\u001B[1;2;31m(most recent call last)\u001B[0m\u001B[31m \u001B[0m\u001B[31m─────────────────────\u001B[0m\u001B[31m─╮\u001B[0m\r\n",
      "\u001B[31m│\u001B[0m \u001B[2;33m/Users/jholla10/Developer/autora-workflow/src/autora/workflow/\u001B[0m\u001B[1;33m__main__.py\u001B[0m:\u001B[94m38\u001B[0m \u001B[31m│\u001B[0m\r\n",
      "\u001B[31m│\u001B[0m in \u001B[92mmain\u001B[0m                                                                      \u001B[31m│\u001B[0m\r\n",
      "\u001B[31m│\u001B[0m                                                                              \u001B[31m│\u001B[0m\r\n",
      "\u001B[31m│\u001B[0m   \u001B[2m35 \u001B[0m\u001B[2m│   \u001B[0m_logger.debug(\u001B[33mf\u001B[0m\u001B[33m\"\u001B[0m\u001B[33mlast result: \u001B[0m\u001B[33m{\u001B[0mcontroller_.state.history[-\u001B[94m1\u001B[0m]\u001B[33m}\u001B[0m\u001B[33m\"\u001B[0m)      \u001B[31m│\u001B[0m\r\n",
      "\u001B[31m│\u001B[0m   \u001B[2m36 \u001B[0m\u001B[2m│   \u001B[0m                                                                    \u001B[31m│\u001B[0m\r\n",
      "\u001B[31m│\u001B[0m   \u001B[2m37 \u001B[0m\u001B[2m│   \u001B[0m_logger.info(\u001B[33m\"\u001B[0m\u001B[33mwriting out results\u001B[0m\u001B[33m\"\u001B[0m)                                 \u001B[31m│\u001B[0m\r\n",
      "\u001B[31m│\u001B[0m \u001B[31m❱ \u001B[0m38 \u001B[2m│   \u001B[0m_dump_manager(controller_, output_path)                             \u001B[31m│\u001B[0m\r\n",
      "\u001B[31m│\u001B[0m   \u001B[2m39 \u001B[0m\u001B[2m│   \u001B[0m                                                                    \u001B[31m│\u001B[0m\r\n",
      "\u001B[31m│\u001B[0m   \u001B[2m40 \u001B[0m\u001B[2m│   \u001B[0m\u001B[94mreturn\u001B[0m                                                              \u001B[31m│\u001B[0m\r\n",
      "\u001B[31m│\u001B[0m   \u001B[2m41 \u001B[0m                                                                        \u001B[31m│\u001B[0m\r\n",
      "\u001B[31m│\u001B[0m                                                                              \u001B[31m│\u001B[0m\r\n",
      "\u001B[31m│\u001B[0m \u001B[33m╭─\u001B[0m\u001B[33m────────────────────────────────\u001B[0m\u001B[33m locals \u001B[0m\u001B[33m────────────────────────────────\u001B[0m\u001B[33m─╮\u001B[0m \u001B[31m│\u001B[0m\r\n",
      "\u001B[31m│\u001B[0m \u001B[33m│\u001B[0m controller_ = \u001B[1m<\u001B[0m\u001B[1;95mautora.workflow.controller.Controller\u001B[0m\u001B[39m object at \u001B[0m          \u001B[33m│\u001B[0m \u001B[31m│\u001B[0m\r\n",
      "\u001B[31m│\u001B[0m \u001B[33m│\u001B[0m               \u001B[94m0x14799f2d0\u001B[0m\u001B[1m>\u001B[0m                                               \u001B[33m│\u001B[0m \u001B[31m│\u001B[0m\r\n",
      "\u001B[31m│\u001B[0m \u001B[33m│\u001B[0m       debug = \u001B[94mFalse\u001B[0m                                                      \u001B[33m│\u001B[0m \u001B[31m│\u001B[0m\r\n",
      "\u001B[31m│\u001B[0m \u001B[33m│\u001B[0m  input_path = \u001B[1;35mPosixPath\u001B[0m\u001B[1m(\u001B[0m\u001B[33m'simple-controller.pkl'\u001B[0m\u001B[1m)\u001B[0m                         \u001B[33m│\u001B[0m \u001B[31m│\u001B[0m\r\n",
      "\u001B[31m│\u001B[0m \u001B[33m│\u001B[0m output_path = \u001B[1;35mPosixPath\u001B[0m\u001B[1m(\u001B[0m\u001B[33m'experimentalist-output.pkl'\u001B[0m\u001B[1m)\u001B[0m                    \u001B[33m│\u001B[0m \u001B[31m│\u001B[0m\r\n",
      "\u001B[31m│\u001B[0m \u001B[33m│\u001B[0m   step_name = \u001B[33m'experimentalist'\u001B[0m                                          \u001B[33m│\u001B[0m \u001B[31m│\u001B[0m\r\n",
      "\u001B[31m│\u001B[0m \u001B[33m│\u001B[0m     verbose = \u001B[94mFalse\u001B[0m                                                      \u001B[33m│\u001B[0m \u001B[31m│\u001B[0m\r\n",
      "\u001B[31m│\u001B[0m \u001B[33m╰──────────────────────────────────────────────────────────────────────────╯\u001B[0m \u001B[31m│\u001B[0m\r\n",
      "\u001B[31m│\u001B[0m                                                                              \u001B[31m│\u001B[0m\r\n",
      "\u001B[31m│\u001B[0m \u001B[2;33m/Users/jholla10/Developer/autora-workflow/src/autora/workflow/\u001B[0m\u001B[1;33m__main__.py\u001B[0m:\u001B[94m70\u001B[0m \u001B[31m│\u001B[0m\r\n",
      "\u001B[31m│\u001B[0m in \u001B[92m_dump_manager\u001B[0m                                                             \u001B[31m│\u001B[0m\r\n",
      "\u001B[31m│\u001B[0m                                                                              \u001B[31m│\u001B[0m\r\n",
      "\u001B[31m│\u001B[0m   \u001B[2m67 \u001B[0m\u001B[2m│   \u001B[0m                                                                    \u001B[31m│\u001B[0m\r\n",
      "\u001B[31m│\u001B[0m   \u001B[2m68 \u001B[0m\u001B[2m│   \u001B[0m\u001B[94mif\u001B[0m path.suffix == \u001B[33m\"\u001B[0m\u001B[33m.pkl\u001B[0m\u001B[33m\"\u001B[0m:                                           \u001B[31m│\u001B[0m\r\n",
      "\u001B[31m│\u001B[0m   \u001B[2m69 \u001B[0m\u001B[2m│   │   \u001B[0m\u001B[94mwith\u001B[0m \u001B[96mopen\u001B[0m(path, \u001B[33m\"\u001B[0m\u001B[33mwb\u001B[0m\u001B[33m\"\u001B[0m) \u001B[94mas\u001B[0m f:                                     \u001B[31m│\u001B[0m\r\n",
      "\u001B[31m│\u001B[0m \u001B[31m❱ \u001B[0m70 \u001B[2m│   │   │   \u001B[0mpickle.dump(controller_, f)                                 \u001B[31m│\u001B[0m\r\n",
      "\u001B[31m│\u001B[0m   \u001B[2m71 \u001B[0m\u001B[2m│   \u001B[0m\u001B[94melif\u001B[0m path.suffix == \u001B[33m\"\u001B[0m\u001B[33m.dill\u001B[0m\u001B[33m\"\u001B[0m:                                        \u001B[31m│\u001B[0m\r\n",
      "\u001B[31m│\u001B[0m   \u001B[2m72 \u001B[0m\u001B[2m│   │   \u001B[0m\u001B[94mwith\u001B[0m \u001B[96mopen\u001B[0m(path, \u001B[33m\"\u001B[0m\u001B[33mwb\u001B[0m\u001B[33m\"\u001B[0m) \u001B[94mas\u001B[0m f:                                     \u001B[31m│\u001B[0m\r\n",
      "\u001B[31m│\u001B[0m   \u001B[2m73 \u001B[0m\u001B[2m│   │   │   \u001B[0mdill.dump(controller_, f)                                   \u001B[31m│\u001B[0m\r\n",
      "\u001B[31m│\u001B[0m                                                                              \u001B[31m│\u001B[0m\r\n",
      "\u001B[31m│\u001B[0m \u001B[33m╭─\u001B[0m\u001B[33m────────────────────────────────\u001B[0m\u001B[33m locals \u001B[0m\u001B[33m────────────────────────────────\u001B[0m\u001B[33m─╮\u001B[0m \u001B[31m│\u001B[0m\r\n",
      "\u001B[31m│\u001B[0m \u001B[33m│\u001B[0m controller_ = \u001B[1m<\u001B[0m\u001B[1;95mautora.workflow.controller.Controller\u001B[0m\u001B[39m object at \u001B[0m          \u001B[33m│\u001B[0m \u001B[31m│\u001B[0m\r\n",
      "\u001B[31m│\u001B[0m \u001B[33m│\u001B[0m               \u001B[94m0x14799f2d0\u001B[0m\u001B[1m>\u001B[0m                                               \u001B[33m│\u001B[0m \u001B[31m│\u001B[0m\r\n",
      "\u001B[31m│\u001B[0m \u001B[33m│\u001B[0m           f = \u001B[1m<\u001B[0m\u001B[1;95m_io.BufferedWriter\u001B[0m\u001B[39m \u001B[0m\u001B[33mname\u001B[0m\u001B[39m=\u001B[0m\u001B[33m'experimentalist-output.pkl'\u001B[0m\u001B[1m>\u001B[0m     \u001B[33m│\u001B[0m \u001B[31m│\u001B[0m\r\n",
      "\u001B[31m│\u001B[0m \u001B[33m│\u001B[0m        path = \u001B[1;35mPosixPath\u001B[0m\u001B[1m(\u001B[0m\u001B[33m'experimentalist-output.pkl'\u001B[0m\u001B[1m)\u001B[0m                    \u001B[33m│\u001B[0m \u001B[31m│\u001B[0m\r\n",
      "\u001B[31m│\u001B[0m \u001B[33m╰──────────────────────────────────────────────────────────────────────────╯\u001B[0m \u001B[31m│\u001B[0m\r\n",
      "\u001B[31m╰──────────────────────────────────────────────────────────────────────────────╯\u001B[0m\r\n",
      "\u001B[1;91mAttributeError: \u001B[0mCan't pickle local object \r\n",
      "\u001B[32m'_set_next_step_name.\u001B[0m\u001B[32m<\u001B[0m\u001B[32mlocals\u001B[0m\u001B[32m>.<lambda\u001B[0m\u001B[32m>\u001B[0m\u001B[32m'\u001B[0m\r\n"
     ]
    }
   ],
   "source": [
    "import pickle\n",
    "with open(\"simple-controller.pkl\", \"wb\") as file:\n",
    "    pickle.dump(controller, file)\n",
    "\n",
    "!python -m autora.workflow simple-controller.pkl experimentalist-output.pkl experimentalist\n",
    "#!python -m autora.workflow experimentalist-output.pkl experiment-runner-output.pkl experiment_runner\n",
    "#!python -m autora.workflow experiment-runner-output.pkl theorist-output.pkl theorist"
   ],
   "metadata": {
    "collapsed": false,
    "ExecuteTime": {
     "end_time": "2023-05-04T19:50:48.521054Z",
     "start_time": "2023-05-04T19:50:47.510508Z"
    }
   }
  },
  {
   "cell_type": "markdown",
   "source": [
    "You can run the next step of the workflow manager using the command below:"
   ],
   "metadata": {
    "collapsed": false
   }
  },
  {
   "cell_type": "code",
   "execution_count": 28,
   "outputs": [
    {
     "name": "stdout",
     "output_type": "stream",
     "text": [
      "DEBUG:__main__:using DEBUG logging level\r\n",
      "INFO:__main__:using INFO logging level\r\n",
      "DEBUG:__main__:_load_manager: loading from path=PosixPath('simple-controller.dill')\r\n",
      "INFO:__main__:running next step\r\n",
      "WARNING:autora.workflow.executor:new_conditions=array([[-5.22],\r\n",
      "       [ 1.52],\r\n",
      "       [ 1.42],\r\n",
      "       [ 3.36],\r\n",
      "       [-1.74],\r\n",
      "       [ 1.06],\r\n",
      "       [ 8.74],\r\n",
      "       [-5.86],\r\n",
      "       [-1.16],\r\n",
      "       [-6.46]]) is an ndarray, so variable confusion is a possibility\r\n",
      "DEBUG:__main__:last result: Result(data=array([[-5.22],\r\n",
      "       [ 1.52],\r\n",
      "       [ 1.42],\r\n",
      "       [ 3.36],\r\n",
      "       [-1.74],\r\n",
      "       [ 1.06],\r\n",
      "       [ 8.74],\r\n",
      "       [-5.86],\r\n",
      "       [-1.16],\r\n",
      "       [-6.46]]), kind=ResultKind.CONDITION)\r\n",
      "INFO:__main__:writing out results\r\n",
      "DEBUG:__main__:_dump_manager: dumping to path=PosixPath('simple-controller-output.dill')\r\n"
     ]
    }
   ],
   "source": [
    "!python -m autora.workflow simple-controller.dill simple-controller-output.dill --verbose --debug"
   ],
   "metadata": {
    "collapsed": false,
    "ExecuteTime": {
     "end_time": "2023-05-04T19:23:59.095408Z",
     "start_time": "2023-05-04T19:23:58.158322Z"
    }
   }
  },
  {
   "cell_type": "code",
   "execution_count": 29,
   "outputs": [
    {
     "name": "stdout",
     "output_type": "stream",
     "text": [
      "new_conditions=array([[-5.22],\r\n",
      "       [ 1.52],\r\n",
      "       [ 1.42],\r\n",
      "       [ 3.36],\r\n",
      "       [-1.74],\r\n",
      "       [ 1.06],\r\n",
      "       [ 8.74],\r\n",
      "       [-5.86],\r\n",
      "       [-1.16],\r\n",
      "       [-6.46]]) is an ndarray, so variable confusion is a possibility\r\n"
     ]
    }
   ],
   "source": [
    "!python -m autora.workflow simple-controller.dill experimentalist-output.dill experimentalist"
   ],
   "metadata": {
    "collapsed": false,
    "ExecuteTime": {
     "end_time": "2023-05-04T19:24:00.082478Z",
     "start_time": "2023-05-04T19:23:59.096097Z"
    }
   }
  },
  {
   "cell_type": "code",
   "execution_count": 30,
   "outputs": [
    {
     "name": "stdout",
     "output_type": "stream",
     "text": [
      "\u001B[31m╭─\u001B[0m\u001B[31m────────────────────\u001B[0m\u001B[31m \u001B[0m\u001B[1;31mTraceback \u001B[0m\u001B[1;2;31m(most recent call last)\u001B[0m\u001B[31m \u001B[0m\u001B[31m─────────────────────\u001B[0m\u001B[31m─╮\u001B[0m\r\n",
      "\u001B[31m│\u001B[0m \u001B[2;33m/Users/jholla10/Developer/autora-workflow/src/autora/workflow/\u001B[0m\u001B[1;33m__main__.py\u001B[0m:\u001B[94m32\u001B[0m \u001B[31m│\u001B[0m\r\n",
      "\u001B[31m│\u001B[0m in \u001B[92mmain\u001B[0m                                                                      \u001B[31m│\u001B[0m\r\n",
      "\u001B[31m│\u001B[0m                                                                              \u001B[31m│\u001B[0m\r\n",
      "\u001B[31m│\u001B[0m   \u001B[2m29 \u001B[0m\u001B[2m│   │   \u001B[0mcontroller_ = _set_next_step_name(controller_, step_name)       \u001B[31m│\u001B[0m\r\n",
      "\u001B[31m│\u001B[0m   \u001B[2m30 \u001B[0m\u001B[2m│   \u001B[0m                                                                    \u001B[31m│\u001B[0m\r\n",
      "\u001B[31m│\u001B[0m   \u001B[2m31 \u001B[0m\u001B[2m│   \u001B[0m_logger.info(\u001B[33m\"\u001B[0m\u001B[33mrunning next step\u001B[0m\u001B[33m\"\u001B[0m)                                   \u001B[31m│\u001B[0m\r\n",
      "\u001B[31m│\u001B[0m \u001B[31m❱ \u001B[0m32 \u001B[2m│   \u001B[0m\u001B[96mnext\u001B[0m(controller_)                                                   \u001B[31m│\u001B[0m\r\n",
      "\u001B[31m│\u001B[0m   \u001B[2m33 \u001B[0m\u001B[2m│   \u001B[0m                                                                    \u001B[31m│\u001B[0m\r\n",
      "\u001B[31m│\u001B[0m   \u001B[2m34 \u001B[0m\u001B[2m│   \u001B[0m_logger.debug(\u001B[33mf\u001B[0m\u001B[33m\"\u001B[0m\u001B[33mlast result: \u001B[0m\u001B[33m{\u001B[0mcontroller_.state.history[-\u001B[94m1\u001B[0m]\u001B[33m}\u001B[0m\u001B[33m\"\u001B[0m)      \u001B[31m│\u001B[0m\r\n",
      "\u001B[31m│\u001B[0m   \u001B[2m35 \u001B[0m                                                                        \u001B[31m│\u001B[0m\r\n",
      "\u001B[31m│\u001B[0m                                                                              \u001B[31m│\u001B[0m\r\n",
      "\u001B[31m│\u001B[0m \u001B[33m╭─\u001B[0m\u001B[33m────────────────────────────────\u001B[0m\u001B[33m locals \u001B[0m\u001B[33m────────────────────────────────\u001B[0m\u001B[33m─╮\u001B[0m \u001B[31m│\u001B[0m\r\n",
      "\u001B[31m│\u001B[0m \u001B[33m│\u001B[0m controller_ = \u001B[1m<\u001B[0m\u001B[1;95mautora.workflow.controller.Controller\u001B[0m\u001B[39m object at \u001B[0m          \u001B[33m│\u001B[0m \u001B[31m│\u001B[0m\r\n",
      "\u001B[31m│\u001B[0m \u001B[33m│\u001B[0m               \u001B[94m0x156eb4f50\u001B[0m\u001B[1m>\u001B[0m                                               \u001B[33m│\u001B[0m \u001B[31m│\u001B[0m\r\n",
      "\u001B[31m│\u001B[0m \u001B[33m│\u001B[0m       debug = \u001B[94mFalse\u001B[0m                                                      \u001B[33m│\u001B[0m \u001B[31m│\u001B[0m\r\n",
      "\u001B[31m│\u001B[0m \u001B[33m│\u001B[0m  input_path = \u001B[1;35mPosixPath\u001B[0m\u001B[1m(\u001B[0m\u001B[33m'experimentalist-output.dill'\u001B[0m\u001B[1m)\u001B[0m                   \u001B[33m│\u001B[0m \u001B[31m│\u001B[0m\r\n",
      "\u001B[31m│\u001B[0m \u001B[33m│\u001B[0m output_path = \u001B[1;35mPosixPath\u001B[0m\u001B[1m(\u001B[0m\u001B[33m'experiment-runner-output.dill'\u001B[0m\u001B[1m)\u001B[0m                 \u001B[33m│\u001B[0m \u001B[31m│\u001B[0m\r\n",
      "\u001B[31m│\u001B[0m \u001B[33m│\u001B[0m   step_name = \u001B[33m'experiment_runner'\u001B[0m                                        \u001B[33m│\u001B[0m \u001B[31m│\u001B[0m\r\n",
      "\u001B[31m│\u001B[0m \u001B[33m│\u001B[0m     verbose = \u001B[94mFalse\u001B[0m                                                      \u001B[33m│\u001B[0m \u001B[31m│\u001B[0m\r\n",
      "\u001B[31m│\u001B[0m \u001B[33m╰──────────────────────────────────────────────────────────────────────────╯\u001B[0m \u001B[31m│\u001B[0m\r\n",
      "\u001B[31m│\u001B[0m                                                                              \u001B[31m│\u001B[0m\r\n",
      "\u001B[31m│\u001B[0m \u001B[2;33m/Users/jholla10/Developer/autora-workflow/src/autora/workflow/\u001B[0m\u001B[1;33mbase.py\u001B[0m:\u001B[94m71\u001B[0m in  \u001B[31m│\u001B[0m\r\n",
      "\u001B[31m│\u001B[0m \u001B[92m__next__\u001B[0m                                                                     \u001B[31m│\u001B[0m\r\n",
      "\u001B[31m│\u001B[0m                                                                              \u001B[31m│\u001B[0m\r\n",
      "\u001B[31m│\u001B[0m   \u001B[2m68 \u001B[0m\u001B[2m│   │   \u001B[0mnext_params = \u001B[96mself\u001B[0m.state.params.get(next_function_name, {})     \u001B[31m│\u001B[0m\r\n",
      "\u001B[31m│\u001B[0m   \u001B[2m69 \u001B[0m\u001B[2m│   │   \u001B[0m                                                                \u001B[31m│\u001B[0m\r\n",
      "\u001B[31m│\u001B[0m   \u001B[2m70 \u001B[0m\u001B[2m│   │   \u001B[0m\u001B[2m# Execute\u001B[0m                                                       \u001B[31m│\u001B[0m\r\n",
      "\u001B[31m│\u001B[0m \u001B[31m❱ \u001B[0m71 \u001B[2m│   │   \u001B[0mresult = next_function(\u001B[96mself\u001B[0m.state, params=next_params)          \u001B[31m│\u001B[0m\r\n",
      "\u001B[31m│\u001B[0m   \u001B[2m72 \u001B[0m\u001B[2m│   │   \u001B[0m                                                                \u001B[31m│\u001B[0m\r\n",
      "\u001B[31m│\u001B[0m   \u001B[2m73 \u001B[0m\u001B[2m│   │   \u001B[0m\u001B[2m# Update\u001B[0m                                                        \u001B[31m│\u001B[0m\r\n",
      "\u001B[31m│\u001B[0m   \u001B[2m74 \u001B[0m\u001B[2m│   │   \u001B[0m\u001B[96mself\u001B[0m.state = result                                             \u001B[31m│\u001B[0m\r\n",
      "\u001B[31m│\u001B[0m                                                                              \u001B[31m│\u001B[0m\r\n",
      "\u001B[31m│\u001B[0m \u001B[33m╭─\u001B[0m\u001B[33m────────────────────────────────\u001B[0m\u001B[33m locals \u001B[0m\u001B[33m────────────────────────────────\u001B[0m\u001B[33m─╮\u001B[0m \u001B[31m│\u001B[0m\r\n",
      "\u001B[31m│\u001B[0m \u001B[33m│\u001B[0m      next_function = \u001B[1m<\u001B[0m\u001B[1;95mfunction\u001B[0m\u001B[39m \u001B[0m                                          \u001B[33m│\u001B[0m \u001B[31m│\u001B[0m\r\n",
      "\u001B[31m│\u001B[0m \u001B[33m│\u001B[0m                      \u001B[39mfrom_experiment_runner_callable.<locals>._executor…\u001B[0m \u001B[33m│\u001B[0m \u001B[31m│\u001B[0m\r\n",
      "\u001B[31m│\u001B[0m \u001B[33m│\u001B[0m                      \u001B[39mat \u001B[0m\u001B[94m0x156ea63e0\u001B[0m\u001B[1m>\u001B[0m                                     \u001B[33m│\u001B[0m \u001B[31m│\u001B[0m\r\n",
      "\u001B[31m│\u001B[0m \u001B[33m│\u001B[0m next_function_name = \u001B[33m'experiment_runner'\u001B[0m                                 \u001B[33m│\u001B[0m \u001B[31m│\u001B[0m\r\n",
      "\u001B[31m│\u001B[0m \u001B[33m│\u001B[0m        next_params = \u001B[1m{\u001B[0m\u001B[1m}\u001B[0m                                                  \u001B[33m│\u001B[0m \u001B[31m│\u001B[0m\r\n",
      "\u001B[31m│\u001B[0m \u001B[33m│\u001B[0m               self = \u001B[1m<\u001B[0m\u001B[1;95mautora.workflow.controller.Controller\u001B[0m\u001B[39m object at \u001B[0m   \u001B[33m│\u001B[0m \u001B[31m│\u001B[0m\r\n",
      "\u001B[31m│\u001B[0m \u001B[33m│\u001B[0m                      \u001B[94m0x156eb4f50\u001B[0m\u001B[1m>\u001B[0m                                        \u001B[33m│\u001B[0m \u001B[31m│\u001B[0m\r\n",
      "\u001B[31m│\u001B[0m \u001B[33m╰──────────────────────────────────────────────────────────────────────────╯\u001B[0m \u001B[31m│\u001B[0m\r\n",
      "\u001B[31m│\u001B[0m                                                                              \u001B[31m│\u001B[0m\r\n",
      "\u001B[31m│\u001B[0m \u001B[2;33m/Users/jholla10/Developer/autora-workflow/src/autora/workflow/\u001B[0m\u001B[1;33mexecutor.py\u001B[0m:\u001B[94m99\u001B[0m \u001B[31m│\u001B[0m\r\n",
      "\u001B[31m│\u001B[0m in \u001B[92m_executor_experiment_runner\u001B[0m                                               \u001B[31m│\u001B[0m\r\n",
      "\u001B[31m│\u001B[0m                                                                              \u001B[31m│\u001B[0m\r\n",
      "\u001B[31m│\u001B[0m   \u001B[2m 96 \u001B[0m\u001B[2m│   \u001B[0m\u001B[94mdef\u001B[0m \u001B[92m_executor_experiment_runner\u001B[0m(state: SupportsControllerState, pa \u001B[31m│\u001B[0m\r\n",
      "\u001B[31m│\u001B[0m   \u001B[2m 97 \u001B[0m\u001B[2m│   │   \u001B[0mparams_ = resolve_state_params(params, state)                  \u001B[31m│\u001B[0m\r\n",
      "\u001B[31m│\u001B[0m   \u001B[2m 98 \u001B[0m\u001B[2m│   │   \u001B[0mx = state.conditions[-\u001B[94m1\u001B[0m]                                       \u001B[31m│\u001B[0m\r\n",
      "\u001B[31m│\u001B[0m \u001B[31m❱ \u001B[0m 99 \u001B[2m│   │   \u001B[0moutput = \u001B[96mcallable\u001B[0m(x, **params_)                                \u001B[31m│\u001B[0m\r\n",
      "\u001B[31m│\u001B[0m   \u001B[2m100 \u001B[0m\u001B[2m│   │   \u001B[0m                                                               \u001B[31m│\u001B[0m\r\n",
      "\u001B[31m│\u001B[0m   \u001B[2m101 \u001B[0m\u001B[2m│   │   \u001B[0m\u001B[94mif\u001B[0m \u001B[96misinstance\u001B[0m(x, pd.DataFrame):                                \u001B[31m│\u001B[0m\r\n",
      "\u001B[31m│\u001B[0m   \u001B[2m102 \u001B[0m\u001B[2m│   │   │   \u001B[0mnew_observations = output                                  \u001B[31m│\u001B[0m\r\n",
      "\u001B[31m│\u001B[0m                                                                              \u001B[31m│\u001B[0m\r\n",
      "\u001B[31m│\u001B[0m \u001B[33m╭─\u001B[0m\u001B[33m────────────────────────────────\u001B[0m\u001B[33m locals \u001B[0m\u001B[33m────────────────────────────────\u001B[0m\u001B[33m─╮\u001B[0m \u001B[31m│\u001B[0m\r\n",
      "\u001B[31m│\u001B[0m \u001B[33m│\u001B[0m callable = \u001B[1m<\u001B[0m\u001B[1;95mfunction\u001B[0m\u001B[39m experiment_runner at \u001B[0m\u001B[94m0x156ea6480\u001B[0m\u001B[1m>\u001B[0m                   \u001B[33m│\u001B[0m \u001B[31m│\u001B[0m\r\n",
      "\u001B[31m│\u001B[0m \u001B[33m│\u001B[0m   params = \u001B[1m{\u001B[0m\u001B[1m}\u001B[0m                                                            \u001B[33m│\u001B[0m \u001B[31m│\u001B[0m\r\n",
      "\u001B[31m│\u001B[0m \u001B[33m│\u001B[0m  params_ = \u001B[1m{\u001B[0m\u001B[1m}\u001B[0m                                                            \u001B[33m│\u001B[0m \u001B[31m│\u001B[0m\r\n",
      "\u001B[31m│\u001B[0m \u001B[33m│\u001B[0m    state = \u001B[1;35mHistory\u001B[0m\u001B[1m(\u001B[0m\u001B[1m[\u001B[0m\u001B[1;35mResult\u001B[0m\u001B[1m(\u001B[0m\u001B[33mdata\u001B[0m=\u001B[1;35mVariableCollection\u001B[0m\u001B[1m(\u001B[0m\u001B[33mindependent_variable…\u001B[0m \u001B[33m│\u001B[0m \u001B[31m│\u001B[0m\r\n",
      "\u001B[31m│\u001B[0m \u001B[33m│\u001B[0m            \u001B[33mvalue_range\u001B[0m=\u001B[94mNone\u001B[0m, \u001B[33mallowed_values\u001B[0m=\u001B[94mNone\u001B[0m, \u001B[33munits\u001B[0m=\u001B[33m''\u001B[0m,              \u001B[33m│\u001B[0m \u001B[31m│\u001B[0m\r\n",
      "\u001B[31m│\u001B[0m \u001B[33m│\u001B[0m            \u001B[33mtype\u001B[0m=\u001B[1m<\u001B[0m\u001B[1;95mValueType.REAL:\u001B[0m\u001B[39m \u001B[0m\u001B[33m'real'\u001B[0m\u001B[39m>, \u001B[0m\u001B[33mvariable_label\u001B[0m\u001B[39m=\u001B[0m\u001B[33m''\u001B[0m\u001B[39m, \u001B[0m\u001B[33mrescale\u001B[0m\u001B[39m=\u001B[0m\u001B[94m1\u001B[0m\u001B[39m, \u001B[0m \u001B[33m│\u001B[0m \u001B[31m│\u001B[0m\r\n",
      "\u001B[31m│\u001B[0m \u001B[33m│\u001B[0m            \u001B[33mis_covariate\u001B[0m\u001B[39m=\u001B[0m\u001B[94mFalse\u001B[0m\u001B[1;39m)\u001B[0m\u001B[1;39m]\u001B[0m\u001B[39m, \u001B[0m\u001B[33mdependent_variables\u001B[0m\u001B[39m=\u001B[0m\u001B[1;39m[\u001B[0m\u001B[1;35mVariable\u001B[0m\u001B[1;39m(\u001B[0m\u001B[33mname\u001B[0m\u001B[39m=\u001B[0m\u001B[33m'y'\u001B[0m\u001B[39m,\u001B[0m \u001B[33m│\u001B[0m \u001B[31m│\u001B[0m\r\n",
      "\u001B[31m│\u001B[0m \u001B[33m│\u001B[0m            \u001B[33mvalue_range\u001B[0m\u001B[39m=\u001B[0m\u001B[94mNone\u001B[0m\u001B[39m, \u001B[0m\u001B[33mallowed_values\u001B[0m\u001B[39m=\u001B[0m\u001B[94mNone\u001B[0m\u001B[39m, \u001B[0m\u001B[33munits\u001B[0m\u001B[39m=\u001B[0m\u001B[33m''\u001B[0m\u001B[39m, \u001B[0m             \u001B[33m│\u001B[0m \u001B[31m│\u001B[0m\r\n",
      "\u001B[31m│\u001B[0m \u001B[33m│\u001B[0m            \u001B[33mtype\u001B[0m\u001B[39m=<ValueType.REAL: \u001B[0m\u001B[33m'real'\u001B[0m\u001B[1m>\u001B[0m, \u001B[33mvariable_label\u001B[0m=\u001B[33m''\u001B[0m, \u001B[33mrescale\u001B[0m=\u001B[94m1\u001B[0m,  \u001B[33m│\u001B[0m \u001B[31m│\u001B[0m\r\n",
      "\u001B[31m│\u001B[0m \u001B[33m│\u001B[0m            \u001B[33mis_covariate\u001B[0m=\u001B[94mFalse\u001B[0m\u001B[1m)\u001B[0m\u001B[1m]\u001B[0m, \u001B[33mcovariates\u001B[0m=\u001B[1m[\u001B[0m\u001B[1m]\u001B[0m\u001B[1m)\u001B[0m,                         \u001B[33m│\u001B[0m \u001B[31m│\u001B[0m\r\n",
      "\u001B[31m│\u001B[0m \u001B[33m│\u001B[0m            \u001B[33mkind\u001B[0m=\u001B[35mResultKind\u001B[0m.VARIABLES\u001B[1m)\u001B[0m, \u001B[1;35mResult\u001B[0m\u001B[1m(\u001B[0m\u001B[33mdata\u001B[0m=\u001B[1;35marray\u001B[0m\u001B[1m(\u001B[0m\u001B[1m[\u001B[0m\u001B[1m[\u001B[0m\u001B[94m-5.22\u001B[0m\u001B[1m]\u001B[0m,       \u001B[33m│\u001B[0m \u001B[31m│\u001B[0m\r\n",
      "\u001B[31m│\u001B[0m \u001B[33m│\u001B[0m            \u001B[2m│      \u001B[0m\u001B[1m[\u001B[0m \u001B[94m1.52\u001B[0m\u001B[1m]\u001B[0m,                                               \u001B[33m│\u001B[0m \u001B[31m│\u001B[0m\r\n",
      "\u001B[31m│\u001B[0m \u001B[33m│\u001B[0m            \u001B[2m│      \u001B[0m\u001B[1m[\u001B[0m \u001B[94m1.42\u001B[0m\u001B[1m]\u001B[0m,                                               \u001B[33m│\u001B[0m \u001B[31m│\u001B[0m\r\n",
      "\u001B[31m│\u001B[0m \u001B[33m│\u001B[0m            \u001B[2m│      \u001B[0m\u001B[1m[\u001B[0m \u001B[94m3.36\u001B[0m\u001B[1m]\u001B[0m,                                               \u001B[33m│\u001B[0m \u001B[31m│\u001B[0m\r\n",
      "\u001B[31m│\u001B[0m \u001B[33m│\u001B[0m            \u001B[2m│      \u001B[0m\u001B[1m[\u001B[0m\u001B[94m-1.74\u001B[0m\u001B[1m]\u001B[0m,                                               \u001B[33m│\u001B[0m \u001B[31m│\u001B[0m\r\n",
      "\u001B[31m│\u001B[0m \u001B[33m│\u001B[0m            \u001B[2m│      \u001B[0m\u001B[1m[\u001B[0m \u001B[94m1.06\u001B[0m\u001B[1m]\u001B[0m,                                               \u001B[33m│\u001B[0m \u001B[31m│\u001B[0m\r\n",
      "\u001B[31m│\u001B[0m \u001B[33m│\u001B[0m            \u001B[2m│      \u001B[0m\u001B[1m[\u001B[0m \u001B[94m8.74\u001B[0m\u001B[1m]\u001B[0m,                                               \u001B[33m│\u001B[0m \u001B[31m│\u001B[0m\r\n",
      "\u001B[31m│\u001B[0m \u001B[33m│\u001B[0m            \u001B[2m│      \u001B[0m\u001B[1m[\u001B[0m\u001B[94m-5.86\u001B[0m\u001B[1m]\u001B[0m,                                               \u001B[33m│\u001B[0m \u001B[31m│\u001B[0m\r\n",
      "\u001B[31m│\u001B[0m \u001B[33m│\u001B[0m            \u001B[2m│      \u001B[0m\u001B[1m[\u001B[0m\u001B[94m-1.16\u001B[0m\u001B[1m]\u001B[0m,                                               \u001B[33m│\u001B[0m \u001B[31m│\u001B[0m\r\n",
      "\u001B[31m│\u001B[0m \u001B[33m│\u001B[0m            \u001B[2m│      \u001B[0m\u001B[1m[\u001B[0m\u001B[94m-6.46\u001B[0m\u001B[1m]\u001B[0m\u001B[1m]\u001B[0m\u001B[1m)\u001B[0m, \u001B[33mkind\u001B[0m=\u001B[35mResultKind\u001B[0m.CONDITION\u001B[1m)\u001B[0m\u001B[1m]\u001B[0m\u001B[1m)\u001B[0m                \u001B[33m│\u001B[0m \u001B[31m│\u001B[0m\r\n",
      "\u001B[31m│\u001B[0m \u001B[33m│\u001B[0m        x = \u001B[1;35marray\u001B[0m\u001B[1m(\u001B[0m\u001B[1m[\u001B[0m\u001B[1m[\u001B[0m\u001B[94m-5.22\u001B[0m\u001B[1m]\u001B[0m,                                               \u001B[33m│\u001B[0m \u001B[31m│\u001B[0m\r\n",
      "\u001B[31m│\u001B[0m \u001B[33m│\u001B[0m            \u001B[2m│      \u001B[0m\u001B[1m[\u001B[0m \u001B[94m1.52\u001B[0m\u001B[1m]\u001B[0m,                                               \u001B[33m│\u001B[0m \u001B[31m│\u001B[0m\r\n",
      "\u001B[31m│\u001B[0m \u001B[33m│\u001B[0m            \u001B[2m│      \u001B[0m\u001B[1m[\u001B[0m \u001B[94m1.42\u001B[0m\u001B[1m]\u001B[0m,                                               \u001B[33m│\u001B[0m \u001B[31m│\u001B[0m\r\n",
      "\u001B[31m│\u001B[0m \u001B[33m│\u001B[0m            \u001B[2m│      \u001B[0m\u001B[1m[\u001B[0m \u001B[94m3.36\u001B[0m\u001B[1m]\u001B[0m,                                               \u001B[33m│\u001B[0m \u001B[31m│\u001B[0m\r\n",
      "\u001B[31m│\u001B[0m \u001B[33m│\u001B[0m            \u001B[2m│      \u001B[0m\u001B[1m[\u001B[0m\u001B[94m-1.74\u001B[0m\u001B[1m]\u001B[0m,                                               \u001B[33m│\u001B[0m \u001B[31m│\u001B[0m\r\n",
      "\u001B[31m│\u001B[0m \u001B[33m│\u001B[0m            \u001B[2m│      \u001B[0m\u001B[1m[\u001B[0m \u001B[94m1.06\u001B[0m\u001B[1m]\u001B[0m,                                               \u001B[33m│\u001B[0m \u001B[31m│\u001B[0m\r\n",
      "\u001B[31m│\u001B[0m \u001B[33m│\u001B[0m            \u001B[2m│      \u001B[0m\u001B[1m[\u001B[0m \u001B[94m8.74\u001B[0m\u001B[1m]\u001B[0m,                                               \u001B[33m│\u001B[0m \u001B[31m│\u001B[0m\r\n",
      "\u001B[31m│\u001B[0m \u001B[33m│\u001B[0m            \u001B[2m│      \u001B[0m\u001B[1m[\u001B[0m\u001B[94m-5.86\u001B[0m\u001B[1m]\u001B[0m,                                               \u001B[33m│\u001B[0m \u001B[31m│\u001B[0m\r\n",
      "\u001B[31m│\u001B[0m \u001B[33m│\u001B[0m            \u001B[2m│      \u001B[0m\u001B[1m[\u001B[0m\u001B[94m-1.16\u001B[0m\u001B[1m]\u001B[0m,                                               \u001B[33m│\u001B[0m \u001B[31m│\u001B[0m\r\n",
      "\u001B[31m│\u001B[0m \u001B[33m│\u001B[0m            \u001B[2m│      \u001B[0m\u001B[1m[\u001B[0m\u001B[94m-6.46\u001B[0m\u001B[1m]\u001B[0m\u001B[1m]\u001B[0m\u001B[1m)\u001B[0m                                              \u001B[33m│\u001B[0m \u001B[31m│\u001B[0m\r\n",
      "\u001B[31m│\u001B[0m \u001B[33m╰──────────────────────────────────────────────────────────────────────────╯\u001B[0m \u001B[31m│\u001B[0m\r\n",
      "\u001B[31m│\u001B[0m                                                                              \u001B[31m│\u001B[0m\r\n",
      "\u001B[31m│\u001B[0m in \u001B[92mexperiment_runner\u001B[0m:\u001B[94m23\u001B[0m                                                      \u001B[31m│\u001B[0m\r\n",
      "\u001B[31m╰──────────────────────────────────────────────────────────────────────────────╯\u001B[0m\r\n",
      "\u001B[1;91mNameError: \u001B[0mname \u001B[32m'np'\u001B[0m is not defined\r\n"
     ]
    }
   ],
   "source": [
    "!python -m autora.workflow experimentalist-output.dill experiment-runner-output.dill experiment_runner"
   ],
   "metadata": {
    "collapsed": false,
    "ExecuteTime": {
     "end_time": "2023-05-04T19:24:01.489175Z",
     "start_time": "2023-05-04T19:24:00.468531Z"
    }
   }
  },
  {
   "cell_type": "code",
   "execution_count": 12,
   "outputs": [
    {
     "name": "stdout",
     "output_type": "stream",
     "text": [
      "new_conditions=array([[-5.22],\r\n",
      "       [ 1.52],\r\n",
      "       [ 1.42],\r\n",
      "       [ 3.36],\r\n",
      "       [-1.74],\r\n",
      "       [ 1.06],\r\n",
      "       [ 8.74],\r\n",
      "       [-5.86],\r\n",
      "       [-1.16],\r\n",
      "       [-6.46]]) is an ndarray, so variable confusion is a possibility\r\n",
      "\u001B[31m╭─\u001B[0m\u001B[31m────────────────────\u001B[0m\u001B[31m \u001B[0m\u001B[1;31mTraceback \u001B[0m\u001B[1;2;31m(most recent call last)\u001B[0m\u001B[31m \u001B[0m\u001B[31m─────────────────────\u001B[0m\u001B[31m─╮\u001B[0m\r\n",
      "\u001B[31m│\u001B[0m \u001B[2;33m/Users/jholla10/Developer/autora-workflow/src/autora/workflow/\u001B[0m\u001B[1;33m__main__.py\u001B[0m:\u001B[94m32\u001B[0m \u001B[31m│\u001B[0m\r\n",
      "\u001B[31m│\u001B[0m in \u001B[92mmain\u001B[0m                                                                      \u001B[31m│\u001B[0m\r\n",
      "\u001B[31m│\u001B[0m                                                                              \u001B[31m│\u001B[0m\r\n",
      "\u001B[31m│\u001B[0m   \u001B[2m29 \u001B[0m\u001B[2m│   │   \u001B[0mcontroller_ = _set_next_step_name(controller_, step_name)       \u001B[31m│\u001B[0m\r\n",
      "\u001B[31m│\u001B[0m   \u001B[2m30 \u001B[0m\u001B[2m│   \u001B[0m                                                                    \u001B[31m│\u001B[0m\r\n",
      "\u001B[31m│\u001B[0m   \u001B[2m31 \u001B[0m\u001B[2m│   \u001B[0m_logger.info(\u001B[33m\"\u001B[0m\u001B[33mrunning next step\u001B[0m\u001B[33m\"\u001B[0m)                                   \u001B[31m│\u001B[0m\r\n",
      "\u001B[31m│\u001B[0m \u001B[31m❱ \u001B[0m32 \u001B[2m│   \u001B[0m\u001B[96mnext\u001B[0m(controller_)                                                   \u001B[31m│\u001B[0m\r\n",
      "\u001B[31m│\u001B[0m   \u001B[2m33 \u001B[0m\u001B[2m│   \u001B[0m                                                                    \u001B[31m│\u001B[0m\r\n",
      "\u001B[31m│\u001B[0m   \u001B[2m34 \u001B[0m\u001B[2m│   \u001B[0m_logger.debug(\u001B[33mf\u001B[0m\u001B[33m\"\u001B[0m\u001B[33mlast result: \u001B[0m\u001B[33m{\u001B[0mcontroller_.state.history[-\u001B[94m1\u001B[0m]\u001B[33m}\u001B[0m\u001B[33m\"\u001B[0m)      \u001B[31m│\u001B[0m\r\n",
      "\u001B[31m│\u001B[0m   \u001B[2m35 \u001B[0m                                                                        \u001B[31m│\u001B[0m\r\n",
      "\u001B[31m│\u001B[0m                                                                              \u001B[31m│\u001B[0m\r\n",
      "\u001B[31m│\u001B[0m \u001B[33m╭─\u001B[0m\u001B[33m────────────────────────────────\u001B[0m\u001B[33m locals \u001B[0m\u001B[33m────────────────────────────────\u001B[0m\u001B[33m─╮\u001B[0m \u001B[31m│\u001B[0m\r\n",
      "\u001B[31m│\u001B[0m \u001B[33m│\u001B[0m controller_ = \u001B[1m<\u001B[0m\u001B[1;95mautora.workflow.controller.Controller\u001B[0m\u001B[39m object at \u001B[0m          \u001B[33m│\u001B[0m \u001B[31m│\u001B[0m\r\n",
      "\u001B[31m│\u001B[0m \u001B[33m│\u001B[0m               \u001B[94m0x1401b5610\u001B[0m\u001B[1m>\u001B[0m                                               \u001B[33m│\u001B[0m \u001B[31m│\u001B[0m\r\n",
      "\u001B[31m│\u001B[0m \u001B[33m│\u001B[0m       debug = \u001B[94mFalse\u001B[0m                                                      \u001B[33m│\u001B[0m \u001B[31m│\u001B[0m\r\n",
      "\u001B[31m│\u001B[0m \u001B[33m│\u001B[0m  input_path = \u001B[1;35mPosixPath\u001B[0m\u001B[1m(\u001B[0m\u001B[33m'experimentalist-output.dill'\u001B[0m\u001B[1m)\u001B[0m                   \u001B[33m│\u001B[0m \u001B[31m│\u001B[0m\r\n",
      "\u001B[31m│\u001B[0m \u001B[33m│\u001B[0m output_path = \u001B[1;35mPosixPath\u001B[0m\u001B[1m(\u001B[0m\u001B[33m'experiment-runner-output.dill'\u001B[0m\u001B[1m)\u001B[0m                 \u001B[33m│\u001B[0m \u001B[31m│\u001B[0m\r\n",
      "\u001B[31m│\u001B[0m \u001B[33m│\u001B[0m   step_name = \u001B[33m'experiment_runner'\u001B[0m                                        \u001B[33m│\u001B[0m \u001B[31m│\u001B[0m\r\n",
      "\u001B[31m│\u001B[0m \u001B[33m│\u001B[0m     verbose = \u001B[94mFalse\u001B[0m                                                      \u001B[33m│\u001B[0m \u001B[31m│\u001B[0m\r\n",
      "\u001B[31m│\u001B[0m \u001B[33m╰──────────────────────────────────────────────────────────────────────────╯\u001B[0m \u001B[31m│\u001B[0m\r\n",
      "\u001B[31m│\u001B[0m                                                                              \u001B[31m│\u001B[0m\r\n",
      "\u001B[31m│\u001B[0m \u001B[2;33m/Users/jholla10/Developer/autora-workflow/src/autora/workflow/\u001B[0m\u001B[1;33mbase.py\u001B[0m:\u001B[94m71\u001B[0m in  \u001B[31m│\u001B[0m\r\n",
      "\u001B[31m│\u001B[0m \u001B[92m__next__\u001B[0m                                                                     \u001B[31m│\u001B[0m\r\n",
      "\u001B[31m│\u001B[0m                                                                              \u001B[31m│\u001B[0m\r\n",
      "\u001B[31m│\u001B[0m   \u001B[2m68 \u001B[0m\u001B[2m│   │   \u001B[0mnext_params = \u001B[96mself\u001B[0m.state.params.get(next_function_name, {})     \u001B[31m│\u001B[0m\r\n",
      "\u001B[31m│\u001B[0m   \u001B[2m69 \u001B[0m\u001B[2m│   │   \u001B[0m                                                                \u001B[31m│\u001B[0m\r\n",
      "\u001B[31m│\u001B[0m   \u001B[2m70 \u001B[0m\u001B[2m│   │   \u001B[0m\u001B[2m# Execute\u001B[0m                                                       \u001B[31m│\u001B[0m\r\n",
      "\u001B[31m│\u001B[0m \u001B[31m❱ \u001B[0m71 \u001B[2m│   │   \u001B[0mresult = next_function(\u001B[96mself\u001B[0m.state, params=next_params)          \u001B[31m│\u001B[0m\r\n",
      "\u001B[31m│\u001B[0m   \u001B[2m72 \u001B[0m\u001B[2m│   │   \u001B[0m                                                                \u001B[31m│\u001B[0m\r\n",
      "\u001B[31m│\u001B[0m   \u001B[2m73 \u001B[0m\u001B[2m│   │   \u001B[0m\u001B[2m# Update\u001B[0m                                                        \u001B[31m│\u001B[0m\r\n",
      "\u001B[31m│\u001B[0m   \u001B[2m74 \u001B[0m\u001B[2m│   │   \u001B[0m\u001B[96mself\u001B[0m.state = result                                             \u001B[31m│\u001B[0m\r\n",
      "\u001B[31m│\u001B[0m                                                                              \u001B[31m│\u001B[0m\r\n",
      "\u001B[31m│\u001B[0m \u001B[33m╭─\u001B[0m\u001B[33m────────────────────────────────\u001B[0m\u001B[33m locals \u001B[0m\u001B[33m────────────────────────────────\u001B[0m\u001B[33m─╮\u001B[0m \u001B[31m│\u001B[0m\r\n",
      "\u001B[31m│\u001B[0m \u001B[33m│\u001B[0m      next_function = \u001B[1m<\u001B[0m\u001B[1;95mfunction\u001B[0m\u001B[39m \u001B[0m                                          \u001B[33m│\u001B[0m \u001B[31m│\u001B[0m\r\n",
      "\u001B[31m│\u001B[0m \u001B[33m│\u001B[0m                      \u001B[39mfrom_experiment_runner_callable.<locals>._executor…\u001B[0m \u001B[33m│\u001B[0m \u001B[31m│\u001B[0m\r\n",
      "\u001B[31m│\u001B[0m \u001B[33m│\u001B[0m                      \u001B[39mat \u001B[0m\u001B[94m0x1401a63e0\u001B[0m\u001B[1m>\u001B[0m                                     \u001B[33m│\u001B[0m \u001B[31m│\u001B[0m\r\n",
      "\u001B[31m│\u001B[0m \u001B[33m│\u001B[0m next_function_name = \u001B[33m'experiment_runner'\u001B[0m                                 \u001B[33m│\u001B[0m \u001B[31m│\u001B[0m\r\n",
      "\u001B[31m│\u001B[0m \u001B[33m│\u001B[0m        next_params = \u001B[1m{\u001B[0m\u001B[1m}\u001B[0m                                                  \u001B[33m│\u001B[0m \u001B[31m│\u001B[0m\r\n",
      "\u001B[31m│\u001B[0m \u001B[33m│\u001B[0m               self = \u001B[1m<\u001B[0m\u001B[1;95mautora.workflow.controller.Controller\u001B[0m\u001B[39m object at \u001B[0m   \u001B[33m│\u001B[0m \u001B[31m│\u001B[0m\r\n",
      "\u001B[31m│\u001B[0m \u001B[33m│\u001B[0m                      \u001B[94m0x1401b5610\u001B[0m\u001B[1m>\u001B[0m                                        \u001B[33m│\u001B[0m \u001B[31m│\u001B[0m\r\n",
      "\u001B[31m│\u001B[0m \u001B[33m╰──────────────────────────────────────────────────────────────────────────╯\u001B[0m \u001B[31m│\u001B[0m\r\n",
      "\u001B[31m│\u001B[0m                                                                              \u001B[31m│\u001B[0m\r\n",
      "\u001B[31m│\u001B[0m \u001B[2;33m/Users/jholla10/Developer/autora-workflow/src/autora/workflow/\u001B[0m\u001B[1;33mexecutor.py\u001B[0m:\u001B[94m99\u001B[0m \u001B[31m│\u001B[0m\r\n",
      "\u001B[31m│\u001B[0m in \u001B[92m_executor_experiment_runner\u001B[0m                                               \u001B[31m│\u001B[0m\r\n",
      "\u001B[31m│\u001B[0m                                                                              \u001B[31m│\u001B[0m\r\n",
      "\u001B[31m│\u001B[0m   \u001B[2m 96 \u001B[0m\u001B[2m│   \u001B[0m\u001B[94mdef\u001B[0m \u001B[92m_executor_experiment_runner\u001B[0m(state: SupportsControllerState, pa \u001B[31m│\u001B[0m\r\n",
      "\u001B[31m│\u001B[0m   \u001B[2m 97 \u001B[0m\u001B[2m│   │   \u001B[0mparams_ = resolve_state_params(params, state)                  \u001B[31m│\u001B[0m\r\n",
      "\u001B[31m│\u001B[0m   \u001B[2m 98 \u001B[0m\u001B[2m│   │   \u001B[0mx = state.conditions[-\u001B[94m1\u001B[0m]                                       \u001B[31m│\u001B[0m\r\n",
      "\u001B[31m│\u001B[0m \u001B[31m❱ \u001B[0m 99 \u001B[2m│   │   \u001B[0moutput = \u001B[96mcallable\u001B[0m(x, **params_)                                \u001B[31m│\u001B[0m\r\n",
      "\u001B[31m│\u001B[0m   \u001B[2m100 \u001B[0m\u001B[2m│   │   \u001B[0m                                                               \u001B[31m│\u001B[0m\r\n",
      "\u001B[31m│\u001B[0m   \u001B[2m101 \u001B[0m\u001B[2m│   │   \u001B[0m\u001B[94mif\u001B[0m \u001B[96misinstance\u001B[0m(x, pd.DataFrame):                                \u001B[31m│\u001B[0m\r\n",
      "\u001B[31m│\u001B[0m   \u001B[2m102 \u001B[0m\u001B[2m│   │   │   \u001B[0mnew_observations = output                                  \u001B[31m│\u001B[0m\r\n",
      "\u001B[31m│\u001B[0m                                                                              \u001B[31m│\u001B[0m\r\n",
      "\u001B[31m│\u001B[0m \u001B[33m╭─\u001B[0m\u001B[33m────────────────────────────────\u001B[0m\u001B[33m locals \u001B[0m\u001B[33m────────────────────────────────\u001B[0m\u001B[33m─╮\u001B[0m \u001B[31m│\u001B[0m\r\n",
      "\u001B[31m│\u001B[0m \u001B[33m│\u001B[0m callable = \u001B[1m<\u001B[0m\u001B[1;95mfunction\u001B[0m\u001B[39m experiment_runner at \u001B[0m\u001B[94m0x1401a6480\u001B[0m\u001B[1m>\u001B[0m                   \u001B[33m│\u001B[0m \u001B[31m│\u001B[0m\r\n",
      "\u001B[31m│\u001B[0m \u001B[33m│\u001B[0m   params = \u001B[1m{\u001B[0m\u001B[1m}\u001B[0m                                                            \u001B[33m│\u001B[0m \u001B[31m│\u001B[0m\r\n",
      "\u001B[31m│\u001B[0m \u001B[33m│\u001B[0m  params_ = \u001B[1m{\u001B[0m\u001B[1m}\u001B[0m                                                            \u001B[33m│\u001B[0m \u001B[31m│\u001B[0m\r\n",
      "\u001B[31m│\u001B[0m \u001B[33m│\u001B[0m    state = \u001B[1;35mHistory\u001B[0m\u001B[1m(\u001B[0m\u001B[1m[\u001B[0m\u001B[1;35mResult\u001B[0m\u001B[1m(\u001B[0m\u001B[33mdata\u001B[0m=\u001B[1;35mVariableCollection\u001B[0m\u001B[1m(\u001B[0m\u001B[33mindependent_variable…\u001B[0m \u001B[33m│\u001B[0m \u001B[31m│\u001B[0m\r\n",
      "\u001B[31m│\u001B[0m \u001B[33m│\u001B[0m            \u001B[33mvalue_range\u001B[0m=\u001B[94mNone\u001B[0m, \u001B[33mallowed_values\u001B[0m=\u001B[94mNone\u001B[0m, \u001B[33munits\u001B[0m=\u001B[33m''\u001B[0m,              \u001B[33m│\u001B[0m \u001B[31m│\u001B[0m\r\n",
      "\u001B[31m│\u001B[0m \u001B[33m│\u001B[0m            \u001B[33mtype\u001B[0m=\u001B[1m<\u001B[0m\u001B[1;95mValueType.REAL:\u001B[0m\u001B[39m \u001B[0m\u001B[33m'real'\u001B[0m\u001B[39m>, \u001B[0m\u001B[33mvariable_label\u001B[0m\u001B[39m=\u001B[0m\u001B[33m''\u001B[0m\u001B[39m, \u001B[0m\u001B[33mrescale\u001B[0m\u001B[39m=\u001B[0m\u001B[94m1\u001B[0m\u001B[39m, \u001B[0m \u001B[33m│\u001B[0m \u001B[31m│\u001B[0m\r\n",
      "\u001B[31m│\u001B[0m \u001B[33m│\u001B[0m            \u001B[33mis_covariate\u001B[0m\u001B[39m=\u001B[0m\u001B[94mFalse\u001B[0m\u001B[1;39m)\u001B[0m\u001B[1;39m]\u001B[0m\u001B[39m, \u001B[0m\u001B[33mdependent_variables\u001B[0m\u001B[39m=\u001B[0m\u001B[1;39m[\u001B[0m\u001B[1;35mVariable\u001B[0m\u001B[1;39m(\u001B[0m\u001B[33mname\u001B[0m\u001B[39m=\u001B[0m\u001B[33m'y'\u001B[0m\u001B[39m,\u001B[0m \u001B[33m│\u001B[0m \u001B[31m│\u001B[0m\r\n",
      "\u001B[31m│\u001B[0m \u001B[33m│\u001B[0m            \u001B[33mvalue_range\u001B[0m\u001B[39m=\u001B[0m\u001B[94mNone\u001B[0m\u001B[39m, \u001B[0m\u001B[33mallowed_values\u001B[0m\u001B[39m=\u001B[0m\u001B[94mNone\u001B[0m\u001B[39m, \u001B[0m\u001B[33munits\u001B[0m\u001B[39m=\u001B[0m\u001B[33m''\u001B[0m\u001B[39m, \u001B[0m             \u001B[33m│\u001B[0m \u001B[31m│\u001B[0m\r\n",
      "\u001B[31m│\u001B[0m \u001B[33m│\u001B[0m            \u001B[33mtype\u001B[0m\u001B[39m=<ValueType.REAL: \u001B[0m\u001B[33m'real'\u001B[0m\u001B[1m>\u001B[0m, \u001B[33mvariable_label\u001B[0m=\u001B[33m''\u001B[0m, \u001B[33mrescale\u001B[0m=\u001B[94m1\u001B[0m,  \u001B[33m│\u001B[0m \u001B[31m│\u001B[0m\r\n",
      "\u001B[31m│\u001B[0m \u001B[33m│\u001B[0m            \u001B[33mis_covariate\u001B[0m=\u001B[94mFalse\u001B[0m\u001B[1m)\u001B[0m\u001B[1m]\u001B[0m, \u001B[33mcovariates\u001B[0m=\u001B[1m[\u001B[0m\u001B[1m]\u001B[0m\u001B[1m)\u001B[0m,                         \u001B[33m│\u001B[0m \u001B[31m│\u001B[0m\r\n",
      "\u001B[31m│\u001B[0m \u001B[33m│\u001B[0m            \u001B[33mkind\u001B[0m=\u001B[35mResultKind\u001B[0m.VARIABLES\u001B[1m)\u001B[0m, \u001B[1;35mResult\u001B[0m\u001B[1m(\u001B[0m\u001B[33mdata\u001B[0m=\u001B[1;35marray\u001B[0m\u001B[1m(\u001B[0m\u001B[1m[\u001B[0m\u001B[1m[\u001B[0m\u001B[94m-5.22\u001B[0m\u001B[1m]\u001B[0m,       \u001B[33m│\u001B[0m \u001B[31m│\u001B[0m\r\n",
      "\u001B[31m│\u001B[0m \u001B[33m│\u001B[0m            \u001B[2m│      \u001B[0m\u001B[1m[\u001B[0m \u001B[94m1.52\u001B[0m\u001B[1m]\u001B[0m,                                               \u001B[33m│\u001B[0m \u001B[31m│\u001B[0m\r\n",
      "\u001B[31m│\u001B[0m \u001B[33m│\u001B[0m            \u001B[2m│      \u001B[0m\u001B[1m[\u001B[0m \u001B[94m1.42\u001B[0m\u001B[1m]\u001B[0m,                                               \u001B[33m│\u001B[0m \u001B[31m│\u001B[0m\r\n",
      "\u001B[31m│\u001B[0m \u001B[33m│\u001B[0m            \u001B[2m│      \u001B[0m\u001B[1m[\u001B[0m \u001B[94m3.36\u001B[0m\u001B[1m]\u001B[0m,                                               \u001B[33m│\u001B[0m \u001B[31m│\u001B[0m\r\n",
      "\u001B[31m│\u001B[0m \u001B[33m│\u001B[0m            \u001B[2m│      \u001B[0m\u001B[1m[\u001B[0m\u001B[94m-1.74\u001B[0m\u001B[1m]\u001B[0m,                                               \u001B[33m│\u001B[0m \u001B[31m│\u001B[0m\r\n",
      "\u001B[31m│\u001B[0m \u001B[33m│\u001B[0m            \u001B[2m│      \u001B[0m\u001B[1m[\u001B[0m \u001B[94m1.06\u001B[0m\u001B[1m]\u001B[0m,                                               \u001B[33m│\u001B[0m \u001B[31m│\u001B[0m\r\n",
      "\u001B[31m│\u001B[0m \u001B[33m│\u001B[0m            \u001B[2m│      \u001B[0m\u001B[1m[\u001B[0m \u001B[94m8.74\u001B[0m\u001B[1m]\u001B[0m,                                               \u001B[33m│\u001B[0m \u001B[31m│\u001B[0m\r\n",
      "\u001B[31m│\u001B[0m \u001B[33m│\u001B[0m            \u001B[2m│      \u001B[0m\u001B[1m[\u001B[0m\u001B[94m-5.86\u001B[0m\u001B[1m]\u001B[0m,                                               \u001B[33m│\u001B[0m \u001B[31m│\u001B[0m\r\n",
      "\u001B[31m│\u001B[0m \u001B[33m│\u001B[0m            \u001B[2m│      \u001B[0m\u001B[1m[\u001B[0m\u001B[94m-1.16\u001B[0m\u001B[1m]\u001B[0m,                                               \u001B[33m│\u001B[0m \u001B[31m│\u001B[0m\r\n",
      "\u001B[31m│\u001B[0m \u001B[33m│\u001B[0m            \u001B[2m│      \u001B[0m\u001B[1m[\u001B[0m\u001B[94m-6.46\u001B[0m\u001B[1m]\u001B[0m\u001B[1m]\u001B[0m\u001B[1m)\u001B[0m, \u001B[33mkind\u001B[0m=\u001B[35mResultKind\u001B[0m.CONDITION\u001B[1m)\u001B[0m\u001B[1m]\u001B[0m\u001B[1m)\u001B[0m                \u001B[33m│\u001B[0m \u001B[31m│\u001B[0m\r\n",
      "\u001B[31m│\u001B[0m \u001B[33m│\u001B[0m        x = \u001B[1;35marray\u001B[0m\u001B[1m(\u001B[0m\u001B[1m[\u001B[0m\u001B[1m[\u001B[0m\u001B[94m-5.22\u001B[0m\u001B[1m]\u001B[0m,                                               \u001B[33m│\u001B[0m \u001B[31m│\u001B[0m\r\n",
      "\u001B[31m│\u001B[0m \u001B[33m│\u001B[0m            \u001B[2m│      \u001B[0m\u001B[1m[\u001B[0m \u001B[94m1.52\u001B[0m\u001B[1m]\u001B[0m,                                               \u001B[33m│\u001B[0m \u001B[31m│\u001B[0m\r\n",
      "\u001B[31m│\u001B[0m \u001B[33m│\u001B[0m            \u001B[2m│      \u001B[0m\u001B[1m[\u001B[0m \u001B[94m1.42\u001B[0m\u001B[1m]\u001B[0m,                                               \u001B[33m│\u001B[0m \u001B[31m│\u001B[0m\r\n",
      "\u001B[31m│\u001B[0m \u001B[33m│\u001B[0m            \u001B[2m│      \u001B[0m\u001B[1m[\u001B[0m \u001B[94m3.36\u001B[0m\u001B[1m]\u001B[0m,                                               \u001B[33m│\u001B[0m \u001B[31m│\u001B[0m\r\n",
      "\u001B[31m│\u001B[0m \u001B[33m│\u001B[0m            \u001B[2m│      \u001B[0m\u001B[1m[\u001B[0m\u001B[94m-1.74\u001B[0m\u001B[1m]\u001B[0m,                                               \u001B[33m│\u001B[0m \u001B[31m│\u001B[0m\r\n",
      "\u001B[31m│\u001B[0m \u001B[33m│\u001B[0m            \u001B[2m│      \u001B[0m\u001B[1m[\u001B[0m \u001B[94m1.06\u001B[0m\u001B[1m]\u001B[0m,                                               \u001B[33m│\u001B[0m \u001B[31m│\u001B[0m\r\n",
      "\u001B[31m│\u001B[0m \u001B[33m│\u001B[0m            \u001B[2m│      \u001B[0m\u001B[1m[\u001B[0m \u001B[94m8.74\u001B[0m\u001B[1m]\u001B[0m,                                               \u001B[33m│\u001B[0m \u001B[31m│\u001B[0m\r\n",
      "\u001B[31m│\u001B[0m \u001B[33m│\u001B[0m            \u001B[2m│      \u001B[0m\u001B[1m[\u001B[0m\u001B[94m-5.86\u001B[0m\u001B[1m]\u001B[0m,                                               \u001B[33m│\u001B[0m \u001B[31m│\u001B[0m\r\n",
      "\u001B[31m│\u001B[0m \u001B[33m│\u001B[0m            \u001B[2m│      \u001B[0m\u001B[1m[\u001B[0m\u001B[94m-1.16\u001B[0m\u001B[1m]\u001B[0m,                                               \u001B[33m│\u001B[0m \u001B[31m│\u001B[0m\r\n",
      "\u001B[31m│\u001B[0m \u001B[33m│\u001B[0m            \u001B[2m│      \u001B[0m\u001B[1m[\u001B[0m\u001B[94m-6.46\u001B[0m\u001B[1m]\u001B[0m\u001B[1m]\u001B[0m\u001B[1m)\u001B[0m                                              \u001B[33m│\u001B[0m \u001B[31m│\u001B[0m\r\n",
      "\u001B[31m│\u001B[0m \u001B[33m╰──────────────────────────────────────────────────────────────────────────╯\u001B[0m \u001B[31m│\u001B[0m\r\n",
      "\u001B[31m│\u001B[0m                                                                              \u001B[31m│\u001B[0m\r\n",
      "\u001B[31m│\u001B[0m in \u001B[92mexperiment_runner\u001B[0m:\u001B[94m23\u001B[0m                                                      \u001B[31m│\u001B[0m\r\n",
      "\u001B[31m╰──────────────────────────────────────────────────────────────────────────────╯\u001B[0m\r\n",
      "\u001B[1;91mNameError: \u001B[0mname \u001B[32m'np'\u001B[0m is not defined\r\n",
      "\u001B[31m╭─\u001B[0m\u001B[31m────────────────────\u001B[0m\u001B[31m \u001B[0m\u001B[1;31mTraceback \u001B[0m\u001B[1;2;31m(most recent call last)\u001B[0m\u001B[31m \u001B[0m\u001B[31m─────────────────────\u001B[0m\u001B[31m─╮\u001B[0m\r\n",
      "\u001B[31m│\u001B[0m \u001B[2;33m/Users/jholla10/Developer/autora-workflow/src/autora/workflow/\u001B[0m\u001B[1;33m__main__.py\u001B[0m:\u001B[94m26\u001B[0m \u001B[31m│\u001B[0m\r\n",
      "\u001B[31m│\u001B[0m in \u001B[92mmain\u001B[0m                                                                      \u001B[31m│\u001B[0m\r\n",
      "\u001B[31m│\u001B[0m                                                                              \u001B[31m│\u001B[0m\r\n",
      "\u001B[31m│\u001B[0m   \u001B[2m23 \u001B[0m):                                                                      \u001B[31m│\u001B[0m\r\n",
      "\u001B[31m│\u001B[0m   \u001B[2m24 \u001B[0m\u001B[2m│   \u001B[0m_logger.debug(\u001B[33m\"\u001B[0m\u001B[33minitializing\u001B[0m\u001B[33m\"\u001B[0m)                                       \u001B[31m│\u001B[0m\r\n",
      "\u001B[31m│\u001B[0m   \u001B[2m25 \u001B[0m\u001B[2m│   \u001B[0m_configure_logger(debug, verbose)                                   \u001B[31m│\u001B[0m\r\n",
      "\u001B[31m│\u001B[0m \u001B[31m❱ \u001B[0m26 \u001B[2m│   \u001B[0mcontroller_ = _load_manager(input_path)                             \u001B[31m│\u001B[0m\r\n",
      "\u001B[31m│\u001B[0m   \u001B[2m27 \u001B[0m\u001B[2m│   \u001B[0m                                                                    \u001B[31m│\u001B[0m\r\n",
      "\u001B[31m│\u001B[0m   \u001B[2m28 \u001B[0m\u001B[2m│   \u001B[0m\u001B[94mif\u001B[0m step_name \u001B[95mis\u001B[0m \u001B[95mnot\u001B[0m \u001B[94mNone\u001B[0m:                                           \u001B[31m│\u001B[0m\r\n",
      "\u001B[31m│\u001B[0m   \u001B[2m29 \u001B[0m\u001B[2m│   │   \u001B[0mcontroller_ = _set_next_step_name(controller_, step_name)       \u001B[31m│\u001B[0m\r\n",
      "\u001B[31m│\u001B[0m                                                                              \u001B[31m│\u001B[0m\r\n",
      "\u001B[31m│\u001B[0m \u001B[33m╭─\u001B[0m\u001B[33m────────────────────────\u001B[0m\u001B[33m locals \u001B[0m\u001B[33m────────────────────────\u001B[0m\u001B[33m─╮\u001B[0m                 \u001B[31m│\u001B[0m\r\n",
      "\u001B[31m│\u001B[0m \u001B[33m│\u001B[0m       debug = \u001B[94mFalse\u001B[0m                                      \u001B[33m│\u001B[0m                 \u001B[31m│\u001B[0m\r\n",
      "\u001B[31m│\u001B[0m \u001B[33m│\u001B[0m  input_path = \u001B[1;35mPosixPath\u001B[0m\u001B[1m(\u001B[0m\u001B[33m'experiment-runner-output.dill'\u001B[0m\u001B[1m)\u001B[0m \u001B[33m│\u001B[0m                 \u001B[31m│\u001B[0m\r\n",
      "\u001B[31m│\u001B[0m \u001B[33m│\u001B[0m output_path = \u001B[1;35mPosixPath\u001B[0m\u001B[1m(\u001B[0m\u001B[33m'theorist-output.dill'\u001B[0m\u001B[1m)\u001B[0m          \u001B[33m│\u001B[0m                 \u001B[31m│\u001B[0m\r\n",
      "\u001B[31m│\u001B[0m \u001B[33m│\u001B[0m   step_name = \u001B[33m'theorist'\u001B[0m                                 \u001B[33m│\u001B[0m                 \u001B[31m│\u001B[0m\r\n",
      "\u001B[31m│\u001B[0m \u001B[33m│\u001B[0m     verbose = \u001B[94mFalse\u001B[0m                                      \u001B[33m│\u001B[0m                 \u001B[31m│\u001B[0m\r\n",
      "\u001B[31m│\u001B[0m \u001B[33m╰──────────────────────────────────────────────────────────╯\u001B[0m                 \u001B[31m│\u001B[0m\r\n",
      "\u001B[31m│\u001B[0m                                                                              \u001B[31m│\u001B[0m\r\n",
      "\u001B[31m│\u001B[0m \u001B[2;33m/Users/jholla10/Developer/autora-workflow/src/autora/workflow/\u001B[0m\u001B[1;33m__main__.py\u001B[0m:\u001B[94m53\u001B[0m \u001B[31m│\u001B[0m\r\n",
      "\u001B[31m│\u001B[0m in \u001B[92m_load_manager\u001B[0m                                                             \u001B[31m│\u001B[0m\r\n",
      "\u001B[31m│\u001B[0m                                                                              \u001B[31m│\u001B[0m\r\n",
      "\u001B[31m│\u001B[0m   \u001B[2m50 \u001B[0m                                                                        \u001B[31m│\u001B[0m\r\n",
      "\u001B[31m│\u001B[0m   \u001B[2m51 \u001B[0m\u001B[94mdef\u001B[0m \u001B[92m_load_manager\u001B[0m(path: pathlib.Path) -> Controller:                    \u001B[31m│\u001B[0m\r\n",
      "\u001B[31m│\u001B[0m   \u001B[2m52 \u001B[0m\u001B[2m│   \u001B[0m_logger.debug(\u001B[33mf\u001B[0m\u001B[33m\"\u001B[0m\u001B[33m_load_manager: loading from \u001B[0m\u001B[33m{\u001B[0mpath\u001B[33m=}\u001B[0m\u001B[33m\"\u001B[0m)               \u001B[31m│\u001B[0m\r\n",
      "\u001B[31m│\u001B[0m \u001B[31m❱ \u001B[0m53 \u001B[2m│   \u001B[0m\u001B[94mwith\u001B[0m \u001B[96mopen\u001B[0m(path, \u001B[33m\"\u001B[0m\u001B[33mrb\u001B[0m\u001B[33m\"\u001B[0m) \u001B[94mas\u001B[0m f:                                         \u001B[31m│\u001B[0m\r\n",
      "\u001B[31m│\u001B[0m   \u001B[2m54 \u001B[0m\u001B[2m│   │   \u001B[0mcontroller_ = dill.load(f)                                      \u001B[31m│\u001B[0m\r\n",
      "\u001B[31m│\u001B[0m   \u001B[2m55 \u001B[0m\u001B[2m│   \u001B[0m\u001B[94mreturn\u001B[0m controller_                                                  \u001B[31m│\u001B[0m\r\n",
      "\u001B[31m│\u001B[0m   \u001B[2m56 \u001B[0m                                                                        \u001B[31m│\u001B[0m\r\n",
      "\u001B[31m│\u001B[0m                                                                              \u001B[31m│\u001B[0m\r\n",
      "\u001B[31m│\u001B[0m \u001B[33m╭─\u001B[0m\u001B[33m────────────────────\u001B[0m\u001B[33m locals \u001B[0m\u001B[33m─────────────────────\u001B[0m\u001B[33m─╮\u001B[0m                        \u001B[31m│\u001B[0m\r\n",
      "\u001B[31m│\u001B[0m \u001B[33m│\u001B[0m path = \u001B[1;35mPosixPath\u001B[0m\u001B[1m(\u001B[0m\u001B[33m'experiment-runner-output.dill'\u001B[0m\u001B[1m)\u001B[0m \u001B[33m│\u001B[0m                        \u001B[31m│\u001B[0m\r\n",
      "\u001B[31m│\u001B[0m \u001B[33m╰───────────────────────────────────────────────────╯\u001B[0m                        \u001B[31m│\u001B[0m\r\n",
      "\u001B[31m╰──────────────────────────────────────────────────────────────────────────────╯\u001B[0m\r\n",
      "\u001B[1;91mFileNotFoundError: \u001B[0m\u001B[1m[\u001B[0mErrno \u001B[1;36m2\u001B[0m\u001B[1m]\u001B[0m No such file or directory: \r\n",
      "\u001B[32m'experiment-runner-output.dill'\u001B[0m\r\n"
     ]
    }
   ],
   "source": [
    "!python -m autora.workflow experiment-runner-output.dill theorist-output.dill theorist\n"
   ],
   "metadata": {
    "collapsed": false,
    "ExecuteTime": {
     "end_time": "2023-05-04T19:21:31.979858Z",
     "start_time": "2023-05-04T19:21:29.099098Z"
    }
   }
  },
  {
   "cell_type": "code",
   "execution_count": 20,
   "outputs": [
    {
     "data": {
      "text/plain": "<autora.workflow.controller.Controller at 0x16e5cef10>"
     },
     "execution_count": 20,
     "metadata": {},
     "output_type": "execute_result"
    }
   ],
   "source": [
    "next(controller)\n"
   ],
   "metadata": {
    "collapsed": false,
    "ExecuteTime": {
     "end_time": "2023-05-04T19:22:18.367248Z",
     "start_time": "2023-05-04T19:22:18.361858Z"
    }
   }
  },
  {
   "cell_type": "code",
   "execution_count": null,
   "outputs": [],
   "source": [],
   "metadata": {
    "collapsed": false
   }
  }
 ],
 "metadata": {
  "kernelspec": {
   "display_name": "Python 3",
   "language": "python",
   "name": "python3"
  },
  "language_info": {
   "codemirror_mode": {
    "name": "ipython",
    "version": 2
   },
   "file_extension": ".py",
   "mimetype": "text/x-python",
   "name": "python",
   "nbconvert_exporter": "python",
   "pygments_lexer": "ipython2",
   "version": "2.7.6"
  }
 },
 "nbformat": 4,
 "nbformat_minor": 0
}
