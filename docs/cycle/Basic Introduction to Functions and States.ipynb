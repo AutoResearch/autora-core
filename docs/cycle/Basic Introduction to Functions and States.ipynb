{
 "cells": [
  {
   "cell_type": "markdown",
   "metadata": {},
   "source": [
    "# Basic Introduction to Functions and States"
   ]
  },
  {
   "cell_type": "markdown",
   "metadata": {},
   "source": [
    "Using the functions and objects in `autora.state`, we can build flexible pipelines and cycles which operate on state\n",
    "objects.\n",
    "\n",
    "## Theoretical Overview\n",
    "\n",
    "The fundamental idea is this:\n",
    "- We define a \"state\" object $S$ which can be modified with a \"delta\" (a new result) $\\Delta S$.\n",
    "- A new state at some point $i+1$ is $$S_{i+1} = S_i + \\Delta S_{i+1}$$\n",
    "- The cycle state after $n$ steps is thus $$S_n = S_{0} +  \\sum^{n}_{i=1} \\Delta S_{i}$$\n",
    "\n",
    "To represent $S$ and $\\Delta S$ in code, you can use `autora.state.delta.State` and `autora.state.delta.Delta`\n",
    "respectively. To operate on these, we define functions.\n",
    "\n",
    "- Each operation in an AER cycle (theorist, experimentalist, experiment_runner, etc.) is implemented as a\n",
    "function with $n$ arguments $s_j$ which are members of $S$ and $m$ others $a_k$ which are not.\n",
    "  $$ f(s_0, ..., s_n, a_0, ..., a_m) \\rightarrow \\Delta S_{i+1}$$\n",
    "- There is a wrapper function $w$ (`autora.state.delta.wrap_to_use_state`) which changes the signature of $f$ to\n",
    "require $S$ and aggregates the resulting $\\Delta S_{i+1}$\n",
    "  $$w\\left[f(s_0, ..., s_n, a_0, ..., a_m) \\rightarrow \\Delta\n",
    "S_{i+1}\\right] \\rightarrow \\left[ f^\\prime(S_i, a_0, ..., a_m) \\rightarrow S_{i} + \\Delta\n",
    "S_{i+1} = S_{i+1}\\right]$$\n",
    "\n",
    "- Assuming that the other arguments $a_k$ are provided by partial evaluation of the $f^\\prime$, the full AER cycle can\n",
    "then be represented as:\n",
    "  $$S_n = f_n^\\prime(...f_2^\\prime(f_1^\\prime(S_0)))$$\n",
    "\n",
    "There are additional helper functions to wrap common experimentalists, experiment runners and theorists so that we\n",
    "can define a full AER cycle using python notation as shown in the following example."
   ]
  },
  {
   "cell_type": "markdown",
   "metadata": {},
   "source": [
    "## Example\n",
    "\n",
    "First initialize the State. In this case, we use the pre-defined `StandardState` which implements the standard AER\n",
    "naming convention.\n",
    "There are two variables `x` with a range [-10, 10] and `y` with an unspecified range."
   ]
  },
  {
   "cell_type": "code",
   "execution_count": null,
   "metadata": {},
   "outputs": [],
   "source": [
    "from autora.state.bundled import StandardState\n",
    "from autora.variable import VariableCollection, Variable\n",
    "\n",
    "s_0 = StandardState(\n",
    "    variables=VariableCollection(\n",
    "        independent_variables=[Variable(\"x\", value_range=(-10, 10))],\n",
    "        dependent_variables=[Variable(\"y\")]\n",
    "    )\n",
    ")"
   ]
  },
  {
   "cell_type": "markdown",
   "metadata": {},
   "source": [
    "Specify the experimentalist. Use a standard function `random_pool`.\n",
    "This gets 5 independent random samples (by default, configurable using an argument)\n",
    "from the value_range of the independent variables, and returns them in a DataFrame.\n",
    "To make this work as a function on the State objects, we wrap it in the `on_state` function."
   ]
  },
  {
   "cell_type": "code",
   "execution_count": null,
   "metadata": {},
   "outputs": [
    {
     "data": {
      "text/plain": [
       "StandardState(variables=VariableCollection(independent_variables=[Variable(name='x', value_range=(-10, 10), allowed_values=None, units='', type=<ValueType.REAL: 'real'>, variable_label='', rescale=1, is_covariate=False)], dependent_variables=[Variable(name='y', value_range=None, allowed_values=None, units='', type=<ValueType.REAL: 'real'>, variable_label='', rescale=1, is_covariate=False)], covariates=[]), conditions=          x\n",
       "0  5.479121\n",
       "1 -1.222431\n",
       "2  7.171958\n",
       "3  3.947361\n",
       "4 -8.116453, experiment_data=None, models=[])"
      ]
     },
     "execution_count": null,
     "metadata": {},
     "output_type": "execute_result"
    }
   ],
   "source": [
    "from autora.experimentalist.random_ import random_pool\n",
    "from autora.state.delta import on_state\n",
    "\n",
    "experimentalist = on_state(function=random_pool, output=[\"conditions\"])\n",
    "s_1 = experimentalist(s_0, random_state=42)\n",
    "s_1"
   ]
  },
  {
   "cell_type": "markdown",
   "metadata": {},
   "source": [
    "Specify the experiment runner. This calculates a linear function, adds noise, assigns the value to the `y` column\n",
    " in a new DataFrame."
   ]
  },
  {
   "cell_type": "code",
   "execution_count": null,
   "metadata": {},
   "outputs": [
    {
     "data": {
      "text/plain": [
       "StandardState(variables=VariableCollection(independent_variables=[Variable(name='x', value_range=(-10, 10), allowed_values=None, units='', type=<ValueType.REAL: 'real'>, variable_label='', rescale=1, is_covariate=False)], dependent_variables=[Variable(name='y', value_range=None, allowed_values=None, units='', type=<ValueType.REAL: 'real'>, variable_label='', rescale=1, is_covariate=False)], covariates=[]), conditions=          x\n",
       "0  5.479121\n",
       "1 -1.222431\n",
       "2  7.171958\n",
       "3  3.947361\n",
       "4 -8.116453, experiment_data=          x          y\n",
       "0  5.479121  24.160713\n",
       "1 -1.222431  -2.211546\n",
       "2  7.171958  30.102304\n",
       "3  3.947361  16.880769\n",
       "4 -8.116453 -32.457650, models=[])"
      ]
     },
     "execution_count": null,
     "metadata": {},
     "output_type": "execute_result"
    }
   ],
   "source": [
    "from autora.state.delta import on_state\n",
    "import numpy as np\n",
    "import pandas as pd\n",
    "\n",
    "\n",
    "@on_state(output=[\"experiment_data\"])\n",
    "def experiment_runner(conditions: pd.DataFrame, c=[2, 4], random_state = None):\n",
    "    rng = np.random.default_rng(random_state)\n",
    "    x = conditions[\"x\"]\n",
    "    noise = rng.normal(0, 1, len(x))\n",
    "    y = c[0] + (c[1] * x) + noise\n",
    "    observations = conditions.assign(y = y)\n",
    "    return observations\n",
    "\n",
    "# Which does the following:\n",
    "experiment_runner(s_1, random_state=43)"
   ]
  },
  {
   "cell_type": "markdown",
   "metadata": {},
   "source": [
    "A completely analogous definition, using the separate `@inputs_from_state` and `@outputs_to_delta(...)` decorators\n",
    "rather than the combined `@on_state(...)` decorator would be:"
   ]
  },
  {
   "cell_type": "code",
   "execution_count": null,
   "metadata": {},
   "outputs": [
    {
     "data": {
      "text/plain": [
       "StandardState(variables=VariableCollection(independent_variables=[Variable(name='x', value_range=(-10, 10), allowed_values=None, units='', type=<ValueType.REAL: 'real'>, variable_label='', rescale=1, is_covariate=False)], dependent_variables=[Variable(name='y', value_range=None, allowed_values=None, units='', type=<ValueType.REAL: 'real'>, variable_label='', rescale=1, is_covariate=False)], covariates=[]), conditions=          x\n",
       "0  5.479121\n",
       "1 -1.222431\n",
       "2  7.171958\n",
       "3  3.947361\n",
       "4 -8.116453, experiment_data=          x          y\n",
       "0  5.479121  24.221201\n",
       "1 -1.222431  -3.929709\n",
       "2  7.171958  31.438285\n",
       "3  3.947361  18.730007\n",
       "4 -8.116453 -32.416847, models=[])"
      ]
     },
     "execution_count": null,
     "metadata": {},
     "output_type": "execute_result"
    }
   ],
   "source": [
    "from autora.state.delta import inputs_from_state, outputs_to_delta\n",
    "\n",
    "\n",
    "@inputs_from_state\n",
    "@outputs_to_delta(\"experiment_data\")\n",
    "def experiment_runner_alt_1(conditions: pd.DataFrame, c=[2, 4], random_state=None):\n",
    "    x = conditions[\"x\"]\n",
    "    rng = np.random.default_rng(random_state)\n",
    "    noise = rng.normal(0, 1, len(x))\n",
    "    y = c[0] + (c[1] * x) + noise\n",
    "    xy = conditions.assign(y = y)\n",
    "    return xy\n",
    "\n",
    "# Which does the following:\n",
    "experiment_runner_alt_1(s_1, random_state=42)"
   ]
  },
  {
   "cell_type": "markdown",
   "metadata": {},
   "source": [
    "Or alternatively:"
   ]
  },
  {
   "cell_type": "code",
   "execution_count": null,
   "metadata": {},
   "outputs": [
    {
     "data": {
      "text/plain": [
       "StandardState(variables=VariableCollection(independent_variables=[Variable(name='x', value_range=(-10, 10), allowed_values=None, units='', type=<ValueType.REAL: 'real'>, variable_label='', rescale=1, is_covariate=False)], dependent_variables=[Variable(name='y', value_range=None, allowed_values=None, units='', type=<ValueType.REAL: 'real'>, variable_label='', rescale=1, is_covariate=False)], covariates=[]), conditions=          x\n",
       "0  5.479121\n",
       "1 -1.222431\n",
       "2  7.171958\n",
       "3  3.947361\n",
       "4 -8.116453, experiment_data=          x          y\n",
       "0  5.479121  23.727234\n",
       "1 -1.222431  -3.425782\n",
       "2  7.171958  30.108872\n",
       "3  3.947361  17.792187\n",
       "4 -8.116453 -30.609650, models=[])"
      ]
     },
     "execution_count": null,
     "metadata": {},
     "output_type": "execute_result"
    }
   ],
   "source": [
    "def experiment_runner_alt_2_core(conditions: pd.DataFrame, c=[2, 4], random_state=None):\n",
    "    x = conditions[\"x\"]\n",
    "    rng = np.random.default_rng(random_state)\n",
    "    noise = rng.normal(0, 1, len(x))\n",
    "    y = c[0] + (c[1] * x) + noise\n",
    "    xy = conditions.assign(y = y)\n",
    "    return xy\n",
    "\n",
    "experiment_runner_alt_2 = on_state(experiment_runner_alt_2_core, output=[\"experiment_data\"])\n",
    "experiment_runner_alt_2(s_1)"
   ]
  },
  {
   "cell_type": "markdown",
   "metadata": {},
   "source": [
    "Specify a theorist, using a standard LinearRegression from scikit-learn."
   ]
  },
  {
   "cell_type": "code",
   "execution_count": null,
   "metadata": {},
   "outputs": [],
   "source": [
    "from sklearn.linear_model import LinearRegression\n",
    "from autora.state.wrapper import state_fn_from_estimator\n",
    "\n",
    "theorist = state_fn_from_estimator(LinearRegression(fit_intercept=True))"
   ]
  },
  {
   "cell_type": "markdown",
   "metadata": {},
   "source": [
    "Now we can run the theorist on the output from the experiment_runner,\n",
    "which itself uses the output from the experimentalist."
   ]
  },
  {
   "cell_type": "code",
   "execution_count": null,
   "metadata": {},
   "outputs": [
    {
     "data": {
      "text/plain": [
       "StandardState(variables=VariableCollection(independent_variables=[Variable(name='x', value_range=(-10, 10), allowed_values=None, units='', type=<ValueType.REAL: 'real'>, variable_label='', rescale=1, is_covariate=False)], dependent_variables=[Variable(name='y', value_range=None, allowed_values=None, units='', type=<ValueType.REAL: 'real'>, variable_label='', rescale=1, is_covariate=False)], covariates=[]), conditions=          x\n",
       "0 -3.911881\n",
       "1 -4.014468\n",
       "2  8.621441\n",
       "3 -5.956952\n",
       "4 -4.300384, experiment_data=          x          y\n",
       "0 -3.911881 -13.395744\n",
       "1 -4.014468 -13.341993\n",
       "2  8.621441  35.568485\n",
       "3 -5.956952 -22.891165\n",
       "4 -4.300384 -14.266465, models=[LinearRegression()])"
      ]
     },
     "execution_count": null,
     "metadata": {},
     "output_type": "execute_result"
    }
   ],
   "source": [
    "theorist(experiment_runner(experimentalist(s_0)))"
   ]
  },
  {
   "cell_type": "markdown",
   "metadata": {},
   "source": [
    "If we like, we can run the experimentalist, experiment_runner and theorist ten times."
   ]
  },
  {
   "cell_type": "code",
   "execution_count": null,
   "metadata": {},
   "outputs": [],
   "source": [
    "s_ = s_0\n",
    "for i in range(10):\n",
    "    s_ = experimentalist(s_)\n",
    "    s_ = experiment_runner(s_)\n",
    "    s_ = theorist(s_)"
   ]
  },
  {
   "cell_type": "markdown",
   "metadata": {},
   "source": [
    "The experiment_data has 50 entries (10 cycles and 5 samples per cycle):"
   ]
  },
  {
   "cell_type": "code",
   "execution_count": null,
   "metadata": {},
   "outputs": [
    {
     "data": {
      "text/html": [
       "<div>\n",
       "<style scoped>\n",
       "    .dataframe tbody tr th:only-of-type {\n",
       "        vertical-align: middle;\n",
       "    }\n",
       "\n",
       "    .dataframe tbody tr th {\n",
       "        vertical-align: top;\n",
       "    }\n",
       "\n",
       "    .dataframe thead th {\n",
       "        text-align: right;\n",
       "    }\n",
       "</style>\n",
       "<table border=\"1\" class=\"dataframe\">\n",
       "  <thead>\n",
       "    <tr style=\"text-align: right;\">\n",
       "      <th></th>\n",
       "      <th>x</th>\n",
       "      <th>y</th>\n",
       "    </tr>\n",
       "  </thead>\n",
       "  <tbody>\n",
       "    <tr>\n",
       "      <th>0</th>\n",
       "      <td>8.900497</td>\n",
       "      <td>37.334851</td>\n",
       "    </tr>\n",
       "    <tr>\n",
       "      <th>1</th>\n",
       "      <td>5.455546</td>\n",
       "      <td>23.601227</td>\n",
       "    </tr>\n",
       "    <tr>\n",
       "      <th>2</th>\n",
       "      <td>-3.390688</td>\n",
       "      <td>-12.085345</td>\n",
       "    </tr>\n",
       "    <tr>\n",
       "      <th>3</th>\n",
       "      <td>8.654597</td>\n",
       "      <td>36.494052</td>\n",
       "    </tr>\n",
       "    <tr>\n",
       "      <th>4</th>\n",
       "      <td>4.898518</td>\n",
       "      <td>21.655317</td>\n",
       "    </tr>\n",
       "    <tr>\n",
       "      <th>5</th>\n",
       "      <td>0.603395</td>\n",
       "      <td>2.750640</td>\n",
       "    </tr>\n",
       "    <tr>\n",
       "      <th>6</th>\n",
       "      <td>1.137707</td>\n",
       "      <td>5.267281</td>\n",
       "    </tr>\n",
       "    <tr>\n",
       "      <th>7</th>\n",
       "      <td>9.348981</td>\n",
       "      <td>40.344261</td>\n",
       "    </tr>\n",
       "    <tr>\n",
       "      <th>8</th>\n",
       "      <td>6.587935</td>\n",
       "      <td>29.201296</td>\n",
       "    </tr>\n",
       "    <tr>\n",
       "      <th>9</th>\n",
       "      <td>0.278782</td>\n",
       "      <td>1.656263</td>\n",
       "    </tr>\n",
       "    <tr>\n",
       "      <th>10</th>\n",
       "      <td>3.407013</td>\n",
       "      <td>15.426667</td>\n",
       "    </tr>\n",
       "    <tr>\n",
       "      <th>11</th>\n",
       "      <td>1.518249</td>\n",
       "      <td>9.027155</td>\n",
       "    </tr>\n",
       "    <tr>\n",
       "      <th>12</th>\n",
       "      <td>-7.211595</td>\n",
       "      <td>-25.757591</td>\n",
       "    </tr>\n",
       "    <tr>\n",
       "      <th>13</th>\n",
       "      <td>-3.144806</td>\n",
       "      <td>-9.966260</td>\n",
       "    </tr>\n",
       "    <tr>\n",
       "      <th>14</th>\n",
       "      <td>-8.675702</td>\n",
       "      <td>-32.430160</td>\n",
       "    </tr>\n",
       "    <tr>\n",
       "      <th>15</th>\n",
       "      <td>-0.256368</td>\n",
       "      <td>-0.066064</td>\n",
       "    </tr>\n",
       "    <tr>\n",
       "      <th>16</th>\n",
       "      <td>7.949223</td>\n",
       "      <td>34.419835</td>\n",
       "    </tr>\n",
       "    <tr>\n",
       "      <th>17</th>\n",
       "      <td>8.357094</td>\n",
       "      <td>36.039894</td>\n",
       "    </tr>\n",
       "    <tr>\n",
       "      <th>18</th>\n",
       "      <td>-2.605705</td>\n",
       "      <td>-8.265623</td>\n",
       "    </tr>\n",
       "    <tr>\n",
       "      <th>19</th>\n",
       "      <td>8.083472</td>\n",
       "      <td>36.168519</td>\n",
       "    </tr>\n",
       "    <tr>\n",
       "      <th>20</th>\n",
       "      <td>7.246939</td>\n",
       "      <td>32.080633</td>\n",
       "    </tr>\n",
       "    <tr>\n",
       "      <th>21</th>\n",
       "      <td>-6.986588</td>\n",
       "      <td>-26.659981</td>\n",
       "    </tr>\n",
       "    <tr>\n",
       "      <th>22</th>\n",
       "      <td>6.999557</td>\n",
       "      <td>29.413105</td>\n",
       "    </tr>\n",
       "    <tr>\n",
       "      <th>23</th>\n",
       "      <td>2.440767</td>\n",
       "      <td>11.042090</td>\n",
       "    </tr>\n",
       "    <tr>\n",
       "      <th>24</th>\n",
       "      <td>-1.040685</td>\n",
       "      <td>-1.897322</td>\n",
       "    </tr>\n",
       "    <tr>\n",
       "      <th>25</th>\n",
       "      <td>7.733429</td>\n",
       "      <td>31.625823</td>\n",
       "    </tr>\n",
       "    <tr>\n",
       "      <th>26</th>\n",
       "      <td>5.044943</td>\n",
       "      <td>22.295547</td>\n",
       "    </tr>\n",
       "    <tr>\n",
       "      <th>27</th>\n",
       "      <td>7.938960</td>\n",
       "      <td>33.585863</td>\n",
       "    </tr>\n",
       "    <tr>\n",
       "      <th>28</th>\n",
       "      <td>9.071589</td>\n",
       "      <td>37.104938</td>\n",
       "    </tr>\n",
       "    <tr>\n",
       "      <th>29</th>\n",
       "      <td>-9.413326</td>\n",
       "      <td>-36.743158</td>\n",
       "    </tr>\n",
       "    <tr>\n",
       "      <th>30</th>\n",
       "      <td>3.519221</td>\n",
       "      <td>15.847462</td>\n",
       "    </tr>\n",
       "    <tr>\n",
       "      <th>31</th>\n",
       "      <td>0.465825</td>\n",
       "      <td>2.856691</td>\n",
       "    </tr>\n",
       "    <tr>\n",
       "      <th>32</th>\n",
       "      <td>-0.706188</td>\n",
       "      <td>-2.374729</td>\n",
       "    </tr>\n",
       "    <tr>\n",
       "      <th>33</th>\n",
       "      <td>5.168361</td>\n",
       "      <td>22.621146</td>\n",
       "    </tr>\n",
       "    <tr>\n",
       "      <th>34</th>\n",
       "      <td>-3.325474</td>\n",
       "      <td>-11.080296</td>\n",
       "    </tr>\n",
       "    <tr>\n",
       "      <th>35</th>\n",
       "      <td>-0.372007</td>\n",
       "      <td>0.463706</td>\n",
       "    </tr>\n",
       "    <tr>\n",
       "      <th>36</th>\n",
       "      <td>-1.466358</td>\n",
       "      <td>-3.812025</td>\n",
       "    </tr>\n",
       "    <tr>\n",
       "      <th>37</th>\n",
       "      <td>-8.645606</td>\n",
       "      <td>-32.479455</td>\n",
       "    </tr>\n",
       "    <tr>\n",
       "      <th>38</th>\n",
       "      <td>0.358768</td>\n",
       "      <td>2.428541</td>\n",
       "    </tr>\n",
       "    <tr>\n",
       "      <th>39</th>\n",
       "      <td>-2.785609</td>\n",
       "      <td>-6.635895</td>\n",
       "    </tr>\n",
       "    <tr>\n",
       "      <th>40</th>\n",
       "      <td>9.869678</td>\n",
       "      <td>39.673172</td>\n",
       "    </tr>\n",
       "    <tr>\n",
       "      <th>41</th>\n",
       "      <td>-7.292520</td>\n",
       "      <td>-25.676919</td>\n",
       "    </tr>\n",
       "    <tr>\n",
       "      <th>42</th>\n",
       "      <td>2.076208</td>\n",
       "      <td>10.332353</td>\n",
       "    </tr>\n",
       "    <tr>\n",
       "      <th>43</th>\n",
       "      <td>6.034865</td>\n",
       "      <td>27.459423</td>\n",
       "    </tr>\n",
       "    <tr>\n",
       "      <th>44</th>\n",
       "      <td>-6.050589</td>\n",
       "      <td>-22.631350</td>\n",
       "    </tr>\n",
       "    <tr>\n",
       "      <th>45</th>\n",
       "      <td>7.000535</td>\n",
       "      <td>30.875662</td>\n",
       "    </tr>\n",
       "    <tr>\n",
       "      <th>46</th>\n",
       "      <td>7.357010</td>\n",
       "      <td>31.098919</td>\n",
       "    </tr>\n",
       "    <tr>\n",
       "      <th>47</th>\n",
       "      <td>-3.533896</td>\n",
       "      <td>-11.568515</td>\n",
       "    </tr>\n",
       "    <tr>\n",
       "      <th>48</th>\n",
       "      <td>-6.296227</td>\n",
       "      <td>-22.687662</td>\n",
       "    </tr>\n",
       "    <tr>\n",
       "      <th>49</th>\n",
       "      <td>-4.567379</td>\n",
       "      <td>-16.820491</td>\n",
       "    </tr>\n",
       "  </tbody>\n",
       "</table>\n",
       "</div>"
      ],
      "text/plain": [
       "           x          y\n",
       "0   8.900497  37.334851\n",
       "1   5.455546  23.601227\n",
       "2  -3.390688 -12.085345\n",
       "3   8.654597  36.494052\n",
       "4   4.898518  21.655317\n",
       "5   0.603395   2.750640\n",
       "6   1.137707   5.267281\n",
       "7   9.348981  40.344261\n",
       "8   6.587935  29.201296\n",
       "9   0.278782   1.656263\n",
       "10  3.407013  15.426667\n",
       "11  1.518249   9.027155\n",
       "12 -7.211595 -25.757591\n",
       "13 -3.144806  -9.966260\n",
       "14 -8.675702 -32.430160\n",
       "15 -0.256368  -0.066064\n",
       "16  7.949223  34.419835\n",
       "17  8.357094  36.039894\n",
       "18 -2.605705  -8.265623\n",
       "19  8.083472  36.168519\n",
       "20  7.246939  32.080633\n",
       "21 -6.986588 -26.659981\n",
       "22  6.999557  29.413105\n",
       "23  2.440767  11.042090\n",
       "24 -1.040685  -1.897322\n",
       "25  7.733429  31.625823\n",
       "26  5.044943  22.295547\n",
       "27  7.938960  33.585863\n",
       "28  9.071589  37.104938\n",
       "29 -9.413326 -36.743158\n",
       "30  3.519221  15.847462\n",
       "31  0.465825   2.856691\n",
       "32 -0.706188  -2.374729\n",
       "33  5.168361  22.621146\n",
       "34 -3.325474 -11.080296\n",
       "35 -0.372007   0.463706\n",
       "36 -1.466358  -3.812025\n",
       "37 -8.645606 -32.479455\n",
       "38  0.358768   2.428541\n",
       "39 -2.785609  -6.635895\n",
       "40  9.869678  39.673172\n",
       "41 -7.292520 -25.676919\n",
       "42  2.076208  10.332353\n",
       "43  6.034865  27.459423\n",
       "44 -6.050589 -22.631350\n",
       "45  7.000535  30.875662\n",
       "46  7.357010  31.098919\n",
       "47 -3.533896 -11.568515\n",
       "48 -6.296227 -22.687662\n",
       "49 -4.567379 -16.820491"
      ]
     },
     "execution_count": null,
     "metadata": {},
     "output_type": "execute_result"
    }
   ],
   "source": [
    "s_.experiment_data"
   ]
  },
  {
   "cell_type": "markdown",
   "metadata": {},
   "source": [
    "The fitted coefficients are close to the original intercept = 2, gradient = 4"
   ]
  },
  {
   "cell_type": "code",
   "execution_count": null,
   "metadata": {},
   "outputs": [
    {
     "name": "stdout",
     "output_type": "stream",
     "text": [
      "[1.95658539] [[3.99686845]]\n"
     ]
    }
   ],
   "source": [
    "print(s_.model.intercept_, s_.model.coef_)\n"
   ]
  }
 ],
 "metadata": {
  "kernelspec": {
   "display_name": "Python 3 (ipykernel)",
   "language": "python",
   "name": "python3"
  },
  "language_info": {
   "codemirror_mode": {
    "name": "ipython",
    "version": 3
   },
   "file_extension": ".py",
   "mimetype": "text/x-python",
   "name": "python",
   "nbconvert_exporter": "python",
   "pygments_lexer": "ipython3"
  }
 },
 "nbformat": 4,
 "nbformat_minor": 1
}
