{
 "cells": [
  {
   "cell_type": "markdown",
   "metadata": {},
   "source": [
    "# Datatypes and the Experimentalist Pipeline"
   ]
  },
  {
   "cell_type": "markdown",
   "metadata": {},
   "source": [
    "The experimentalist pipeline is a tool for running **sequences of functions** (callables) on some data.\n",
    "\n",
    "If you have $n$ functions $f_i$,\n",
    "\n",
    "$$\n",
    "f_0(x), f_1(x), ... f_n(x)\\, ,\n",
    "$$\n",
    "\n",
    "the pipeline of those functions $P_{f_i}$, is defined as\n",
    "\n",
    "$$\n",
    "P_{f_i}(x) = f_n(f_{n-1}(...(f_0(x))))\\, .\n",
    "$$\n",
    "\n",
    "Key principles:\n",
    "1. The *pipeline passes the data unchanged* between the $f_i$. It is agnostic to the data which the\n",
    "functions require or return.\n",
    "2. The $f_i$ can *mutate the data*.\n",
    "3. The $f_i$ must be *compatible with one another*. It is on the user to ensure this is true.\n",
    "\n",
    "***TODO: what about the parameters? Can we fit those into the definition?***\n",
    "\n",
    "By being agnostic about the data, the pipeline is extremely simple and flexible. To allow a new kind of data, it is\n",
    "only required to define the datatype (perhaps as a\n",
    "[python `dataclass`](https://docs.python.org/3/library/dataclasses.html)) and then start writing $f_i$ which use that\n",
    "dataclass as an input and output type.\n",
    "\n",
    "Whilst it is possible to write $f_i$ which change the type of the data which pass through and still work as a\n",
    "pipeline, it is recommended to return the same type, so $\\mathrm{type}(x) = \\mathrm{type}(f_i(x))$.\n",
    "\n",
    "In this tutorial, we'll demonstrate some pipelines which:\n",
    "- use standard library functions to operate on python built-in types,\n",
    "- use numpy functions to operate on numpy arrays,\n",
    "- use pandas functions to operate on pandas dataframes,\n",
    "- use custom functions to operate on custom dataclasses, and\n",
    "- mutate the type of the data in more complicated ways."
   ]
  },
  {
   "cell_type": "code",
   "execution_count": null,
   "metadata": {},
   "outputs": [],
   "source": [
    "from autora.experimentalist.pipeline import make_pipeline"
   ]
  },
  {
   "cell_type": "markdown",
   "metadata": {},
   "source": [
    "## Standard Library Functions and Built-In-Types\n",
    "\n",
    "### Elementary types\n",
    "\n",
    "Define a pipeline which operates on numeric types."
   ]
  },
  {
   "cell_type": "code",
   "execution_count": null,
   "metadata": {},
   "outputs": [
    {
     "data": {
      "text/plain": [
       "2"
      ]
     },
     "execution_count": null,
     "metadata": {},
     "output_type": "execute_result"
    }
   ],
   "source": [
    "functions = [lambda x: x+1]\n",
    "pipeline = make_pipeline(functions)\n",
    "pipeline(1)"
   ]
  },
  {
   "cell_type": "code",
   "execution_count": null,
   "metadata": {},
   "outputs": [
    {
     "data": {
      "text/plain": [
       "3.0"
      ]
     },
     "execution_count": null,
     "metadata": {},
     "output_type": "execute_result"
    }
   ],
   "source": [
    "functions = [lambda x: x+1, lambda x: x*3, lambda x: x/2]\n",
    "pipeline = make_pipeline(functions)\n",
    "pipeline(1)  # 1 -> 2 -> 6 -> 3.0"
   ]
  },
  {
   "cell_type": "code",
   "execution_count": null,
   "metadata": {},
   "outputs": [
    {
     "data": {
      "text/plain": [
       "25.5"
      ]
     },
     "execution_count": null,
     "metadata": {},
     "output_type": "execute_result"
    }
   ],
   "source": [
    "pipeline(16)  # 16 -> 17 -> 51 -> 25.5"
   ]
  },
  {
   "cell_type": "markdown",
   "metadata": {},
   "source": [
    "Define a pipeline which operates on strings."
   ]
  },
  {
   "cell_type": "code",
   "execution_count": null,
   "metadata": {},
   "outputs": [
    {
     "data": {
      "text/plain": [
       "'***The Input String***'"
      ]
     },
     "execution_count": null,
     "metadata": {},
     "output_type": "execute_result"
    }
   ],
   "source": [
    "functions = [str.title, lambda s: str.center(s, 22, \"*\"), ]\n",
    "pipeline = make_pipeline(functions)\n",
    "pipeline(\"the input string\")"
   ]
  },
  {
   "cell_type": "markdown",
   "metadata": {},
   "source": [
    "### Collections\n",
    "A pipeline which operates on sequences, like a list of characters:"
   ]
  },
  {
   "cell_type": "code",
   "execution_count": null,
   "metadata": {},
   "outputs": [
    {
     "data": {
      "text/plain": [
       "['#', '%', '@', 'b', 'd', 'e', 'j', 'q', 'r', 'x']"
      ]
     },
     "execution_count": null,
     "metadata": {},
     "output_type": "execute_result"
    }
   ],
   "source": [
    "from random import seed, choices\n",
    "functions = [lambda l: choices(l, k=10), sorted]\n",
    "pipeline = make_pipeline(functions)\n",
    "seed(1)\n",
    "pipeline(list(\"abcdefghijklmnopqrstuvwxyz!@#$%^&*()\"))"
   ]
  },
  {
   "cell_type": "markdown",
   "metadata": {},
   "source": [
    "... or on a sequence of numbers:"
   ]
  },
  {
   "cell_type": "code",
   "execution_count": null,
   "metadata": {},
   "outputs": [
    {
     "data": {
      "text/plain": [
       "[0.134364,\n",
       " 0.847433,\n",
       " 0.763774,\n",
       " 0.255069,\n",
       " 0.495435,\n",
       " 0.449491,\n",
       " 0.651592,\n",
       " 0.788723,\n",
       " 0.093859,\n",
       " 0.028347]"
      ]
     },
     "execution_count": null,
     "metadata": {},
     "output_type": "execute_result"
    }
   ],
   "source": [
    "functions = [\n",
    "    lambda l: choices(l, k=10), \n",
    "    lambda l: [x / 1_000_000 for x in l]\n",
    "]\n",
    "pipeline = make_pipeline(functions)\n",
    "seed(1)\n",
    "pipeline(range(1_000_000))"
   ]
  },
  {
   "cell_type": "markdown",
   "metadata": {},
   "source": [
    "... or on an infinitely long iterable of numbers:"
   ]
  },
  {
   "cell_type": "code",
   "execution_count": null,
   "metadata": {},
   "outputs": [
    {
     "data": {
      "text/plain": [
       "[504,\n",
       " 1155,\n",
       " 3873,\n",
       " 3919,\n",
       " 4386,\n",
       " 5329,\n",
       " 6194,\n",
       " 6734,\n",
       " 6742,\n",
       " 8071,\n",
       " 9108,\n",
       " 9129,\n",
       " 9654,\n",
       " 9947]"
      ]
     },
     "execution_count": null,
     "metadata": {},
     "output_type": "execute_result"
    }
   ],
   "source": [
    "import random\n",
    "from itertools import count, takewhile\n",
    "def sample_with_probability(x, p=(1/1000)):\n",
    "    \"\"\"Samples from a (potentially unbounded) iterable `x` with a fixed probability `p`.\"\"\"\n",
    "    for x_i in x:\n",
    "        if random.random() < p:\n",
    "            yield x_i\n",
    "\n",
    "            \n",
    "functions = [\n",
    "    sample_with_probability, \n",
    "    lambda l: takewhile(lambda x: x < 10_000, l)\n",
    "]\n",
    "\n",
    "pipeline = make_pipeline(functions)\n",
    "seed(1)\n",
    "result = pipeline(count(1))\n",
    "list(result)"
   ]
  },
  {
   "cell_type": "markdown",
   "metadata": {},
   "source": [
    "... or on an unboun iterable of tuples:"
   ]
  },
  {
   "cell_type": "code",
   "execution_count": null,
   "metadata": {},
   "outputs": [
    {
     "data": {
      "text/plain": [
       "[(504, 1003),\n",
       " (1155, 1654),\n",
       " (3873, 4372),\n",
       " (3919, 4418),\n",
       " (4386, 4885),\n",
       " (5329, 5828),\n",
       " (6194, 6693),\n",
       " (6734, 7233),\n",
       " (6742, 7241),\n",
       " (8071, 8570),\n",
       " (9108, 9607),\n",
       " (9129, 9628),\n",
       " (9654, 10153)]"
      ]
     },
     "execution_count": null,
     "metadata": {},
     "output_type": "execute_result"
    }
   ],
   "source": [
    "functions = [\n",
    "    sample_with_probability,  # the same as before\n",
    "    lambda l: takewhile(lambda t: t[0] + t[1] < 20_000, l)\n",
    "]\n",
    "pipeline = make_pipeline(functions)\n",
    "seed(1)\n",
    "result = pipeline(zip(count(1), count(500)))\n",
    "list(result)"
   ]
  },
  {
   "cell_type": "markdown",
   "metadata": {},
   "source": [
    "A pipeline which acts on a dictionary:"
   ]
  },
  {
   "cell_type": "code",
   "execution_count": null,
   "metadata": {},
   "outputs": [
    {
     "data": {
      "text/plain": [
       "{'a': 2, 'b': 0, 'c': 3}"
      ]
     },
     "execution_count": null,
     "metadata": {},
     "output_type": "execute_result"
    }
   ],
   "source": [
    "functions = [\n",
    "    lambda d: dict(d, a=d[\"a\"]+1),\n",
    "    lambda d: dict(d, b=d[\"b\"]-1),\n",
    "    lambda d: dict(d, c=3),\n",
    "]\n",
    "pipeline = make_pipeline(functions)\n",
    "pipeline(dict(a=1, b=1))  # {a: 1, b: 1} -> {a: 2, b: 1} -> {a: 2, b: 0} -> {a: 2, b: 0, c: 3}"
   ]
  },
  {
   "cell_type": "code",
   "execution_count": null,
   "metadata": {},
   "outputs": [],
   "source": []
  }
 ],
 "metadata": {
  "kernelspec": {
   "display_name": "Python 3 (ipykernel)",
   "language": "python",
   "name": "python3"
  },
  "language_info": {
   "codemirror_mode": {
    "name": "ipython",
    "version": 3
   },
   "file_extension": ".py",
   "mimetype": "text/x-python",
   "name": "python",
   "nbconvert_exporter": "python",
   "pygments_lexer": "ipython3"
  }
 },
 "nbformat": 4,
 "nbformat_minor": 1
}
