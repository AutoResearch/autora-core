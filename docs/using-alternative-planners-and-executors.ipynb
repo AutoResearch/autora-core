{
 "cells": [
  {
   "cell_type": "markdown",
   "source": [
    "# Using Alternative Executors and Planners\n",
    "\n",
    "By switching out the `executor_collection` and/or the `planner`, we can specify a\n",
    "different way of running the cycle.\n",
    "\n",
    "## Easier Seeding with a Smarter Planner\n",
    "\n",
    "In this example, we use the `Controller` which allows much more control over execution\n",
    "order. It considers the last available result and picks the matching next step. This means\n",
    "that seeding is relatively simple."
   ],
   "metadata": {
    "collapsed": false
   }
  },
  {
   "cell_type": "code",
   "execution_count": null,
   "outputs": [],
   "source": [
    "import numpy as np\n",
    "from autora.experimentalist.pipeline import make_pipeline\n",
    "from autora.variable import VariableCollection, Variable\n",
    "from sklearn.linear_model import LinearRegression\n",
    "from autora.workflow import Controller\n",
    "from itertools import takewhile"
   ],
   "metadata": {
    "collapsed": false,
    "ExecuteTime": {
     "start_time": "2023-04-21T09:35:48.551432Z",
     "end_time": "2023-04-21T09:35:49.282955Z"
    }
   }
  },
  {
   "cell_type": "code",
   "execution_count": null,
   "outputs": [],
   "source": [
    "def ground_truth(x):\n",
    "    return x + 1\n",
    "metadata_0 = VariableCollection(\n",
    "   independent_variables=[Variable(name=\"x1\", allowed_values=range(11))],\n",
    "   dependent_variables=[Variable(name=\"y\", value_range=(-20, 20))],\n",
    "   )\n",
    "example_experimentalist = make_pipeline(\n",
    "    [metadata_0.independent_variables[0].allowed_values])\n",
    "\n",
    "def get_example_synthetic_experiment_runner():\n",
    "    rng = np.random.default_rng(seed=180)\n",
    "    def runner(x):\n",
    "        return ground_truth(x) + rng.normal(0, 0.1, x.shape)\n",
    "    return runner\n",
    "\n",
    "example_synthetic_experiment_runner = get_example_synthetic_experiment_runner()\n",
    "\n",
    "example_theorist = LinearRegression()\n",
    "\n",
    "def monitor(state):\n",
    "    print(f\"MONITOR: Generated new {state.history[-1].kind}\")\n",
    "\n",
    "cycle_with_last_result_planner = Controller(\n",
    "    monitor=monitor,\n",
    "    metadata=metadata_0,\n",
    "    experimentalist=example_experimentalist,\n",
    "    experiment_runner=example_synthetic_experiment_runner,\n",
    "    theorist=example_theorist,\n",
    ")"
   ],
   "metadata": {
    "collapsed": false,
    "ExecuteTime": {
     "start_time": "2023-04-21T09:35:49.286735Z",
     "end_time": "2023-04-21T09:35:49.288380Z"
    }
   }
  },
  {
   "cell_type": "markdown",
   "source": [
    "When we run this cycle starting with no data, we generate an experimental condition first:"
   ],
   "metadata": {
    "collapsed": false
   }
  },
  {
   "cell_type": "code",
   "execution_count": null,
   "outputs": [],
   "source": [
    "_ = list(takewhile(lambda c: len(c.state.theories) < 2, cycle_with_last_result_planner))"
   ],
   "metadata": {
    "collapsed": false,
    "ExecuteTime": {
     "start_time": "2023-04-21T09:35:49.291061Z",
     "end_time": "2023-04-21T09:35:49.297718Z"
    }
   }
  },
  {
   "cell_type": "markdown",
   "source": [
    "However, if we seed the same cycle with observations, then its first Executor will be the theorist:"
   ],
   "metadata": {
    "collapsed": false
   }
  },
  {
   "cell_type": "code",
   "execution_count": null,
   "outputs": [],
   "source": [
    "controller_with_seed_observation = Controller(\n",
    "    monitor=monitor,\n",
    "    metadata=metadata_0,\n",
    "    theorist=example_theorist,\n",
    "    experimentalist=example_experimentalist,\n",
    "    experiment_runner=example_synthetic_experiment_runner,\n",
    ")\n",
    "seed_observation = example_synthetic_experiment_runner(np.linspace(0,5,10))\n",
    "controller_with_seed_observation.seed(observations=[seed_observation])"
   ],
   "metadata": {
    "collapsed": false,
    "ExecuteTime": {
     "start_time": "2023-04-21T09:35:49.296597Z",
     "end_time": "2023-04-21T09:35:49.298309Z"
    }
   }
  },
  {
   "cell_type": "code",
   "execution_count": null,
   "outputs": [],
   "source": [
    "_ = next(controller_with_seed_observation)"
   ],
   "metadata": {
    "collapsed": false,
    "ExecuteTime": {
     "start_time": "2023-04-21T09:35:49.301421Z",
     "end_time": "2023-04-21T09:35:49.303527Z"
    }
   }
  },
  {
   "cell_type": "markdown",
   "source": [
    "## Arbitrary Execution Order (Toy Example)\n",
    "\n",
    "In some cases, we need to change the order of execution of different steps completely. This might be\n",
    " useful in cases when different experimentalists or theorists are needed at different times in\n",
    " the cycle, e.g. for initial seeding, or if the _order_ of execution is the subject of the\n",
    " experiment.\n",
    "\n",
    "In this example, we use a planner which suggests a different random operation at each\n",
    "step, demonstrating arbitrary execution order. We do this by modifying the planner attribute\n",
    "of an existing controller\n",
    "\n",
    "This might be useful in cases when different experimentalists or theorists are needed at\n",
    "different times in the cycle, e.g. for initial seeding."
   ],
   "metadata": {
    "collapsed": false
   }
  },
  {
   "cell_type": "code",
   "execution_count": null,
   "outputs": [],
   "source": [
    "from autora_workflow.planner import random_operation_planner\n",
    "def monitor(state):\n",
    "    print(f\"MONITOR: Generated new {state.history[-1].kind}\")\n",
    "controller_with_random_planner = Controller(\n",
    "    planner=random_operation_planner,\n",
    "    monitor=monitor,\n",
    "    metadata=metadata_0,\n",
    "    theorist=example_theorist,\n",
    "    experimentalist=example_experimentalist,\n",
    "    experiment_runner=example_synthetic_experiment_runner,\n",
    ")\n"
   ],
   "metadata": {
    "collapsed": false,
    "ExecuteTime": {
     "start_time": "2023-04-21T09:35:49.304507Z",
     "end_time": "2023-04-21T09:35:49.344592Z"
    }
   }
  },
  {
   "cell_type": "markdown",
   "source": [
    "The `random_operation_planner` depends on the python random number generator, so we seed it first:"
   ],
   "metadata": {
    "collapsed": false
   }
  },
  {
   "cell_type": "code",
   "execution_count": null,
   "outputs": [],
   "source": [
    "from random import seed\n",
    "seed(42)"
   ],
   "metadata": {
    "collapsed": false,
    "ExecuteTime": {
     "start_time": "2023-04-21T09:35:49.307266Z",
     "end_time": "2023-04-21T09:35:49.355126Z"
    }
   }
  },
  {
   "cell_type": "markdown",
   "source": [
    "We also want to watch the logging messages from the cycle:"
   ],
   "metadata": {
    "collapsed": false
   }
  },
  {
   "cell_type": "code",
   "execution_count": null,
   "outputs": [],
   "source": [
    "import logging\n",
    "import sys\n",
    "logging.basicConfig(format='%(levelname)s: %(message)s', stream=sys.stdout,\n",
    "    level=logging.INFO)\n"
   ],
   "metadata": {
    "collapsed": false,
    "ExecuteTime": {
     "start_time": "2023-04-21T09:35:49.308934Z",
     "end_time": "2023-04-21T09:35:49.355363Z"
    }
   }
  },
  {
   "cell_type": "markdown",
   "source": [
    "Now we can evaluate the cycle and watch its behaviour:"
   ],
   "metadata": {
    "collapsed": false
   }
  },
  {
   "cell_type": "code",
   "execution_count": null,
   "outputs": [],
   "source": [
    "def step(controller_):\n",
    "    try:\n",
    "        _ = next(controller_)\n",
    "    except Exception as e:\n",
    "        print(f\"FAILED: with {e=}\")\n"
   ],
   "metadata": {
    "collapsed": false,
    "ExecuteTime": {
     "start_time": "2023-04-21T09:35:49.312355Z",
     "end_time": "2023-04-21T09:35:49.355506Z"
    }
   }
  },
  {
   "cell_type": "markdown",
   "source": [
    "The first step, the theorist is selected as the random Executor, and it fails because it\n",
    "depends on there being observations to theorize against:"
   ],
   "metadata": {
    "collapsed": false
   }
  },
  {
   "cell_type": "code",
   "execution_count": null,
   "outputs": [],
   "source": [
    "step(controller_with_random_planner) # i = 0"
   ],
   "metadata": {
    "collapsed": false,
    "ExecuteTime": {
     "start_time": "2023-04-21T09:35:49.315039Z",
     "end_time": "2023-04-21T09:35:49.355648Z"
    }
   }
  },
  {
   "cell_type": "markdown",
   "source": [
    "The second step, a new condition is generated."
   ],
   "metadata": {
    "collapsed": false
   }
  },
  {
   "cell_type": "code",
   "execution_count": null,
   "outputs": [],
   "source": [
    "step(controller_with_random_planner) # i = 1"
   ],
   "metadata": {
    "collapsed": false,
    "ExecuteTime": {
     "start_time": "2023-04-21T09:35:49.317662Z",
     "end_time": "2023-04-21T09:35:49.355724Z"
    }
   }
  },
  {
   "cell_type": "markdown",
   "source": [
    "... which is repeated on the third step as well:"
   ],
   "metadata": {
    "collapsed": false
   }
  },
  {
   "cell_type": "code",
   "execution_count": null,
   "outputs": [],
   "source": [
    "step(controller_with_random_planner) # i = 2"
   ],
   "metadata": {
    "collapsed": false,
    "ExecuteTime": {
     "start_time": "2023-04-21T09:35:49.320687Z",
     "end_time": "2023-04-21T09:35:49.355837Z"
    }
   }
  },
  {
   "cell_type": "markdown",
   "source": [
    "On the fourth step, we generate another error when trying to run the theorist:"
   ],
   "metadata": {
    "collapsed": false
   }
  },
  {
   "cell_type": "code",
   "execution_count": null,
   "outputs": [],
   "source": [
    "step(controller_with_random_planner) # i = 3"
   ],
   "metadata": {
    "collapsed": false,
    "ExecuteTime": {
     "start_time": "2023-04-21T09:35:49.323681Z",
     "end_time": "2023-04-21T09:35:49.356037Z"
    }
   }
  },
  {
   "cell_type": "markdown",
   "source": [
    "On the fifth step, we generate a first real observation, so that the next time we try to run\n",
    "a theorist we are successful:"
   ],
   "metadata": {
    "collapsed": false
   }
  },
  {
   "cell_type": "code",
   "execution_count": null,
   "outputs": [],
   "source": [
    "step(controller_with_random_planner) # i = 4"
   ],
   "metadata": {
    "collapsed": false,
    "ExecuteTime": {
     "start_time": "2023-04-21T09:35:49.328130Z",
     "end_time": "2023-04-21T09:35:49.356126Z"
    }
   }
  },
  {
   "cell_type": "markdown",
   "source": [
    "By the ninth iteration, there are observations which the theorist can use, and it succeeds."
   ],
   "metadata": {
    "collapsed": false
   }
  },
  {
   "cell_type": "code",
   "execution_count": null,
   "outputs": [],
   "source": [
    "_ = list(takewhile(lambda c: len(c.state.theories) < 1, controller_with_random_planner))"
   ],
   "metadata": {
    "collapsed": false,
    "ExecuteTime": {
     "start_time": "2023-04-21T09:35:49.330180Z",
     "end_time": "2023-04-21T09:35:49.356241Z"
    }
   }
  },
  {
   "cell_type": "markdown",
   "source": [
    "## Arbitrary Executors and Planners\n",
    "\n",
    "In some cases, we need to go beyond adding different orders of planning the three\n",
    "`experimentalist`, `experiment_runner` and `theorist` and build more complex cycles with\n",
    "different Executors for different states.\n",
    "\n",
    "For instance, there might be a situation where at the start, the main \"active\" experimentalist\n",
    "can't be run as it needs one or more theories as input.\n",
    "Once there are at least two theories, then the active experimentalist _can_ be run.\n",
    "One method to handle this is to run a \"seed\" experimentalist until the main experimentalist can\n",
    "be used.\n",
    "\n",
    "In these cases, we need full control over (and have full responsibility for) the planners and\n",
    "executors.\n"
   ],
   "metadata": {
    "collapsed": false
   }
  },
  {
   "cell_type": "markdown",
   "source": [
    "The theory we'll try to discover is:"
   ],
   "metadata": {
    "collapsed": false
   }
  },
  {
   "cell_type": "code",
   "execution_count": null,
   "outputs": [],
   "source": [
    "def ground_truth(x, m=3.5, c=1):\n",
    "    return m * x + c\n",
    "rng = np.random.default_rng(seed=180)\n",
    "def experiment_runner(x):\n",
    "    return ground_truth(x) + rng.normal(0, 0.1)\n",
    "metadata_2 = VariableCollection(\n",
    "   independent_variables=[Variable(name=\"x1\", value_range=(-10, 10))],\n",
    "   dependent_variables=[Variable(name=\"y\", value_range=(-100, 100))],\n",
    "   )"
   ],
   "metadata": {
    "collapsed": false,
    "ExecuteTime": {
     "start_time": "2023-04-21T09:35:49.333268Z",
     "end_time": "2023-04-21T09:35:49.356430Z"
    }
   }
  },
  {
   "cell_type": "markdown",
   "source": [
    "We now define a planner which chooses a different experimentalist when supplied with no data\n",
    "versus some data."
   ],
   "metadata": {
    "collapsed": false
   }
  },
  {
   "cell_type": "code",
   "execution_count": null,
   "outputs": [],
   "source": [
    "from autora_workflow.planner import last_result_kind_planner\n",
    "from autora_workflow.state import History"
   ],
   "metadata": {
    "collapsed": false,
    "ExecuteTime": {
     "start_time": "2023-04-21T09:35:49.338567Z",
     "end_time": "2023-04-21T09:35:49.357094Z"
    }
   }
  },
  {
   "cell_type": "code",
   "execution_count": null,
   "outputs": [],
   "source": [
    "def seeding_planner(state):\n",
    "    # We're going to reuse the \"last_result_kind_planner\" planner, and modify its output.\n",
    "    next_function = last_result_kind_planner(state)\n",
    "    if next_function == \"experimentalist\":\n",
    "        if len(state.theories) >= 2:\n",
    "            return \"main_experimentalist\"\n",
    "        else:\n",
    "            return \"seed_experimentalist\"\n",
    "    else:\n",
    "        return next_function\n"
   ],
   "metadata": {
    "collapsed": false,
    "ExecuteTime": {
     "start_time": "2023-04-21T09:35:49.340328Z",
     "end_time": "2023-04-21T09:35:49.357213Z"
    }
   }
  },
  {
   "cell_type": "markdown",
   "source": [
    "Now we can see what would happen with a particular state. If there are no results, then we get the seed experimentalist:"
   ],
   "metadata": {
    "collapsed": false
   }
  },
  {
   "cell_type": "code",
   "execution_count": null,
   "outputs": [],
   "source": [
    "seeding_planner(History())"
   ],
   "metadata": {
    "collapsed": false,
    "ExecuteTime": {
     "start_time": "2023-04-21T09:35:49.344032Z",
     "end_time": "2023-04-21T09:35:49.357394Z"
    }
   }
  },
  {
   "cell_type": "markdown",
   "source": [
    "... and we also get the seed experimentalist if the last result was a theory and there are less than two theories:"
   ],
   "metadata": {
    "collapsed": false
   }
  },
  {
   "cell_type": "code",
   "execution_count": null,
   "outputs": [],
   "source": [
    "seeding_planner(History(theories=['a single theory']))"
   ],
   "metadata": {
    "collapsed": false,
    "ExecuteTime": {
     "start_time": "2023-04-21T09:35:49.347207Z",
     "end_time": "2023-04-21T09:35:49.357482Z"
    }
   }
  },
  {
   "cell_type": "markdown",
   "source": [
    "whereas if we have at least two theories to work on, we get the main experimentalist:"
   ],
   "metadata": {
    "collapsed": false
   }
  },
  {
   "cell_type": "code",
   "execution_count": null,
   "outputs": [],
   "source": [
    "seeding_planner(History(theories=['a theory', 'another theory']))"
   ],
   "metadata": {
    "collapsed": false,
    "ExecuteTime": {
     "start_time": "2023-04-21T09:35:49.349952Z",
     "end_time": "2023-04-21T09:35:49.357566Z"
    }
   }
  },
  {
   "cell_type": "markdown",
   "source": [
    "If we had a condition last, we choose the experiment runner next:"
   ],
   "metadata": {
    "collapsed": false
   }
  },
  {
   "cell_type": "code",
   "execution_count": null,
   "outputs": [],
   "source": [
    "seeding_planner(History(conditions=['a condition']))"
   ],
   "metadata": {
    "collapsed": false,
    "ExecuteTime": {
     "start_time": "2023-04-21T09:35:49.353313Z",
     "end_time": "2023-04-21T09:35:49.357647Z"
    }
   }
  },
  {
   "cell_type": "markdown",
   "source": [
    "If we had an observation last, we choose the theorist next:"
   ],
   "metadata": {
    "collapsed": false
   }
  },
  {
   "cell_type": "code",
   "execution_count": null,
   "outputs": [],
   "source": [
    "seeding_planner(History(observations=['an observation']))"
   ],
   "metadata": {
    "collapsed": false,
    "ExecuteTime": {
     "start_time": "2023-04-21T09:35:49.356226Z",
     "end_time": "2023-04-21T09:35:49.358556Z"
    }
   }
  },
  {
   "cell_type": "markdown",
   "source": [
    "Now we need to define an executor collection to handle the actual execution steps."
   ],
   "metadata": {
    "collapsed": false
   }
  },
  {
   "cell_type": "code",
   "execution_count": null,
   "outputs": [],
   "source": [
    "from autora.experimentalist.pipeline import make_pipeline, Pipeline\n",
    "from autora.experimentalist.sampler.random import random_sampler\n",
    "from functools import partial"
   ],
   "metadata": {
    "collapsed": false,
    "ExecuteTime": {
     "start_time": "2023-04-21T09:35:49.359529Z",
     "end_time": "2023-04-21T09:35:49.364428Z"
    }
   }
  },
  {
   "cell_type": "markdown",
   "source": [
    "Wen can run the seed pipeline with no data:"
   ],
   "metadata": {
    "collapsed": false
   }
  },
  {
   "cell_type": "code",
   "execution_count": null,
   "outputs": [],
   "source": [
    "experimentalist_which_needs_no_data = make_pipeline([\n",
    "    np.linspace(*metadata_2.independent_variables[0].value_range, 1_000),\n",
    "    partial(random_sampler, n=10)]\n",
    ")\n",
    "np.array(experimentalist_which_needs_no_data())"
   ],
   "metadata": {
    "collapsed": false,
    "ExecuteTime": {
     "start_time": "2023-04-21T09:35:49.364350Z",
     "end_time": "2023-04-21T09:35:49.487451Z"
    }
   }
  },
  {
   "cell_type": "markdown",
   "source": [
    "... whereas we need some model for this sampler:"
   ],
   "metadata": {
    "collapsed": false
   }
  },
  {
   "cell_type": "code",
   "execution_count": null,
   "outputs": [],
   "source": [
    "from autora.experimentalist.sampler.model_disagreement import model_disagreement_sampler\n",
    "experimentalist_which_needs_a_theory = Pipeline([\n",
    "    ('pool', np.linspace(*metadata_2.independent_variables[0].value_range, 1_000)),\n",
    "    ('sampler', partial(model_disagreement_sampler, num_samples=5)),])\n",
    "experimentalist_which_needs_a_theory()"
   ],
   "metadata": {
    "collapsed": false
   }
  },
  {
   "cell_type": "markdown",
   "source": [
    "We'll have to provide the models during the cycle run.\n",
    "\n",
    "We need a reasonable theorist for this situation. For this problem, a linear regressor will suffice."
   ],
   "metadata": {
    "collapsed": false
   }
  },
  {
   "cell_type": "code",
   "execution_count": null,
   "outputs": [],
   "source": [
    "t = LinearRegression()"
   ],
   "metadata": {
    "collapsed": false
   }
  },
  {
   "cell_type": "markdown",
   "source": [
    "Let's test the theorist for the ideal case – lots of data:"
   ],
   "metadata": {
    "collapsed": false
   }
  },
  {
   "cell_type": "code",
   "execution_count": null,
   "outputs": [],
   "source": [
    "X = np.linspace(*metadata_2.independent_variables[0].value_range, 1_000).reshape(-1, 1)\n",
    "tfitted = t.fit(X, experiment_runner(X))\n",
    "f\"m = {tfitted.coef_[0][0]:.2f}, c = {tfitted.intercept_[0]:.2f}\""
   ],
   "metadata": {
    "collapsed": false,
    "ExecuteTime": {
     "start_time": "2023-04-21T09:33:03.990255Z",
     "end_time": "2023-04-21T09:33:03.993318Z"
    }
   }
  },
  {
   "cell_type": "markdown",
   "source": [
    "This seems to work fine.\n",
    "\n",
    "Now we can define the executor component. We'll use a factory method to generate the collection:"
   ],
   "metadata": {
    "collapsed": false
   }
  },
  {
   "cell_type": "code",
   "execution_count": null,
   "outputs": [],
   "source": [
    "from autora_workflow.executor import make_online_executor_collection\n",
    "executor_collection = make_online_executor_collection([\n",
    "    (\"seed_experimentalist\", \"experimentalist\", experimentalist_which_needs_no_data),\n",
    "    (\"main_experimentalist\", \"experimentalist\", experimentalist_which_needs_a_theory),\n",
    "    (\"theorist\", \"theorist\", LinearRegression()),\n",
    "    (\"experiment_runner\", \"experiment_runner\", experiment_runner),\n",
    "])\n"
   ],
   "metadata": {
    "collapsed": false
   }
  },
  {
   "cell_type": "markdown",
   "source": [
    "We need some special parameters to handle the main experimentalist, so we specify those:"
   ],
   "metadata": {
    "collapsed": false
   }
  },
  {
   "cell_type": "code",
   "execution_count": null,
   "outputs": [],
   "source": [
    "params = {\"main_experimentalist\": {\"sampler\": {\"models\": \"%theories%\"}}}"
   ],
   "metadata": {
    "collapsed": false,
    "ExecuteTime": {
     "start_time": "2023-04-21T09:33:28.165281Z",
     "end_time": "2023-04-21T09:33:28.168929Z"
    }
   }
  },
  {
   "cell_type": "markdown",
   "source": [
    "We now instantiate the controller:"
   ],
   "metadata": {
    "collapsed": false
   }
  },
  {
   "cell_type": "code",
   "execution_count": null,
   "outputs": [],
   "source": [
    "from autora_workflow.base import BaseController\n",
    "from autora_workflow.state import History\n",
    "c = BaseController(\n",
    "        state=History(metadata=metadata_2, params=params),\n",
    "        planner=seeding_planner,\n",
    "        executor_collection=executor_collection\n",
    ")\n",
    "c"
   ],
   "metadata": {
    "collapsed": false
   }
  },
  {
   "cell_type": "code",
   "execution_count": null,
   "outputs": [],
   "source": [
    "class PrintHandler(logging.Handler):\n",
    "    def emit(self, record):\n",
    "        print(self.format(record))"
   ],
   "metadata": {
    "collapsed": false
   }
  },
  {
   "cell_type": "markdown",
   "source": [
    "On the first step, we generate a condition sampled randomly across the whole domain (as we\n",
    "expected):"
   ],
   "metadata": {
    "collapsed": false
   }
  },
  {
   "cell_type": "code",
   "execution_count": null,
   "outputs": [],
   "source": [
    "next(c).state.history[-1]"
   ],
   "metadata": {
    "collapsed": false
   }
  },
  {
   "cell_type": "markdown",
   "source": [
    "After three more steps, we generate a new condition, which again is sampled across the whole domain. Here we iterate\n",
    "the controller until we've got two sets of conditions:"
   ],
   "metadata": {
    "collapsed": false
   }
  },
  {
   "cell_type": "code",
   "execution_count": null,
   "outputs": [],
   "source": [
    "_ = list(takewhile(lambda c: len(c.state.conditions) < 2, c))\n",
    "c.state.history[-1]"
   ],
   "metadata": {
    "collapsed": false
   }
  },
  {
   "cell_type": "markdown",
   "source": [
    "Once we have two theories:"
   ],
   "metadata": {
    "collapsed": false
   }
  },
  {
   "cell_type": "code",
   "execution_count": null,
   "outputs": [],
   "source": [
    "_ = list(takewhile(lambda c: len(c.state.theories) < 2, c))\n",
    "c.state.theories"
   ],
   "metadata": {
    "collapsed": false
   }
  },
  {
   "cell_type": "markdown",
   "source": [
    "... when we run the next step, we'll get the main experimentalist. This samples five points from the extreme\n",
    "parts  of the problem domain where the disagreement between the two theories is the greatest:"
   ],
   "metadata": {
    "collapsed": false
   }
  },
  {
   "cell_type": "code",
   "execution_count": null,
   "outputs": [],
   "source": [
    "next(c).state.history[-1]\n"
   ],
   "metadata": {
    "collapsed": false
   }
  }
 ],
 "metadata": {
  "kernelspec": {
   "display_name": "Python 3",
   "language": "python",
   "name": "python3"
  },
  "language_info": {
   "codemirror_mode": {
    "name": "ipython",
    "version": 2
   },
   "file_extension": ".py",
   "mimetype": "text/x-python",
   "name": "python",
   "nbconvert_exporter": "python",
   "pygments_lexer": "ipython2",
   "version": "2.7.6"
  }
 },
 "nbformat": 4,
 "nbformat_minor": 0
}
