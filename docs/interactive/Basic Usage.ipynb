{
 "cells": [
  {
   "cell_type": "markdown",
   "metadata": {},
   "source": [
    "# Basic Usage\n",
    "\n",
    "Aim: Use the Controller to recover a simple ground truth model from noisy data."
   ]
  },
  {
   "cell_type": "code",
   "execution_count": null,
   "metadata": {},
   "outputs": [],
   "source": [
    "import numpy as np\n",
    "from autora.experimentalist.pipeline import make_pipeline\n",
    "from autora.variable import VariableCollection, Variable\n",
    "from sklearn.linear_model import LinearRegression\n",
    "\n",
    "from autora.workflow import Cycle\n",
    "from itertools import takewhile"
   ]
  },
  {
   "cell_type": "code",
   "execution_count": null,
   "metadata": {},
   "outputs": [],
   "source": [
    "def ground_truth(x):\n",
    "    return x + 1"
   ]
  },
  {
   "cell_type": "markdown",
   "metadata": {},
   "source": [
    "The space of allowed x values is the integers between 0 and 10 inclusive, and we record the allowed output values as well."
   ]
  },
  {
   "cell_type": "code",
   "execution_count": null,
   "metadata": {},
   "outputs": [],
   "source": [
    "variables_0 = VariableCollection(\n",
    "   independent_variables=[Variable(name=\"x1\", allowed_values=range(11))],\n",
    "   dependent_variables=[Variable(name=\"y\", value_range=(-20, 20))],\n",
    "   )"
   ]
  },
  {
   "cell_type": "markdown",
   "metadata": {},
   "source": [
    "The experimentalist is used to propose experiments.\n",
    "Since the space of values is so restricted, we can just sample them all each time."
   ]
  },
  {
   "cell_type": "code",
   "execution_count": null,
   "metadata": {},
   "outputs": [],
   "source": [
    "example_experimentalist = make_pipeline(\n",
    "    [variables_0.independent_variables[0].allowed_values])"
   ]
  },
  {
   "cell_type": "markdown",
   "metadata": {},
   "source": [
    "When we run a synthetic experiment, we get a reproducible noisy result:"
   ]
  },
  {
   "cell_type": "code",
   "execution_count": null,
   "metadata": {},
   "outputs": [
    {
     "data": {
      "text/plain": [
       "array([2.04339546])"
      ]
     },
     "execution_count": null,
     "metadata": {},
     "output_type": "execute_result"
    }
   ],
   "source": [
    "def get_example_synthetic_experiment_runner():\n",
    "    rng = np.random.default_rng(seed=180)\n",
    "    def runner(x):\n",
    "        return ground_truth(x) + rng.normal(0, 0.1, x.shape)\n",
    "    return runner\n",
    "example_synthetic_experiment_runner = get_example_synthetic_experiment_runner()\n",
    "example_synthetic_experiment_runner(np.array([1]))"
   ]
  },
  {
   "cell_type": "markdown",
   "metadata": {},
   "source": [
    "The theorist \"tries\" to work out the best model. We use a trivial scikit-learn regressor."
   ]
  },
  {
   "cell_type": "code",
   "execution_count": null,
   "metadata": {},
   "outputs": [],
   "source": [
    "example_theorist = LinearRegression()"
   ]
  },
  {
   "cell_type": "markdown",
   "metadata": {},
   "source": [
    "    We initialize the Controller with the variables describing the domain of the model,\n",
    "    the theorist, experimentalist and experiment runner,\n",
    "    as well as a monitor which will let us know which cycle we're currently on."
   ]
  },
  {
   "cell_type": "code",
   "execution_count": null,
   "metadata": {},
   "outputs": [
    {
     "data": {
      "text/plain": [
       "<autora.workflow.cycle.Cycle at 0x157959660>"
      ]
     },
     "execution_count": null,
     "metadata": {},
     "output_type": "execute_result"
    }
   ],
   "source": [
    "cycle = Cycle(\n",
    "    variables=variables_0,\n",
    "    theorist=example_theorist,\n",
    "    experimentalist=example_experimentalist,\n",
    "    experiment_runner=example_synthetic_experiment_runner,\n",
    "    monitor=lambda state: print(f\"Generated {len(state.models)} models\"),\n",
    ")\n",
    "cycle # doctest: +ELLIPSIS"
   ]
  },
  {
   "cell_type": "markdown",
   "metadata": {},
   "source": [
    "We can run the cycle by calling the run method:"
   ]
  },
  {
   "cell_type": "code",
   "execution_count": null,
   "metadata": {},
   "outputs": [
    {
     "name": "stdout",
     "output_type": "stream",
     "text": [
      "Generated 1 models\n",
      "Generated 2 models\n",
      "Generated 3 models\n"
     ]
    }
   ],
   "source": [
    "_ = cycle.run(num_cycles=3)"
   ]
  },
  {
   "cell_type": "markdown",
   "metadata": {},
   "source": [
    "We can now interrogate the results. The first set of conditions which went into the\n",
    "experiment runner were:"
   ]
  },
  {
   "cell_type": "code",
   "execution_count": null,
   "metadata": {},
   "outputs": [
    {
     "data": {
      "text/plain": [
       "array([ 0,  1,  2,  3,  4,  5,  6,  7,  8,  9, 10])"
      ]
     },
     "execution_count": null,
     "metadata": {},
     "output_type": "execute_result"
    }
   ],
   "source": [
    "cycle.data.conditions[0]"
   ]
  },
  {
   "cell_type": "markdown",
   "metadata": {},
   "source": [
    "The observations include the conditions and the results:"
   ]
  },
  {
   "cell_type": "code",
   "execution_count": null,
   "metadata": {},
   "outputs": [
    {
     "data": {
      "text/plain": [
       "array([[ 0.        ,  0.92675345],\n",
       "       [ 1.        ,  1.89519928],\n",
       "       [ 2.        ,  3.08746571],\n",
       "       [ 3.        ,  3.93023943],\n",
       "       [ 4.        ,  4.95429102],\n",
       "       [ 5.        ,  6.04763988],\n",
       "       [ 6.        ,  7.20770574],\n",
       "       [ 7.        ,  7.85681519],\n",
       "       [ 8.        ,  9.05735823],\n",
       "       [ 9.        , 10.18713406],\n",
       "       [10.        , 10.88517906]])"
      ]
     },
     "execution_count": null,
     "metadata": {},
     "output_type": "execute_result"
    }
   ],
   "source": [
    "cycle.data.observations[0]"
   ]
  },
  {
   "cell_type": "markdown",
   "metadata": {},
   "source": [
    "In the third cycle (index = 2) the first and last values are different again:"
   ]
  },
  {
   "cell_type": "code",
   "execution_count": null,
   "metadata": {},
   "outputs": [
    {
     "data": {
      "text/plain": [
       "array([[ 0.        ,  1.08559827],\n",
       "       [10.        , 11.08179553]])"
      ]
     },
     "execution_count": null,
     "metadata": {},
     "output_type": "execute_result"
    }
   ],
   "source": [
    "cycle.data.observations[2][[0,-1]]"
   ]
  },
  {
   "cell_type": "markdown",
   "metadata": {},
   "source": [
    "The best fit model after the first cycle is:"
   ]
  },
  {
   "cell_type": "code",
   "execution_count": null,
   "metadata": {},
   "outputs": [
    {
     "data": {
      "text/html": [
       "<style>#sk-container-id-1 {color: black;background-color: white;}#sk-container-id-1 pre{padding: 0;}#sk-container-id-1 div.sk-toggleable {background-color: white;}#sk-container-id-1 label.sk-toggleable__label {cursor: pointer;display: block;width: 100%;margin-bottom: 0;padding: 0.3em;box-sizing: border-box;text-align: center;}#sk-container-id-1 label.sk-toggleable__label-arrow:before {content: \"▸\";float: left;margin-right: 0.25em;color: #696969;}#sk-container-id-1 label.sk-toggleable__label-arrow:hover:before {color: black;}#sk-container-id-1 div.sk-estimator:hover label.sk-toggleable__label-arrow:before {color: black;}#sk-container-id-1 div.sk-toggleable__content {max-height: 0;max-width: 0;overflow: hidden;text-align: left;background-color: #f0f8ff;}#sk-container-id-1 div.sk-toggleable__content pre {margin: 0.2em;color: black;border-radius: 0.25em;background-color: #f0f8ff;}#sk-container-id-1 input.sk-toggleable__control:checked~div.sk-toggleable__content {max-height: 200px;max-width: 100%;overflow: auto;}#sk-container-id-1 input.sk-toggleable__control:checked~label.sk-toggleable__label-arrow:before {content: \"▾\";}#sk-container-id-1 div.sk-estimator input.sk-toggleable__control:checked~label.sk-toggleable__label {background-color: #d4ebff;}#sk-container-id-1 div.sk-label input.sk-toggleable__control:checked~label.sk-toggleable__label {background-color: #d4ebff;}#sk-container-id-1 input.sk-hidden--visually {border: 0;clip: rect(1px 1px 1px 1px);clip: rect(1px, 1px, 1px, 1px);height: 1px;margin: -1px;overflow: hidden;padding: 0;position: absolute;width: 1px;}#sk-container-id-1 div.sk-estimator {font-family: monospace;background-color: #f0f8ff;border: 1px dotted black;border-radius: 0.25em;box-sizing: border-box;margin-bottom: 0.5em;}#sk-container-id-1 div.sk-estimator:hover {background-color: #d4ebff;}#sk-container-id-1 div.sk-parallel-item::after {content: \"\";width: 100%;border-bottom: 1px solid gray;flex-grow: 1;}#sk-container-id-1 div.sk-label:hover label.sk-toggleable__label {background-color: #d4ebff;}#sk-container-id-1 div.sk-serial::before {content: \"\";position: absolute;border-left: 1px solid gray;box-sizing: border-box;top: 0;bottom: 0;left: 50%;z-index: 0;}#sk-container-id-1 div.sk-serial {display: flex;flex-direction: column;align-items: center;background-color: white;padding-right: 0.2em;padding-left: 0.2em;position: relative;}#sk-container-id-1 div.sk-item {position: relative;z-index: 1;}#sk-container-id-1 div.sk-parallel {display: flex;align-items: stretch;justify-content: center;background-color: white;position: relative;}#sk-container-id-1 div.sk-item::before, #sk-container-id-1 div.sk-parallel-item::before {content: \"\";position: absolute;border-left: 1px solid gray;box-sizing: border-box;top: 0;bottom: 0;left: 50%;z-index: -1;}#sk-container-id-1 div.sk-parallel-item {display: flex;flex-direction: column;z-index: 1;position: relative;background-color: white;}#sk-container-id-1 div.sk-parallel-item:first-child::after {align-self: flex-end;width: 50%;}#sk-container-id-1 div.sk-parallel-item:last-child::after {align-self: flex-start;width: 50%;}#sk-container-id-1 div.sk-parallel-item:only-child::after {width: 0;}#sk-container-id-1 div.sk-dashed-wrapped {border: 1px dashed gray;margin: 0 0.4em 0.5em 0.4em;box-sizing: border-box;padding-bottom: 0.4em;background-color: white;}#sk-container-id-1 div.sk-label label {font-family: monospace;font-weight: bold;display: inline-block;line-height: 1.2em;}#sk-container-id-1 div.sk-label-container {text-align: center;}#sk-container-id-1 div.sk-container {/* jupyter's `normalize.less` sets `[hidden] { display: none; }` but bootstrap.min.css set `[hidden] { display: none !important; }` so we also need the `!important` here to be able to override the default hidden behavior on the sphinx rendered scikit-learn.org. See: https://github.com/scikit-learn/scikit-learn/issues/21755 */display: inline-block !important;position: relative;}#sk-container-id-1 div.sk-text-repr-fallback {display: none;}</style><div id=\"sk-container-id-1\" class=\"sk-top-container\"><div class=\"sk-text-repr-fallback\"><pre>LinearRegression()</pre><b>In a Jupyter environment, please rerun this cell to show the HTML representation or trust the notebook. <br />On GitHub, the HTML representation is unable to render, please try loading this page with nbviewer.org.</b></div><div class=\"sk-container\" hidden><div class=\"sk-item\"><div class=\"sk-estimator sk-toggleable\"><input class=\"sk-toggleable__control sk-hidden--visually\" id=\"sk-estimator-id-1\" type=\"checkbox\" checked><label for=\"sk-estimator-id-1\" class=\"sk-toggleable__label sk-toggleable__label-arrow\">LinearRegression</label><div class=\"sk-toggleable__content\"><pre>LinearRegression()</pre></div></div></div></div></div>"
      ],
      "text/plain": [
       "LinearRegression()"
      ]
     },
     "execution_count": null,
     "metadata": {},
     "output_type": "execute_result"
    }
   ],
   "source": [
    "cycle.data.models[0]"
   ]
  },
  {
   "cell_type": "code",
   "execution_count": null,
   "metadata": {},
   "outputs": [
    {
     "data": {
      "text/plain": [
       "'y = 1.0089 x + 0.9589'"
      ]
     },
     "execution_count": null,
     "metadata": {},
     "output_type": "execute_result"
    }
   ],
   "source": [
    "def report_linear_fit(m: LinearRegression,  precision=4):\n",
    "    s = f\"y = {np.round(m.coef_[0].item(), precision)} x \" \\\n",
    "        f\"+ {np.round(m.intercept_.item(), 4)}\"\n",
    "    return s\n",
    "report_linear_fit(cycle.data.models[0])"
   ]
  },
  {
   "cell_type": "markdown",
   "metadata": {},
   "source": [
    "The best fit model after all the cycles, including all the data, is:"
   ]
  },
  {
   "cell_type": "code",
   "execution_count": null,
   "metadata": {},
   "outputs": [
    {
     "data": {
      "text/plain": [
       "'y = 0.9989 x + 1.0292'"
      ]
     },
     "execution_count": null,
     "metadata": {},
     "output_type": "execute_result"
    }
   ],
   "source": [
    "report_linear_fit(cycle.data.models[-1])"
   ]
  },
  {
   "cell_type": "markdown",
   "metadata": {},
   "source": [
    "This is close to the ground truth model of x -> (x + 1)\n",
    "We can also run the cycle with more control over the execution flow:"
   ]
  },
  {
   "cell_type": "code",
   "execution_count": null,
   "metadata": {},
   "outputs": [
    {
     "name": "stdout",
     "output_type": "stream",
     "text": [
      "Generated 4 models\n"
     ]
    }
   ],
   "source": [
    "_ = next(cycle)"
   ]
  },
  {
   "cell_type": "code",
   "execution_count": null,
   "metadata": {},
   "outputs": [
    {
     "name": "stdout",
     "output_type": "stream",
     "text": [
      "Generated 5 models\n"
     ]
    }
   ],
   "source": [
    "_ = next(cycle)"
   ]
  },
  {
   "cell_type": "code",
   "execution_count": null,
   "metadata": {},
   "outputs": [
    {
     "name": "stdout",
     "output_type": "stream",
     "text": [
      "Generated 6 models\n"
     ]
    }
   ],
   "source": [
    "_ = next(cycle)"
   ]
  },
  {
   "cell_type": "markdown",
   "metadata": {},
   "source": [
    "We can continue to run the cycle as long as we like,\n",
    "with a simple arbitrary stopping condition like the number of models generated:"
   ]
  },
  {
   "cell_type": "code",
   "execution_count": null,
   "metadata": {},
   "outputs": [
    {
     "name": "stdout",
     "output_type": "stream",
     "text": [
      "Generated 7 models\n",
      "Generated 8 models\n",
      "Generated 9 models\n"
     ]
    }
   ],
   "source": [
    "_ = list(takewhile(lambda c: len(c.data.models) < 9, cycle))"
   ]
  },
  {
   "cell_type": "markdown",
   "metadata": {},
   "source": [
    "... or the precision (here we keep iterating while the difference between the gradients of the second-last and last cycle is larger than 0.001)."
   ]
  },
  {
   "cell_type": "code",
   "execution_count": null,
   "metadata": {},
   "outputs": [
    {
     "name": "stdout",
     "output_type": "stream",
     "text": [
      "Generated 10 models\n",
      "Generated 11 models\n"
     ]
    }
   ],
   "source": [
    "_ = list(\n",
    "        takewhile(\n",
    "            lambda c: np.abs(c.data.models[-1].coef_.item() -\n",
    "                           c.data.models[-2].coef_.item()) > 1e-3,\n",
    "            cycle\n",
    "        )\n",
    "    )\n"
   ]
  },
  {
   "cell_type": "markdown",
   "metadata": {},
   "source": [
    "... or continue to run as long as we like:"
   ]
  },
  {
   "cell_type": "code",
   "execution_count": null,
   "metadata": {},
   "outputs": [
    {
     "name": "stdout",
     "output_type": "stream",
     "text": [
      "Generated 12 models\n",
      "Generated 13 models\n",
      "Generated 14 models\n",
      "Generated 15 models\n",
      "Generated 16 models\n",
      "Generated 17 models\n",
      "Generated 18 models\n",
      "Generated 19 models\n",
      "Generated 20 models\n",
      "Generated 21 models\n",
      "Generated 22 models\n",
      "Generated 23 models\n",
      "Generated 24 models\n",
      "Generated 25 models\n",
      "Generated 26 models\n",
      "Generated 27 models\n",
      "Generated 28 models\n",
      "Generated 29 models\n",
      "Generated 30 models\n",
      "Generated 31 models\n",
      "Generated 32 models\n",
      "Generated 33 models\n",
      "Generated 34 models\n",
      "Generated 35 models\n",
      "Generated 36 models\n",
      "Generated 37 models\n",
      "Generated 38 models\n",
      "Generated 39 models\n",
      "Generated 40 models\n",
      "Generated 41 models\n",
      "Generated 42 models\n",
      "Generated 43 models\n",
      "Generated 44 models\n",
      "Generated 45 models\n",
      "Generated 46 models\n",
      "Generated 47 models\n",
      "Generated 48 models\n",
      "Generated 49 models\n",
      "Generated 50 models\n",
      "Generated 51 models\n",
      "Generated 52 models\n",
      "Generated 53 models\n",
      "Generated 54 models\n",
      "Generated 55 models\n",
      "Generated 56 models\n",
      "Generated 57 models\n",
      "Generated 58 models\n",
      "Generated 59 models\n",
      "Generated 60 models\n",
      "Generated 61 models\n",
      "Generated 62 models\n",
      "Generated 63 models\n",
      "Generated 64 models\n",
      "Generated 65 models\n",
      "Generated 66 models\n",
      "Generated 67 models\n",
      "Generated 68 models\n",
      "Generated 69 models\n",
      "Generated 70 models\n",
      "Generated 71 models\n",
      "Generated 72 models\n",
      "Generated 73 models\n",
      "Generated 74 models\n",
      "Generated 75 models\n",
      "Generated 76 models\n",
      "Generated 77 models\n",
      "Generated 78 models\n",
      "Generated 79 models\n",
      "Generated 80 models\n",
      "Generated 81 models\n",
      "Generated 82 models\n",
      "Generated 83 models\n",
      "Generated 84 models\n",
      "Generated 85 models\n",
      "Generated 86 models\n",
      "Generated 87 models\n",
      "Generated 88 models\n",
      "Generated 89 models\n",
      "Generated 90 models\n",
      "Generated 91 models\n",
      "Generated 92 models\n",
      "Generated 93 models\n",
      "Generated 94 models\n",
      "Generated 95 models\n",
      "Generated 96 models\n",
      "Generated 97 models\n",
      "Generated 98 models\n",
      "Generated 99 models\n",
      "Generated 100 models\n",
      "Generated 101 models\n",
      "Generated 102 models\n",
      "Generated 103 models\n",
      "Generated 104 models\n",
      "Generated 105 models\n",
      "Generated 106 models\n",
      "Generated 107 models\n",
      "Generated 108 models\n",
      "Generated 109 models\n",
      "Generated 110 models\n",
      "Generated 111 models\n"
     ]
    }
   ],
   "source": [
    "_ = cycle.run(num_cycles=100)\n"
   ]
  }
 ],
 "metadata": {
  "kernelspec": {
   "display_name": "Python 3",
   "language": "python",
   "name": "python3"
  },
  "language_info": {
   "codemirror_mode": {
    "name": "ipython",
    "version": 2
   },
   "file_extension": ".py",
   "mimetype": "text/x-python",
   "name": "python",
   "nbconvert_exporter": "python",
   "pygments_lexer": "ipython2"
  }
 },
 "nbformat": 4,
 "nbformat_minor": 0
}
