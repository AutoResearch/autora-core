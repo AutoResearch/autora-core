{
 "cells": [
  {
   "cell_type": "markdown",
   "id": "3a5b711036c1580c",
   "metadata": {},
   "source": [
    "# State Objects with History"
   ]
  },
  {
   "cell_type": "markdown",
   "id": "4f3b8109e7e35d3a",
   "metadata": {},
   "source": [
    "Some state objects use a history, rather than the fields direct in the state, to record changes in an experiment's \n",
    "data over time."
   ]
  },
  {
   "cell_type": "code",
   "execution_count": null,
   "id": "initial_id",
   "metadata": {},
   "outputs": [
    {
     "data": {
      "text/plain": [
       "AlternateDeltaHistory(history=[...], variables=None, conditions=None, experiment_data=None, model=None)"
      ]
     },
     "execution_count": null,
     "metadata": {},
     "output_type": "execute_result"
    }
   ],
   "source": [
    "import random\n",
    "from pprint import pp\n",
    "\n",
    "from autora.state import Delta\n",
    "from autora.state_history_delta_alternative import AlternateDeltaHistory\n",
    "\n",
    "AlternateDeltaHistory()"
   ]
  },
  {
   "cell_type": "markdown",
   "id": "f6a614d39f993a06",
   "metadata": {},
   "source": [
    "We create an empty state and add initial data using Deltas. Each time this state is updated, the values in the fields `variables`, `conditions` etc. are replaced:"
   ]
  },
  {
   "cell_type": "code",
   "execution_count": null,
   "id": "1af8d93494c5256d",
   "metadata": {},
   "outputs": [
    {
     "data": {
      "text/html": [
       "<div>\n",
       "<style scoped>\n",
       "    .dataframe tbody tr th:only-of-type {\n",
       "        vertical-align: middle;\n",
       "    }\n",
       "\n",
       "    .dataframe tbody tr th {\n",
       "        vertical-align: top;\n",
       "    }\n",
       "\n",
       "    .dataframe thead th {\n",
       "        text-align: right;\n",
       "    }\n",
       "</style>\n",
       "<table border=\"1\" class=\"dataframe\">\n",
       "  <thead>\n",
       "    <tr style=\"text-align: right;\">\n",
       "      <th></th>\n",
       "      <th>x</th>\n",
       "    </tr>\n",
       "  </thead>\n",
       "  <tbody>\n",
       "    <tr>\n",
       "      <th>0</th>\n",
       "      <td>5</td>\n",
       "    </tr>\n",
       "    <tr>\n",
       "      <th>1</th>\n",
       "      <td>6</td>\n",
       "    </tr>\n",
       "    <tr>\n",
       "      <th>2</th>\n",
       "      <td>7</td>\n",
       "    </tr>\n",
       "    <tr>\n",
       "      <th>3</th>\n",
       "      <td>8</td>\n",
       "    </tr>\n",
       "    <tr>\n",
       "      <th>4</th>\n",
       "      <td>9</td>\n",
       "    </tr>\n",
       "  </tbody>\n",
       "</table>\n",
       "</div>"
      ],
      "text/plain": [
       "   x\n",
       "0  5\n",
       "1  6\n",
       "2  7\n",
       "3  8\n",
       "4  9"
      ]
     },
     "execution_count": null,
     "metadata": {},
     "output_type": "execute_result"
    }
   ],
   "source": [
    "import pandas as pd\n",
    "\n",
    "s = AlternateDeltaHistory() + Delta(conditions=dict(x=range(5))) + Delta(conditions=dict(x=range(5, 10)))\n",
    "s.conditions"
   ]
  },
  {
   "cell_type": "markdown",
   "id": "3aed485655696cc8",
   "metadata": {},
   "source": [
    "But the history keeps a record of the changes: the initial state (emtpy), and then the two Deltas:"
   ]
  },
  {
   "cell_type": "code",
   "execution_count": null,
   "id": "b4f746a8af05c195",
   "metadata": {},
   "outputs": [
    {
     "data": {
      "text/plain": [
       "History([AlternateDeltaHistory(history=[...], variables=None, conditions=None, experiment_data=None, model=None),\n",
       "         {'conditions': {'x': range(0, 5)}},\n",
       "         {'conditions': {'x': range(5, 10)}}])"
      ]
     },
     "execution_count": null,
     "metadata": {},
     "output_type": "execute_result"
    }
   ],
   "source": [
    "s.history"
   ]
  },
  {
   "cell_type": "markdown",
   "id": "bef0879f430ea121",
   "metadata": {},
   "source": [
    "We can reconstruct the state at any point by slicing the history and using the `.reconstruct` method, here after the \n",
    "first Delta but before the second:"
   ]
  },
  {
   "cell_type": "code",
   "execution_count": null,
   "id": "cc7f9c6532f28f8d",
   "metadata": {},
   "outputs": [
    {
     "data": {
      "text/html": [
       "<div>\n",
       "<style scoped>\n",
       "    .dataframe tbody tr th:only-of-type {\n",
       "        vertical-align: middle;\n",
       "    }\n",
       "\n",
       "    .dataframe tbody tr th {\n",
       "        vertical-align: top;\n",
       "    }\n",
       "\n",
       "    .dataframe thead th {\n",
       "        text-align: right;\n",
       "    }\n",
       "</style>\n",
       "<table border=\"1\" class=\"dataframe\">\n",
       "  <thead>\n",
       "    <tr style=\"text-align: right;\">\n",
       "      <th></th>\n",
       "      <th>x</th>\n",
       "    </tr>\n",
       "  </thead>\n",
       "  <tbody>\n",
       "    <tr>\n",
       "      <th>0</th>\n",
       "      <td>0</td>\n",
       "    </tr>\n",
       "    <tr>\n",
       "      <th>1</th>\n",
       "      <td>1</td>\n",
       "    </tr>\n",
       "    <tr>\n",
       "      <th>2</th>\n",
       "      <td>2</td>\n",
       "    </tr>\n",
       "    <tr>\n",
       "      <th>3</th>\n",
       "      <td>3</td>\n",
       "    </tr>\n",
       "    <tr>\n",
       "      <th>4</th>\n",
       "      <td>4</td>\n",
       "    </tr>\n",
       "  </tbody>\n",
       "</table>\n",
       "</div>"
      ],
      "text/plain": [
       "   x\n",
       "0  0\n",
       "1  1\n",
       "2  2\n",
       "3  3\n",
       "4  4"
      ]
     },
     "execution_count": null,
     "metadata": {},
     "output_type": "execute_result"
    }
   ],
   "source": [
    "s.history[:2].reconstruct().conditions"
   ]
  },
  {
   "cell_type": "markdown",
   "id": "e72803574116a22f",
   "metadata": {},
   "source": [
    "By adding additional metadata to the Deltas, we can make it easier to find particular states. This might be useful in\n",
    " a complex AutoRA cycle where different steps need different versions of the same data.   "
   ]
  },
  {
   "cell_type": "code",
   "execution_count": null,
   "id": "9b6d6e76dad8beff",
   "metadata": {},
   "outputs": [],
   "source": [
    "def apply_transformation_to_input_state(function):\n",
    "    \"\"\"Decorator which applies a transformation to the input state\"\"\"\n",
    "    "
   ]
  },
  {
   "cell_type": "code",
   "execution_count": null,
   "id": "1d187204c2e7a82a",
   "metadata": {},
   "outputs": [
    {
     "name": "stdout",
     "output_type": "stream",
     "text": [
      "Empty DataFrame\n",
      "Columns: [x]\n",
      "Index: []\n",
      "[AlternateDeltaHistory(history=[...], variables=None, conditions=Empty DataFrame\n",
      "Columns: [x]\n",
      "Index: [], experiment_data=None, model=None), {'conditions': {'x': [0]}}]\n",
      "   x\n",
      "0  0\n",
      "[AlternateDeltaHistory(history=[...], variables=None, conditions=Empty DataFrame\n",
      "Columns: [x]\n",
      "Index: [], experiment_data=None, model=None), {'conditions': {'x': [0]}}, {'conditions': {'x': [1]}}]\n",
      "   x\n",
      "0  1\n",
      "[AlternateDeltaHistory(history=[...], variables=None, conditions=Empty DataFrame\n",
      "Columns: [x]\n",
      "Index: [], experiment_data=None, model=None), {'conditions': {'x': [0]}}, {'conditions': {'x': [1]}}, {'conditions': {'x': [0]}}]\n",
      "   x\n",
      "0  0\n",
      "[AlternateDeltaHistory(history=[...], variables=None, conditions=Empty DataFrame\n",
      "Columns: [x]\n",
      "Index: [], experiment_data=None, model=None), {'conditions': {'x': [0]}}, {'conditions': {'x': [1]}}, {'conditions': {'x': [0]}}, {'conditions': {'x': [1]}}]\n",
      "   x\n",
      "0  1\n",
      "[AlternateDeltaHistory(history=[...], variables=None, conditions=Empty DataFrame\n",
      "Columns: [x]\n",
      "Index: [], experiment_data=None, model=None), {'conditions': {'x': [0]}}, {'conditions': {'x': [1]}}, {'conditions': {'x': [0]}}, {'conditions': {'x': [1]}}, {'conditions': {'x': [0]}}]\n",
      "   x\n",
      "0  0\n",
      "[AlternateDeltaHistory(history=[...], variables=None, conditions=Empty DataFrame\n",
      "Columns: [x]\n",
      "Index: [], experiment_data=None, model=None), {'conditions': {'x': [0]}}, {'conditions': {'x': [1]}}, {'conditions': {'x': [0]}}, {'conditions': {'x': [1]}}, {'conditions': {'x': [0]}}, {'conditions': {'x': [1]}}]\n"
     ]
    }
   ],
   "source": [
    "from autora.state_history_delta import delta_to_state_transformed\n",
    "from autora.state import inputs_from_state\n",
    "\n",
    "t = AlternateDeltaHistory(conditions=pd.DataFrame({\"x\": []}))\n",
    "\n",
    "# TODO: At this step we need a function which we can use to concatenate all of the \n",
    "# TODO: raw condition data but return them as part of the state. We don't have the \n",
    "# TODO: necessary helper functions on the History yet.\n",
    "@delta_to_state_transformed(lambda s: s.where(meta=\"raw\"))   \n",
    "@inputs_from_state\n",
    "def experimentalist(conditions):\n",
    "    possible_conditions = set(range(10))\n",
    "    print(conditions)\n",
    "    already_seen_conditions = set(conditions[\"x\"])  \n",
    "    allowed_conditions = possible_conditions - already_seen_conditions\n",
    "    conditions_out = min(allowed_conditions)\n",
    "    return Delta(conditions=dict(x=[conditions_out]))\n",
    "\n",
    "for i in range(6):\n",
    "    t = experimentalist(t)\n",
    "    print(t.history)\n",
    "\n",
    "\n"
   ]
  },
  {
   "cell_type": "code",
   "execution_count": null,
   "id": "e42f5f53024068ff",
   "metadata": {},
   "outputs": [],
   "source": []
  }
 ],
 "metadata": {
  "kernelspec": {
   "display_name": "Python 3",
   "language": "python",
   "name": "python3"
  },
  "language_info": {
   "codemirror_mode": {
    "name": "ipython",
    "version": 2
   },
   "file_extension": ".py",
   "mimetype": "text/x-python",
   "name": "python",
   "nbconvert_exporter": "python",
   "pygments_lexer": "ipython2"
  }
 },
 "nbformat": 4,
 "nbformat_minor": 5
}
