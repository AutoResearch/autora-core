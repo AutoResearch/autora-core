{
 "cells": [
  {
   "cell_type": "markdown",
   "source": [
    "# Accessing \"State-dependent Properties\"\n",
    "\n",
    "Some experimentalists, experiment runners and theorists require access to the values\n",
    "created during the cycle execution, e.g. experimentalists which require access\n",
    "to the current best theory or the observed data. These data update each cycle, and\n",
    "so cannot easily be set using simple `params`.\n",
    "\n",
    "For this case, it is possible to use \"state-dependent properties\" in the `params`\n",
    "dictionary. These are the following strings, which will be replaced during execution by\n",
    "their respective current values:\n",
    "\n",
    "- `\"%observations.ivs[-1]%\"`: the last observed independent variables\n",
    "- `\"%observations.dvs[-1]%\"`: the last observed dependent variables\n",
    "- `\"%observations.ivs%\"`: all the observed independent variables,\n",
    "concatenated into a single array\n",
    "- `\"%observations.dvs%\"`: all the observed dependent variables,\n",
    "concatenated into a single array\n",
    "- `\"%theories[-1]%\"`: the last fitted theorist\n",
    "- `\"%theories%\"`: all the fitted theorists\n",
    "\n",
    "In the following example, we use the `\"observations.ivs\"` cycle property for an\n",
    "experimentalist which excludes those conditions which have\n",
    "already been seen."
   ],
   "metadata": {
    "collapsed": false
   }
  },
  {
   "cell_type": "code",
   "execution_count": null,
   "outputs": [],
   "source": [
    "import numpy as np\n",
    "from autora.experimentalist.pipeline import make_pipeline\n",
    "from autora.variable import VariableCollection, Variable\n",
    "from sklearn.linear_model import LinearRegression\n",
    "import pandas as pd\n",
    "from functools import partial\n",
    "\n",
    "from autora_workflow import Cycle"
   ],
   "metadata": {
    "collapsed": false,
    "ExecuteTime": {
     "start_time": "2023-04-21T10:11:48.542685Z",
     "end_time": "2023-04-21T10:11:49.240286Z"
    }
   }
  },
  {
   "cell_type": "code",
   "execution_count": null,
   "outputs": [],
   "source": [
    "def ground_truth(x):\n",
    "    return x + 1\n",
    "variables = VariableCollection(\n",
    "   independent_variables=[Variable(name=\"x\", allowed_values=range(10))],\n",
    "   dependent_variables=[Variable(name=\"y\")],\n",
    "   )\n",
    "random_sampler_rng = np.random.default_rng(seed=180)\n",
    "def custom_random_sampler(conditions, n):\n",
    "    sampled_conditions = random_sampler_rng.choice(conditions, size=n, replace=False)\n",
    "    return sampled_conditions\n",
    "def exclude_conditions(conditions, excluded_conditions):\n",
    "    remaining_conditions = list(set(conditions) - set(excluded_conditions.flatten()))\n",
    "    return remaining_conditions\n",
    "unobserved_data_experimentalist = make_pipeline([\n",
    "    variables.independent_variables[0].allowed_values,\n",
    "    exclude_conditions,\n",
    "    custom_random_sampler,\n",
    "    partial(pd.DataFrame, columns=[\"x\"])\n",
    "    ]\n",
    ")\n",
    "example_theorist = LinearRegression()\n",
    "def get_example_synthetic_experiment_runner():\n",
    "    rng = np.random.default_rng(seed=180)\n",
    "    def runner(x):\n",
    "        return ground_truth(x) + rng.normal(0, 0.1, x.shape)\n",
    "    def dataframe_runner(conditions_df: pd.DataFrame):\n",
    "        observations_df = conditions_df.copy()\n",
    "        observations_df[\"y\"] = runner(conditions_df[\"x\"])\n",
    "        return observations_df\n",
    "    return dataframe_runner\n",
    "\n",
    "example_synthetic_experiment_runner = get_example_synthetic_experiment_runner()\n",
    "\n",
    "cycle_with_state_dep_properties = Cycle(\n",
    "    metadata=variables,\n",
    "    theorist=example_theorist,\n",
    "    experimentalist=unobserved_data_experimentalist,\n",
    "    experiment_runner=example_synthetic_experiment_runner,\n",
    "    params={\n",
    "        \"experimentalist\": {\n",
    "            \"exclude_conditions\": {\"excluded_conditions\": \"%observations.ivs%\"},\n",
    "            \"custom_random_sampler\": {\"n\": 1}\n",
    "        }\n",
    "    }\n",
    ")"
   ],
   "metadata": {
    "collapsed": false,
    "ExecuteTime": {
     "start_time": "2023-04-21T10:14:08.492688Z",
     "end_time": "2023-04-21T10:14:08.509297Z"
    }
   }
  },
  {
   "cell_type": "markdown",
   "source": [
    "Now we can run the cycler to generate conditions and run experiments. The first time round,\n",
    "we have the full set of 10 possible conditions to select from, and we select \"2\" at random:"
   ],
   "metadata": {
    "collapsed": false
   }
  },
  {
   "cell_type": "code",
   "execution_count": null,
   "outputs": [],
   "source": [
    "cycle_with_state_dep_properties.run().data.conditions[-1]"
   ],
   "metadata": {
    "collapsed": false,
    "ExecuteTime": {
     "start_time": "2023-04-21T10:14:08.944084Z",
     "end_time": "2023-04-21T10:14:08.947971Z"
    }
   }
  },
  {
   "cell_type": "markdown",
   "source": [
    "We can continue to run the cycler, each time we add more to the list of \"excluded\" options:"
   ],
   "metadata": {
    "collapsed": false
   }
  },
  {
   "cell_type": "code",
   "execution_count": null,
   "outputs": [],
   "source": [
    "cycle_with_state_dep_properties.run(num_cycles=9).data.conditions[-1]"
   ],
   "metadata": {
    "collapsed": false,
    "ExecuteTime": {
     "start_time": "2023-04-21T10:14:09.882758Z",
     "end_time": "2023-04-21T10:14:09.886945Z"
    }
   }
  },
  {
   "cell_type": "markdown",
   "source": [
    "If we try to evaluate it again, the experimentalist fails, as there aren't any more\n",
    "conditions which are available:"
   ],
   "metadata": {
    "collapsed": false
   }
  },
  {
   "cell_type": "code",
   "execution_count": null,
   "outputs": [],
   "source": [
    "cycle_with_state_dep_properties.run()  # doctest: +ELLIPSIS"
   ],
   "metadata": {
    "collapsed": false
   }
  },
  {
   "cell_type": "code",
   "execution_count": null,
   "outputs": [],
   "source": [
    "pd.concat(cycle_with_state_dep_properties.data.conditions, ignore_index=True)\n"
   ],
   "metadata": {
    "collapsed": false,
    "ExecuteTime": {
     "start_time": "2023-04-21T10:15:55.891770Z",
     "end_time": "2023-04-21T10:15:55.898789Z"
    }
   }
  }
 ],
 "metadata": {
  "kernelspec": {
   "display_name": "Python 3",
   "language": "python",
   "name": "python3"
  },
  "language_info": {
   "codemirror_mode": {
    "name": "ipython",
    "version": 2
   },
   "file_extension": ".py",
   "mimetype": "text/x-python",
   "name": "python",
   "nbconvert_exporter": "python",
   "pygments_lexer": "ipython2",
   "version": "2.7.6"
  }
 },
 "nbformat": 4,
 "nbformat_minor": 0
}
