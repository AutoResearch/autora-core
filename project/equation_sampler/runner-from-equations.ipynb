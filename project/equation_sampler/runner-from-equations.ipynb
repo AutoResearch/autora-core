{
 "cells": [
  {
   "cell_type": "markdown",
   "source": [
    "# Install dependencies"
   ],
   "metadata": {
    "collapsed": false
   }
  },
  {
   "cell_type": "code",
   "execution_count": 1,
   "outputs": [
    {
     "name": "stdout",
     "output_type": "stream",
     "text": [
      "Requirement already satisfied: autora in /Users/younesstrittmatter/Documents/GitHub/AutoResearch/autora-core/venv/lib/python3.11/site-packages (3.1.0)\r\n",
      "Requirement already satisfied: autora-core in /Users/younesstrittmatter/Documents/GitHub/AutoResearch/autora-core/src (from autora) (3.3.1.dev56+g7c86fac.d20230817)\r\n",
      "Requirement already satisfied: autora-workflow in /Users/younesstrittmatter/Documents/GitHub/AutoResearch/autora-core/venv/lib/python3.11/site-packages (from autora) (0.4.0)\r\n",
      "Requirement already satisfied: autora-synthetic in /Users/younesstrittmatter/Documents/GitHub/AutoResearch/autora-core/venv/lib/python3.11/site-packages (from autora) (1.0.3)\r\n",
      "Requirement already satisfied: numpy in /Users/younesstrittmatter/Documents/GitHub/AutoResearch/autora-core/venv/lib/python3.11/site-packages (from autora-core->autora) (1.25.2)\r\n",
      "Requirement already satisfied: matplotlib in /Users/younesstrittmatter/Documents/GitHub/AutoResearch/autora-core/venv/lib/python3.11/site-packages (from autora-core->autora) (3.7.2)\r\n",
      "Requirement already satisfied: pandas in /Users/younesstrittmatter/Documents/GitHub/AutoResearch/autora-core/venv/lib/python3.11/site-packages (from autora-core->autora) (2.0.3)\r\n",
      "Requirement already satisfied: scikit-learn in /Users/younesstrittmatter/Documents/GitHub/AutoResearch/autora-core/venv/lib/python3.11/site-packages (from autora-core->autora) (1.3.0)\r\n",
      "Requirement already satisfied: typer[all] in /Users/younesstrittmatter/Documents/GitHub/AutoResearch/autora-core/venv/lib/python3.11/site-packages (from autora-workflow->autora) (0.9.0)\r\n",
      "Requirement already satisfied: dill in /Users/younesstrittmatter/Documents/GitHub/AutoResearch/autora-core/venv/lib/python3.11/site-packages (from autora-workflow->autora) (0.3.7)\r\n",
      "Requirement already satisfied: pyyaml in /Users/younesstrittmatter/Documents/GitHub/AutoResearch/autora-core/venv/lib/python3.11/site-packages (from autora-workflow->autora) (6.0.1)\r\n",
      "Requirement already satisfied: contourpy>=1.0.1 in /Users/younesstrittmatter/Documents/GitHub/AutoResearch/autora-core/venv/lib/python3.11/site-packages (from matplotlib->autora-core->autora) (1.1.0)\r\n",
      "Requirement already satisfied: cycler>=0.10 in /Users/younesstrittmatter/Documents/GitHub/AutoResearch/autora-core/venv/lib/python3.11/site-packages (from matplotlib->autora-core->autora) (0.11.0)\r\n",
      "Requirement already satisfied: fonttools>=4.22.0 in /Users/younesstrittmatter/Documents/GitHub/AutoResearch/autora-core/venv/lib/python3.11/site-packages (from matplotlib->autora-core->autora) (4.42.0)\r\n",
      "Requirement already satisfied: kiwisolver>=1.0.1 in /Users/younesstrittmatter/Documents/GitHub/AutoResearch/autora-core/venv/lib/python3.11/site-packages (from matplotlib->autora-core->autora) (1.4.4)\r\n",
      "Requirement already satisfied: packaging>=20.0 in /Users/younesstrittmatter/Documents/GitHub/AutoResearch/autora-core/venv/lib/python3.11/site-packages (from matplotlib->autora-core->autora) (23.1)\r\n",
      "Requirement already satisfied: pillow>=6.2.0 in /Users/younesstrittmatter/Documents/GitHub/AutoResearch/autora-core/venv/lib/python3.11/site-packages (from matplotlib->autora-core->autora) (10.0.0)\r\n",
      "Requirement already satisfied: pyparsing<3.1,>=2.3.1 in /Users/younesstrittmatter/Documents/GitHub/AutoResearch/autora-core/venv/lib/python3.11/site-packages (from matplotlib->autora-core->autora) (3.0.9)\r\n",
      "Requirement already satisfied: python-dateutil>=2.7 in /Users/younesstrittmatter/Documents/GitHub/AutoResearch/autora-core/venv/lib/python3.11/site-packages (from matplotlib->autora-core->autora) (2.8.2)\r\n",
      "Requirement already satisfied: pytz>=2020.1 in /Users/younesstrittmatter/Documents/GitHub/AutoResearch/autora-core/venv/lib/python3.11/site-packages (from pandas->autora-core->autora) (2023.3)\r\n",
      "Requirement already satisfied: tzdata>=2022.1 in /Users/younesstrittmatter/Documents/GitHub/AutoResearch/autora-core/venv/lib/python3.11/site-packages (from pandas->autora-core->autora) (2023.3)\r\n",
      "Requirement already satisfied: scipy>=1.5.0 in /Users/younesstrittmatter/Documents/GitHub/AutoResearch/autora-core/venv/lib/python3.11/site-packages (from scikit-learn->autora-core->autora) (1.11.1)\r\n",
      "Requirement already satisfied: joblib>=1.1.1 in /Users/younesstrittmatter/Documents/GitHub/AutoResearch/autora-core/venv/lib/python3.11/site-packages (from scikit-learn->autora-core->autora) (1.3.2)\r\n",
      "Requirement already satisfied: threadpoolctl>=2.0.0 in /Users/younesstrittmatter/Documents/GitHub/AutoResearch/autora-core/venv/lib/python3.11/site-packages (from scikit-learn->autora-core->autora) (3.2.0)\r\n",
      "Requirement already satisfied: click<9.0.0,>=7.1.1 in /Users/younesstrittmatter/Documents/GitHub/AutoResearch/autora-core/venv/lib/python3.11/site-packages (from typer[all]->autora-workflow->autora) (8.1.6)\r\n",
      "Requirement already satisfied: typing-extensions>=3.7.4.3 in /Users/younesstrittmatter/Documents/GitHub/AutoResearch/autora-core/venv/lib/python3.11/site-packages (from typer[all]->autora-workflow->autora) (4.7.1)\r\n",
      "Requirement already satisfied: colorama<0.5.0,>=0.4.3 in /Users/younesstrittmatter/Documents/GitHub/AutoResearch/autora-core/venv/lib/python3.11/site-packages (from typer[all]->autora-workflow->autora) (0.4.6)\r\n",
      "Requirement already satisfied: shellingham<2.0.0,>=1.3.0 in /Users/younesstrittmatter/Documents/GitHub/AutoResearch/autora-core/venv/lib/python3.11/site-packages (from typer[all]->autora-workflow->autora) (1.5.3)\r\n",
      "Requirement already satisfied: rich<14.0.0,>=10.11.0 in /Users/younesstrittmatter/Documents/GitHub/AutoResearch/autora-core/venv/lib/python3.11/site-packages (from typer[all]->autora-workflow->autora) (13.5.2)\r\n",
      "Requirement already satisfied: six>=1.5 in /Users/younesstrittmatter/Documents/GitHub/AutoResearch/autora-core/venv/lib/python3.11/site-packages (from python-dateutil>=2.7->matplotlib->autora-core->autora) (1.16.0)\r\n",
      "Requirement already satisfied: markdown-it-py>=2.2.0 in /Users/younesstrittmatter/Documents/GitHub/AutoResearch/autora-core/venv/lib/python3.11/site-packages (from rich<14.0.0,>=10.11.0->typer[all]->autora-workflow->autora) (3.0.0)\r\n",
      "Requirement already satisfied: pygments<3.0.0,>=2.13.0 in /Users/younesstrittmatter/Documents/GitHub/AutoResearch/autora-core/venv/lib/python3.11/site-packages (from rich<14.0.0,>=10.11.0->typer[all]->autora-workflow->autora) (2.16.1)\r\n",
      "Requirement already satisfied: mdurl~=0.1 in /Users/younesstrittmatter/Documents/GitHub/AutoResearch/autora-core/venv/lib/python3.11/site-packages (from markdown-it-py>=2.2.0->rich<14.0.0,>=10.11.0->typer[all]->autora-workflow->autora) (0.1.2)\r\n",
      "Requirement already satisfied: autora-synthetic-abstract-equation in /Users/younesstrittmatter/Documents/GitHub/AutoResearch/autora-core/venv/lib/python3.11/site-packages (0.0.6)\r\n",
      "Requirement already satisfied: autora-core in /Users/younesstrittmatter/Documents/GitHub/AutoResearch/autora-core/src (from autora-synthetic-abstract-equation) (3.3.1.dev56+g7c86fac.d20230817)\r\n",
      "Requirement already satisfied: autora-synthetic in /Users/younesstrittmatter/Documents/GitHub/AutoResearch/autora-core/venv/lib/python3.11/site-packages (from autora-synthetic-abstract-equation) (1.0.3)\r\n",
      "Requirement already satisfied: scikit-learn in /Users/younesstrittmatter/Documents/GitHub/AutoResearch/autora-core/venv/lib/python3.11/site-packages (from autora-synthetic-abstract-equation) (1.3.0)\r\n",
      "Requirement already satisfied: sympy in /Users/younesstrittmatter/Documents/GitHub/AutoResearch/autora-core/venv/lib/python3.11/site-packages (from autora-synthetic-abstract-equation) (1.12)\r\n",
      "Requirement already satisfied: numpy in /Users/younesstrittmatter/Documents/GitHub/AutoResearch/autora-core/venv/lib/python3.11/site-packages (from autora-core->autora-synthetic-abstract-equation) (1.25.2)\r\n",
      "Requirement already satisfied: matplotlib in /Users/younesstrittmatter/Documents/GitHub/AutoResearch/autora-core/venv/lib/python3.11/site-packages (from autora-core->autora-synthetic-abstract-equation) (3.7.2)\r\n",
      "Requirement already satisfied: pandas in /Users/younesstrittmatter/Documents/GitHub/AutoResearch/autora-core/venv/lib/python3.11/site-packages (from autora-core->autora-synthetic-abstract-equation) (2.0.3)\r\n",
      "Requirement already satisfied: scipy>=1.5.0 in /Users/younesstrittmatter/Documents/GitHub/AutoResearch/autora-core/venv/lib/python3.11/site-packages (from scikit-learn->autora-synthetic-abstract-equation) (1.11.1)\r\n",
      "Requirement already satisfied: joblib>=1.1.1 in /Users/younesstrittmatter/Documents/GitHub/AutoResearch/autora-core/venv/lib/python3.11/site-packages (from scikit-learn->autora-synthetic-abstract-equation) (1.3.2)\r\n",
      "Requirement already satisfied: threadpoolctl>=2.0.0 in /Users/younesstrittmatter/Documents/GitHub/AutoResearch/autora-core/venv/lib/python3.11/site-packages (from scikit-learn->autora-synthetic-abstract-equation) (3.2.0)\r\n",
      "Requirement already satisfied: mpmath>=0.19 in /Users/younesstrittmatter/Documents/GitHub/AutoResearch/autora-core/venv/lib/python3.11/site-packages (from sympy->autora-synthetic-abstract-equation) (1.3.0)\r\n",
      "Requirement already satisfied: contourpy>=1.0.1 in /Users/younesstrittmatter/Documents/GitHub/AutoResearch/autora-core/venv/lib/python3.11/site-packages (from matplotlib->autora-core->autora-synthetic-abstract-equation) (1.1.0)\r\n",
      "Requirement already satisfied: cycler>=0.10 in /Users/younesstrittmatter/Documents/GitHub/AutoResearch/autora-core/venv/lib/python3.11/site-packages (from matplotlib->autora-core->autora-synthetic-abstract-equation) (0.11.0)\r\n",
      "Requirement already satisfied: fonttools>=4.22.0 in /Users/younesstrittmatter/Documents/GitHub/AutoResearch/autora-core/venv/lib/python3.11/site-packages (from matplotlib->autora-core->autora-synthetic-abstract-equation) (4.42.0)\r\n",
      "Requirement already satisfied: kiwisolver>=1.0.1 in /Users/younesstrittmatter/Documents/GitHub/AutoResearch/autora-core/venv/lib/python3.11/site-packages (from matplotlib->autora-core->autora-synthetic-abstract-equation) (1.4.4)\r\n",
      "Requirement already satisfied: packaging>=20.0 in /Users/younesstrittmatter/Documents/GitHub/AutoResearch/autora-core/venv/lib/python3.11/site-packages (from matplotlib->autora-core->autora-synthetic-abstract-equation) (23.1)\r\n",
      "Requirement already satisfied: pillow>=6.2.0 in /Users/younesstrittmatter/Documents/GitHub/AutoResearch/autora-core/venv/lib/python3.11/site-packages (from matplotlib->autora-core->autora-synthetic-abstract-equation) (10.0.0)\r\n",
      "Requirement already satisfied: pyparsing<3.1,>=2.3.1 in /Users/younesstrittmatter/Documents/GitHub/AutoResearch/autora-core/venv/lib/python3.11/site-packages (from matplotlib->autora-core->autora-synthetic-abstract-equation) (3.0.9)\r\n",
      "Requirement already satisfied: python-dateutil>=2.7 in /Users/younesstrittmatter/Documents/GitHub/AutoResearch/autora-core/venv/lib/python3.11/site-packages (from matplotlib->autora-core->autora-synthetic-abstract-equation) (2.8.2)\r\n",
      "Requirement already satisfied: pytz>=2020.1 in /Users/younesstrittmatter/Documents/GitHub/AutoResearch/autora-core/venv/lib/python3.11/site-packages (from pandas->autora-core->autora-synthetic-abstract-equation) (2023.3)\r\n",
      "Requirement already satisfied: tzdata>=2022.1 in /Users/younesstrittmatter/Documents/GitHub/AutoResearch/autora-core/venv/lib/python3.11/site-packages (from pandas->autora-core->autora-synthetic-abstract-equation) (2023.3)\r\n",
      "Requirement already satisfied: six>=1.5 in /Users/younesstrittmatter/Documents/GitHub/AutoResearch/autora-core/venv/lib/python3.11/site-packages (from python-dateutil>=2.7->matplotlib->autora-core->autora-synthetic-abstract-equation) (1.16.0)\r\n"
     ]
    }
   ],
   "source": [
    "!pip install autora\n",
    "!pip install -U autora-synthetic-abstract-equation"
   ],
   "metadata": {
    "collapsed": false
   }
  },
  {
   "cell_type": "code",
   "execution_count": 2,
   "outputs": [
    {
     "name": "stderr",
     "output_type": "stream",
     "text": [
      "/Users/younesstrittmatter/Documents/GitHub/AutoResearch/autora-core/venv/lib/python3.11/site-packages/autora/experiment_runner/synthetic/abstract/equation/__init__.py:138: RuntimeWarning: Unnamed data is used. Arguments will be sorted alphabetically. Consider using a Pandas DataFrame with named columns for better clarity and ease of use.\n",
      "  warnings.warn(\n"
     ]
    },
    {
     "data": {
      "text/plain": "   x  y         z\n0  1  1  0.000305\n1  2  2 -0.001040\n2  2  3 -4.999250",
      "text/html": "<div>\n<style scoped>\n    .dataframe tbody tr th:only-of-type {\n        vertical-align: middle;\n    }\n\n    .dataframe tbody tr th {\n        vertical-align: top;\n    }\n\n    .dataframe thead th {\n        text-align: right;\n    }\n</style>\n<table border=\"1\" class=\"dataframe\">\n  <thead>\n    <tr style=\"text-align: right;\">\n      <th></th>\n      <th>x</th>\n      <th>y</th>\n      <th>z</th>\n    </tr>\n  </thead>\n  <tbody>\n    <tr>\n      <th>0</th>\n      <td>1</td>\n      <td>1</td>\n      <td>0.000305</td>\n    </tr>\n    <tr>\n      <th>1</th>\n      <td>2</td>\n      <td>2</td>\n      <td>-0.001040</td>\n    </tr>\n    <tr>\n      <th>2</th>\n      <td>2</td>\n      <td>3</td>\n      <td>-4.999250</td>\n    </tr>\n  </tbody>\n</table>\n</div>"
     },
     "execution_count": 2,
     "metadata": {},
     "output_type": "execute_result"
    }
   ],
   "source": [
    "from autora.experiment_runner.synthetic.abstract.equation import equation_experiment\n",
    "from autora.variable import IV, DV, VariableCollection\n",
    "# First, import sympy and numpy\n",
    "from sympy import symbols\n",
    "import numpy as np\n",
    "\n",
    "# Declare our variables\n",
    "x, y = symbols(\"x y\")\n",
    "\n",
    "# Declare the expression\n",
    "expr = x ** 2 - y ** 2\n",
    "\n",
    "# now we can generate a autora experiment runner from the equation. We need to also provide the variables\n",
    "iv_x = IV(name='x', allowed_values=np.linspace(-10,10) ,value_range=(-10,10))\n",
    "iv_y = IV(name='y', allowed_values=np.linspace(-10,10) ,value_range=(-10,10))\n",
    "dv_z = DV(name='z')\n",
    "\n",
    "experiment = equation_experiment(expr, [iv_x, iv_y], dv_z)\n",
    "\n",
    "# Declare a test input:\n",
    "test_input = np.array([[1, 1], [2 ,2], [2 ,3]])\n",
    "\n",
    "# Run the experiment with this input:\n",
    "experiment.experiment_runner(test_input)"
   ],
   "metadata": {
    "collapsed": false
   }
  },
  {
   "cell_type": "markdown",
   "source": [
    "Note, that there is noise added by default, if we don't want any noise, we can specify the runner without noise:"
   ],
   "metadata": {
    "collapsed": false
   }
  },
  {
   "cell_type": "markdown",
   "source": [
    "We can use this runner with the state logic or autora:\n",
    "First import and instantiate a state:"
   ],
   "metadata": {
    "collapsed": false
   }
  },
  {
   "cell_type": "code",
   "execution_count": 3,
   "outputs": [],
   "source": [
    "from autora.state.bundled import StandardState\n",
    "from autora.variable import VariableCollection, Variable\n",
    "\n",
    "s_0 = StandardState(\n",
    "    variables=VariableCollection(\n",
    "        independent_variables=[iv_x, iv_y],\n",
    "        dependent_variables=[dv_z]\n",
    "    )\n",
    ")\n"
   ],
   "metadata": {
    "collapsed": false
   }
  },
  {
   "cell_type": "markdown",
   "source": [
    "Then the components (experimentalist, experiment_runner and theorist)\n"
   ],
   "metadata": {
    "collapsed": false
   }
  },
  {
   "cell_type": "code",
   "execution_count": 4,
   "outputs": [
    {
     "data": {
      "text/plain": "StandardState(variables=VariableCollection(independent_variables=[IV(name='x', value_range=(-10, 10), allowed_values=array([-10.        ,  -9.59183673,  -9.18367347,  -8.7755102 ,\n        -8.36734694,  -7.95918367,  -7.55102041,  -7.14285714,\n        -6.73469388,  -6.32653061,  -5.91836735,  -5.51020408,\n        -5.10204082,  -4.69387755,  -4.28571429,  -3.87755102,\n        -3.46938776,  -3.06122449,  -2.65306122,  -2.24489796,\n        -1.83673469,  -1.42857143,  -1.02040816,  -0.6122449 ,\n        -0.20408163,   0.20408163,   0.6122449 ,   1.02040816,\n         1.42857143,   1.83673469,   2.24489796,   2.65306122,\n         3.06122449,   3.46938776,   3.87755102,   4.28571429,\n         4.69387755,   5.10204082,   5.51020408,   5.91836735,\n         6.32653061,   6.73469388,   7.14285714,   7.55102041,\n         7.95918367,   8.36734694,   8.7755102 ,   9.18367347,\n         9.59183673,  10.        ]), units='', type=<ValueType.REAL: 'real'>, variable_label='Independent Variable', rescale=1, is_covariate=False), IV(name='y', value_range=(-10, 10), allowed_values=array([-10.        ,  -9.59183673,  -9.18367347,  -8.7755102 ,\n        -8.36734694,  -7.95918367,  -7.55102041,  -7.14285714,\n        -6.73469388,  -6.32653061,  -5.91836735,  -5.51020408,\n        -5.10204082,  -4.69387755,  -4.28571429,  -3.87755102,\n        -3.46938776,  -3.06122449,  -2.65306122,  -2.24489796,\n        -1.83673469,  -1.42857143,  -1.02040816,  -0.6122449 ,\n        -0.20408163,   0.20408163,   0.6122449 ,   1.02040816,\n         1.42857143,   1.83673469,   2.24489796,   2.65306122,\n         3.06122449,   3.46938776,   3.87755102,   4.28571429,\n         4.69387755,   5.10204082,   5.51020408,   5.91836735,\n         6.32653061,   6.73469388,   7.14285714,   7.55102041,\n         7.95918367,   8.36734694,   8.7755102 ,   9.18367347,\n         9.59183673,  10.        ]), units='', type=<ValueType.REAL: 'real'>, variable_label='Independent Variable', rescale=1, is_covariate=False)], dependent_variables=[DV(name='z', value_range=None, allowed_values=None, units='', type=<ValueType.REAL: 'real'>, variable_label='Dependent Variable', rescale=1, is_covariate=False)], covariates=[]), conditions=          x         y\n0 -8.367347  7.142857\n1  5.510204 -8.367347\n2  3.061224  3.877551\n3 -1.428571 -5.918367\n4 -1.428571 -8.367347, experiment_data=None, models=[])"
     },
     "execution_count": 4,
     "metadata": {},
     "output_type": "execute_result"
    }
   ],
   "source": [
    "from autora.experimentalist.random_ import random_pool\n",
    "from autora.state.delta import on_state\n",
    "\n",
    "experimentalist = on_state(function=random_pool, output=[\"conditions\"])\n",
    "s_1 = experimentalist(s_0, random_state=42)\n",
    "s_1\n"
   ],
   "metadata": {
    "collapsed": false
   }
  },
  {
   "cell_type": "code",
   "execution_count": 5,
   "outputs": [
    {
     "data": {
      "text/plain": "StandardState(variables=VariableCollection(independent_variables=[IV(name='x', value_range=(-10, 10), allowed_values=array([-10.        ,  -9.59183673,  -9.18367347,  -8.7755102 ,\n        -8.36734694,  -7.95918367,  -7.55102041,  -7.14285714,\n        -6.73469388,  -6.32653061,  -5.91836735,  -5.51020408,\n        -5.10204082,  -4.69387755,  -4.28571429,  -3.87755102,\n        -3.46938776,  -3.06122449,  -2.65306122,  -2.24489796,\n        -1.83673469,  -1.42857143,  -1.02040816,  -0.6122449 ,\n        -0.20408163,   0.20408163,   0.6122449 ,   1.02040816,\n         1.42857143,   1.83673469,   2.24489796,   2.65306122,\n         3.06122449,   3.46938776,   3.87755102,   4.28571429,\n         4.69387755,   5.10204082,   5.51020408,   5.91836735,\n         6.32653061,   6.73469388,   7.14285714,   7.55102041,\n         7.95918367,   8.36734694,   8.7755102 ,   9.18367347,\n         9.59183673,  10.        ]), units='', type=<ValueType.REAL: 'real'>, variable_label='Independent Variable', rescale=1, is_covariate=False), IV(name='y', value_range=(-10, 10), allowed_values=array([-10.        ,  -9.59183673,  -9.18367347,  -8.7755102 ,\n        -8.36734694,  -7.95918367,  -7.55102041,  -7.14285714,\n        -6.73469388,  -6.32653061,  -5.91836735,  -5.51020408,\n        -5.10204082,  -4.69387755,  -4.28571429,  -3.87755102,\n        -3.46938776,  -3.06122449,  -2.65306122,  -2.24489796,\n        -1.83673469,  -1.42857143,  -1.02040816,  -0.6122449 ,\n        -0.20408163,   0.20408163,   0.6122449 ,   1.02040816,\n         1.42857143,   1.83673469,   2.24489796,   2.65306122,\n         3.06122449,   3.46938776,   3.87755102,   4.28571429,\n         4.69387755,   5.10204082,   5.51020408,   5.91836735,\n         6.32653061,   6.73469388,   7.14285714,   7.55102041,\n         7.95918367,   8.36734694,   8.7755102 ,   9.18367347,\n         9.59183673,  10.        ]), units='', type=<ValueType.REAL: 'real'>, variable_label='Independent Variable', rescale=1, is_covariate=False)], dependent_variables=[DV(name='z', value_range=None, allowed_values=None, units='', type=<ValueType.REAL: 'real'>, variable_label='Dependent Variable', rescale=1, is_covariate=False)], covariates=[]), conditions=          x         y\n0 -8.367347  7.142857\n1  5.510204 -8.367347\n2  3.061224  3.877551\n3 -1.428571 -5.918367\n4 -1.428571 -8.367347, experiment_data=          x         y          z\n0 -8.367347  7.142857  18.993027\n1  5.510204 -8.367347 -39.652097\n2  3.061224  3.877551  -5.665609\n3 -1.428571 -5.918367 -32.986128\n4 -1.428571 -8.367347 -67.971995, models=[])"
     },
     "execution_count": 5,
     "metadata": {},
     "output_type": "execute_result"
    }
   ],
   "source": [
    "experiment_runner = on_state(function=experiment.experiment_runner, output=['experiment_data'])\n",
    "s_2 = experiment_runner(s_1)\n",
    "s_2\n"
   ],
   "metadata": {
    "collapsed": false
   }
  }
 ],
 "metadata": {
  "kernelspec": {
   "display_name": "Python 3",
   "language": "python",
   "name": "python3"
  },
  "language_info": {
   "codemirror_mode": {
    "name": "ipython",
    "version": 2
   },
   "file_extension": ".py",
   "mimetype": "text/x-python",
   "name": "python",
   "nbconvert_exporter": "python",
   "pygments_lexer": "ipython2",
   "version": "2.7.6"
  }
 },
 "nbformat": 4,
 "nbformat_minor": 0
}
