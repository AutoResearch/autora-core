{
 "cells": [
  {
   "cell_type": "code",
   "execution_count": null,
   "metadata": {},
   "outputs": [],
   "source": [
    "from __future__ import annotations\n",
    "from dataclasses import dataclass\n",
    "from typing import List, TypeVar, Any, Tuple\n",
    "import pandas as pd\n",
    "from typing import Generic\n",
    "from typing import Literal"
   ]
  },
  {
   "cell_type": "markdown",
   "metadata": {},
   "source": [
    "## First attempt – a dataframe wrapper which holds deltas"
   ]
  },
  {
   "cell_type": "code",
   "execution_count": null,
   "metadata": {},
   "outputs": [],
   "source": [
    "class DataFrameWithDeltas:\n",
    "    deltas: List[Tuple[str, pd.DataFrame]]\n",
    "\n",
    "    def __init__(self, initial: pd.DataFrame):\n",
    "        self.deltas = [(\"new\", initial)]\n",
    "\n",
    "    def update(self, delta: pd.DataFrame, kind: Literal[\"new\", \"extend\"]):\n",
    "        self.deltas.append((kind, delta))\n",
    "\n",
    "    @property\n",
    "    def df(self):\n",
    "        v = None\n",
    "        for kind, delta in self.deltas:\n",
    "            if kind == \"new\":\n",
    "                v = delta\n",
    "            elif kind == \"extend\":\n",
    "                assert isinstance(v, pd.DataFrame)\n",
    "                v = pd.concat([v, delta])\n",
    "            else:\n",
    "                raise NotImplementedError(f\"{kind=}\")\n",
    "        return v\n"
   ]
  },
  {
   "cell_type": "code",
   "execution_count": null,
   "metadata": {},
   "outputs": [
    {
     "data": {
      "text/html": [
       "<div>\n",
       "<style scoped>\n",
       "    .dataframe tbody tr th:only-of-type {\n",
       "        vertical-align: middle;\n",
       "    }\n",
       "\n",
       "    .dataframe tbody tr th {\n",
       "        vertical-align: top;\n",
       "    }\n",
       "\n",
       "    .dataframe thead th {\n",
       "        text-align: right;\n",
       "    }\n",
       "</style>\n",
       "<table border=\"1\" class=\"dataframe\">\n",
       "  <thead>\n",
       "    <tr style=\"text-align: right;\">\n",
       "      <th></th>\n",
       "      <th>a</th>\n",
       "      <th>b</th>\n",
       "    </tr>\n",
       "  </thead>\n",
       "  <tbody>\n",
       "    <tr>\n",
       "      <th>0</th>\n",
       "      <td>1</td>\n",
       "      <td>a</td>\n",
       "    </tr>\n",
       "    <tr>\n",
       "      <th>1</th>\n",
       "      <td>2</td>\n",
       "      <td>b</td>\n",
       "    </tr>\n",
       "    <tr>\n",
       "      <th>2</th>\n",
       "      <td>3</td>\n",
       "      <td>c</td>\n",
       "    </tr>\n",
       "  </tbody>\n",
       "</table>\n",
       "</div>"
      ],
      "text/plain": [
       "   a  b\n",
       "0  1  a\n",
       "1  2  b\n",
       "2  3  c"
      ]
     },
     "execution_count": null,
     "metadata": {},
     "output_type": "execute_result"
    }
   ],
   "source": [
    "d = DataFrameWithDeltas(pd.DataFrame({\"a\": [1,2,3], \"b\": list(\"abc\")}))\n",
    "d.df"
   ]
  },
  {
   "cell_type": "code",
   "execution_count": null,
   "metadata": {},
   "outputs": [
    {
     "data": {
      "text/html": [
       "<div>\n",
       "<style scoped>\n",
       "    .dataframe tbody tr th:only-of-type {\n",
       "        vertical-align: middle;\n",
       "    }\n",
       "\n",
       "    .dataframe tbody tr th {\n",
       "        vertical-align: top;\n",
       "    }\n",
       "\n",
       "    .dataframe thead th {\n",
       "        text-align: right;\n",
       "    }\n",
       "</style>\n",
       "<table border=\"1\" class=\"dataframe\">\n",
       "  <thead>\n",
       "    <tr style=\"text-align: right;\">\n",
       "      <th></th>\n",
       "      <th>a</th>\n",
       "      <th>b</th>\n",
       "    </tr>\n",
       "  </thead>\n",
       "  <tbody>\n",
       "    <tr>\n",
       "      <th>0</th>\n",
       "      <td>1</td>\n",
       "      <td>a</td>\n",
       "    </tr>\n",
       "    <tr>\n",
       "      <th>1</th>\n",
       "      <td>2</td>\n",
       "      <td>b</td>\n",
       "    </tr>\n",
       "    <tr>\n",
       "      <th>2</th>\n",
       "      <td>3</td>\n",
       "      <td>c</td>\n",
       "    </tr>\n",
       "    <tr>\n",
       "      <th>0</th>\n",
       "      <td>4</td>\n",
       "      <td>d</td>\n",
       "    </tr>\n",
       "  </tbody>\n",
       "</table>\n",
       "</div>"
      ],
      "text/plain": [
       "   a  b\n",
       "0  1  a\n",
       "1  2  b\n",
       "2  3  c\n",
       "0  4  d"
      ]
     },
     "execution_count": null,
     "metadata": {},
     "output_type": "execute_result"
    }
   ],
   "source": [
    "d.update(pd.DataFrame({\"a\": [4], \"b\": list(\"d\")}), kind=\"extend\")\n",
    "d.df\n"
   ]
  },
  {
   "cell_type": "code",
   "execution_count": null,
   "metadata": {},
   "outputs": [
    {
     "data": {
      "text/html": [
       "<div>\n",
       "<style scoped>\n",
       "    .dataframe tbody tr th:only-of-type {\n",
       "        vertical-align: middle;\n",
       "    }\n",
       "\n",
       "    .dataframe tbody tr th {\n",
       "        vertical-align: top;\n",
       "    }\n",
       "\n",
       "    .dataframe thead th {\n",
       "        text-align: right;\n",
       "    }\n",
       "</style>\n",
       "<table border=\"1\" class=\"dataframe\">\n",
       "  <thead>\n",
       "    <tr style=\"text-align: right;\">\n",
       "      <th></th>\n",
       "      <th>a</th>\n",
       "      <th>b</th>\n",
       "    </tr>\n",
       "  </thead>\n",
       "  <tbody>\n",
       "    <tr>\n",
       "      <th>0</th>\n",
       "      <td>5</td>\n",
       "      <td>e</td>\n",
       "    </tr>\n",
       "  </tbody>\n",
       "</table>\n",
       "</div>"
      ],
      "text/plain": [
       "   a  b\n",
       "0  5  e"
      ]
     },
     "execution_count": null,
     "metadata": {},
     "output_type": "execute_result"
    }
   ],
   "source": [
    "d.update(pd.DataFrame({\"a\": [5], \"b\": list(\"e\")}), kind=\"new\")\n",
    "d.df"
   ]
  },
  {
   "cell_type": "code",
   "execution_count": null,
   "metadata": {},
   "outputs": [
    {
     "data": {
      "text/plain": [
       "[('new',\n",
       "     a  b\n",
       "  0  1  a\n",
       "  1  2  b\n",
       "  2  3  c),\n",
       " ('extend',\n",
       "     a  b\n",
       "  0  4  d),\n",
       " ('new',\n",
       "     a  b\n",
       "  0  5  e)]"
      ]
     },
     "execution_count": null,
     "metadata": {},
     "output_type": "execute_result"
    }
   ],
   "source": [
    "d.deltas"
   ]
  },
  {
   "cell_type": "markdown",
   "metadata": {},
   "source": [
    "## State with Deltas\n",
    "\n",
    "literature_search / seed_data -> {conditions: […], observations: […], experimental_data: [...] model: […], status:\n",
    "“expected”,\n",
    "variables:\n",
    "VariableCollection(…), kind = \"new\", from: \"seed\"}\n",
    "\n",
    "experimentalist -> {conditions: […], status: “proposed”, kind=\"extend\", from: \"experimentalist\"} ## the\n",
    "experiment_runner only wants the \"last\" proposed conditions, so we need to be able to access the \"last proposed\n",
    "experiment\"\n",
    "\n",
    "experiment_runner -> {experimental_data: [...], conditions: view(data), observations: view(data), status:\n",
    "“observed”, kind: \"extend\", from: \"experiment_runner\"}\n",
    "\n",
    "theorist -> {model: TheModel(), (fitted_)data: [...], status: “fitted”, kind: \"extend\", from: \"theorist\"}\n",
    "\n",
    "can \"kind\" just be the \"extension\" function rather than the abstract name.\n",
    "\n",
    "Idea: we store all these results as \"deltas\":\n",
    "all_data = [seed_data, experimentalist_result_1, experiment_runner_result_1, theorist_result_1, ... ]\n",
    "... and then resolve the deltas whenever we need a particular code.\n"
   ]
  },
  {
   "cell_type": "code",
   "execution_count": null,
   "metadata": {},
   "outputs": [
    {
     "ename": "TypeError",
     "evalue": "TypeVar(name, constraint, ...): constraints must be types. Got (~S,).",
     "output_type": "error",
     "traceback": [
      "\u001b[0;31m---------------------------------------------------------------------------\u001b[0m",
      "\u001b[0;31mTypeError\u001b[0m                                 Traceback (most recent call last)",
      "Cell \u001b[0;32mIn[7], line 7\u001b[0m\n\u001b[1;32m      3\u001b[0m     deltas: List[StateDelta[State]]\n\u001b[1;32m      5\u001b[0m S \u001b[38;5;241m=\u001b[39m TypeVar(\u001b[38;5;124m\"\u001b[39m\u001b[38;5;124mS\u001b[39m\u001b[38;5;124m\"\u001b[39m)\n\u001b[0;32m----> 7\u001b[0m \u001b[38;5;28;01mclass\u001b[39;00m \u001b[38;5;21;01mStateDelta\u001b[39;00m(S):\n\u001b[1;32m      8\u001b[0m     value: S\n\u001b[1;32m      9\u001b[0m     kind: Literal[\u001b[38;5;124m\"\u001b[39m\u001b[38;5;124mreplace\u001b[39m\u001b[38;5;124m\"\u001b[39m, \u001b[38;5;124m\"\u001b[39m\u001b[38;5;124mextend\u001b[39m\u001b[38;5;124m\"\u001b[39m]\n",
      "File \u001b[0;32m~/.local/share/rtx/installs/python/3.8.17/lib/python3.8/typing.py:598\u001b[0m, in \u001b[0;36mTypeVar.__init__\u001b[0;34m(self, name, bound, covariant, contravariant, *constraints)\u001b[0m\n\u001b[1;32m    596\u001b[0m     \u001b[38;5;28;01mraise\u001b[39;00m \u001b[38;5;167;01mTypeError\u001b[39;00m(\u001b[38;5;124m\"\u001b[39m\u001b[38;5;124mA single constraint is not allowed\u001b[39m\u001b[38;5;124m\"\u001b[39m)\n\u001b[1;32m    597\u001b[0m msg \u001b[38;5;241m=\u001b[39m \u001b[38;5;124m\"\u001b[39m\u001b[38;5;124mTypeVar(name, constraint, ...): constraints must be types.\u001b[39m\u001b[38;5;124m\"\u001b[39m\n\u001b[0;32m--> 598\u001b[0m \u001b[38;5;28mself\u001b[39m\u001b[38;5;241m.\u001b[39m__constraints__ \u001b[38;5;241m=\u001b[39m \u001b[38;5;28;43mtuple\u001b[39;49m\u001b[43m(\u001b[49m\u001b[43m_type_check\u001b[49m\u001b[43m(\u001b[49m\u001b[43mt\u001b[49m\u001b[43m,\u001b[49m\u001b[43m \u001b[49m\u001b[43mmsg\u001b[49m\u001b[43m)\u001b[49m\u001b[43m \u001b[49m\u001b[38;5;28;43;01mfor\u001b[39;49;00m\u001b[43m \u001b[49m\u001b[43mt\u001b[49m\u001b[43m \u001b[49m\u001b[38;5;129;43;01min\u001b[39;49;00m\u001b[43m \u001b[49m\u001b[43mconstraints\u001b[49m\u001b[43m)\u001b[49m\n\u001b[1;32m    599\u001b[0m \u001b[38;5;28;01mif\u001b[39;00m bound:\n\u001b[1;32m    600\u001b[0m     \u001b[38;5;28mself\u001b[39m\u001b[38;5;241m.\u001b[39m__bound__ \u001b[38;5;241m=\u001b[39m _type_check(bound, \u001b[38;5;124m\"\u001b[39m\u001b[38;5;124mBound must be a type.\u001b[39m\u001b[38;5;124m\"\u001b[39m)\n",
      "File \u001b[0;32m~/.local/share/rtx/installs/python/3.8.17/lib/python3.8/typing.py:598\u001b[0m, in \u001b[0;36m<genexpr>\u001b[0;34m(.0)\u001b[0m\n\u001b[1;32m    596\u001b[0m     \u001b[38;5;28;01mraise\u001b[39;00m \u001b[38;5;167;01mTypeError\u001b[39;00m(\u001b[38;5;124m\"\u001b[39m\u001b[38;5;124mA single constraint is not allowed\u001b[39m\u001b[38;5;124m\"\u001b[39m)\n\u001b[1;32m    597\u001b[0m msg \u001b[38;5;241m=\u001b[39m \u001b[38;5;124m\"\u001b[39m\u001b[38;5;124mTypeVar(name, constraint, ...): constraints must be types.\u001b[39m\u001b[38;5;124m\"\u001b[39m\n\u001b[0;32m--> 598\u001b[0m \u001b[38;5;28mself\u001b[39m\u001b[38;5;241m.\u001b[39m__constraints__ \u001b[38;5;241m=\u001b[39m \u001b[38;5;28mtuple\u001b[39m(\u001b[43m_type_check\u001b[49m\u001b[43m(\u001b[49m\u001b[43mt\u001b[49m\u001b[43m,\u001b[49m\u001b[43m \u001b[49m\u001b[43mmsg\u001b[49m\u001b[43m)\u001b[49m \u001b[38;5;28;01mfor\u001b[39;00m t \u001b[38;5;129;01min\u001b[39;00m constraints)\n\u001b[1;32m    599\u001b[0m \u001b[38;5;28;01mif\u001b[39;00m bound:\n\u001b[1;32m    600\u001b[0m     \u001b[38;5;28mself\u001b[39m\u001b[38;5;241m.\u001b[39m__bound__ \u001b[38;5;241m=\u001b[39m _type_check(bound, \u001b[38;5;124m\"\u001b[39m\u001b[38;5;124mBound must be a type.\u001b[39m\u001b[38;5;124m\"\u001b[39m)\n",
      "File \u001b[0;32m~/.local/share/rtx/installs/python/3.8.17/lib/python3.8/typing.py:149\u001b[0m, in \u001b[0;36m_type_check\u001b[0;34m(arg, msg, is_argument)\u001b[0m\n\u001b[1;32m    147\u001b[0m     \u001b[38;5;28;01mreturn\u001b[39;00m arg\n\u001b[1;32m    148\u001b[0m \u001b[38;5;28;01mif\u001b[39;00m \u001b[38;5;129;01mnot\u001b[39;00m \u001b[38;5;28mcallable\u001b[39m(arg):\n\u001b[0;32m--> 149\u001b[0m     \u001b[38;5;28;01mraise\u001b[39;00m \u001b[38;5;167;01mTypeError\u001b[39;00m(\u001b[38;5;124mf\u001b[39m\u001b[38;5;124m\"\u001b[39m\u001b[38;5;132;01m{\u001b[39;00mmsg\u001b[38;5;132;01m}\u001b[39;00m\u001b[38;5;124m Got \u001b[39m\u001b[38;5;132;01m{\u001b[39;00marg\u001b[38;5;132;01m!r:\u001b[39;00m\u001b[38;5;124m.100\u001b[39m\u001b[38;5;132;01m}\u001b[39;00m\u001b[38;5;124m.\u001b[39m\u001b[38;5;124m\"\u001b[39m)\n\u001b[1;32m    150\u001b[0m \u001b[38;5;28;01mreturn\u001b[39;00m arg\n",
      "\u001b[0;31mTypeError\u001b[0m: TypeVar(name, constraint, ...): constraints must be types. Got (~S,)."
     ]
    }
   ],
   "source": [
    "class State:\n",
    "    initial: Any\n",
    "    deltas: List[StateDelta[State]]\n",
    "\n",
    "S = TypeVar(\"S\")\n",
    "\n",
    "class StateDelta(S):\n",
    "    value: S\n",
    "    kind: Literal[\"replace\", \"extend\"]\n"
   ]
  },
  {
   "cell_type": "code",
   "execution_count": null,
   "metadata": {},
   "outputs": [],
   "source": [
    "State = TypeVar(\"S\")\n",
    "\n",
    "class StateWithDeltas(Generic[State]):\n",
    "    initial: Any\n",
    "    deltas: List[StateDelta[State]]\n",
    "\n",
    "class StateDelta(Generic[State]):\n",
    "    value: State\n",
    "    kind: Literal[]\n"
   ]
  }
 ],
 "metadata": {
  "kernelspec": {
   "display_name": "Python 3",
   "language": "python",
   "name": "python3"
  },
  "language_info": {
   "codemirror_mode": {
    "name": "ipython",
    "version": 2
   },
   "file_extension": ".py",
   "mimetype": "text/x-python",
   "name": "python",
   "nbconvert_exporter": "python",
   "pygments_lexer": "ipython2"
  }
 },
 "nbformat": 4,
 "nbformat_minor": 0
}
