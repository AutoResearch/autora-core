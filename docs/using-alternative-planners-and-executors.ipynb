{
 "cells": [
  {
   "cell_type": "markdown",
   "source": [
    "# Custom Planners and Executors\n",
    "\n",
    "By switching out the `executor_collection` and/or the `planner`, we can specify a\n",
    "different way of running the cycle.\n",
    "\n",
    "## Easier Seeding with a Smarter Planner\n",
    "\n",
    "In this example, we use the `Controller` which allows much more control over execution\n",
    "order. It considers the last available result and picks the matching next step. This means\n",
    "that seeding is relatively simple."
   ],
   "metadata": {
    "collapsed": false
   }
  },
  {
   "cell_type": "code",
   "execution_count": 1,
   "outputs": [],
   "source": [
    "import numpy as np\n",
    "from autora.experimentalist.pipeline import make_pipeline\n",
    "from autora.variable import VariableCollection, Variable\n",
    "from sklearn.linear_model import LinearRegression\n",
    "from autora.workflow import Controller\n",
    "from itertools import takewhile"
   ],
   "metadata": {
    "collapsed": false,
    "ExecuteTime": {
     "start_time": "2023-04-27T18:59:03.873023Z",
     "end_time": "2023-04-27T18:59:04.672733Z"
    }
   }
  },
  {
   "cell_type": "code",
   "execution_count": 2,
   "outputs": [],
   "source": [
    "def ground_truth(x):\n",
    "    return x + 1\n",
    "metadata_0 = VariableCollection(\n",
    "   independent_variables=[Variable(name=\"x1\", allowed_values=range(11))],\n",
    "   dependent_variables=[Variable(name=\"y\", value_range=(-20, 20))],\n",
    "   )\n",
    "example_experimentalist = make_pipeline(\n",
    "    [metadata_0.independent_variables[0].allowed_values])\n",
    "\n",
    "def get_example_synthetic_experiment_runner():\n",
    "    rng = np.random.default_rng(seed=180)\n",
    "    def runner(x):\n",
    "        return ground_truth(x) + rng.normal(0, 0.1, x.shape)\n",
    "    return runner\n",
    "\n",
    "example_synthetic_experiment_runner = get_example_synthetic_experiment_runner()\n",
    "\n",
    "example_theorist = LinearRegression()\n",
    "\n",
    "def monitor(state):\n",
    "    print(f\"MONITOR: Generated new {state.history[-1].kind}\")\n",
    "\n",
    "cycle_with_last_result_planner = Controller(\n",
    "    monitor=monitor,\n",
    "    metadata=metadata_0,\n",
    "    experimentalist=example_experimentalist,\n",
    "    experiment_runner=example_synthetic_experiment_runner,\n",
    "    theorist=example_theorist,\n",
    ")"
   ],
   "metadata": {
    "collapsed": false,
    "ExecuteTime": {
     "start_time": "2023-04-27T18:59:04.676248Z",
     "end_time": "2023-04-27T18:59:04.677510Z"
    }
   }
  },
  {
   "cell_type": "markdown",
   "source": [
    "When we run this cycle starting with no data, we generate an experimental condition first:"
   ],
   "metadata": {
    "collapsed": false
   }
  },
  {
   "cell_type": "code",
   "execution_count": 3,
   "outputs": [
    {
     "name": "stdout",
     "output_type": "stream",
     "text": [
      "MONITOR: Generated new ResultKind.CONDITION\n",
      "MONITOR: Generated new ResultKind.OBSERVATION\n",
      "MONITOR: Generated new ResultKind.THEORY\n",
      "MONITOR: Generated new ResultKind.CONDITION\n",
      "MONITOR: Generated new ResultKind.OBSERVATION\n",
      "MONITOR: Generated new ResultKind.THEORY\n"
     ]
    }
   ],
   "source": [
    "_ = list(takewhile(lambda c: len(c.state.theories) < 2, cycle_with_last_result_planner))"
   ],
   "metadata": {
    "collapsed": false,
    "ExecuteTime": {
     "start_time": "2023-04-27T18:59:04.679741Z",
     "end_time": "2023-04-27T18:59:04.684224Z"
    }
   }
  },
  {
   "cell_type": "markdown",
   "source": [
    "However, if we seed the same cycle with observations, then its first Executor will be the theorist:"
   ],
   "metadata": {
    "collapsed": false
   }
  },
  {
   "cell_type": "code",
   "execution_count": 4,
   "outputs": [],
   "source": [
    "controller_with_seed_observation = Controller(\n",
    "    monitor=monitor,\n",
    "    metadata=metadata_0,\n",
    "    theorist=example_theorist,\n",
    "    experimentalist=example_experimentalist,\n",
    "    experiment_runner=example_synthetic_experiment_runner,\n",
    ")\n",
    "seed_observation = example_synthetic_experiment_runner(np.linspace(0,5,10))\n",
    "controller_with_seed_observation.seed(observations=[seed_observation])"
   ],
   "metadata": {
    "collapsed": false,
    "ExecuteTime": {
     "start_time": "2023-04-27T18:59:04.685231Z",
     "end_time": "2023-04-27T18:59:04.686641Z"
    }
   }
  },
  {
   "cell_type": "code",
   "execution_count": 5,
   "outputs": [
    {
     "name": "stdout",
     "output_type": "stream",
     "text": [
      "MONITOR: Generated new ResultKind.THEORY\n"
     ]
    }
   ],
   "source": [
    "_ = next(controller_with_seed_observation)"
   ],
   "metadata": {
    "collapsed": false,
    "ExecuteTime": {
     "start_time": "2023-04-27T18:59:04.690949Z",
     "end_time": "2023-04-27T18:59:04.692002Z"
    }
   }
  },
  {
   "cell_type": "markdown",
   "source": [
    "## Arbitrary Execution Order (Toy Example)\n",
    "\n",
    "In some cases, we need to change the order of execution of different steps completely. This might be\n",
    " useful in cases when different experimentalists or theorists are needed at different times in\n",
    " the cycle, e.g. for initial seeding, or if the _order_ of execution is the subject of the\n",
    " experiment.\n",
    "\n",
    "In this example, we use a planner which suggests a different random operation at each\n",
    "step, demonstrating arbitrary execution order. We do this by modifying the planner attribute\n",
    "of an existing controller\n",
    "\n",
    "This might be useful in cases when different experimentalists or theorists are needed at\n",
    "different times in the cycle, e.g. for initial seeding."
   ],
   "metadata": {
    "collapsed": false
   }
  },
  {
   "cell_type": "code",
   "execution_count": 6,
   "outputs": [],
   "source": [
    "from autora.workflow.planner import random_operation_planner\n",
    "def monitor(state):\n",
    "    print(f\"MONITOR: Generated new {state.history[-1].kind}\")\n",
    "controller_with_random_planner = Controller(\n",
    "    planner=random_operation_planner,\n",
    "    monitor=monitor,\n",
    "    metadata=metadata_0,\n",
    "    theorist=example_theorist,\n",
    "    experimentalist=example_experimentalist,\n",
    "    experiment_runner=example_synthetic_experiment_runner,\n",
    ")\n"
   ],
   "metadata": {
    "collapsed": false,
    "ExecuteTime": {
     "start_time": "2023-04-27T18:59:04.692415Z",
     "end_time": "2023-04-27T18:59:04.725650Z"
    }
   }
  },
  {
   "cell_type": "markdown",
   "source": [
    "The `random_operation_planner` depends on the python random number generator, so we seed it first:"
   ],
   "metadata": {
    "collapsed": false
   }
  },
  {
   "cell_type": "code",
   "execution_count": 7,
   "outputs": [],
   "source": [
    "from random import seed\n",
    "seed(42)"
   ],
   "metadata": {
    "collapsed": false,
    "ExecuteTime": {
     "start_time": "2023-04-27T18:59:04.695749Z",
     "end_time": "2023-04-27T18:59:04.734183Z"
    }
   }
  },
  {
   "cell_type": "markdown",
   "source": [
    "We also want to watch the logging messages from the cycle:"
   ],
   "metadata": {
    "collapsed": false
   }
  },
  {
   "cell_type": "code",
   "execution_count": 8,
   "outputs": [],
   "source": [
    "import logging\n",
    "import sys\n",
    "logging.basicConfig(format='%(levelname)s: %(message)s', stream=sys.stdout,\n",
    "    level=logging.INFO)\n"
   ],
   "metadata": {
    "collapsed": false,
    "ExecuteTime": {
     "start_time": "2023-04-27T18:59:04.697356Z",
     "end_time": "2023-04-27T18:59:04.734306Z"
    }
   }
  },
  {
   "cell_type": "markdown",
   "source": [
    "Now we can evaluate the cycle and watch its behaviour:"
   ],
   "metadata": {
    "collapsed": false
   }
  },
  {
   "cell_type": "code",
   "execution_count": 9,
   "outputs": [],
   "source": [
    "def step(controller_):\n",
    "    try:\n",
    "        _ = next(controller_)\n",
    "    except Exception as e:\n",
    "        print(f\"FAILED: with {e=}\")\n"
   ],
   "metadata": {
    "collapsed": false,
    "ExecuteTime": {
     "start_time": "2023-04-27T18:59:04.700573Z",
     "end_time": "2023-04-27T18:59:04.734399Z"
    }
   }
  },
  {
   "cell_type": "markdown",
   "source": [
    "The first step, the theorist is selected as the random Executor, and it fails because it\n",
    "depends on there being observations to theorize against:"
   ],
   "metadata": {
    "collapsed": false
   }
  },
  {
   "cell_type": "code",
   "execution_count": 10,
   "outputs": [
    {
     "name": "stdout",
     "output_type": "stream",
     "text": [
      "FAILED: with e=AssertionError('observations=[] needs at least one entry for model fitting')\n"
     ]
    }
   ],
   "source": [
    "step(controller_with_random_planner) # i = 0"
   ],
   "metadata": {
    "collapsed": false,
    "ExecuteTime": {
     "start_time": "2023-04-27T18:59:04.703002Z",
     "end_time": "2023-04-27T18:59:04.734564Z"
    }
   }
  },
  {
   "cell_type": "markdown",
   "source": [
    "The second step, a new condition is generated."
   ],
   "metadata": {
    "collapsed": false
   }
  },
  {
   "cell_type": "code",
   "execution_count": 11,
   "outputs": [
    {
     "name": "stdout",
     "output_type": "stream",
     "text": [
      "MONITOR: Generated new ResultKind.CONDITION\n"
     ]
    }
   ],
   "source": [
    "step(controller_with_random_planner) # i = 1"
   ],
   "metadata": {
    "collapsed": false,
    "ExecuteTime": {
     "start_time": "2023-04-27T18:59:04.705556Z",
     "end_time": "2023-04-27T18:59:04.734675Z"
    }
   }
  },
  {
   "cell_type": "markdown",
   "source": [
    "... which is repeated on the third step as well:"
   ],
   "metadata": {
    "collapsed": false
   }
  },
  {
   "cell_type": "code",
   "execution_count": 12,
   "outputs": [
    {
     "name": "stdout",
     "output_type": "stream",
     "text": [
      "MONITOR: Generated new ResultKind.CONDITION\n"
     ]
    }
   ],
   "source": [
    "step(controller_with_random_planner) # i = 2"
   ],
   "metadata": {
    "collapsed": false,
    "ExecuteTime": {
     "start_time": "2023-04-27T18:59:04.708019Z",
     "end_time": "2023-04-27T18:59:04.734752Z"
    }
   }
  },
  {
   "cell_type": "markdown",
   "source": [
    "On the fourth step, we generate another error when trying to run the theorist:"
   ],
   "metadata": {
    "collapsed": false
   }
  },
  {
   "cell_type": "code",
   "execution_count": 13,
   "outputs": [
    {
     "name": "stdout",
     "output_type": "stream",
     "text": [
      "FAILED: with e=AssertionError('observations=[] needs at least one entry for model fitting')\n"
     ]
    }
   ],
   "source": [
    "step(controller_with_random_planner) # i = 3"
   ],
   "metadata": {
    "collapsed": false,
    "ExecuteTime": {
     "start_time": "2023-04-27T18:59:04.710179Z",
     "end_time": "2023-04-27T18:59:04.734837Z"
    }
   }
  },
  {
   "cell_type": "markdown",
   "source": [
    "On the fifth step, we generate a first real observation, so that the next time we try to run\n",
    "a theorist we are successful:"
   ],
   "metadata": {
    "collapsed": false
   }
  },
  {
   "cell_type": "code",
   "execution_count": 14,
   "outputs": [
    {
     "name": "stdout",
     "output_type": "stream",
     "text": [
      "MONITOR: Generated new ResultKind.OBSERVATION\n"
     ]
    }
   ],
   "source": [
    "step(controller_with_random_planner) # i = 4"
   ],
   "metadata": {
    "collapsed": false,
    "ExecuteTime": {
     "start_time": "2023-04-27T18:59:04.715286Z",
     "end_time": "2023-04-27T18:59:04.734976Z"
    }
   }
  },
  {
   "cell_type": "markdown",
   "source": [
    "By the ninth iteration, there are observations which the theorist can use, and it succeeds."
   ],
   "metadata": {
    "collapsed": false
   }
  },
  {
   "cell_type": "code",
   "execution_count": 15,
   "outputs": [
    {
     "name": "stdout",
     "output_type": "stream",
     "text": [
      "MONITOR: Generated new ResultKind.CONDITION\n",
      "MONITOR: Generated new ResultKind.CONDITION\n",
      "MONITOR: Generated new ResultKind.CONDITION\n",
      "MONITOR: Generated new ResultKind.THEORY\n"
     ]
    }
   ],
   "source": [
    "_ = list(takewhile(lambda c: len(c.state.theories) < 1, controller_with_random_planner))"
   ],
   "metadata": {
    "collapsed": false,
    "ExecuteTime": {
     "start_time": "2023-04-27T18:59:04.716882Z",
     "end_time": "2023-04-27T18:59:04.735116Z"
    }
   }
  },
  {
   "cell_type": "markdown",
   "source": [
    "## Arbitrary Executors and Planners\n",
    "\n",
    "In some cases, we need to go beyond adding different orders of planning the three\n",
    "`experimentalist`, `experiment_runner` and `theorist` and build more complex cycles with\n",
    "different Executors for different states.\n",
    "\n",
    "For instance, there might be a situation where at the start, the main \"active\" experimentalist\n",
    "can't be run as it needs one or more theories as input.\n",
    "Once there are at least two theories, then the active experimentalist _can_ be run.\n",
    "One method to handle this is to run a \"seed\" experimentalist until the main experimentalist can\n",
    "be used.\n",
    "\n",
    "In these cases, we need full control over (and have full responsibility for) the planners and\n",
    "executors.\n"
   ],
   "metadata": {
    "collapsed": false
   }
  },
  {
   "cell_type": "markdown",
   "source": [
    "The theory we'll try to discover is:"
   ],
   "metadata": {
    "collapsed": false
   }
  },
  {
   "cell_type": "code",
   "execution_count": 16,
   "outputs": [],
   "source": [
    "def ground_truth(x, m=3.5, c=1):\n",
    "    return m * x + c\n",
    "rng = np.random.default_rng(seed=180)\n",
    "def experiment_runner(x):\n",
    "    return ground_truth(x) + rng.normal(0, 0.1)\n",
    "metadata_2 = VariableCollection(\n",
    "   independent_variables=[Variable(name=\"x1\", value_range=(-10, 10))],\n",
    "   dependent_variables=[Variable(name=\"y\", value_range=(-100, 100))],\n",
    "   )"
   ],
   "metadata": {
    "collapsed": false,
    "ExecuteTime": {
     "start_time": "2023-04-27T18:59:04.722213Z",
     "end_time": "2023-04-27T18:59:04.735164Z"
    }
   }
  },
  {
   "cell_type": "markdown",
   "source": [
    "We now define a planner which chooses a different experimentalist when supplied with no data\n",
    "versus some data."
   ],
   "metadata": {
    "collapsed": false
   }
  },
  {
   "cell_type": "code",
   "execution_count": 17,
   "outputs": [],
   "source": [
    "from autora.workflow.planner import last_result_kind_planner\n",
    "from autora.workflow.state import History"
   ],
   "metadata": {
    "collapsed": false,
    "ExecuteTime": {
     "start_time": "2023-04-27T18:59:04.724514Z",
     "end_time": "2023-04-27T18:59:04.735340Z"
    }
   }
  },
  {
   "cell_type": "code",
   "execution_count": 18,
   "outputs": [],
   "source": [
    "def seeding_planner(state):\n",
    "    # We're going to reuse the \"last_result_kind_planner\" planner, and modify its output.\n",
    "    next_function = last_result_kind_planner(state)\n",
    "    if next_function == \"experimentalist\":\n",
    "        if len(state.theories) >= 2:\n",
    "            return \"main_experimentalist\"\n",
    "        else:\n",
    "            return \"seed_experimentalist\"\n",
    "    else:\n",
    "        return next_function\n"
   ],
   "metadata": {
    "collapsed": false,
    "ExecuteTime": {
     "start_time": "2023-04-27T18:59:04.725923Z",
     "end_time": "2023-04-27T18:59:04.735920Z"
    }
   }
  },
  {
   "cell_type": "markdown",
   "source": [
    "Now we can see what would happen with a particular state. If there are no results, then we get the seed experimentalist:"
   ],
   "metadata": {
    "collapsed": false
   }
  },
  {
   "cell_type": "code",
   "execution_count": 19,
   "outputs": [
    {
     "data": {
      "text/plain": "'seed_experimentalist'"
     },
     "execution_count": 19,
     "metadata": {},
     "output_type": "execute_result"
    }
   ],
   "source": [
    "seeding_planner(History())"
   ],
   "metadata": {
    "collapsed": false,
    "ExecuteTime": {
     "start_time": "2023-04-27T18:59:04.730860Z",
     "end_time": "2023-04-27T18:59:04.736176Z"
    }
   }
  },
  {
   "cell_type": "markdown",
   "source": [
    "... and we also get the seed experimentalist if the last result was a theory and there are less than two theories:"
   ],
   "metadata": {
    "collapsed": false
   }
  },
  {
   "cell_type": "code",
   "execution_count": 20,
   "outputs": [
    {
     "data": {
      "text/plain": "'seed_experimentalist'"
     },
     "execution_count": 20,
     "metadata": {},
     "output_type": "execute_result"
    }
   ],
   "source": [
    "seeding_planner(History(theories=['a single theory']))"
   ],
   "metadata": {
    "collapsed": false,
    "ExecuteTime": {
     "start_time": "2023-04-27T18:59:04.734243Z",
     "end_time": "2023-04-27T18:59:04.736754Z"
    }
   }
  },
  {
   "cell_type": "markdown",
   "source": [
    "whereas if we have at least two theories to work on, we get the main experimentalist:"
   ],
   "metadata": {
    "collapsed": false
   }
  },
  {
   "cell_type": "code",
   "execution_count": 21,
   "outputs": [
    {
     "data": {
      "text/plain": "'main_experimentalist'"
     },
     "execution_count": 21,
     "metadata": {},
     "output_type": "execute_result"
    }
   ],
   "source": [
    "seeding_planner(History(theories=['a theory', 'another theory']))"
   ],
   "metadata": {
    "collapsed": false,
    "ExecuteTime": {
     "start_time": "2023-04-27T18:59:04.737219Z",
     "end_time": "2023-04-27T18:59:04.745888Z"
    }
   }
  },
  {
   "cell_type": "markdown",
   "source": [
    "If we had a condition last, we choose the experiment runner next:"
   ],
   "metadata": {
    "collapsed": false
   }
  },
  {
   "cell_type": "code",
   "execution_count": 22,
   "outputs": [
    {
     "data": {
      "text/plain": "'experiment_runner'"
     },
     "execution_count": 22,
     "metadata": {},
     "output_type": "execute_result"
    }
   ],
   "source": [
    "seeding_planner(History(conditions=['a condition']))"
   ],
   "metadata": {
    "collapsed": false,
    "ExecuteTime": {
     "start_time": "2023-04-27T18:59:04.740082Z",
     "end_time": "2023-04-27T18:59:04.746073Z"
    }
   }
  },
  {
   "cell_type": "markdown",
   "source": [
    "If we had an observation last, we choose the theorist next:"
   ],
   "metadata": {
    "collapsed": false
   }
  },
  {
   "cell_type": "code",
   "execution_count": 23,
   "outputs": [
    {
     "data": {
      "text/plain": "'theorist'"
     },
     "execution_count": 23,
     "metadata": {},
     "output_type": "execute_result"
    }
   ],
   "source": [
    "seeding_planner(History(observations=['an observation']))"
   ],
   "metadata": {
    "collapsed": false,
    "ExecuteTime": {
     "start_time": "2023-04-27T18:59:04.743120Z",
     "end_time": "2023-04-27T18:59:04.746167Z"
    }
   }
  },
  {
   "cell_type": "markdown",
   "source": [
    "Now we need to define an executor collection to handle the actual execution steps."
   ],
   "metadata": {
    "collapsed": false
   }
  },
  {
   "cell_type": "code",
   "execution_count": 24,
   "outputs": [],
   "source": [
    "from autora.experimentalist.pipeline import make_pipeline, Pipeline\n",
    "from autora.experimentalist.sampler.random_sampler import random_sampler\n",
    "from functools import partial"
   ],
   "metadata": {
    "collapsed": false,
    "ExecuteTime": {
     "start_time": "2023-04-27T18:59:04.745770Z",
     "end_time": "2023-04-27T18:59:04.863538Z"
    }
   }
  },
  {
   "cell_type": "markdown",
   "source": [
    "Wen can run the seed pipeline with no data:"
   ],
   "metadata": {
    "collapsed": false
   }
  },
  {
   "cell_type": "code",
   "execution_count": 25,
   "outputs": [
    {
     "data": {
      "text/plain": "array([ 6.71671672, -0.73073073, -5.05505506,  6.13613614,  0.03003003,\n        4.59459459,  2.79279279,  5.43543544, -1.65165165,  8.0980981 ])"
     },
     "execution_count": 25,
     "metadata": {},
     "output_type": "execute_result"
    }
   ],
   "source": [
    "experimentalist_which_needs_no_data = make_pipeline([\n",
    "    np.linspace(*metadata_2.independent_variables[0].value_range, 1_000),\n",
    "    partial(random_sampler, n=10)]\n",
    ")\n",
    "np.array(experimentalist_which_needs_no_data())"
   ],
   "metadata": {
    "collapsed": false,
    "ExecuteTime": {
     "start_time": "2023-04-27T18:59:04.751620Z",
     "end_time": "2023-04-27T18:59:04.863802Z"
    }
   }
  },
  {
   "cell_type": "markdown",
   "source": [
    "... whereas we need some model for this sampler:"
   ],
   "metadata": {
    "collapsed": false
   }
  },
  {
   "cell_type": "code",
   "execution_count": 26,
   "outputs": [
    {
     "ename": "TypeError",
     "evalue": "model_disagreement_sampler() missing 1 required positional argument: 'models'",
     "output_type": "error",
     "traceback": [
      "\u001B[0;31m---------------------------------------------------------------------------\u001B[0m",
      "\u001B[0;31mTypeError\u001B[0m                                 Traceback (most recent call last)",
      "Cell \u001B[0;32mIn[26], line 5\u001B[0m\n\u001B[1;32m      1\u001B[0m \u001B[38;5;28;01mfrom\u001B[39;00m \u001B[38;5;21;01mautora\u001B[39;00m\u001B[38;5;21;01m.\u001B[39;00m\u001B[38;5;21;01mexperimentalist\u001B[39;00m\u001B[38;5;21;01m.\u001B[39;00m\u001B[38;5;21;01msampler\u001B[39;00m\u001B[38;5;21;01m.\u001B[39;00m\u001B[38;5;21;01mmodel_disagreement\u001B[39;00m \u001B[38;5;28;01mimport\u001B[39;00m model_disagreement_sampler\n\u001B[1;32m      2\u001B[0m experimentalist_which_needs_a_theory \u001B[38;5;241m=\u001B[39m Pipeline([\n\u001B[1;32m      3\u001B[0m     (\u001B[38;5;124m'\u001B[39m\u001B[38;5;124mpool\u001B[39m\u001B[38;5;124m'\u001B[39m, np\u001B[38;5;241m.\u001B[39mlinspace(\u001B[38;5;241m*\u001B[39mmetadata_2\u001B[38;5;241m.\u001B[39mindependent_variables[\u001B[38;5;241m0\u001B[39m]\u001B[38;5;241m.\u001B[39mvalue_range, \u001B[38;5;241m1_000\u001B[39m)),\n\u001B[1;32m      4\u001B[0m     (\u001B[38;5;124m'\u001B[39m\u001B[38;5;124msampler\u001B[39m\u001B[38;5;124m'\u001B[39m, partial(model_disagreement_sampler, num_samples\u001B[38;5;241m=\u001B[39m\u001B[38;5;241m5\u001B[39m)),])\n\u001B[0;32m----> 5\u001B[0m \u001B[43mexperimentalist_which_needs_a_theory\u001B[49m\u001B[43m(\u001B[49m\u001B[43m)\u001B[49m\n",
      "File \u001B[0;32m~/Developer/autora-core/src/autora/experimentalist/pipeline.py:171\u001B[0m, in \u001B[0;36mPipeline.__call__\u001B[0;34m(self, ex, **params)\u001B[0m\n\u001B[1;32m    169\u001B[0m     \u001B[38;5;28;01massert\u001B[39;00m \u001B[38;5;28misinstance\u001B[39m(pipe, Pipe)\n\u001B[1;32m    170\u001B[0m     all_params_for_pipe \u001B[38;5;241m=\u001B[39m merged_params\u001B[38;5;241m.\u001B[39mget(name, \u001B[38;5;28mdict\u001B[39m())\n\u001B[0;32m--> 171\u001B[0m     results\u001B[38;5;241m.\u001B[39mappend(\u001B[43mpipe\u001B[49m\u001B[43m(\u001B[49m\u001B[43mresults\u001B[49m\u001B[43m[\u001B[49m\u001B[38;5;241;43m-\u001B[39;49m\u001B[38;5;241;43m1\u001B[39;49m\u001B[43m]\u001B[49m\u001B[43m,\u001B[49m\u001B[43m \u001B[49m\u001B[38;5;241;43m*\u001B[39;49m\u001B[38;5;241;43m*\u001B[39;49m\u001B[43mall_params_for_pipe\u001B[49m\u001B[43m)\u001B[49m)\n\u001B[1;32m    173\u001B[0m \u001B[38;5;28;01mreturn\u001B[39;00m results[\u001B[38;5;241m-\u001B[39m\u001B[38;5;241m1\u001B[39m]\n",
      "\u001B[0;31mTypeError\u001B[0m: model_disagreement_sampler() missing 1 required positional argument: 'models'"
     ]
    }
   ],
   "source": [
    "from autora.experimentalist.sampler.model_disagreement import model_disagreement_sampler\n",
    "experimentalist_which_needs_a_theory = Pipeline([\n",
    "    ('pool', np.linspace(*metadata_2.independent_variables[0].value_range, 1_000)),\n",
    "    ('sampler', partial(model_disagreement_sampler, num_samples=5)),])\n",
    "experimentalist_which_needs_a_theory()"
   ],
   "metadata": {
    "collapsed": false
   }
  },
  {
   "cell_type": "markdown",
   "source": [
    "We'll have to provide the models during the cycle run.\n",
    "\n",
    "We need a reasonable theorist for this situation. For this problem, a linear regressor will suffice."
   ],
   "metadata": {
    "collapsed": false
   }
  },
  {
   "cell_type": "code",
   "execution_count": 27,
   "outputs": [],
   "source": [
    "t = LinearRegression()"
   ],
   "metadata": {
    "collapsed": false,
    "ExecuteTime": {
     "start_time": "2023-04-27T18:59:16.569889Z",
     "end_time": "2023-04-27T18:59:16.580114Z"
    }
   }
  },
  {
   "cell_type": "markdown",
   "source": [
    "Let's test the theorist for the ideal case – lots of data:"
   ],
   "metadata": {
    "collapsed": false
   }
  },
  {
   "cell_type": "code",
   "execution_count": 28,
   "outputs": [
    {
     "data": {
      "text/plain": "'m = 3.50, c = 1.04'"
     },
     "execution_count": 28,
     "metadata": {},
     "output_type": "execute_result"
    }
   ],
   "source": [
    "X = np.linspace(*metadata_2.independent_variables[0].value_range, 1_000).reshape(-1, 1)\n",
    "tfitted = t.fit(X, experiment_runner(X))\n",
    "f\"m = {tfitted.coef_[0][0]:.2f}, c = {tfitted.intercept_[0]:.2f}\""
   ],
   "metadata": {
    "collapsed": false,
    "ExecuteTime": {
     "start_time": "2023-04-27T18:59:17.807609Z",
     "end_time": "2023-04-27T18:59:17.816552Z"
    }
   }
  },
  {
   "cell_type": "markdown",
   "source": [
    "This seems to work fine.\n",
    "\n",
    "Now we can define the executor component. We'll use a factory method to generate the collection:"
   ],
   "metadata": {
    "collapsed": false
   }
  },
  {
   "cell_type": "code",
   "execution_count": 29,
   "outputs": [],
   "source": [
    "from autora.workflow.executor import make_online_executor_collection\n",
    "executor_collection = make_online_executor_collection([\n",
    "    (\"seed_experimentalist\", \"experimentalist\", experimentalist_which_needs_no_data),\n",
    "    (\"main_experimentalist\", \"experimentalist\", experimentalist_which_needs_a_theory),\n",
    "    (\"theorist\", \"theorist\", LinearRegression()),\n",
    "    (\"experiment_runner\", \"experiment_runner\", experiment_runner),\n",
    "])\n"
   ],
   "metadata": {
    "collapsed": false,
    "ExecuteTime": {
     "start_time": "2023-04-27T18:59:18.170109Z",
     "end_time": "2023-04-27T18:59:18.179154Z"
    }
   }
  },
  {
   "cell_type": "markdown",
   "source": [
    "We need some special parameters to handle the main experimentalist, so we specify those:"
   ],
   "metadata": {
    "collapsed": false
   }
  },
  {
   "cell_type": "code",
   "execution_count": 30,
   "outputs": [],
   "source": [
    "params = {\"main_experimentalist\": {\"sampler\": {\"models\": \"%theories%\"}}}"
   ],
   "metadata": {
    "collapsed": false,
    "ExecuteTime": {
     "start_time": "2023-04-27T18:59:18.518548Z",
     "end_time": "2023-04-27T18:59:18.528215Z"
    }
   }
  },
  {
   "cell_type": "markdown",
   "source": [
    "We now instantiate the controller:"
   ],
   "metadata": {
    "collapsed": false
   }
  },
  {
   "cell_type": "code",
   "execution_count": 31,
   "outputs": [
    {
     "data": {
      "text/plain": "<autora.workflow.base.BaseController at 0x176e719d0>"
     },
     "execution_count": 31,
     "metadata": {},
     "output_type": "execute_result"
    }
   ],
   "source": [
    "from autora.workflow.base import BaseController\n",
    "from autora.workflow.state import History\n",
    "c = BaseController(\n",
    "        state=History(metadata=metadata_2, params=params),\n",
    "        planner=seeding_planner,\n",
    "        executor_collection=executor_collection\n",
    ")\n",
    "c"
   ],
   "metadata": {
    "collapsed": false,
    "ExecuteTime": {
     "start_time": "2023-04-27T18:59:18.926964Z",
     "end_time": "2023-04-27T18:59:18.930882Z"
    }
   }
  },
  {
   "cell_type": "code",
   "execution_count": 32,
   "outputs": [],
   "source": [
    "class PrintHandler(logging.Handler):\n",
    "    def emit(self, record):\n",
    "        print(self.format(record))"
   ],
   "metadata": {
    "collapsed": false,
    "ExecuteTime": {
     "start_time": "2023-04-27T18:59:19.249578Z",
     "end_time": "2023-04-27T18:59:19.257785Z"
    }
   }
  },
  {
   "cell_type": "markdown",
   "source": [
    "On the first step, we generate a condition sampled randomly across the whole domain (as we\n",
    "expected):"
   ],
   "metadata": {
    "collapsed": false
   }
  },
  {
   "cell_type": "code",
   "execution_count": 33,
   "outputs": [
    {
     "data": {
      "text/plain": "Result(data=array([ 9.4994995 , -8.17817818, -1.19119119,  8.6986987 ,  7.45745746,\n       -6.93693694,  8.05805806, -1.45145145, -5.97597598,  1.57157157]), kind=ResultKind.CONDITION)"
     },
     "execution_count": 33,
     "metadata": {},
     "output_type": "execute_result"
    }
   ],
   "source": [
    "next(c).state.history[-1]"
   ],
   "metadata": {
    "collapsed": false,
    "ExecuteTime": {
     "start_time": "2023-04-27T18:59:19.737183Z",
     "end_time": "2023-04-27T18:59:19.747720Z"
    }
   }
  },
  {
   "cell_type": "markdown",
   "source": [
    "After three more steps, we generate a new condition, which again is sampled across the whole domain. Here we iterate\n",
    "the controller until we've got two sets of conditions:"
   ],
   "metadata": {
    "collapsed": false
   }
  },
  {
   "cell_type": "code",
   "execution_count": 34,
   "outputs": [
    {
     "data": {
      "text/plain": "Result(data=array([ 1.57157157, -3.93393393, -0.47047047, -4.47447447,  8.43843844,\n        6.17617618, -3.49349349, -8.998999  ,  4.93493493,  2.25225225]), kind=ResultKind.CONDITION)"
     },
     "execution_count": 34,
     "metadata": {},
     "output_type": "execute_result"
    }
   ],
   "source": [
    "_ = list(takewhile(lambda c: len(c.state.conditions) < 2, c))\n",
    "c.state.history[-1]"
   ],
   "metadata": {
    "collapsed": false,
    "ExecuteTime": {
     "start_time": "2023-04-27T18:59:20.137931Z",
     "end_time": "2023-04-27T18:59:20.145376Z"
    }
   }
  },
  {
   "cell_type": "markdown",
   "source": [
    "Once we have two theories:"
   ],
   "metadata": {
    "collapsed": false
   }
  },
  {
   "cell_type": "code",
   "execution_count": 35,
   "outputs": [
    {
     "data": {
      "text/plain": "[LinearRegression(), LinearRegression()]"
     },
     "execution_count": 35,
     "metadata": {},
     "output_type": "execute_result"
    }
   ],
   "source": [
    "_ = list(takewhile(lambda c: len(c.state.theories) < 2, c))\n",
    "c.state.theories"
   ],
   "metadata": {
    "collapsed": false,
    "ExecuteTime": {
     "start_time": "2023-04-27T18:59:21.040079Z",
     "end_time": "2023-04-27T18:59:21.060733Z"
    }
   }
  },
  {
   "cell_type": "markdown",
   "source": [
    "... when we run the next step, we'll get the main experimentalist. This samples five points from the extreme\n",
    "parts  of the problem domain where the disagreement between the two theories is the greatest:"
   ],
   "metadata": {
    "collapsed": false
   }
  },
  {
   "cell_type": "code",
   "execution_count": 36,
   "outputs": [
    {
     "name": "stdout",
     "output_type": "stream",
     "text": [
      "WARNING: new_conditions=array([-10.        ,  -9.97997998,  -9.95995996,  -9.93993994,\n",
      "        -9.91991992]) is an ndarray, so variable confusion is a possibility\n"
     ]
    },
    {
     "data": {
      "text/plain": "Result(data=array([-10.        ,  -9.97997998,  -9.95995996,  -9.93993994,\n        -9.91991992]), kind=ResultKind.CONDITION)"
     },
     "execution_count": 36,
     "metadata": {},
     "output_type": "execute_result"
    }
   ],
   "source": [
    "next(c).state.history[-1]\n"
   ],
   "metadata": {
    "collapsed": false,
    "ExecuteTime": {
     "start_time": "2023-04-27T18:59:23.419106Z",
     "end_time": "2023-04-27T18:59:23.445789Z"
    }
   }
  },
  {
   "cell_type": "code",
   "execution_count": null,
   "outputs": [],
   "source": [],
   "metadata": {
    "collapsed": false
   }
  }
 ],
 "metadata": {
  "kernelspec": {
   "display_name": "Python 3",
   "language": "python",
   "name": "python3"
  },
  "language_info": {
   "codemirror_mode": {
    "name": "ipython",
    "version": 2
   },
   "file_extension": ".py",
   "mimetype": "text/x-python",
   "name": "python",
   "nbconvert_exporter": "python",
   "pygments_lexer": "ipython2",
   "version": "2.7.6"
  }
 },
 "nbformat": 4,
 "nbformat_minor": 0
}
