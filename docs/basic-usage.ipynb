{
 "cells": [
  {
   "cell_type": "markdown",
   "source": [
    "# Basic Usage\n",
    "\n",
    "Aim: Use the Controller to recover a simple ground truth theory from noisy data."
   ],
   "metadata": {
    "collapsed": false
   }
  },
  {
   "cell_type": "code",
   "execution_count": null,
   "outputs": [],
   "source": [
    "import numpy as np\n",
    "from autora.experimentalist.pipeline import make_pipeline\n",
    "from autora.variable import VariableCollection, Variable\n",
    "from sklearn.linear_model import LinearRegression\n",
    "\n",
    "from autora.workflow import Cycle\n",
    "from itertools import takewhile"
   ],
   "metadata": {
    "collapsed": false,
    "ExecuteTime": {
     "start_time": "2023-04-21T10:17:18.040189Z",
     "end_time": "2023-04-21T10:17:18.763405Z"
    }
   }
  },
  {
   "cell_type": "code",
   "execution_count": null,
   "outputs": [],
   "source": [
    "def ground_truth(x):\n",
    "    return x + 1"
   ],
   "metadata": {
    "collapsed": false,
    "ExecuteTime": {
     "start_time": "2023-04-21T10:17:18.764774Z",
     "end_time": "2023-04-21T10:17:18.766594Z"
    }
   }
  },
  {
   "cell_type": "markdown",
   "source": [
    "The space of allowed x values is the integers between 0 and 10 inclusive, and we record the allowed output values as well."
   ],
   "metadata": {
    "collapsed": false
   }
  },
  {
   "cell_type": "code",
   "execution_count": null,
   "outputs": [],
   "source": [
    "metadata_0 = VariableCollection(\n",
    "   independent_variables=[Variable(name=\"x1\", allowed_values=range(11))],\n",
    "   dependent_variables=[Variable(name=\"y\", value_range=(-20, 20))],\n",
    "   )"
   ],
   "metadata": {
    "collapsed": false,
    "ExecuteTime": {
     "start_time": "2023-04-21T10:17:18.767965Z",
     "end_time": "2023-04-21T10:17:18.769586Z"
    }
   }
  },
  {
   "cell_type": "markdown",
   "source": [
    "The experimentalist is used to propose experiments.\n",
    "Since the space of values is so restricted, we can just sample them all each time."
   ],
   "metadata": {
    "collapsed": false
   }
  },
  {
   "cell_type": "code",
   "execution_count": null,
   "outputs": [],
   "source": [
    "example_experimentalist = make_pipeline(\n",
    "    [metadata_0.independent_variables[0].allowed_values])"
   ],
   "metadata": {
    "collapsed": false,
    "ExecuteTime": {
     "start_time": "2023-04-21T10:17:18.770970Z",
     "end_time": "2023-04-21T10:17:18.772134Z"
    }
   }
  },
  {
   "cell_type": "markdown",
   "source": [
    "When we run a synthetic experiment, we get a reproducible noisy result:"
   ],
   "metadata": {
    "collapsed": false
   }
  },
  {
   "cell_type": "code",
   "execution_count": null,
   "outputs": [],
   "source": [
    "def get_example_synthetic_experiment_runner():\n",
    "    rng = np.random.default_rng(seed=180)\n",
    "    def runner(x):\n",
    "        return ground_truth(x) + rng.normal(0, 0.1, x.shape)\n",
    "    return runner\n",
    "example_synthetic_experiment_runner = get_example_synthetic_experiment_runner()\n",
    "example_synthetic_experiment_runner(np.array([1]))"
   ],
   "metadata": {
    "collapsed": false,
    "ExecuteTime": {
     "start_time": "2023-04-21T10:17:18.774956Z",
     "end_time": "2023-04-21T10:17:18.780653Z"
    }
   }
  },
  {
   "cell_type": "markdown",
   "source": [
    "The theorist \"tries\" to work out the best theory. We use a trivial scikit-learn regressor."
   ],
   "metadata": {
    "collapsed": false
   }
  },
  {
   "cell_type": "code",
   "execution_count": null,
   "outputs": [],
   "source": [
    "example_theorist = LinearRegression()"
   ],
   "metadata": {
    "collapsed": false,
    "ExecuteTime": {
     "start_time": "2023-04-21T10:17:18.780851Z",
     "end_time": "2023-04-21T10:17:18.782982Z"
    }
   }
  },
  {
   "cell_type": "markdown",
   "source": [
    "    We initialize the Controller with the metadata describing the domain of the theory,\n",
    "    the theorist, experimentalist and experiment runner,\n",
    "    as well as a monitor which will let us know which cycle we're currently on."
   ],
   "metadata": {
    "collapsed": false
   }
  },
  {
   "cell_type": "code",
   "execution_count": null,
   "outputs": [],
   "source": [
    "cycle = Cycle(\n",
    "    metadata=metadata_0,\n",
    "    theorist=example_theorist,\n",
    "    experimentalist=example_experimentalist,\n",
    "    experiment_runner=example_synthetic_experiment_runner,\n",
    "    monitor=lambda state: print(f\"Generated {len(state.theories)} theories\"),\n",
    ")\n",
    "cycle # doctest: +ELLIPSIS"
   ],
   "metadata": {
    "collapsed": false,
    "ExecuteTime": {
     "start_time": "2023-04-21T10:17:18.784572Z",
     "end_time": "2023-04-21T10:17:18.795811Z"
    }
   }
  },
  {
   "cell_type": "markdown",
   "source": [
    "We can run the cycle by calling the run method:"
   ],
   "metadata": {
    "collapsed": false
   }
  },
  {
   "cell_type": "code",
   "execution_count": null,
   "outputs": [],
   "source": [
    "cycle.run(num_cycles=3)  # doctest: +ELLIPSIS"
   ],
   "metadata": {
    "collapsed": false,
    "ExecuteTime": {
     "start_time": "2023-04-21T10:17:18.786824Z",
     "end_time": "2023-04-21T10:17:18.796567Z"
    }
   }
  },
  {
   "cell_type": "markdown",
   "source": [
    "We can now interrogate the results. The first set of conditions which went into the\n",
    "experiment runner were:"
   ],
   "metadata": {
    "collapsed": false
   }
  },
  {
   "cell_type": "code",
   "execution_count": null,
   "outputs": [],
   "source": [
    "cycle.data.conditions[0]"
   ],
   "metadata": {
    "collapsed": false,
    "ExecuteTime": {
     "start_time": "2023-04-21T10:17:18.797825Z",
     "end_time": "2023-04-21T10:17:18.803557Z"
    }
   }
  },
  {
   "cell_type": "markdown",
   "source": [
    "The observations include the conditions and the results:"
   ],
   "metadata": {
    "collapsed": false
   }
  },
  {
   "cell_type": "code",
   "execution_count": null,
   "outputs": [],
   "source": [
    "cycle.data.observations[0]"
   ],
   "metadata": {
    "collapsed": false,
    "ExecuteTime": {
     "start_time": "2023-04-21T10:17:18.800937Z",
     "end_time": "2023-04-21T10:17:18.803732Z"
    }
   }
  },
  {
   "cell_type": "markdown",
   "source": [
    "In the third cycle (index = 2) the first and last values are different again:"
   ],
   "metadata": {
    "collapsed": false
   }
  },
  {
   "cell_type": "code",
   "execution_count": null,
   "outputs": [],
   "source": [
    "cycle.data.observations[2][[0,-1]]"
   ],
   "metadata": {
    "collapsed": false,
    "ExecuteTime": {
     "start_time": "2023-04-21T10:17:18.804127Z",
     "end_time": "2023-04-21T10:17:18.810432Z"
    }
   }
  },
  {
   "cell_type": "markdown",
   "source": [
    "The best fit theory after the first cycle is:"
   ],
   "metadata": {
    "collapsed": false
   }
  },
  {
   "cell_type": "code",
   "execution_count": null,
   "outputs": [],
   "source": [
    "cycle.data.theories[0]"
   ],
   "metadata": {
    "collapsed": false,
    "ExecuteTime": {
     "start_time": "2023-04-21T10:17:18.808237Z",
     "end_time": "2023-04-21T10:17:18.810556Z"
    }
   }
  },
  {
   "cell_type": "code",
   "execution_count": null,
   "outputs": [],
   "source": [
    "def report_linear_fit(m: LinearRegression,  precision=4):\n",
    "    s = f\"y = {np.round(m.coef_[0].item(), precision)} x \" \\\n",
    "        f\"+ {np.round(m.intercept_.item(), 4)}\"\n",
    "    return s\n",
    "report_linear_fit(cycle.data.theories[0])"
   ],
   "metadata": {
    "collapsed": false,
    "ExecuteTime": {
     "start_time": "2023-04-21T10:17:18.812450Z",
     "end_time": "2023-04-21T10:17:18.817739Z"
    }
   }
  },
  {
   "cell_type": "markdown",
   "source": [
    "The best fit theory after all the cycles, including all the data, is:"
   ],
   "metadata": {
    "collapsed": false
   }
  },
  {
   "cell_type": "code",
   "execution_count": null,
   "outputs": [],
   "source": [
    "report_linear_fit(cycle.data.theories[-1])"
   ],
   "metadata": {
    "collapsed": false,
    "ExecuteTime": {
     "start_time": "2023-04-21T10:17:18.817837Z",
     "end_time": "2023-04-21T10:17:18.865876Z"
    }
   }
  },
  {
   "cell_type": "markdown",
   "source": [
    "This is close to the ground truth theory of x -> (x + 1)\n",
    "We can also run the cycle with more control over the execution flow:"
   ],
   "metadata": {
    "collapsed": false
   }
  },
  {
   "cell_type": "code",
   "execution_count": null,
   "outputs": [],
   "source": [
    "next(cycle) # doctest: +ELLIPSIS"
   ],
   "metadata": {
    "collapsed": false,
    "ExecuteTime": {
     "start_time": "2023-04-21T10:17:18.822249Z",
     "end_time": "2023-04-21T10:17:18.866456Z"
    }
   }
  },
  {
   "cell_type": "markdown",
   "source": [
    "next(cycle) # doctest: +ELLIPSIS"
   ],
   "metadata": {
    "collapsed": false
   }
  },
  {
   "cell_type": "code",
   "execution_count": null,
   "outputs": [],
   "source": [
    "next(cycle) # doctest: +ELLIPSIS"
   ],
   "metadata": {
    "collapsed": false,
    "ExecuteTime": {
     "start_time": "2023-04-21T10:17:18.824994Z",
     "end_time": "2023-04-21T10:17:18.866610Z"
    }
   }
  },
  {
   "cell_type": "markdown",
   "source": [
    "We can continue to run the cycle as long as we like,\n",
    "with a simple arbitrary stopping condition like the number of theories generated:"
   ],
   "metadata": {
    "collapsed": false
   }
  },
  {
   "cell_type": "code",
   "execution_count": null,
   "outputs": [],
   "source": [
    "_ = list(takewhile(lambda c: len(c.data.theories) < 9, cycle))"
   ],
   "metadata": {
    "collapsed": false,
    "ExecuteTime": {
     "start_time": "2023-04-21T10:17:18.829357Z",
     "end_time": "2023-04-21T10:17:18.866701Z"
    }
   }
  },
  {
   "cell_type": "markdown",
   "source": [
    "... or the precision (here we keep iterating while the difference between the gradients\n",
    "of the second-last and last cycle is larger than 1x10^-3)."
   ],
   "metadata": {
    "collapsed": false
   }
  },
  {
   "cell_type": "code",
   "execution_count": null,
   "outputs": [],
   "source": [
    "_ = list(\n",
    "        takewhile(\n",
    "            lambda c: np.abs(c.data.theories[-1].coef_.item() -\n",
    "                           c.data.theories[-2].coef_.item()) > 1e-3,\n",
    "            cycle\n",
    "        )\n",
    "    )\n"
   ],
   "metadata": {
    "collapsed": false,
    "ExecuteTime": {
     "start_time": "2023-04-21T10:17:18.837756Z",
     "end_time": "2023-04-21T10:17:18.866765Z"
    }
   }
  },
  {
   "cell_type": "markdown",
   "source": [
    "... or continue to run as long as we like:"
   ],
   "metadata": {
    "collapsed": false
   }
  },
  {
   "cell_type": "code",
   "execution_count": 20,
   "outputs": [
    {
     "name": "stdout",
     "output_type": "stream",
     "text": [
      "Generated 112 theories\n",
      "Generated 113 theories\n",
      "Generated 114 theories\n",
      "Generated 115 theories\n",
      "Generated 116 theories\n",
      "Generated 117 theories\n",
      "Generated 118 theories\n",
      "Generated 119 theories\n",
      "Generated 120 theories\n",
      "Generated 121 theories\n",
      "Generated 122 theories\n",
      "Generated 123 theories\n",
      "Generated 124 theories\n",
      "Generated 125 theories\n",
      "Generated 126 theories\n",
      "Generated 127 theories\n",
      "Generated 128 theories\n",
      "Generated 129 theories\n",
      "Generated 130 theories\n",
      "Generated 131 theories\n",
      "Generated 132 theories\n",
      "Generated 133 theories\n",
      "Generated 134 theories\n",
      "Generated 135 theories\n",
      "Generated 136 theories\n",
      "Generated 137 theories\n",
      "Generated 138 theories\n",
      "Generated 139 theories\n",
      "Generated 140 theories\n",
      "Generated 141 theories\n",
      "Generated 142 theories\n",
      "Generated 143 theories\n",
      "Generated 144 theories\n",
      "Generated 145 theories\n",
      "Generated 146 theories\n",
      "Generated 147 theories\n",
      "Generated 148 theories\n",
      "Generated 149 theories\n",
      "Generated 150 theories\n",
      "Generated 151 theories\n",
      "Generated 152 theories\n",
      "Generated 153 theories\n",
      "Generated 154 theories\n",
      "Generated 155 theories\n",
      "Generated 156 theories\n",
      "Generated 157 theories\n",
      "Generated 158 theories\n",
      "Generated 159 theories\n",
      "Generated 160 theories\n",
      "Generated 161 theories\n",
      "Generated 162 theories\n",
      "Generated 163 theories\n",
      "Generated 164 theories\n",
      "Generated 165 theories\n",
      "Generated 166 theories\n",
      "Generated 167 theories\n",
      "Generated 168 theories\n",
      "Generated 169 theories\n",
      "Generated 170 theories\n",
      "Generated 171 theories\n",
      "Generated 172 theories\n",
      "Generated 173 theories\n",
      "Generated 174 theories\n",
      "Generated 175 theories\n",
      "Generated 176 theories\n",
      "Generated 177 theories\n",
      "Generated 178 theories\n",
      "Generated 179 theories\n",
      "Generated 180 theories\n",
      "Generated 181 theories\n",
      "Generated 182 theories\n",
      "Generated 183 theories\n",
      "Generated 184 theories\n",
      "Generated 185 theories\n",
      "Generated 186 theories\n",
      "Generated 187 theories\n",
      "Generated 188 theories\n",
      "Generated 189 theories\n",
      "Generated 190 theories\n",
      "Generated 191 theories\n",
      "Generated 192 theories\n",
      "Generated 193 theories\n",
      "Generated 194 theories\n",
      "Generated 195 theories\n",
      "Generated 196 theories\n",
      "Generated 197 theories\n",
      "Generated 198 theories\n",
      "Generated 199 theories\n",
      "Generated 200 theories\n",
      "Generated 201 theories\n",
      "Generated 202 theories\n",
      "Generated 203 theories\n",
      "Generated 204 theories\n",
      "Generated 205 theories\n",
      "Generated 206 theories\n",
      "Generated 207 theories\n",
      "Generated 208 theories\n",
      "Generated 209 theories\n",
      "Generated 210 theories\n",
      "Generated 211 theories\n"
     ]
    }
   ],
   "source": [
    "_ = cycle.run(num_cycles=100) # doctest: +ELLIPSIS\n"
   ],
   "metadata": {
    "collapsed": false,
    "ExecuteTime": {
     "start_time": "2023-04-21T14:47:58.750645Z",
     "end_time": "2023-04-21T14:47:58.834400Z"
    }
   }
  }
 ],
 "metadata": {
  "kernelspec": {
   "display_name": "Python 3",
   "language": "python",
   "name": "python3"
  },
  "language_info": {
   "codemirror_mode": {
    "name": "ipython",
    "version": 2
   },
   "file_extension": ".py",
   "mimetype": "text/x-python",
   "name": "python",
   "nbconvert_exporter": "python",
   "pygments_lexer": "ipython2",
   "version": "2.7.6"
  }
 },
 "nbformat": 4,
 "nbformat_minor": 0
}
